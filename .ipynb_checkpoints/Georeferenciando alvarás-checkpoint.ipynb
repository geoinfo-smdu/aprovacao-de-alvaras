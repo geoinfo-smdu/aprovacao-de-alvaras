{
 "cells": [
  {
   "cell_type": "markdown",
   "metadata": {},
   "source": [
    "## Georeferenciando Alvarás\n",
    "\n",
    "### Acessando os dados de Alvará"
   ]
  },
  {
   "cell_type": "code",
   "execution_count": 67,
   "metadata": {},
   "outputs": [
    {
     "name": "stdout",
     "output_type": "stream",
     "text": [
      "time: 1.21 ms\n"
     ]
    }
   ],
   "source": [
    "import pandas as pd"
   ]
  },
  {
   "cell_type": "code",
   "execution_count": 68,
   "metadata": {},
   "outputs": [
    {
     "name": "stdout",
     "output_type": "stream",
     "text": [
      "time: 673 µs\n"
     ]
    }
   ],
   "source": [
    "import glob\n",
    "import numpy as np"
   ]
  },
  {
   "cell_type": "code",
   "execution_count": 69,
   "metadata": {},
   "outputs": [
    {
     "name": "stdout",
     "output_type": "stream",
     "text": [
      "The autotime extension is already loaded. To reload it, use:\n",
      "  %reload_ext autotime\n",
      "time: 1.08 ms\n"
     ]
    }
   ],
   "source": [
    "%load_ext autotime"
   ]
  },
  {
   "cell_type": "code",
   "execution_count": 70,
   "metadata": {},
   "outputs": [
    {
     "name": "stdout",
     "output_type": "stream",
     "text": [
      "time: 32.5 ms\n"
     ]
    }
   ],
   "source": [
    "df_alv = pd.read_csv('data/anual2018dezembro.csv', encoding='latin1', sep=';', decimal=\",\")"
   ]
  },
  {
   "cell_type": "code",
   "execution_count": 71,
   "metadata": {},
   "outputs": [
    {
     "data": {
      "text/plain": [
       "{'data/anual2004.csv': ['Mês',\n",
       "  'Unidade',\n",
       "  'Subprefeitura',\n",
       "  'Alvará',\n",
       "  'Descrição',\n",
       "  'Tipo de Construção',\n",
       "  'SQL_Incra',\n",
       "  'Categoria de uso',\n",
       "  'Zona de uso atual',\n",
       "  'Bairro',\n",
       "  'Área da construção',\n",
       "  'Unnamed: 11',\n",
       "  'Proprietário',\n",
       "  'Área do terreno',\n",
       "  'Unnamed: 14',\n",
       "  'Endereço',\n",
       "  'Aprovação',\n",
       "  'Dirigente técnico',\n",
       "  'Responsável pela empresa',\n",
       "  'Autor do projeto',\n",
       "  'Responsável pela empresa 1',\n",
       "  'Blocos',\n",
       "  'Unidades',\n",
       "  'Pavimentos',\n",
       "  'Unnamed: 24',\n",
       "  'Unnamed: 25',\n",
       "  'Unnamed: 26',\n",
       "  'Unnamed: 27',\n",
       "  'Unnamed: 28',\n",
       "  'Unnamed: 29',\n",
       "  'Unnamed: 30',\n",
       "  'Unnamed: 31',\n",
       "  'Unnamed: 32',\n",
       "  'Unnamed: 33',\n",
       "  'Unnamed: 34',\n",
       "  'Unnamed: 35'],\n",
       " 'data/anual2008.csv': ['Mês',\n",
       "  'Unidade',\n",
       "  'Subprefeitura',\n",
       "  'Alvará',\n",
       "  'Descrição',\n",
       "  'Tipo de Construção',\n",
       "  'SQL_Incra',\n",
       "  'Categoria de uso',\n",
       "  'Zona de uso atual',\n",
       "  'Bairro',\n",
       "  'Área da construção',\n",
       "  'Unnamed: 11',\n",
       "  'Proprietário',\n",
       "  'Área do terreno',\n",
       "  'Unnamed: 14',\n",
       "  'Endereço',\n",
       "  'Aprovação',\n",
       "  'Dirigente técnico',\n",
       "  'Responsável pela empresa',\n",
       "  'Autor do projeto',\n",
       "  'Responsável pela empresa 1',\n",
       "  'Blocos',\n",
       "  'Unidades',\n",
       "  'Pavimentos',\n",
       "  'Unnamed: 24',\n",
       "  'Unnamed: 25',\n",
       "  'Unnamed: 26',\n",
       "  'Unnamed: 27',\n",
       "  'Unnamed: 28',\n",
       "  'Unnamed: 29',\n",
       "  'Unnamed: 30',\n",
       "  'Unnamed: 31',\n",
       "  'Unnamed: 32',\n",
       "  'Unnamed: 33',\n",
       "  'Unnamed: 34',\n",
       "  'Unnamed: 35'],\n",
       " 'data/anual2012.csv': ['Mês',\n",
       "  'Unidade',\n",
       "  'Subprefeitura',\n",
       "  'Alvará',\n",
       "  'Processo',\n",
       "  'Descrição',\n",
       "  'SQL_Incra',\n",
       "  'Categoria de uso',\n",
       "  'Zona de uso atual',\n",
       "  'Zona de uso anterior',\n",
       "  'Bairro',\n",
       "  'Área da construção',\n",
       "  'Proprietário',\n",
       "  'Área do terreno',\n",
       "  'Endereço',\n",
       "  'Aprovação',\n",
       "  'Dirigente técnico',\n",
       "  'Responsável pela empresa',\n",
       "  'Autor do projeto',\n",
       "  'Responsável pela empresa 1',\n",
       "  '(B)locos / (P)avimentos / (U)nidades',\n",
       "  'Unnamed: 21',\n",
       "  'Unnamed: 22',\n",
       "  'Unnamed: 23',\n",
       "  'Unnamed: 24',\n",
       "  'Unnamed: 25',\n",
       "  'Unnamed: 26',\n",
       "  'Unnamed: 27',\n",
       "  'Unnamed: 28',\n",
       "  'Unnamed: 29',\n",
       "  'Unnamed: 30',\n",
       "  'Unnamed: 31',\n",
       "  'Unnamed: 32',\n",
       "  'Unnamed: 33',\n",
       "  'Unnamed: 34',\n",
       "  'Unnamed: 35'],\n",
       " 'data/anual2016.csv': ['Mês',\n",
       "  'Unidade',\n",
       "  'Subprefeitura',\n",
       "  'Alvará',\n",
       "  'Processo',\n",
       "  'Descrição',\n",
       "  'Data autuação',\n",
       "  'SQL_Incra',\n",
       "  'Categoria de uso',\n",
       "  'Zona de uso atual',\n",
       "  'Zona de uso anterior',\n",
       "  'Bairro',\n",
       "  'Área da construção',\n",
       "  'Proprietário',\n",
       "  'Área do terreno',\n",
       "  'Endereço',\n",
       "  'Aprovação',\n",
       "  'Dirigente técnico',\n",
       "  'Responsável pela empresa',\n",
       "  'Autor do projeto',\n",
       "  'Responsável pela empresa 1',\n",
       "  '(B)locos / (P)avimentos / (U)nidades',\n",
       "  'Unnamed: 22',\n",
       "  'Unnamed: 23',\n",
       "  'Unnamed: 24',\n",
       "  'Unnamed: 25',\n",
       "  'Unnamed: 26',\n",
       "  'Unnamed: 27',\n",
       "  'Unnamed: 28',\n",
       "  'Unnamed: 29',\n",
       "  'Unnamed: 30',\n",
       "  'Unnamed: 31',\n",
       "  'Unnamed: 32',\n",
       "  'Unnamed: 33',\n",
       "  'Unnamed: 34',\n",
       "  'Unnamed: 35'],\n",
       " 'data/anual2003.csv': ['Mês',\n",
       "  'Unidade',\n",
       "  'Subprefeitura',\n",
       "  'Alvará',\n",
       "  'Descrição',\n",
       "  'Tipo de Construção',\n",
       "  'SQL_Incra',\n",
       "  'Categoria de uso',\n",
       "  'Categoria de uso 1',\n",
       "  'Categoria de uso 2',\n",
       "  'Categoria de uso 3',\n",
       "  'Zona de uso atual',\n",
       "  'Bairro',\n",
       "  'Área da construção',\n",
       "  'Área do terreno',\n",
       "  'Remover: AREAEXIST',\n",
       "  'Remover: AREAAAUM',\n",
       "  'Remover: AREADIM',\n",
       "  'Remover: AREAMODI',\n",
       "  'Remover: AREAAUTO',\n",
       "  'Proprietário',\n",
       "  'Endereço',\n",
       "  'Endereço 1',\n",
       "  'Endereço 2',\n",
       "  'Aprovação',\n",
       "  'Dirigente técnico',\n",
       "  'Responsável pela empresa',\n",
       "  'Autor do projeto',\n",
       "  'Responsável pela empresa 1',\n",
       "  'Remover: SEQUENCIA',\n",
       "  'Processo',\n",
       "  'Remover: IDENT',\n",
       "  'Remover: ESPACO',\n",
       "  'Remover: CODDOCU',\n",
       "  'Remover: CODADTV',\n",
       "  'Data autuação'],\n",
       " 'data/anual2018dezembro.csv': ['Mês',\n",
       "  'Unidade',\n",
       "  'Subprefeitura',\n",
       "  'Alvará',\n",
       "  'Processo',\n",
       "  'Descrição',\n",
       "  'Data autuação',\n",
       "  'SQL_Incra',\n",
       "  'Categoria de uso',\n",
       "  'Zona de uso atual',\n",
       "  'Zona de uso anterior',\n",
       "  'Bairro',\n",
       "  'Área da construção',\n",
       "  'Proprietário',\n",
       "  'Área do terreno',\n",
       "  'Endereço',\n",
       "  'Aprovação',\n",
       "  'Dirigente técnico',\n",
       "  'Responsável pela empresa',\n",
       "  'Autor do projeto',\n",
       "  'Responsável pela empresa 1',\n",
       "  '(B)locos / (P)avimentos / (U)nidades',\n",
       "  'Unnamed: 22',\n",
       "  'Unnamed: 23',\n",
       "  'Unnamed: 24',\n",
       "  'Unnamed: 25',\n",
       "  'Unnamed: 26',\n",
       "  'Unnamed: 27',\n",
       "  'Unnamed: 28',\n",
       "  'Unnamed: 29',\n",
       "  'Unnamed: 30',\n",
       "  'Unnamed: 31',\n",
       "  'Unnamed: 32',\n",
       "  'Unnamed: 33',\n",
       "  'Unnamed: 34',\n",
       "  'Unnamed: 35'],\n",
       " 'data/anual2010.csv': ['Mês',\n",
       "  'Unidade',\n",
       "  'Subprefeitura',\n",
       "  'Alvará',\n",
       "  'Descrição',\n",
       "  'Tipo de Construção',\n",
       "  'SQL_Incra',\n",
       "  'Categoria de uso',\n",
       "  'Zona de uso atual',\n",
       "  'Bairro',\n",
       "  'Área da construção',\n",
       "  'Unnamed: 11',\n",
       "  'Proprietário',\n",
       "  'Área do terreno',\n",
       "  'Unnamed: 14',\n",
       "  'Endereço',\n",
       "  'Aprovação',\n",
       "  'Dirigente técnico',\n",
       "  'Responsável pela empresa',\n",
       "  'Autor do projeto',\n",
       "  'Responsável pela empresa 1',\n",
       "  'Blocos',\n",
       "  'Unidades',\n",
       "  'Pavimentos',\n",
       "  'Unnamed: 24',\n",
       "  'Unnamed: 25',\n",
       "  'Unnamed: 26',\n",
       "  'Unnamed: 27',\n",
       "  'Unnamed: 28',\n",
       "  'Unnamed: 29',\n",
       "  'Unnamed: 30',\n",
       "  'Unnamed: 31',\n",
       "  'Unnamed: 32',\n",
       "  'Unnamed: 33',\n",
       "  'Unnamed: 34',\n",
       "  'Unnamed: 35'],\n",
       " 'data/anual2011.csv': ['Mês',\n",
       "  'Unidade',\n",
       "  'Subprefeitura',\n",
       "  'Alvará',\n",
       "  'Descrição',\n",
       "  'SQL_Incra',\n",
       "  'Categoria de uso',\n",
       "  'Zona de uso atual',\n",
       "  'Zona de uso anterior',\n",
       "  'Bairro',\n",
       "  'Área da construção',\n",
       "  'Proprietário',\n",
       "  'Área do terreno',\n",
       "  'Endereço',\n",
       "  'Aprovação',\n",
       "  'Dirigente técnico',\n",
       "  'Responsável pela empresa',\n",
       "  'Autor do projeto',\n",
       "  'Responsável pela empresa 1',\n",
       "  '(B)locos / (P)avimentos / (U)nidades',\n",
       "  'Unnamed: 20',\n",
       "  'Unnamed: 21',\n",
       "  'Unnamed: 22',\n",
       "  'Unnamed: 23',\n",
       "  'Unnamed: 24',\n",
       "  'Unnamed: 25',\n",
       "  'Unnamed: 26',\n",
       "  'Unnamed: 27',\n",
       "  'Unnamed: 28',\n",
       "  'Unnamed: 29',\n",
       "  'Unnamed: 30',\n",
       "  'Unnamed: 31',\n",
       "  'Unnamed: 32',\n",
       "  'Unnamed: 33',\n",
       "  'Unnamed: 34',\n",
       "  'Unnamed: 35'],\n",
       " 'data/anual2017dezembro.csv': ['Mês',\n",
       "  'Unidade',\n",
       "  'Subprefeitura',\n",
       "  'Alvará',\n",
       "  'Processo',\n",
       "  'Descrição',\n",
       "  'Data autuação',\n",
       "  'SQL_Incra',\n",
       "  'Categoria de uso',\n",
       "  'Zona de uso atual',\n",
       "  'Zona de uso anterior',\n",
       "  'Bairro',\n",
       "  'Área da construção',\n",
       "  'Proprietário',\n",
       "  'Área do terreno',\n",
       "  'Endereço',\n",
       "  'Aprovação',\n",
       "  'Dirigente técnico',\n",
       "  'Responsável pela empresa',\n",
       "  'Autor do projeto',\n",
       "  'Responsável pela empresa 1',\n",
       "  '(B)locos / (P)avimentos / (U)nidades',\n",
       "  'Unnamed: 22',\n",
       "  'Unnamed: 23',\n",
       "  'Unnamed: 24',\n",
       "  'Unnamed: 25',\n",
       "  'Unnamed: 26',\n",
       "  'Unnamed: 27',\n",
       "  'Unnamed: 28',\n",
       "  'Unnamed: 29',\n",
       "  'Unnamed: 30',\n",
       "  'Unnamed: 31',\n",
       "  'Unnamed: 32',\n",
       "  'Unnamed: 33',\n",
       "  'Unnamed: 34',\n",
       "  'Unnamed: 35'],\n",
       " 'data/anual2014.csv': ['Mês',\n",
       "  'Unidade',\n",
       "  'Subprefeitura',\n",
       "  'Alvará',\n",
       "  'Processo',\n",
       "  'Descrição',\n",
       "  'SQL_Incra',\n",
       "  'Categoria de uso',\n",
       "  'Zona de uso atual',\n",
       "  'Zona de uso anterior',\n",
       "  'Bairro',\n",
       "  'Área da construção',\n",
       "  'Proprietário',\n",
       "  'Área do terreno',\n",
       "  'Endereço',\n",
       "  'Aprovação',\n",
       "  'Dirigente técnico',\n",
       "  'Responsável pela empresa',\n",
       "  'Autor do projeto',\n",
       "  'Responsável pela empresa 1',\n",
       "  '(B)locos / (P)avimentos / (U)nidades',\n",
       "  'Unnamed: 21',\n",
       "  'Unnamed: 22',\n",
       "  'Unnamed: 23',\n",
       "  'Unnamed: 24',\n",
       "  'Unnamed: 25',\n",
       "  'Unnamed: 26',\n",
       "  'Unnamed: 27',\n",
       "  'Unnamed: 28',\n",
       "  'Unnamed: 29',\n",
       "  'Unnamed: 30',\n",
       "  'Unnamed: 31',\n",
       "  'Unnamed: 32',\n",
       "  'Unnamed: 33',\n",
       "  'Unnamed: 34',\n",
       "  'Unnamed: 35'],\n",
       " 'data/anual2009.csv': ['Mês',\n",
       "  'Unidade',\n",
       "  'Subprefeitura',\n",
       "  'Alvará',\n",
       "  'Descrição',\n",
       "  'Tipo de Construção',\n",
       "  'SQL_Incra',\n",
       "  'Categoria de uso',\n",
       "  'Zona de uso atual',\n",
       "  'Bairro',\n",
       "  'Área da construção',\n",
       "  'Unnamed: 11',\n",
       "  'Proprietário',\n",
       "  'Área do terreno',\n",
       "  'Unnamed: 14',\n",
       "  'Endereço',\n",
       "  'Aprovação',\n",
       "  'Dirigente técnico',\n",
       "  'Responsável pela empresa',\n",
       "  'Autor do projeto',\n",
       "  'Responsável pela empresa 1',\n",
       "  'Blocos',\n",
       "  'Unidades',\n",
       "  'Pavimentos',\n",
       "  'Unnamed: 24',\n",
       "  'Unnamed: 25',\n",
       "  'Unnamed: 26',\n",
       "  'Unnamed: 27',\n",
       "  'Unnamed: 28',\n",
       "  'Unnamed: 29',\n",
       "  'Unnamed: 30',\n",
       "  'Unnamed: 31',\n",
       "  'Unnamed: 32',\n",
       "  'Unnamed: 33',\n",
       "  'Unnamed: 34',\n",
       "  'Unnamed: 35'],\n",
       " 'data/anual2007.csv': ['Mês',\n",
       "  'Unidade',\n",
       "  'Subprefeitura',\n",
       "  'Alvará',\n",
       "  'Descrição',\n",
       "  'Tipo de Construção',\n",
       "  'SQL_Incra',\n",
       "  'Categoria de uso',\n",
       "  'Zona de uso atual',\n",
       "  'Bairro',\n",
       "  'Área da construção',\n",
       "  'Unnamed: 11',\n",
       "  'Proprietário',\n",
       "  'Área do terreno',\n",
       "  'Unnamed: 14',\n",
       "  'Endereço',\n",
       "  'Aprovação',\n",
       "  'Dirigente técnico',\n",
       "  'Responsável pela empresa',\n",
       "  'Autor do projeto',\n",
       "  'Responsável pela empresa 1',\n",
       "  'Blocos',\n",
       "  'Unidades',\n",
       "  'Pavimentos',\n",
       "  'Unnamed: 24',\n",
       "  'Unnamed: 25',\n",
       "  'Unnamed: 26',\n",
       "  'Unnamed: 27',\n",
       "  'Unnamed: 28',\n",
       "  'Unnamed: 29',\n",
       "  'Unnamed: 30',\n",
       "  'Unnamed: 31',\n",
       "  'Unnamed: 32',\n",
       "  'Unnamed: 33',\n",
       "  'Unnamed: 34',\n",
       "  'Unnamed: 35'],\n",
       " 'data/anual2006.csv': ['Mês',\n",
       "  'Unidade',\n",
       "  'Subprefeitura',\n",
       "  'Alvará',\n",
       "  'Descrição',\n",
       "  'Tipo de Construção',\n",
       "  'SQL_Incra',\n",
       "  'Categoria de uso',\n",
       "  'Zona de uso atual',\n",
       "  'Bairro',\n",
       "  'Área da construção',\n",
       "  'Unnamed: 11',\n",
       "  'Proprietário',\n",
       "  'Área do terreno',\n",
       "  'Unnamed: 14',\n",
       "  'Endereço',\n",
       "  'Aprovação',\n",
       "  'Dirigente técnico',\n",
       "  'Responsável pela empresa',\n",
       "  'Autor do projeto',\n",
       "  'Responsável pela empresa 1',\n",
       "  'Blocos',\n",
       "  'Unidades',\n",
       "  'Pavimentos',\n",
       "  'Unnamed: 24',\n",
       "  'Unnamed: 25',\n",
       "  'Unnamed: 26',\n",
       "  'Unnamed: 27',\n",
       "  'Unnamed: 28',\n",
       "  'Unnamed: 29',\n",
       "  'Unnamed: 30',\n",
       "  'Unnamed: 31',\n",
       "  'Unnamed: 32',\n",
       "  'Unnamed: 33',\n",
       "  'Unnamed: 34',\n",
       "  'Unnamed: 35'],\n",
       " 'data/anual2005.csv': ['Mês',\n",
       "  'Unidade',\n",
       "  'Subprefeitura',\n",
       "  'Alvará',\n",
       "  'Descrição',\n",
       "  'Tipo de Construção',\n",
       "  'SQL_Incra',\n",
       "  'Categoria de uso',\n",
       "  'Zona de uso atual',\n",
       "  'Bairro',\n",
       "  'Área da construção',\n",
       "  'Unnamed: 11',\n",
       "  'Proprietário',\n",
       "  'Área do terreno',\n",
       "  'Unnamed: 14',\n",
       "  'Endereço',\n",
       "  'Aprovação',\n",
       "  'Dirigente técnico',\n",
       "  'Responsável pela empresa',\n",
       "  'Autor do projeto',\n",
       "  'Responsável pela empresa 1',\n",
       "  'Blocos',\n",
       "  'Unidades',\n",
       "  'Pavimentos',\n",
       "  'Unnamed: 24',\n",
       "  'Unnamed: 25',\n",
       "  'Unnamed: 26',\n",
       "  'Unnamed: 27',\n",
       "  'Unnamed: 28',\n",
       "  'Unnamed: 29',\n",
       "  'Unnamed: 30',\n",
       "  'Unnamed: 31',\n",
       "  'Unnamed: 32',\n",
       "  'Unnamed: 33',\n",
       "  'Unnamed: 34',\n",
       "  'Unnamed: 35'],\n",
       " 'data/anual2015.csv': ['Mês',\n",
       "  'Unidade',\n",
       "  'Subprefeitura',\n",
       "  'Alvará',\n",
       "  'Processo',\n",
       "  'Descrição',\n",
       "  'SQL_Incra',\n",
       "  'Categoria de uso',\n",
       "  'Zona de uso atual',\n",
       "  'Zona de uso anterior',\n",
       "  'Bairro',\n",
       "  'Área da construção',\n",
       "  'Proprietário',\n",
       "  'Área do terreno',\n",
       "  'Endereço',\n",
       "  'Aprovação',\n",
       "  'Dirigente técnico',\n",
       "  'Responsável pela empresa',\n",
       "  'Autor do projeto',\n",
       "  'Responsável pela empresa 1',\n",
       "  '(B)locos / (P)avimentos / (U)nidades',\n",
       "  'Unnamed: 21',\n",
       "  'Unnamed: 22',\n",
       "  'Unnamed: 23',\n",
       "  'Unnamed: 24',\n",
       "  'Unnamed: 25',\n",
       "  'Unnamed: 26',\n",
       "  'Unnamed: 27',\n",
       "  'Unnamed: 28',\n",
       "  'Unnamed: 29',\n",
       "  'Unnamed: 30',\n",
       "  'Unnamed: 31',\n",
       "  'Unnamed: 32',\n",
       "  'Unnamed: 33',\n",
       "  'Unnamed: 34',\n",
       "  'Unnamed: 35'],\n",
       " 'data/anual2013.csv': ['Mês',\n",
       "  'Unidade',\n",
       "  'Subprefeitura',\n",
       "  'Alvará',\n",
       "  'Processo',\n",
       "  'Descrição',\n",
       "  'SQL_Incra',\n",
       "  'Categoria de uso',\n",
       "  'Zona de uso atual',\n",
       "  'Zona de uso anterior',\n",
       "  'Bairro',\n",
       "  'Área da construção',\n",
       "  'Proprietário',\n",
       "  'Área do terreno',\n",
       "  'Endereço',\n",
       "  'Aprovação',\n",
       "  'Dirigente técnico',\n",
       "  'Responsável pela empresa',\n",
       "  'Autor do projeto',\n",
       "  'Responsável pela empresa 1',\n",
       "  '(B)locos / (P)avimentos / (U)nidades',\n",
       "  'Unnamed: 21',\n",
       "  'Unnamed: 22',\n",
       "  'Unnamed: 23',\n",
       "  'Unnamed: 24',\n",
       "  'Unnamed: 25',\n",
       "  'Unnamed: 26',\n",
       "  'Unnamed: 27',\n",
       "  'Unnamed: 28',\n",
       "  'Unnamed: 29',\n",
       "  'Unnamed: 30',\n",
       "  'Unnamed: 31',\n",
       "  'Unnamed: 32',\n",
       "  'Unnamed: 33',\n",
       "  'Unnamed: 34',\n",
       "  'Unnamed: 35'],\n",
       " 'data/anual2002---a-partir-de-abril.csv': ['Mês',\n",
       "  'Unidade',\n",
       "  'Subprefeitura',\n",
       "  'Alvará',\n",
       "  'Descrição',\n",
       "  'Tipo de Construção',\n",
       "  'SQL_Incra',\n",
       "  'Categoria de uso',\n",
       "  'Zona de uso atual',\n",
       "  'Bairro',\n",
       "  'Área da construção',\n",
       "  'Unnamed: 11',\n",
       "  'Proprietário',\n",
       "  'Área do terreno',\n",
       "  'Unnamed: 14',\n",
       "  'Endereço',\n",
       "  'Aprovação',\n",
       "  'Dirigente técnico',\n",
       "  'Responsável pela empresa',\n",
       "  'Autor do projeto',\n",
       "  'Responsável pela empresa 1',\n",
       "  'Blocos',\n",
       "  'Unidades',\n",
       "  'Pavimentos',\n",
       "  'Unnamed: 24',\n",
       "  'Unnamed: 25',\n",
       "  'Unnamed: 26',\n",
       "  'Unnamed: 27',\n",
       "  'Unnamed: 28',\n",
       "  'Unnamed: 29',\n",
       "  'Unnamed: 30',\n",
       "  'Unnamed: 31',\n",
       "  'Unnamed: 32',\n",
       "  'Unnamed: 33',\n",
       "  'Unnamed: 34',\n",
       "  'Unnamed: 35']}"
      ]
     },
     "execution_count": 71,
     "metadata": {},
     "output_type": "execute_result"
    },
    {
     "name": "stdout",
     "output_type": "stream",
     "text": [
      "time: 10.1 ms\n"
     ]
    }
   ],
   "source": [
    "## Abre o CSV normalizado\n",
    "import csv\n",
    "colunas = {}\n",
    "\n",
    "with open('resultados/colunas_planilhas_normalizada.csv', newline='') as f:\n",
    "    reader = csv.reader(f, delimiter=';')\n",
    "    data = list(reader)\n",
    "\n",
    "## carrega em um Dicionário de nome de arquivo, contendo as colunas\n",
    "# [colunas[l[0]] = l[1:] for l in data]\n",
    "\n",
    "for l in data:\n",
    "    colunas[l[0]] = l[1:]\n",
    "\n",
    "colunas"
   ]
  },
  {
   "cell_type": "code",
   "execution_count": 72,
   "metadata": {},
   "outputs": [
    {
     "name": "stdout",
     "output_type": "stream",
     "text": [
      "data/anual2004.csv\n",
      "data/anual2008.csv\n",
      "data/anual2012.csv\n",
      "data/anual2016.csv\n",
      "data/anual2003.csv\n",
      "data/anual2018dezembro.csv\n",
      "data/anual2010.csv\n",
      "data/anual2011.csv\n",
      "data/anual2017dezembro.csv\n",
      "data/anual2014.csv\n",
      "data/anual2009.csv\n",
      "data/anual2007.csv\n",
      "data/anual2006.csv\n",
      "data/anual2005.csv\n",
      "data/anual2015.csv\n",
      "data/anual2013.csv\n",
      "data/anual2002---a-partir-de-abril.csv\n",
      "time: 398 ms\n"
     ]
    }
   ],
   "source": [
    "# path = r'C:\\DRO\\DCL_rawdata_files' # use your path\n",
    "all_files = glob.glob(\"data/*.csv\")\n",
    "\n",
    "li = []\n",
    "\n",
    "for filename in all_files:\n",
    "    print(filename)\n",
    "    df = pd.read_csv(filename, encoding='latin1', \n",
    "                     sep=';', \n",
    "                     decimal=\",\", \n",
    "                     header=None, \n",
    "                     names=colunas[filename],\n",
    "                     skiprows=[0])\n",
    "#     li.append({\"arquivo\": filename,\n",
    "#                \"headers\": list(df.columns)})\n",
    "    li.append(df)\n",
    "\n",
    "frame = pd.concat(li, axis=0, ignore_index=True)"
   ]
  },
  {
   "cell_type": "code",
   "execution_count": 73,
   "metadata": {},
   "outputs": [
    {
     "name": "stdout",
     "output_type": "stream",
     "text": [
      "time: 55.9 ms\n"
     ]
    }
   ],
   "source": [
    "frame = pd.concat(li, axis=0, ignore_index=True)"
   ]
  },
  {
   "cell_type": "code",
   "execution_count": 74,
   "metadata": {},
   "outputs": [
    {
     "name": "stdout",
     "output_type": "stream",
     "text": [
      "time: 40.3 ms\n"
     ]
    }
   ],
   "source": [
    "frame.drop(columns=list(frame.loc[:, frame.columns.str.startswith('Remover:')]), inplace=True)"
   ]
  },
  {
   "cell_type": "code",
   "execution_count": 75,
   "metadata": {},
   "outputs": [
    {
     "name": "stdout",
     "output_type": "stream",
     "text": [
      "time: 15.9 ms\n"
     ]
    }
   ],
   "source": [
    "frame.drop(columns=list(frame.loc[:, frame.columns.str.startswith('Unnamed:')]), inplace=True)"
   ]
  },
  {
   "cell_type": "code",
   "execution_count": 76,
   "metadata": {},
   "outputs": [
    {
     "name": "stdout",
     "output_type": "stream",
     "text": [
      "time: 1.67 ms\n"
     ]
    }
   ],
   "source": [
    "df_alv = frame\n",
    "\n",
    "## TODO --> Entender cada campo em cada ano de CSV :("
   ]
  },
  {
   "cell_type": "code",
   "execution_count": 77,
   "metadata": {},
   "outputs": [
    {
     "data": {
      "text/plain": [
       "Index(['Mês', 'Unidade', 'Subprefeitura', 'Alvará', 'Descrição',\n",
       "       'Tipo de Construção', 'SQL_Incra', 'Categoria de uso',\n",
       "       'Zona de uso atual', 'Bairro', 'Área da construção', 'Proprietário',\n",
       "       'Área do terreno', 'Endereço', 'Aprovação', 'Dirigente técnico',\n",
       "       'Responsável pela empresa', 'Autor do projeto',\n",
       "       'Responsável pela empresa 1', 'Blocos', 'Unidades', 'Pavimentos',\n",
       "       'Processo', 'Zona de uso anterior',\n",
       "       '(B)locos / (P)avimentos / (U)nidades', 'Data autuação',\n",
       "       'Categoria de uso 1', 'Categoria de uso 2', 'Categoria de uso 3',\n",
       "       'Endereço 1', 'Endereço 2'],\n",
       "      dtype='object')"
      ]
     },
     "execution_count": 77,
     "metadata": {},
     "output_type": "execute_result"
    },
    {
     "name": "stdout",
     "output_type": "stream",
     "text": [
      "time: 2.45 ms\n"
     ]
    }
   ],
   "source": [
    "df_alv.columns"
   ]
  },
  {
   "cell_type": "code",
   "execution_count": 78,
   "metadata": {},
   "outputs": [
    {
     "data": {
      "text/plain": [
       "array(['00.055.114.0001-7', '00.230.133.0004-1', '00.230.133.0001-7', ...,\n",
       "       '00.047.175.0012-1', '00.037.083.0584-1', '1542629999999'],\n",
       "      dtype=object)"
      ]
     },
     "execution_count": 78,
     "metadata": {},
     "output_type": "execute_result"
    },
    {
     "name": "stdout",
     "output_type": "stream",
     "text": [
      "time: 7.42 ms\n"
     ]
    }
   ],
   "source": [
    "df_alv.SQL_Incra.unique()"
   ]
  },
  {
   "cell_type": "code",
   "execution_count": 79,
   "metadata": {},
   "outputs": [
    {
     "name": "stdout",
     "output_type": "stream",
     "text": [
      "time: 13 ms\n"
     ]
    }
   ],
   "source": [
    "df_alv.drop(columns=['Mês'], inplace=True)"
   ]
  },
  {
   "cell_type": "code",
   "execution_count": 80,
   "metadata": {},
   "outputs": [
    {
     "name": "stdout",
     "output_type": "stream",
     "text": [
      "time: 24.2 ms\n"
     ]
    }
   ],
   "source": [
    "df_alv['Data autuação'] = pd.to_datetime(df_alv['Data autuação'], format='%d/%m/%Y', errors='coerce')"
   ]
  },
  {
   "cell_type": "code",
   "execution_count": 81,
   "metadata": {},
   "outputs": [
    {
     "name": "stdout",
     "output_type": "stream",
     "text": [
      "time: 40.9 ms\n"
     ]
    }
   ],
   "source": [
    "df_alv['Endereço'] = df_alv['Endereço'].str.cat([df_alv['Endereço 1'], df_alv['Endereço 2']], sep=' ', na_rep='')"
   ]
  },
  {
   "cell_type": "code",
   "execution_count": 82,
   "metadata": {},
   "outputs": [
    {
     "name": "stdout",
     "output_type": "stream",
     "text": [
      "time: 8.1 ms\n"
     ]
    }
   ],
   "source": [
    "df_alv.drop(columns=['Endereço 2', 'Endereço 1'], inplace=True)"
   ]
  },
  {
   "cell_type": "code",
   "execution_count": 83,
   "metadata": {},
   "outputs": [
    {
     "name": "stdout",
     "output_type": "stream",
     "text": [
      "time: 9.05 ms\n"
     ]
    }
   ],
   "source": [
    "df_alv['Responsável pela empresa'] = df_alv['Responsável pela empresa'].str.cat(df_alv['Responsável pela empresa 1'], sep=' / ', na_rep='')"
   ]
  },
  {
   "cell_type": "code",
   "execution_count": 84,
   "metadata": {},
   "outputs": [
    {
     "name": "stdout",
     "output_type": "stream",
     "text": [
      "time: 8.66 ms\n"
     ]
    }
   ],
   "source": [
    "df_alv.drop(columns=['Responsável pela empresa 1'], inplace=True)"
   ]
  },
  {
   "cell_type": "code",
   "execution_count": 85,
   "metadata": {},
   "outputs": [
    {
     "name": "stdout",
     "output_type": "stream",
     "text": [
      "time: 21.8 ms\n"
     ]
    }
   ],
   "source": [
    "df_alv['Categoria de uso'] = df_alv['Categoria de uso'].str.cat([df_alv['Categoria de uso 1'], df_alv['Categoria de uso 2'], df_alv['Categoria de uso 3']], sep=' / ', na_rep='')"
   ]
  },
  {
   "cell_type": "code",
   "execution_count": 86,
   "metadata": {},
   "outputs": [
    {
     "name": "stdout",
     "output_type": "stream",
     "text": [
      "time: 9.26 ms\n"
     ]
    }
   ],
   "source": [
    "df_alv.drop(columns=['Categoria de uso 1', 'Categoria de uso 2', 'Categoria de uso 3'], inplace=True)"
   ]
  },
  {
   "cell_type": "code",
   "execution_count": 87,
   "metadata": {},
   "outputs": [
    {
     "data": {
      "text/plain": [
       "Index(['Unidade', 'Subprefeitura', 'Alvará', 'Descrição', 'Tipo de Construção',\n",
       "       'SQL_Incra', 'Categoria de uso', 'Zona de uso atual', 'Bairro',\n",
       "       'Área da construção', 'Proprietário', 'Área do terreno', 'Endereço',\n",
       "       'Aprovação', 'Dirigente técnico', 'Responsável pela empresa',\n",
       "       'Autor do projeto', 'Blocos', 'Unidades', 'Pavimentos', 'Processo',\n",
       "       'Zona de uso anterior', '(B)locos / (P)avimentos / (U)nidades',\n",
       "       'Data autuação'],\n",
       "      dtype='object')"
      ]
     },
     "execution_count": 87,
     "metadata": {},
     "output_type": "execute_result"
    },
    {
     "name": "stdout",
     "output_type": "stream",
     "text": [
      "time: 1.63 ms\n"
     ]
    }
   ],
   "source": [
    "df_alv.columns"
   ]
  },
  {
   "cell_type": "code",
   "execution_count": 88,
   "metadata": {},
   "outputs": [
    {
     "name": "stdout",
     "output_type": "stream",
     "text": [
      "time: 274 µs\n"
     ]
    }
   ],
   "source": [
    "# df_alv.loc[df_alv.SQL_Incra == '059.268.0042-0']"
   ]
  },
  {
   "cell_type": "markdown",
   "metadata": {},
   "source": [
    "### Tratando e limpando dados"
   ]
  },
  {
   "cell_type": "code",
   "execution_count": 89,
   "metadata": {},
   "outputs": [
    {
     "name": "stdout",
     "output_type": "stream",
     "text": [
      "time: 44.3 ms\n"
     ]
    }
   ],
   "source": [
    "df_alv = df_alv.dropna(thresh=10)"
   ]
  },
  {
   "cell_type": "code",
   "execution_count": 90,
   "metadata": {},
   "outputs": [
    {
     "data": {
      "text/plain": [
       "Index(['Unidade', 'Subprefeitura', 'Alvará', 'Descrição', 'Tipo de Construção',\n",
       "       'SQL_Incra', 'Categoria de uso', 'Zona de uso atual', 'Bairro',\n",
       "       'Área da construção', 'Proprietário', 'Área do terreno', 'Endereço',\n",
       "       'Aprovação', 'Dirigente técnico', 'Responsável pela empresa',\n",
       "       'Autor do projeto', 'Blocos', 'Unidades', 'Pavimentos', 'Processo',\n",
       "       'Zona de uso anterior', '(B)locos / (P)avimentos / (U)nidades',\n",
       "       'Data autuação'],\n",
       "      dtype='object')"
      ]
     },
     "execution_count": 90,
     "metadata": {},
     "output_type": "execute_result"
    },
    {
     "name": "stdout",
     "output_type": "stream",
     "text": [
      "time: 1.65 ms\n"
     ]
    }
   ],
   "source": [
    "df_alv.columns"
   ]
  },
  {
   "cell_type": "code",
   "execution_count": 91,
   "metadata": {},
   "outputs": [
    {
     "name": "stdout",
     "output_type": "stream",
     "text": [
      "time: 102 ms\n"
     ]
    },
    {
     "name": "stderr",
     "output_type": "stream",
     "text": [
      "/home/fernando/miniconda3/envs/pcp-env/lib/python3.7/site-packages/pandas/core/indexing.py:966: SettingWithCopyWarning: \n",
      "A value is trying to be set on a copy of a slice from a DataFrame.\n",
      "Try using .loc[row_indexer,col_indexer] = value instead\n",
      "\n",
      "See the caveats in the documentation: https://pandas.pydata.org/pandas-docs/stable/user_guide/indexing.html#returning-a-view-versus-a-copy\n",
      "  self.obj[item] = s\n"
     ]
    }
   ],
   "source": [
    "df_alv.loc[:, ['Área da construção']] = pd.to_numeric(df_alv[df_alv['Área da construção']\n",
    "                                                               .notna()]['Área da construção']\n",
    "                                                        .str.replace('.', '')\n",
    "                                                        .str.replace(',', '.'))\n",
    "\n",
    "df_alv.loc[:, ['Área do terreno']] = pd.to_numeric(df_alv[df_alv['Área do terreno']\n",
    "                                                               .notna()]['Área do terreno']\n",
    "                                                        .str.replace('.', '')\n",
    "                                                        .str.replace(',', '.'))"
   ]
  },
  {
   "cell_type": "code",
   "execution_count": 92,
   "metadata": {},
   "outputs": [
    {
     "name": "stdout",
     "output_type": "stream",
     "text": [
      "time: 350 µs\n"
     ]
    }
   ],
   "source": [
    "# df_alv.drop(['Unnamed: 22', 'Unnamed: 23', 'Unnamed: 24'], axis=1, inplace=True)"
   ]
  },
  {
   "cell_type": "code",
   "execution_count": 93,
   "metadata": {},
   "outputs": [
    {
     "name": "stdout",
     "output_type": "stream",
     "text": [
      "time: 154 ms\n"
     ]
    },
    {
     "name": "stderr",
     "output_type": "stream",
     "text": [
      "/home/fernando/miniconda3/envs/pcp-env/lib/python3.7/site-packages/pandas/core/frame.py:5732: SettingWithCopyWarning: \n",
      "A value is trying to be set on a copy of a slice from a DataFrame.\n",
      "Try using .loc[row_indexer,col_indexer] = value instead\n",
      "\n",
      "See the caveats in the documentation: https://pandas.pydata.org/pandas-docs/stable/user_guide/indexing.html#returning-a-view-versus-a-copy\n",
      "  self[col] = expressions.where(mask, this, that)\n"
     ]
    }
   ],
   "source": [
    "## Converte registros com 11 caracteres para formato S.Q.L\n",
    "df_alv.update(df_alv[df_alv.SQL_Incra.str.len() == 11]['SQL_Incra'].str[0:3] + '.' + \n",
    "df_alv[df_alv.SQL_Incra.str.len() == 11]['SQL_Incra'].str[3:6] + '.' + \n",
    "df_alv[df_alv.SQL_Incra.str.len() == 11]['SQL_Incra'].str[6:10] + '-' +\n",
    "df_alv[df_alv.SQL_Incra.str.len() == 11]['SQL_Incra'].str[10])"
   ]
  },
  {
   "cell_type": "code",
   "execution_count": 94,
   "metadata": {},
   "outputs": [
    {
     "data": {
      "text/plain": [
       "Index(['Unidade', 'Subprefeitura', 'Alvará', 'Descrição', 'Tipo de Construção',\n",
       "       'SQL_Incra', 'Categoria de uso', 'Zona de uso atual', 'Bairro',\n",
       "       'Área da construção', 'Proprietário', 'Área do terreno', 'Endereço',\n",
       "       'Aprovação', 'Dirigente técnico', 'Responsável pela empresa',\n",
       "       'Autor do projeto', 'Blocos', 'Unidades', 'Pavimentos', 'Processo',\n",
       "       'Zona de uso anterior', '(B)locos / (P)avimentos / (U)nidades',\n",
       "       'Data autuação'],\n",
       "      dtype='object')"
      ]
     },
     "execution_count": 94,
     "metadata": {},
     "output_type": "execute_result"
    },
    {
     "name": "stdout",
     "output_type": "stream",
     "text": [
      "time: 1.69 ms\n"
     ]
    }
   ],
   "source": [
    "df_alv.columns"
   ]
  },
  {
   "cell_type": "code",
   "execution_count": 95,
   "metadata": {},
   "outputs": [
    {
     "data": {
      "text/plain": [
       "8429          AV  INTERLAGOS 05937   \n",
       "8430          R   DOMINGOS VEGA 47   \n",
       "8431     AV  TERESA CRISTINA 00210   \n",
       "8432           AV  ITAQUERA 001968   \n",
       "8433       AV  LUIS STAMATIS 00656   \n",
       "                     ...             \n",
       "12499     ES  DO CAMPO LIMPO 00288   \n",
       "12500      R   PADRE ADELINO 99999   \n",
       "12501       R   PURPURINA 00396 400  \n",
       "12502           R   HARMONIA 01250   \n",
       "12503            AL  SANTOS 001165   \n",
       "Name: Endereço, Length: 4075, dtype: object"
      ]
     },
     "execution_count": 95,
     "metadata": {},
     "output_type": "execute_result"
    },
    {
     "name": "stdout",
     "output_type": "stream",
     "text": [
      "time: 5.29 ms\n"
     ]
    }
   ],
   "source": [
    "df_alv[df_alv.SQL_Incra.isna()]['Endereço']"
   ]
  },
  {
   "cell_type": "code",
   "execution_count": 96,
   "metadata": {},
   "outputs": [
    {
     "name": "stdout",
     "output_type": "stream",
     "text": [
      "time: 6.09 ms\n"
     ]
    }
   ],
   "source": [
    "df_alv.loc[:, ['SQL_Incra']] = df_alv['SQL_Incra'].fillna('')"
   ]
  },
  {
   "cell_type": "markdown",
   "metadata": {},
   "source": [
    "### Verificando SQLs condominiais com o IPTU"
   ]
  },
  {
   "cell_type": "code",
   "execution_count": 97,
   "metadata": {},
   "outputs": [
    {
     "data": {
      "text/html": [
       "<div>\n",
       "<style scoped>\n",
       "    .dataframe tbody tr th:only-of-type {\n",
       "        vertical-align: middle;\n",
       "    }\n",
       "\n",
       "    .dataframe tbody tr th {\n",
       "        vertical-align: top;\n",
       "    }\n",
       "\n",
       "    .dataframe thead th {\n",
       "        text-align: right;\n",
       "    }\n",
       "</style>\n",
       "<table border=\"1\" class=\"dataframe\">\n",
       "  <thead>\n",
       "    <tr style=\"text-align: right;\">\n",
       "      <th></th>\n",
       "      <th>Unidade</th>\n",
       "      <th>Subprefeitura</th>\n",
       "      <th>Alvará</th>\n",
       "      <th>Descrição</th>\n",
       "      <th>Tipo de Construção</th>\n",
       "      <th>SQL_Incra</th>\n",
       "      <th>Categoria de uso</th>\n",
       "      <th>Zona de uso atual</th>\n",
       "      <th>Bairro</th>\n",
       "      <th>Área da construção</th>\n",
       "      <th>...</th>\n",
       "      <th>Dirigente técnico</th>\n",
       "      <th>Responsável pela empresa</th>\n",
       "      <th>Autor do projeto</th>\n",
       "      <th>Blocos</th>\n",
       "      <th>Unidades</th>\n",
       "      <th>Pavimentos</th>\n",
       "      <th>Processo</th>\n",
       "      <th>Zona de uso anterior</th>\n",
       "      <th>(B)locos / (P)avimentos / (U)nidades</th>\n",
       "      <th>Data autuação</th>\n",
       "    </tr>\n",
       "  </thead>\n",
       "  <tbody>\n",
       "    <tr>\n",
       "      <th>4272</th>\n",
       "      <td>SEHAB/APROV/G</td>\n",
       "      <td>ARICANDUVA/ FORMOSA/ CARRAO</td>\n",
       "      <td>2011.16.116-01</td>\n",
       "      <td>APOSTILAMENTO DE ALVARA DE EXECUCAO DE EDIFICA...</td>\n",
       "      <td>NaN</td>\n",
       "      <td>116.402.0004-4</td>\n",
       "      <td>H.M.P /  /  /</td>\n",
       "      <td>ZM-3A</td>\n",
       "      <td>VL. FORMOSA</td>\n",
       "      <td>NaN</td>\n",
       "      <td>...</td>\n",
       "      <td>FERNANDO ALBERTO POZETTI</td>\n",
       "      <td>/</td>\n",
       "      <td>RUI KIYOSHI ISHIKAWA</td>\n",
       "      <td>NaN</td>\n",
       "      <td>NaN</td>\n",
       "      <td>NaN</td>\n",
       "      <td>NaN</td>\n",
       "      <td>Z2.</td>\n",
       "      <td>NaN</td>\n",
       "      <td>NaT</td>\n",
       "    </tr>\n",
       "    <tr>\n",
       "      <th>4273</th>\n",
       "      <td>SEHAB/APROV/G</td>\n",
       "      <td>ARICANDUVA/ FORMOSA/ CARRAO</td>\n",
       "      <td>2011.52.080-01</td>\n",
       "      <td>APOSTILAMENTO DE ALVARA DE APROVACAO DE EDIFIC...</td>\n",
       "      <td>NaN</td>\n",
       "      <td>054.158.0014-1</td>\n",
       "      <td>H.M.P /  /  /</td>\n",
       "      <td>ZM-3A</td>\n",
       "      <td>VILA FORMOSA</td>\n",
       "      <td>8417.91</td>\n",
       "      <td>...</td>\n",
       "      <td>NaN</td>\n",
       "      <td>/</td>\n",
       "      <td>NaN</td>\n",
       "      <td>NaN</td>\n",
       "      <td>NaN</td>\n",
       "      <td>NaN</td>\n",
       "      <td>NaN</td>\n",
       "      <td>Z2.</td>\n",
       "      <td>B: 1 P: 19 U: 72</td>\n",
       "      <td>NaT</td>\n",
       "    </tr>\n",
       "    <tr>\n",
       "      <th>4274</th>\n",
       "      <td>SEHAB/APROV/G</td>\n",
       "      <td>BUTANTA</td>\n",
       "      <td>2009.43.232-01</td>\n",
       "      <td>APOSTILAMENTO DE ALVARA DE APROVACAO E EXECUCA...</td>\n",
       "      <td>NaN</td>\n",
       "      <td>159.088.0166-5</td>\n",
       "      <td>HIS /  /  /</td>\n",
       "      <td>ZM-P/002</td>\n",
       "      <td>BUTANTA</td>\n",
       "      <td>17.14</td>\n",
       "      <td>...</td>\n",
       "      <td>NaN</td>\n",
       "      <td>/</td>\n",
       "      <td>NaN</td>\n",
       "      <td>NaN</td>\n",
       "      <td>NaN</td>\n",
       "      <td>NaN</td>\n",
       "      <td>NaN</td>\n",
       "      <td>Z2.</td>\n",
       "      <td>B: 1 P: 1 U: 0</td>\n",
       "      <td>NaT</td>\n",
       "    </tr>\n",
       "    <tr>\n",
       "      <th>4275</th>\n",
       "      <td>SEHAB/APROV/G</td>\n",
       "      <td>BUTANTA</td>\n",
       "      <td>2010.30.871-01</td>\n",
       "      <td>APOSTILAMENTO DE ALVARA DE EXECUCAO DE EDIFICA...</td>\n",
       "      <td>NaN</td>\n",
       "      <td>101.557.0154-0</td>\n",
       "      <td>H.M.P /  /  /</td>\n",
       "      <td>ZM-2/004</td>\n",
       "      <td>RIO PEQUENO</td>\n",
       "      <td>NaN</td>\n",
       "      <td>...</td>\n",
       "      <td>FABIO BUZANIN DE MIRANDA</td>\n",
       "      <td>/</td>\n",
       "      <td>NaN</td>\n",
       "      <td>NaN</td>\n",
       "      <td>NaN</td>\n",
       "      <td>NaN</td>\n",
       "      <td>NaN</td>\n",
       "      <td></td>\n",
       "      <td>NaN</td>\n",
       "      <td>NaT</td>\n",
       "    </tr>\n",
       "    <tr>\n",
       "      <th>4276</th>\n",
       "      <td>SEHAB/APROV/G</td>\n",
       "      <td>BUTANTA</td>\n",
       "      <td>2010.30.871-02</td>\n",
       "      <td>APOSTILAMENTO DE ALVARA DE EXECUCAO DE EDIFICA...</td>\n",
       "      <td>NaN</td>\n",
       "      <td>101.557.0154-0</td>\n",
       "      <td>H.M.P /  /  /</td>\n",
       "      <td>ZM-2/004</td>\n",
       "      <td>RIO PEQUENO</td>\n",
       "      <td>NaN</td>\n",
       "      <td>...</td>\n",
       "      <td>NaN</td>\n",
       "      <td>/</td>\n",
       "      <td>NaN</td>\n",
       "      <td>NaN</td>\n",
       "      <td>NaN</td>\n",
       "      <td>NaN</td>\n",
       "      <td>NaN</td>\n",
       "      <td></td>\n",
       "      <td>NaN</td>\n",
       "      <td>NaT</td>\n",
       "    </tr>\n",
       "    <tr>\n",
       "      <th>...</th>\n",
       "      <td>...</td>\n",
       "      <td>...</td>\n",
       "      <td>...</td>\n",
       "      <td>...</td>\n",
       "      <td>...</td>\n",
       "      <td>...</td>\n",
       "      <td>...</td>\n",
       "      <td>...</td>\n",
       "      <td>...</td>\n",
       "      <td>...</td>\n",
       "      <td>...</td>\n",
       "      <td>...</td>\n",
       "      <td>...</td>\n",
       "      <td>...</td>\n",
       "      <td>...</td>\n",
       "      <td>...</td>\n",
       "      <td>...</td>\n",
       "      <td>...</td>\n",
       "      <td>...</td>\n",
       "      <td>...</td>\n",
       "      <td>...</td>\n",
       "    </tr>\n",
       "    <tr>\n",
       "      <th>53745</th>\n",
       "      <td>SGM/AJ</td>\n",
       "      <td>PERUS</td>\n",
       "      <td>2013.32.379-00</td>\n",
       "      <td>RECONSIDERACAO DO DESPACHO DE AUTO DE REGULARI...</td>\n",
       "      <td>NaN</td>\n",
       "      <td>187.046.0034-6</td>\n",
       "      <td>R; C1 /  /  /</td>\n",
       "      <td>NaN</td>\n",
       "      <td>PERUS</td>\n",
       "      <td>NaN</td>\n",
       "      <td>...</td>\n",
       "      <td>MARIO ALEXANDER STEINHAUSER</td>\n",
       "      <td>/</td>\n",
       "      <td>NaN</td>\n",
       "      <td>NaN</td>\n",
       "      <td>NaN</td>\n",
       "      <td>NaN</td>\n",
       "      <td>2003-1.039.534-4</td>\n",
       "      <td>Z9-045.</td>\n",
       "      <td>NaN</td>\n",
       "      <td>NaT</td>\n",
       "    </tr>\n",
       "    <tr>\n",
       "      <th>53746</th>\n",
       "      <td>SGM/AJ</td>\n",
       "      <td>SE</td>\n",
       "      <td>2013.31.386-00</td>\n",
       "      <td>RECONSIDERACAO DO DESPACHO DE AUTO DE REGULARI...</td>\n",
       "      <td>NaN</td>\n",
       "      <td>019.046.0012-3</td>\n",
       "      <td>C2.3 /  /  /</td>\n",
       "      <td>NaN</td>\n",
       "      <td>BOM RETIRO</td>\n",
       "      <td>NaN</td>\n",
       "      <td>...</td>\n",
       "      <td>NaN</td>\n",
       "      <td>/</td>\n",
       "      <td>NaN</td>\n",
       "      <td>NaN</td>\n",
       "      <td>NaN</td>\n",
       "      <td>NaN</td>\n",
       "      <td>2003-1.039.766-5</td>\n",
       "      <td></td>\n",
       "      <td>NaN</td>\n",
       "      <td>NaT</td>\n",
       "    </tr>\n",
       "    <tr>\n",
       "      <th>53747</th>\n",
       "      <td>SGM/AJ</td>\n",
       "      <td>SE</td>\n",
       "      <td>2013.31.937-00</td>\n",
       "      <td>RECONSIDERACAO DO DESPACHO DE AUTO DE REGULARI...</td>\n",
       "      <td>NaN</td>\n",
       "      <td>009.035.0010-8</td>\n",
       "      <td>C1.2; S1.1 /  /  /</td>\n",
       "      <td>NaN</td>\n",
       "      <td>BELA VISTA</td>\n",
       "      <td>NaN</td>\n",
       "      <td>...</td>\n",
       "      <td>NaN</td>\n",
       "      <td>/</td>\n",
       "      <td>NaN</td>\n",
       "      <td>NaN</td>\n",
       "      <td>NaN</td>\n",
       "      <td>NaN</td>\n",
       "      <td>2003-1.009.227-9</td>\n",
       "      <td>Z10-001.</td>\n",
       "      <td>NaN</td>\n",
       "      <td>NaT</td>\n",
       "    </tr>\n",
       "    <tr>\n",
       "      <th>53748</th>\n",
       "      <td>SGM/AJ</td>\n",
       "      <td>SE</td>\n",
       "      <td>2013.33.074-00</td>\n",
       "      <td>RECONSIDERACAO DO DESPACHO DE AUTO DE REGULARI...</td>\n",
       "      <td>NaN</td>\n",
       "      <td>001.020.0006-9</td>\n",
       "      <td>C2.2 /  /  /</td>\n",
       "      <td>NaN</td>\n",
       "      <td>SANTA EFIGENIA</td>\n",
       "      <td>NaN</td>\n",
       "      <td>...</td>\n",
       "      <td>NaN</td>\n",
       "      <td>/</td>\n",
       "      <td>NaN</td>\n",
       "      <td>NaN</td>\n",
       "      <td>NaN</td>\n",
       "      <td>NaN</td>\n",
       "      <td>2003-1.002.595-4</td>\n",
       "      <td>Z2.</td>\n",
       "      <td>NaN</td>\n",
       "      <td>NaT</td>\n",
       "    </tr>\n",
       "    <tr>\n",
       "      <th>53749</th>\n",
       "      <td>SGM/AJ</td>\n",
       "      <td>VILA MARIANA</td>\n",
       "      <td>2013.33.733-00</td>\n",
       "      <td>RECONSIDERACAO DO DESPACHO DE AUTO DE REGULARI...</td>\n",
       "      <td>NaN</td>\n",
       "      <td>037.099.0044-1</td>\n",
       "      <td>S2.1 /  /  /</td>\n",
       "      <td>NaN</td>\n",
       "      <td>VILA MARIANA</td>\n",
       "      <td>NaN</td>\n",
       "      <td>...</td>\n",
       "      <td>NaN</td>\n",
       "      <td>/</td>\n",
       "      <td>NaN</td>\n",
       "      <td>NaN</td>\n",
       "      <td>NaN</td>\n",
       "      <td>NaN</td>\n",
       "      <td>2003-1.016.932-8</td>\n",
       "      <td>Z2.</td>\n",
       "      <td>NaN</td>\n",
       "      <td>NaT</td>\n",
       "    </tr>\n",
       "  </tbody>\n",
       "</table>\n",
       "<p>31400 rows × 24 columns</p>\n",
       "</div>"
      ],
      "text/plain": [
       "                    Unidade                     Subprefeitura          Alvará  \\\n",
       "4272   SEHAB/APROV/G         ARICANDUVA/ FORMOSA/ CARRAO       2011.16.116-01   \n",
       "4273   SEHAB/APROV/G         ARICANDUVA/ FORMOSA/ CARRAO       2011.52.080-01   \n",
       "4274   SEHAB/APROV/G           BUTANTA                         2009.43.232-01   \n",
       "4275   SEHAB/APROV/G           BUTANTA                         2010.30.871-01   \n",
       "4276   SEHAB/APROV/G           BUTANTA                         2010.30.871-02   \n",
       "...                     ...                               ...             ...   \n",
       "53745  SGM/AJ                  PERUS                           2013.32.379-00   \n",
       "53746  SGM/AJ                  SE                              2013.31.386-00   \n",
       "53747  SGM/AJ                  SE                              2013.31.937-00   \n",
       "53748  SGM/AJ                  SE                              2013.33.074-00   \n",
       "53749  SGM/AJ                  VILA MARIANA                    2013.33.733-00   \n",
       "\n",
       "                                               Descrição Tipo de Construção  \\\n",
       "4272   APOSTILAMENTO DE ALVARA DE EXECUCAO DE EDIFICA...                NaN   \n",
       "4273   APOSTILAMENTO DE ALVARA DE APROVACAO DE EDIFIC...                NaN   \n",
       "4274   APOSTILAMENTO DE ALVARA DE APROVACAO E EXECUCA...                NaN   \n",
       "4275   APOSTILAMENTO DE ALVARA DE EXECUCAO DE EDIFICA...                NaN   \n",
       "4276   APOSTILAMENTO DE ALVARA DE EXECUCAO DE EDIFICA...                NaN   \n",
       "...                                                  ...                ...   \n",
       "53745  RECONSIDERACAO DO DESPACHO DE AUTO DE REGULARI...                NaN   \n",
       "53746  RECONSIDERACAO DO DESPACHO DE AUTO DE REGULARI...                NaN   \n",
       "53747  RECONSIDERACAO DO DESPACHO DE AUTO DE REGULARI...                NaN   \n",
       "53748  RECONSIDERACAO DO DESPACHO DE AUTO DE REGULARI...                NaN   \n",
       "53749  RECONSIDERACAO DO DESPACHO DE AUTO DE REGULARI...                NaN   \n",
       "\n",
       "            SQL_Incra     Categoria de uso Zona de uso atual          Bairro  \\\n",
       "4272   116.402.0004-4       H.M.P /  /  /              ZM-3A     VL. FORMOSA   \n",
       "4273   054.158.0014-1       H.M.P /  /  /              ZM-3A    VILA FORMOSA   \n",
       "4274   159.088.0166-5         HIS /  /  /           ZM-P/002         BUTANTA   \n",
       "4275   101.557.0154-0       H.M.P /  /  /           ZM-2/004     RIO PEQUENO   \n",
       "4276   101.557.0154-0       H.M.P /  /  /           ZM-2/004     RIO PEQUENO   \n",
       "...               ...                  ...               ...             ...   \n",
       "53745  187.046.0034-6       R; C1 /  /  /                NaN           PERUS   \n",
       "53746  019.046.0012-3        C2.3 /  /  /                NaN      BOM RETIRO   \n",
       "53747  009.035.0010-8  C1.2; S1.1 /  /  /                NaN      BELA VISTA   \n",
       "53748  001.020.0006-9        C2.2 /  /  /                NaN  SANTA EFIGENIA   \n",
       "53749  037.099.0044-1        S2.1 /  /  /                NaN    VILA MARIANA   \n",
       "\n",
       "       Área da construção  ...            Dirigente técnico  \\\n",
       "4272                  NaN  ...     FERNANDO ALBERTO POZETTI   \n",
       "4273              8417.91  ...                          NaN   \n",
       "4274                17.14  ...                          NaN   \n",
       "4275                  NaN  ...     FABIO BUZANIN DE MIRANDA   \n",
       "4276                  NaN  ...                          NaN   \n",
       "...                   ...  ...                          ...   \n",
       "53745                 NaN  ...  MARIO ALEXANDER STEINHAUSER   \n",
       "53746                 NaN  ...                          NaN   \n",
       "53747                 NaN  ...                          NaN   \n",
       "53748                 NaN  ...                          NaN   \n",
       "53749                 NaN  ...                          NaN   \n",
       "\n",
       "       Responsável pela empresa      Autor do projeto Blocos Unidades  \\\n",
       "4272                         /   RUI KIYOSHI ISHIKAWA    NaN      NaN   \n",
       "4273                         /                    NaN    NaN      NaN   \n",
       "4274                         /                    NaN    NaN      NaN   \n",
       "4275                         /                    NaN    NaN      NaN   \n",
       "4276                         /                    NaN    NaN      NaN   \n",
       "...                         ...                   ...    ...      ...   \n",
       "53745                        /                    NaN    NaN      NaN   \n",
       "53746                        /                    NaN    NaN      NaN   \n",
       "53747                        /                    NaN    NaN      NaN   \n",
       "53748                        /                    NaN    NaN      NaN   \n",
       "53749                        /                    NaN    NaN      NaN   \n",
       "\n",
       "      Pavimentos          Processo Zona de uso anterior  \\\n",
       "4272         NaN               NaN                  Z2.   \n",
       "4273         NaN               NaN                  Z2.   \n",
       "4274         NaN               NaN                  Z2.   \n",
       "4275         NaN               NaN                        \n",
       "4276         NaN               NaN                        \n",
       "...          ...               ...                  ...   \n",
       "53745        NaN  2003-1.039.534-4              Z9-045.   \n",
       "53746        NaN  2003-1.039.766-5                        \n",
       "53747        NaN  2003-1.009.227-9             Z10-001.   \n",
       "53748        NaN  2003-1.002.595-4                  Z2.   \n",
       "53749        NaN  2003-1.016.932-8                  Z2.   \n",
       "\n",
       "      (B)locos / (P)avimentos / (U)nidades Data autuação  \n",
       "4272                                   NaN           NaT  \n",
       "4273                      B: 1 P: 19 U: 72           NaT  \n",
       "4274                        B: 1 P: 1 U: 0           NaT  \n",
       "4275                                   NaN           NaT  \n",
       "4276                                   NaN           NaT  \n",
       "...                                    ...           ...  \n",
       "53745                                  NaN           NaT  \n",
       "53746                                  NaN           NaT  \n",
       "53747                                  NaN           NaT  \n",
       "53748                                  NaN           NaT  \n",
       "53749                                  NaN           NaT  \n",
       "\n",
       "[31400 rows x 24 columns]"
      ]
     },
     "execution_count": 97,
     "metadata": {},
     "output_type": "execute_result"
    },
    {
     "name": "stdout",
     "output_type": "stream",
     "text": [
      "time: 72.2 ms\n"
     ]
    }
   ],
   "source": [
    "df_alv[df_alv.SQL_Incra.str.match(pat = '(\\d{3}.){2}\\d{4}-\\d')]"
   ]
  },
  {
   "cell_type": "code",
   "execution_count": 98,
   "metadata": {},
   "outputs": [
    {
     "name": "stdout",
     "output_type": "stream",
     "text": [
      "time: 35.9 ms\n"
     ]
    }
   ],
   "source": [
    "match_00 = df_alv.SQL_Incra.str.match(pat = '\\d{2}.(\\d{3}.){2}\\d{4}-\\d')"
   ]
  },
  {
   "cell_type": "code",
   "execution_count": 99,
   "metadata": {},
   "outputs": [
    {
     "name": "stdout",
     "output_type": "stream",
     "text": [
      "time: 20.9 ms\n"
     ]
    },
    {
     "name": "stderr",
     "output_type": "stream",
     "text": [
      "/home/fernando/miniconda3/envs/pcp-env/lib/python3.7/site-packages/pandas/core/indexing.py:966: SettingWithCopyWarning: \n",
      "A value is trying to be set on a copy of a slice from a DataFrame.\n",
      "Try using .loc[row_indexer,col_indexer] = value instead\n",
      "\n",
      "See the caveats in the documentation: https://pandas.pydata.org/pandas-docs/stable/user_guide/indexing.html#returning-a-view-versus-a-copy\n",
      "  self.obj[item] = s\n"
     ]
    }
   ],
   "source": [
    "df_alv.loc[match_00, ['SQL_Incra']] = df_alv[match_00]['SQL_Incra'].str[3:]"
   ]
  },
  {
   "cell_type": "code",
   "execution_count": 100,
   "metadata": {},
   "outputs": [
    {
     "name": "stdout",
     "output_type": "stream",
     "text": [
      "time: 35.8 ms\n"
     ]
    }
   ],
   "source": [
    "match_00 = df_alv.SQL_Incra.str.match(pat = '\\d{2}.(\\d{3}.){2}\\d{4}-')"
   ]
  },
  {
   "cell_type": "code",
   "execution_count": 101,
   "metadata": {},
   "outputs": [
    {
     "name": "stdout",
     "output_type": "stream",
     "text": [
      "time: 5.34 ms\n"
     ]
    }
   ],
   "source": [
    "df_alv.loc[match_00, ['SQL_Incra']] = df_alv[match_00]['SQL_Incra'].str[3:]+'0'"
   ]
  },
  {
   "cell_type": "code",
   "execution_count": 102,
   "metadata": {},
   "outputs": [
    {
     "name": "stdout",
     "output_type": "stream",
     "text": [
      "time: 571 µs\n"
     ]
    }
   ],
   "source": [
    "# df_alv.SQL_Incra.str.match(pat = '\\d{2}.(\\d{3}.){2}\\d{4}-\\d').value_counts()\n",
    "# df_alv['SQL_Incra'] = df_alv[df_alv.SQL_Incra.str.match(pat = '\\d{2}.(\\d{3}.){2}\\d{4}-\\d')].SQL_Incra.str[3:]"
   ]
  },
  {
   "cell_type": "code",
   "execution_count": 103,
   "metadata": {},
   "outputs": [
    {
     "name": "stdout",
     "output_type": "stream",
     "text": [
      "time: 69.7 ms\n"
     ]
    },
    {
     "name": "stderr",
     "output_type": "stream",
     "text": [
      "/home/fernando/miniconda3/envs/pcp-env/lib/python3.7/site-packages/ipykernel_launcher.py:2: SettingWithCopyWarning: \n",
      "A value is trying to be set on a copy of a slice from a DataFrame.\n",
      "Try using .loc[row_indexer,col_indexer] = value instead\n",
      "\n",
      "See the caveats in the documentation: https://pandas.pydata.org/pandas-docs/stable/user_guide/indexing.html#returning-a-view-versus-a-copy\n",
      "  \n"
     ]
    }
   ],
   "source": [
    "# verificando padrão de S.Q.L-digito\n",
    "df_alv['sql'] = df_alv[df_alv.SQL_Incra.str.match(pat = '(\\d{3}.){2}\\d{4}-\\d')].SQL_Incra.str.replace('.', '').str[0:10]"
   ]
  },
  {
   "cell_type": "code",
   "execution_count": 104,
   "metadata": {},
   "outputs": [
    {
     "data": {
      "text/plain": [
       "0        055.114.0001-7\n",
       "1        230.133.0004-1\n",
       "2        230.133.0001-7\n",
       "3        066.587.0027-3\n",
       "4        031.096.0035-8\n",
       "              ...      \n",
       "56178    069.022.0009-2\n",
       "56179    047.175.0012-1\n",
       "56180    047.175.0012-1\n",
       "56181    037.083.0584-1\n",
       "56182     1542629999999\n",
       "Name: SQL_Incra, Length: 55476, dtype: object"
      ]
     },
     "execution_count": 104,
     "metadata": {},
     "output_type": "execute_result"
    },
    {
     "name": "stdout",
     "output_type": "stream",
     "text": [
      "time: 3.67 ms\n"
     ]
    }
   ],
   "source": [
    "df_alv['SQL_Incra']"
   ]
  },
  {
   "cell_type": "code",
   "execution_count": 105,
   "metadata": {},
   "outputs": [
    {
     "data": {
      "text/plain": [
       "True     49786\n",
       "False     5690\n",
       "Name: sql, dtype: int64"
      ]
     },
     "execution_count": 105,
     "metadata": {},
     "output_type": "execute_result"
    },
    {
     "name": "stdout",
     "output_type": "stream",
     "text": [
      "time: 8.53 ms\n"
     ]
    }
   ],
   "source": [
    "df_alv.sql.notna().value_counts()"
   ]
  },
  {
   "cell_type": "code",
   "execution_count": 106,
   "metadata": {},
   "outputs": [
    {
     "data": {
      "text/plain": [
       "27066"
      ]
     },
     "execution_count": 106,
     "metadata": {},
     "output_type": "execute_result"
    },
    {
     "name": "stdout",
     "output_type": "stream",
     "text": [
      "time: 7.42 ms\n"
     ]
    }
   ],
   "source": [
    "len(df_alv.sql.unique())"
   ]
  },
  {
   "cell_type": "code",
   "execution_count": 107,
   "metadata": {},
   "outputs": [
    {
     "name": "stdout",
     "output_type": "stream",
     "text": [
      "time: 16.6 s\n"
     ]
    }
   ],
   "source": [
    "df_iptu = pd.read_csv('data/IPTU_2020.zip', sep=';',  encoding='latin1')"
   ]
  },
  {
   "cell_type": "code",
   "execution_count": 108,
   "metadata": {},
   "outputs": [
    {
     "name": "stdout",
     "output_type": "stream",
     "text": [
      "time: 1.06 s\n"
     ]
    }
   ],
   "source": [
    "df_iptu['sql'] = df_iptu['NUMERO DO CONTRIBUINTE'].str[0:10].astype(str)"
   ]
  },
  {
   "cell_type": "code",
   "execution_count": 109,
   "metadata": {},
   "outputs": [
    {
     "name": "stdout",
     "output_type": "stream",
     "text": [
      "time: 2.23 s\n"
     ]
    }
   ],
   "source": [
    "df_iptu['sqlc'] = df_iptu['NUMERO DO CONTRIBUINTE'].str[0:10].astype(str) + df_iptu['NUMERO DO CONDOMINIO'].str[0:2].astype(str)"
   ]
  },
  {
   "cell_type": "code",
   "execution_count": 110,
   "metadata": {},
   "outputs": [
    {
     "name": "stdout",
     "output_type": "stream",
     "text": [
      "time: 973 ms\n"
     ]
    }
   ],
   "source": [
    "df_iptu['sqlc_resultante'] = df_iptu.sqlc.apply(lambda x: x if x[10:12] == '00' else x[0:6] + '0000' + x[10:12])"
   ]
  },
  {
   "cell_type": "code",
   "execution_count": 111,
   "metadata": {},
   "outputs": [
    {
     "data": {
      "text/plain": [
       "Index(['NUMERO DO CONTRIBUINTE', 'ANO DO EXERCICIO', 'NUMERO DA NL',\n",
       "       'DATA DO CADASTRAMENTO', 'TIPO DE CONTRIBUINTE 1',\n",
       "       'CPF/CNPJ DO CONTRIBUINTE 1', 'NOME DO CONTRIBUINTE 1',\n",
       "       'TIPO DE CONTRIBUINTE 2', 'CPF/CNPJ DO CONTRIBUINTE 2',\n",
       "       'NOME DO CONTRIBUINTE 2', 'NUMERO DO CONDOMINIO', 'CODLOG DO IMOVEL',\n",
       "       'NOME DE LOGRADOURO DO IMOVEL', 'NUMERO DO IMOVEL',\n",
       "       'COMPLEMENTO DO IMOVEL', 'BAIRRO DO IMOVEL', 'REFERENCIA DO IMOVEL',\n",
       "       'CEP DO IMOVEL', 'QUANTIDADE DE ESQUINAS/FRENTES', 'FRACAO IDEAL',\n",
       "       'AREA DO TERRENO', 'AREA CONSTRUIDA', 'AREA OCUPADA',\n",
       "       'VALOR DO M2 DO TERRENO', 'VALOR DO M2 DE CONSTRUCAO',\n",
       "       'ANO DA CONSTRUCAO CORRIGIDO', 'QUANTIDADE DE PAVIMENTOS',\n",
       "       'TESTADA PARA CALCULO', 'TIPO DE USO DO IMOVEL',\n",
       "       'TIPO DE PADRAO DA CONSTRUCAO', 'TIPO DE TERRENO',\n",
       "       'FATOR DE OBSOLESCENCIA', 'ANO DE INICIO DA VIDA DO CONTRIBUINTE',\n",
       "       'MES DE INICIO DA VIDA DO CONTRIBUINTE', 'FASE DO CONTRIBUINTE', 'sql',\n",
       "       'sqlc', 'sqlc_resultante'],\n",
       "      dtype='object')"
      ]
     },
     "execution_count": 111,
     "metadata": {},
     "output_type": "execute_result"
    },
    {
     "name": "stdout",
     "output_type": "stream",
     "text": [
      "time: 1.74 ms\n"
     ]
    }
   ],
   "source": [
    "df_iptu.columns"
   ]
  },
  {
   "cell_type": "code",
   "execution_count": 112,
   "metadata": {},
   "outputs": [
    {
     "data": {
      "text/plain": [
       "False    27799\n",
       "True     27677\n",
       "Name: sql, dtype: int64"
      ]
     },
     "execution_count": 112,
     "metadata": {},
     "output_type": "execute_result"
    },
    {
     "name": "stdout",
     "output_type": "stream",
     "text": [
      "time: 1.07 s\n"
     ]
    }
   ],
   "source": [
    "df_alv['sql'].isin(df_iptu.sql).value_counts()\n",
    "# df_iptu['sql']"
   ]
  },
  {
   "cell_type": "code",
   "execution_count": 113,
   "metadata": {},
   "outputs": [
    {
     "data": {
      "text/plain": [
       "27066"
      ]
     },
     "execution_count": 113,
     "metadata": {},
     "output_type": "execute_result"
    },
    {
     "name": "stdout",
     "output_type": "stream",
     "text": [
      "time: 5.52 ms\n"
     ]
    }
   ],
   "source": [
    "len(df_alv['sql'].unique())"
   ]
  },
  {
   "cell_type": "code",
   "execution_count": 114,
   "metadata": {},
   "outputs": [
    {
     "data": {
      "text/plain": [
       "15783"
      ]
     },
     "execution_count": 114,
     "metadata": {},
     "output_type": "execute_result"
    },
    {
     "name": "stdout",
     "output_type": "stream",
     "text": [
      "time: 986 ms\n"
     ]
    }
   ],
   "source": [
    "len(df_alv[df_alv.sql.isin(df_iptu.sql)].sql.unique())"
   ]
  },
  {
   "cell_type": "code",
   "execution_count": 115,
   "metadata": {},
   "outputs": [
    {
     "data": {
      "text/plain": [
       "False    49786\n",
       "True      5690\n",
       "Name: sql, dtype: int64"
      ]
     },
     "execution_count": 115,
     "metadata": {},
     "output_type": "execute_result"
    },
    {
     "name": "stdout",
     "output_type": "stream",
     "text": [
      "time: 6.38 ms\n"
     ]
    }
   ],
   "source": [
    "df_alv.sql.isna().value_counts()"
   ]
  },
  {
   "cell_type": "code",
   "execution_count": 116,
   "metadata": {},
   "outputs": [
    {
     "data": {
      "text/html": [
       "<div>\n",
       "<style scoped>\n",
       "    .dataframe tbody tr th:only-of-type {\n",
       "        vertical-align: middle;\n",
       "    }\n",
       "\n",
       "    .dataframe tbody tr th {\n",
       "        vertical-align: top;\n",
       "    }\n",
       "\n",
       "    .dataframe thead th {\n",
       "        text-align: right;\n",
       "    }\n",
       "</style>\n",
       "<table border=\"1\" class=\"dataframe\">\n",
       "  <thead>\n",
       "    <tr style=\"text-align: right;\">\n",
       "      <th></th>\n",
       "      <th>Endereço</th>\n",
       "      <th>Bairro</th>\n",
       "    </tr>\n",
       "  </thead>\n",
       "  <tbody>\n",
       "    <tr>\n",
       "      <th>82</th>\n",
       "      <td>R AGRIMENSOR SUGAYA,968</td>\n",
       "      <td>NaN</td>\n",
       "    </tr>\n",
       "    <tr>\n",
       "      <th>191</th>\n",
       "      <td>AV RAIMUNDO PEREIRA DE MAGALHAES</td>\n",
       "      <td>NaN</td>\n",
       "    </tr>\n",
       "    <tr>\n",
       "      <th>680</th>\n",
       "      <td>ES DO PESSEGO,1635</td>\n",
       "      <td>NaN</td>\n",
       "    </tr>\n",
       "    <tr>\n",
       "      <th>706</th>\n",
       "      <td>AV DA LIBERDADE,103</td>\n",
       "      <td>LIBERDADE</td>\n",
       "    </tr>\n",
       "    <tr>\n",
       "      <th>908</th>\n",
       "      <td>ES TURISTICA DO JARAGUA,2400</td>\n",
       "      <td>JARAGUA</td>\n",
       "    </tr>\n",
       "    <tr>\n",
       "      <th>...</th>\n",
       "      <td>...</td>\n",
       "      <td>...</td>\n",
       "    </tr>\n",
       "    <tr>\n",
       "      <th>55097</th>\n",
       "      <td>R RAPOSO DA FONSECA</td>\n",
       "      <td>GUAIANAZES</td>\n",
       "    </tr>\n",
       "    <tr>\n",
       "      <th>55127</th>\n",
       "      <td>ES DO IGUATEMI</td>\n",
       "      <td>GUAIANAZES</td>\n",
       "    </tr>\n",
       "    <tr>\n",
       "      <th>55403</th>\n",
       "      <td>R INACIO MONTEIRO</td>\n",
       "      <td>GUAIANASES</td>\n",
       "    </tr>\n",
       "    <tr>\n",
       "      <th>55663</th>\n",
       "      <td>R SAO GABRIEL,43</td>\n",
       "      <td>NaN</td>\n",
       "    </tr>\n",
       "    <tr>\n",
       "      <th>56182</th>\n",
       "      <td>R POEMA DAS AMERICAS</td>\n",
       "      <td>NaN</td>\n",
       "    </tr>\n",
       "  </tbody>\n",
       "</table>\n",
       "<p>5690 rows × 2 columns</p>\n",
       "</div>"
      ],
      "text/plain": [
       "                                 Endereço      Bairro\n",
       "82              R AGRIMENSOR SUGAYA,968           NaN\n",
       "191    AV RAIMUNDO PEREIRA DE MAGALHAES           NaN\n",
       "680                  ES DO PESSEGO,1635           NaN\n",
       "706                 AV DA LIBERDADE,103     LIBERDADE\n",
       "908        ES TURISTICA DO JARAGUA,2400       JARAGUA\n",
       "...                                   ...         ...\n",
       "55097               R RAPOSO DA FONSECA    GUAIANAZES\n",
       "55127                    ES DO IGUATEMI    GUAIANAZES\n",
       "55403                 R INACIO MONTEIRO    GUAIANASES\n",
       "55663                  R SAO GABRIEL,43           NaN\n",
       "56182              R POEMA DAS AMERICAS           NaN\n",
       "\n",
       "[5690 rows x 2 columns]"
      ]
     },
     "execution_count": 116,
     "metadata": {},
     "output_type": "execute_result"
    },
    {
     "name": "stdout",
     "output_type": "stream",
     "text": [
      "time: 11.3 ms\n"
     ]
    }
   ],
   "source": [
    "df_alv[df_alv.sql.isna()][['Endereço', 'Bairro']]"
   ]
  },
  {
   "cell_type": "code",
   "execution_count": 117,
   "metadata": {},
   "outputs": [
    {
     "data": {
      "text/plain": [
       "False    13691\n",
       "True      2092\n",
       "Name: NUMERO DO CONDOMINIO, dtype: int64"
      ]
     },
     "execution_count": 117,
     "metadata": {},
     "output_type": "execute_result"
    },
    {
     "name": "stdout",
     "output_type": "stream",
     "text": [
      "time: 1.68 s\n"
     ]
    }
   ],
   "source": [
    "(df_iptu[df_iptu.sql.isin(df_alv.sql)]['NUMERO DO CONDOMINIO'] != '00-0').value_counts()\n",
    "# df_iptu.columns"
   ]
  },
  {
   "cell_type": "code",
   "execution_count": 139,
   "metadata": {},
   "outputs": [
    {
     "data": {
      "text/html": [
       "<div>\n",
       "<style scoped>\n",
       "    .dataframe tbody tr th:only-of-type {\n",
       "        vertical-align: middle;\n",
       "    }\n",
       "\n",
       "    .dataframe tbody tr th {\n",
       "        vertical-align: top;\n",
       "    }\n",
       "\n",
       "    .dataframe thead th {\n",
       "        text-align: right;\n",
       "    }\n",
       "</style>\n",
       "<table border=\"1\" class=\"dataframe\">\n",
       "  <thead>\n",
       "    <tr style=\"text-align: right;\">\n",
       "      <th></th>\n",
       "      <th>NUMERO DO CONTRIBUINTE</th>\n",
       "      <th>ANO DO EXERCICIO</th>\n",
       "      <th>NUMERO DA NL</th>\n",
       "      <th>DATA DO CADASTRAMENTO</th>\n",
       "      <th>TIPO DE CONTRIBUINTE 1</th>\n",
       "      <th>CPF/CNPJ DO CONTRIBUINTE 1</th>\n",
       "      <th>NOME DO CONTRIBUINTE 1</th>\n",
       "      <th>TIPO DE CONTRIBUINTE 2</th>\n",
       "      <th>CPF/CNPJ DO CONTRIBUINTE 2</th>\n",
       "      <th>NOME DO CONTRIBUINTE 2</th>\n",
       "      <th>...</th>\n",
       "      <th>TIPO DE USO DO IMOVEL</th>\n",
       "      <th>TIPO DE PADRAO DA CONSTRUCAO</th>\n",
       "      <th>TIPO DE TERRENO</th>\n",
       "      <th>FATOR DE OBSOLESCENCIA</th>\n",
       "      <th>ANO DE INICIO DA VIDA DO CONTRIBUINTE</th>\n",
       "      <th>MES DE INICIO DA VIDA DO CONTRIBUINTE</th>\n",
       "      <th>FASE DO CONTRIBUINTE</th>\n",
       "      <th>sql</th>\n",
       "      <th>sqlc</th>\n",
       "      <th>sqlc_resultante</th>\n",
       "    </tr>\n",
       "  </thead>\n",
       "  <tbody>\n",
       "    <tr>\n",
       "      <th>1127484</th>\n",
       "      <td>0551140032-7</td>\n",
       "      <td>2020</td>\n",
       "      <td>1</td>\n",
       "      <td>11/01/20</td>\n",
       "      <td>PESSOA FISICA (CPF)</td>\n",
       "      <td>XXXXXX0018XXXX</td>\n",
       "      <td>MARCELO MANOEL MACHADO</td>\n",
       "      <td>NaN</td>\n",
       "      <td></td>\n",
       "      <td>NaN</td>\n",
       "      <td>...</td>\n",
       "      <td>Apartamento em condomínio</td>\n",
       "      <td>Residencial vertical - padrão C</td>\n",
       "      <td>De esquina</td>\n",
       "      <td>0,70</td>\n",
       "      <td>1991</td>\n",
       "      <td>1</td>\n",
       "      <td>0</td>\n",
       "      <td>0551140032</td>\n",
       "      <td>055114003201</td>\n",
       "      <td>055114000001</td>\n",
       "    </tr>\n",
       "  </tbody>\n",
       "</table>\n",
       "<p>1 rows × 38 columns</p>\n",
       "</div>"
      ],
      "text/plain": [
       "        NUMERO DO CONTRIBUINTE  ANO DO EXERCICIO  NUMERO DA NL  \\\n",
       "1127484           0551140032-7              2020             1   \n",
       "\n",
       "        DATA DO CADASTRAMENTO TIPO DE CONTRIBUINTE 1  \\\n",
       "1127484              11/01/20    PESSOA FISICA (CPF)   \n",
       "\n",
       "        CPF/CNPJ DO CONTRIBUINTE 1  NOME DO CONTRIBUINTE 1  \\\n",
       "1127484             XXXXXX0018XXXX  MARCELO MANOEL MACHADO   \n",
       "\n",
       "        TIPO DE CONTRIBUINTE 2 CPF/CNPJ DO CONTRIBUINTE 2  \\\n",
       "1127484                    NaN                              \n",
       "\n",
       "        NOME DO CONTRIBUINTE 2  ...      TIPO DE USO DO IMOVEL  \\\n",
       "1127484                    NaN  ...  Apartamento em condomínio   \n",
       "\n",
       "            TIPO DE PADRAO DA CONSTRUCAO TIPO DE TERRENO  \\\n",
       "1127484  Residencial vertical - padrão C      De esquina   \n",
       "\n",
       "         FATOR DE OBSOLESCENCIA ANO DE INICIO DA VIDA DO CONTRIBUINTE  \\\n",
       "1127484                    0,70                                  1991   \n",
       "\n",
       "        MES DE INICIO DA VIDA DO CONTRIBUINTE FASE DO CONTRIBUINTE  \\\n",
       "1127484                                     1                    0   \n",
       "\n",
       "                sql          sqlc sqlc_resultante  \n",
       "1127484  0551140032  055114003201    055114000001  \n",
       "\n",
       "[1 rows x 38 columns]"
      ]
     },
     "execution_count": 139,
     "metadata": {},
     "output_type": "execute_result"
    },
    {
     "name": "stdout",
     "output_type": "stream",
     "text": [
      "time: 190 ms\n"
     ]
    }
   ],
   "source": [
    "df_iptu[df_iptu.sql == '0551140032']"
   ]
  },
  {
   "cell_type": "code",
   "execution_count": 142,
   "metadata": {},
   "outputs": [
    {
     "name": "stderr",
     "output_type": "stream",
     "text": [
      "/home/fernando/miniconda3/envs/pcp-env/lib/python3.7/site-packages/ipykernel_launcher.py:1: SettingWithCopyWarning: \n",
      "A value is trying to be set on a copy of a slice from a DataFrame.\n",
      "Try using .loc[row_indexer,col_indexer] = value instead\n",
      "\n",
      "See the caveats in the documentation: https://pandas.pydata.org/pandas-docs/stable/user_guide/indexing.html#returning-a-view-versus-a-copy\n",
      "  \"\"\"Entry point for launching an IPython kernel.\n"
     ]
    },
    {
     "data": {
      "text/plain": [
       "0                 NaN\n",
       "1                 NaN\n",
       "2                 NaN\n",
       "3        066587002700\n",
       "4        031096003500\n",
       "             ...     \n",
       "55471             NaN\n",
       "55472             NaN\n",
       "55473             NaN\n",
       "55474             NaN\n",
       "55475             NaN\n",
       "Name: sqlc_resultante, Length: 55476, dtype: object"
      ]
     },
     "execution_count": 142,
     "metadata": {},
     "output_type": "execute_result"
    },
    {
     "name": "stdout",
     "output_type": "stream",
     "text": [
      "time: 8.73 s\n"
     ]
    }
   ],
   "source": [
    "df_alv['sqlc'] = df_alv.merge(df_iptu, how='left', on='sql').sqlc_resultante\n",
    "df_alv.merge(df_iptu, how='left', on='sql').sqlc_resultante"
   ]
  },
  {
   "cell_type": "code",
   "execution_count": 144,
   "metadata": {},
   "outputs": [
    {
     "data": {
      "text/plain": [
       "0        0551140001\n",
       "372      0551140001\n",
       "41815    0551140001\n",
       "Name: sql, dtype: object"
      ]
     },
     "execution_count": 144,
     "metadata": {},
     "output_type": "execute_result"
    },
    {
     "name": "stdout",
     "output_type": "stream",
     "text": [
      "time: 23.3 ms\n"
     ]
    }
   ],
   "source": [
    "df_alv[df_alv.sql == '0551140001']"
   ]
  },
  {
   "cell_type": "code",
   "execution_count": 145,
   "metadata": {},
   "outputs": [
    {
     "data": {
      "text/plain": [
       "False    3498644\n",
       "Name: sql, dtype: int64"
      ]
     },
     "execution_count": 145,
     "metadata": {},
     "output_type": "execute_result"
    },
    {
     "name": "stdout",
     "output_type": "stream",
     "text": [
      "time: 158 ms\n"
     ]
    }
   ],
   "source": [
    "df_iptu.sql.isna().value_counts()"
   ]
  },
  {
   "cell_type": "code",
   "execution_count": 130,
   "metadata": {},
   "outputs": [
    {
     "data": {
      "text/plain": [
       "False    28504\n",
       "True     26972\n",
       "Name: sqlc, dtype: int64"
      ]
     },
     "execution_count": 130,
     "metadata": {},
     "output_type": "execute_result"
    },
    {
     "name": "stdout",
     "output_type": "stream",
     "text": [
      "time: 27.7 ms\n"
     ]
    }
   ],
   "source": [
    "df_alv.sqlc.notna().value_counts()"
   ]
  },
  {
   "cell_type": "code",
   "execution_count": 131,
   "metadata": {},
   "outputs": [
    {
     "name": "stdout",
     "output_type": "stream",
     "text": [
      "time: 41.1 ms\n"
     ]
    },
    {
     "name": "stderr",
     "output_type": "stream",
     "text": [
      "/home/fernando/miniconda3/envs/pcp-env/lib/python3.7/site-packages/ipykernel_launcher.py:1: SettingWithCopyWarning: \n",
      "A value is trying to be set on a copy of a slice from a DataFrame.\n",
      "Try using .loc[row_indexer,col_indexer] = value instead\n",
      "\n",
      "See the caveats in the documentation: https://pandas.pydata.org/pandas-docs/stable/user_guide/indexing.html#returning-a-view-versus-a-copy\n",
      "  \"\"\"Entry point for launching an IPython kernel.\n"
     ]
    }
   ],
   "source": [
    "df_alv['setor'] = df_alv.sql.str[0:3]"
   ]
  },
  {
   "cell_type": "code",
   "execution_count": 132,
   "metadata": {},
   "outputs": [
    {
     "name": "stdout",
     "output_type": "stream",
     "text": [
      "time: 34.6 ms\n"
     ]
    },
    {
     "name": "stderr",
     "output_type": "stream",
     "text": [
      "/home/fernando/miniconda3/envs/pcp-env/lib/python3.7/site-packages/ipykernel_launcher.py:1: SettingWithCopyWarning: \n",
      "A value is trying to be set on a copy of a slice from a DataFrame.\n",
      "Try using .loc[row_indexer,col_indexer] = value instead\n",
      "\n",
      "See the caveats in the documentation: https://pandas.pydata.org/pandas-docs/stable/user_guide/indexing.html#returning-a-view-versus-a-copy\n",
      "  \"\"\"Entry point for launching an IPython kernel.\n"
     ]
    }
   ],
   "source": [
    "df_alv['quadra'] = df_alv.sql.str[3:6]"
   ]
  },
  {
   "cell_type": "code",
   "execution_count": 133,
   "metadata": {},
   "outputs": [
    {
     "name": "stdout",
     "output_type": "stream",
     "text": [
      "time: 33.3 ms\n"
     ]
    },
    {
     "name": "stderr",
     "output_type": "stream",
     "text": [
      "/home/fernando/miniconda3/envs/pcp-env/lib/python3.7/site-packages/ipykernel_launcher.py:1: SettingWithCopyWarning: \n",
      "A value is trying to be set on a copy of a slice from a DataFrame.\n",
      "Try using .loc[row_indexer,col_indexer] = value instead\n",
      "\n",
      "See the caveats in the documentation: https://pandas.pydata.org/pandas-docs/stable/user_guide/indexing.html#returning-a-view-versus-a-copy\n",
      "  \"\"\"Entry point for launching an IPython kernel.\n"
     ]
    }
   ],
   "source": [
    "df_alv['lote'] = df_alv.sqlc.str[-6:-2]"
   ]
  },
  {
   "cell_type": "code",
   "execution_count": 134,
   "metadata": {},
   "outputs": [
    {
     "name": "stdout",
     "output_type": "stream",
     "text": [
      "time: 37.4 ms\n"
     ]
    },
    {
     "name": "stderr",
     "output_type": "stream",
     "text": [
      "/home/fernando/miniconda3/envs/pcp-env/lib/python3.7/site-packages/ipykernel_launcher.py:1: SettingWithCopyWarning: \n",
      "A value is trying to be set on a copy of a slice from a DataFrame.\n",
      "Try using .loc[row_indexer,col_indexer] = value instead\n",
      "\n",
      "See the caveats in the documentation: https://pandas.pydata.org/pandas-docs/stable/user_guide/indexing.html#returning-a-view-versus-a-copy\n",
      "  \"\"\"Entry point for launching an IPython kernel.\n"
     ]
    }
   ],
   "source": [
    "df_alv['condominio'] = df_alv.sqlc.str[-2:]"
   ]
  },
  {
   "cell_type": "code",
   "execution_count": 135,
   "metadata": {
    "scrolled": true
   },
   "outputs": [
    {
     "data": {
      "text/html": [
       "<div>\n",
       "<style scoped>\n",
       "    .dataframe tbody tr th:only-of-type {\n",
       "        vertical-align: middle;\n",
       "    }\n",
       "\n",
       "    .dataframe tbody tr th {\n",
       "        vertical-align: top;\n",
       "    }\n",
       "\n",
       "    .dataframe thead th {\n",
       "        text-align: right;\n",
       "    }\n",
       "</style>\n",
       "<table border=\"1\" class=\"dataframe\">\n",
       "  <thead>\n",
       "    <tr style=\"text-align: right;\">\n",
       "      <th></th>\n",
       "      <th>Unidade</th>\n",
       "      <th>Subprefeitura</th>\n",
       "      <th>Alvará</th>\n",
       "      <th>Descrição</th>\n",
       "      <th>Tipo de Construção</th>\n",
       "      <th>SQL_Incra</th>\n",
       "      <th>Categoria de uso</th>\n",
       "      <th>Zona de uso atual</th>\n",
       "      <th>Bairro</th>\n",
       "      <th>Área da construção</th>\n",
       "      <th>...</th>\n",
       "      <th>Processo</th>\n",
       "      <th>Zona de uso anterior</th>\n",
       "      <th>(B)locos / (P)avimentos / (U)nidades</th>\n",
       "      <th>Data autuação</th>\n",
       "      <th>sql</th>\n",
       "      <th>sqlc</th>\n",
       "      <th>setor</th>\n",
       "      <th>quadra</th>\n",
       "      <th>lote</th>\n",
       "      <th>condominio</th>\n",
       "    </tr>\n",
       "  </thead>\n",
       "  <tbody>\n",
       "    <tr>\n",
       "      <th>0</th>\n",
       "      <td>APROV G</td>\n",
       "      <td>ARICANDUVA / VILA FORMOSA</td>\n",
       "      <td>2004.02.459-00</td>\n",
       "      <td>RECONSIDERACAO DE DESPACHO DE ALVARA DE APROVA...</td>\n",
       "      <td>PREDIO RESIDENCIAL</td>\n",
       "      <td>055.114.0001-7</td>\n",
       "      <td>R202 /  /  /</td>\n",
       "      <td>Z3-130</td>\n",
       "      <td>NaN</td>\n",
       "      <td>1422492.0</td>\n",
       "      <td>...</td>\n",
       "      <td>NaN</td>\n",
       "      <td>NaN</td>\n",
       "      <td>NaN</td>\n",
       "      <td>NaT</td>\n",
       "      <td>0551140001</td>\n",
       "      <td>066587002700</td>\n",
       "      <td>055</td>\n",
       "      <td>114</td>\n",
       "      <td>0027</td>\n",
       "      <td>00</td>\n",
       "    </tr>\n",
       "    <tr>\n",
       "      <th>372</th>\n",
       "      <td>APROV 1</td>\n",
       "      <td>ARICANDUVA / VILA FORMOSA</td>\n",
       "      <td>2004.02.459-01</td>\n",
       "      <td>APOSTILAMENTO DE ALVARA DE APROVACAO E EXECUCA...</td>\n",
       "      <td>PREDIO RESIDENCIAL</td>\n",
       "      <td>055.114.0001-7</td>\n",
       "      <td>R202 /  /  /</td>\n",
       "      <td>Z3-130</td>\n",
       "      <td>VILA CARRAO</td>\n",
       "      <td>1422492.0</td>\n",
       "      <td>...</td>\n",
       "      <td>NaN</td>\n",
       "      <td>NaN</td>\n",
       "      <td>NaN</td>\n",
       "      <td>NaT</td>\n",
       "      <td>0551140001</td>\n",
       "      <td>299116000007</td>\n",
       "      <td>055</td>\n",
       "      <td>114</td>\n",
       "      <td>0000</td>\n",
       "      <td>07</td>\n",
       "    </tr>\n",
       "    <tr>\n",
       "      <th>41815</th>\n",
       "      <td>APROV 1</td>\n",
       "      <td>ARICANDUVA / VILA FORMOSA</td>\n",
       "      <td>2004.02.459-02</td>\n",
       "      <td>PROJETO MODIFICATIVO DE ALVARA DE APROVACAO E ...</td>\n",
       "      <td>PREDIO RESIDENCIAL</td>\n",
       "      <td>055.114.0001-7</td>\n",
       "      <td>R301 /  /  /</td>\n",
       "      <td>Z3-130</td>\n",
       "      <td>VILA CARRAO</td>\n",
       "      <td>1468787.0</td>\n",
       "      <td>...</td>\n",
       "      <td>NaN</td>\n",
       "      <td>NaN</td>\n",
       "      <td>NaN</td>\n",
       "      <td>NaT</td>\n",
       "      <td>0551140001</td>\n",
       "      <td>NaN</td>\n",
       "      <td>055</td>\n",
       "      <td>114</td>\n",
       "      <td>NaN</td>\n",
       "      <td>NaN</td>\n",
       "    </tr>\n",
       "  </tbody>\n",
       "</table>\n",
       "<p>3 rows × 30 columns</p>\n",
       "</div>"
      ],
      "text/plain": [
       "       Unidade              Subprefeitura          Alvará  \\\n",
       "0      APROV G  ARICANDUVA / VILA FORMOSA  2004.02.459-00   \n",
       "372    APROV 1  ARICANDUVA / VILA FORMOSA  2004.02.459-01   \n",
       "41815  APROV 1  ARICANDUVA / VILA FORMOSA  2004.02.459-02   \n",
       "\n",
       "                                               Descrição  Tipo de Construção  \\\n",
       "0      RECONSIDERACAO DE DESPACHO DE ALVARA DE APROVA...  PREDIO RESIDENCIAL   \n",
       "372    APOSTILAMENTO DE ALVARA DE APROVACAO E EXECUCA...  PREDIO RESIDENCIAL   \n",
       "41815  PROJETO MODIFICATIVO DE ALVARA DE APROVACAO E ...  PREDIO RESIDENCIAL   \n",
       "\n",
       "            SQL_Incra Categoria de uso Zona de uso atual       Bairro  \\\n",
       "0      055.114.0001-7    R202 /  /  /             Z3-130          NaN   \n",
       "372    055.114.0001-7    R202 /  /  /             Z3-130  VILA CARRAO   \n",
       "41815  055.114.0001-7    R301 /  /  /             Z3-130  VILA CARRAO   \n",
       "\n",
       "       Área da construção  ... Processo  Zona de uso anterior  \\\n",
       "0               1422492.0  ...      NaN                   NaN   \n",
       "372             1422492.0  ...      NaN                   NaN   \n",
       "41815           1468787.0  ...      NaN                   NaN   \n",
       "\n",
       "      (B)locos / (P)avimentos / (U)nidades Data autuação         sql  \\\n",
       "0                                      NaN           NaT  0551140001   \n",
       "372                                    NaN           NaT  0551140001   \n",
       "41815                                  NaN           NaT  0551140001   \n",
       "\n",
       "               sqlc setor quadra  lote condominio  \n",
       "0      066587002700   055    114  0027         00  \n",
       "372    299116000007   055    114  0000         07  \n",
       "41815           NaN   055    114   NaN        NaN  \n",
       "\n",
       "[3 rows x 30 columns]"
      ]
     },
     "execution_count": 135,
     "metadata": {},
     "output_type": "execute_result"
    },
    {
     "name": "stdout",
     "output_type": "stream",
     "text": [
      "time: 43.1 ms\n"
     ]
    }
   ],
   "source": [
    "df_alv[(df_alv.setor == '055') & (df_alv.quadra == '114')]"
   ]
  },
  {
   "cell_type": "code",
   "execution_count": 136,
   "metadata": {},
   "outputs": [
    {
     "data": {
      "text/html": [
       "<div>\n",
       "<style scoped>\n",
       "    .dataframe tbody tr th:only-of-type {\n",
       "        vertical-align: middle;\n",
       "    }\n",
       "\n",
       "    .dataframe tbody tr th {\n",
       "        vertical-align: top;\n",
       "    }\n",
       "\n",
       "    .dataframe thead th {\n",
       "        text-align: right;\n",
       "    }\n",
       "</style>\n",
       "<table border=\"1\" class=\"dataframe\">\n",
       "  <thead>\n",
       "    <tr style=\"text-align: right;\">\n",
       "      <th></th>\n",
       "      <th>Unidade</th>\n",
       "      <th>Subprefeitura</th>\n",
       "      <th>Alvará</th>\n",
       "      <th>Descrição</th>\n",
       "      <th>Tipo de Construção</th>\n",
       "      <th>SQL_Incra</th>\n",
       "      <th>Categoria de uso</th>\n",
       "      <th>Zona de uso atual</th>\n",
       "      <th>Bairro</th>\n",
       "      <th>Área da construção</th>\n",
       "      <th>...</th>\n",
       "      <th>Processo</th>\n",
       "      <th>Zona de uso anterior</th>\n",
       "      <th>(B)locos / (P)avimentos / (U)nidades</th>\n",
       "      <th>Data autuação</th>\n",
       "      <th>sql</th>\n",
       "      <th>sqlc</th>\n",
       "      <th>setor</th>\n",
       "      <th>quadra</th>\n",
       "      <th>lote</th>\n",
       "      <th>condominio</th>\n",
       "    </tr>\n",
       "  </thead>\n",
       "  <tbody>\n",
       "    <tr>\n",
       "      <th>0</th>\n",
       "      <td>APROV G</td>\n",
       "      <td>ARICANDUVA / VILA FORMOSA</td>\n",
       "      <td>2004.02.459-00</td>\n",
       "      <td>RECONSIDERACAO DE DESPACHO DE ALVARA DE APROVA...</td>\n",
       "      <td>PREDIO RESIDENCIAL</td>\n",
       "      <td>055.114.0001-7</td>\n",
       "      <td>R202 /  /  /</td>\n",
       "      <td>Z3-130</td>\n",
       "      <td>NaN</td>\n",
       "      <td>1422492.0</td>\n",
       "      <td>...</td>\n",
       "      <td>NaN</td>\n",
       "      <td>NaN</td>\n",
       "      <td>NaN</td>\n",
       "      <td>NaT</td>\n",
       "      <td>0551140001</td>\n",
       "      <td>066587002700</td>\n",
       "      <td>055</td>\n",
       "      <td>114</td>\n",
       "      <td>0027</td>\n",
       "      <td>00</td>\n",
       "    </tr>\n",
       "    <tr>\n",
       "      <th>1</th>\n",
       "      <td>APROV G</td>\n",
       "      <td>ITAQUERA</td>\n",
       "      <td>2004.01.964-00</td>\n",
       "      <td>ALVARA DE APROVACAO E EXECUCAO DE EDIFICACAO NOVA</td>\n",
       "      <td>HAB. INTERESSE SOCIAL</td>\n",
       "      <td>230.133.0004-1</td>\n",
       "      <td>HIS /  /  /</td>\n",
       "      <td>NaN</td>\n",
       "      <td>NaN</td>\n",
       "      <td>917472.0</td>\n",
       "      <td>...</td>\n",
       "      <td>NaN</td>\n",
       "      <td>NaN</td>\n",
       "      <td>NaN</td>\n",
       "      <td>NaT</td>\n",
       "      <td>2301330004</td>\n",
       "      <td>031096003500</td>\n",
       "      <td>230</td>\n",
       "      <td>133</td>\n",
       "      <td>0035</td>\n",
       "      <td>00</td>\n",
       "    </tr>\n",
       "    <tr>\n",
       "      <th>2</th>\n",
       "      <td>APROV G</td>\n",
       "      <td>ITAQUERA</td>\n",
       "      <td>2004.02.457-00</td>\n",
       "      <td>ALVARA DE APROVACAO E EXECUCAO DE EDIFICACAO NOVA</td>\n",
       "      <td>HAB. INTERESSE SOCIAL</td>\n",
       "      <td>230.133.0001-7</td>\n",
       "      <td>HIS /  /  /</td>\n",
       "      <td>NaN</td>\n",
       "      <td>NaN</td>\n",
       "      <td>917472.0</td>\n",
       "      <td>...</td>\n",
       "      <td>NaN</td>\n",
       "      <td>NaN</td>\n",
       "      <td>NaN</td>\n",
       "      <td>NaT</td>\n",
       "      <td>2301330001</td>\n",
       "      <td>058132001000</td>\n",
       "      <td>230</td>\n",
       "      <td>133</td>\n",
       "      <td>0010</td>\n",
       "      <td>00</td>\n",
       "    </tr>\n",
       "    <tr>\n",
       "      <th>3</th>\n",
       "      <td>APROV G</td>\n",
       "      <td>JACANA / TREMEMBE</td>\n",
       "      <td>2004.02.451-00</td>\n",
       "      <td>RECONSIDERACAO DE DESPACHO DE AUTO DE REGULARI...</td>\n",
       "      <td>PREDIO RESIDENCIAL</td>\n",
       "      <td>066.587.0027-3</td>\n",
       "      <td>R /  /  /</td>\n",
       "      <td>Z2</td>\n",
       "      <td>NaN</td>\n",
       "      <td>27745.0</td>\n",
       "      <td>...</td>\n",
       "      <td>NaN</td>\n",
       "      <td>NaN</td>\n",
       "      <td>NaN</td>\n",
       "      <td>NaT</td>\n",
       "      <td>0665870027</td>\n",
       "      <td>299002008700</td>\n",
       "      <td>066</td>\n",
       "      <td>587</td>\n",
       "      <td>0087</td>\n",
       "      <td>00</td>\n",
       "    </tr>\n",
       "    <tr>\n",
       "      <th>4</th>\n",
       "      <td>APROV G</td>\n",
       "      <td>MOOCA</td>\n",
       "      <td>2004.02.453-00</td>\n",
       "      <td>RECONSIDERACAO DE DESPACHO DE AUTO DE REGULARI...</td>\n",
       "      <td>PREDIO SERVICO</td>\n",
       "      <td>031.096.0035-8</td>\n",
       "      <td>S2.8 /  /  /</td>\n",
       "      <td>Z2</td>\n",
       "      <td>NaN</td>\n",
       "      <td>33547.0</td>\n",
       "      <td>...</td>\n",
       "      <td>NaN</td>\n",
       "      <td>NaN</td>\n",
       "      <td>NaN</td>\n",
       "      <td>NaT</td>\n",
       "      <td>0310960035</td>\n",
       "      <td>085053000200</td>\n",
       "      <td>031</td>\n",
       "      <td>096</td>\n",
       "      <td>0002</td>\n",
       "      <td>00</td>\n",
       "    </tr>\n",
       "    <tr>\n",
       "      <th>...</th>\n",
       "      <td>...</td>\n",
       "      <td>...</td>\n",
       "      <td>...</td>\n",
       "      <td>...</td>\n",
       "      <td>...</td>\n",
       "      <td>...</td>\n",
       "      <td>...</td>\n",
       "      <td>...</td>\n",
       "      <td>...</td>\n",
       "      <td>...</td>\n",
       "      <td>...</td>\n",
       "      <td>...</td>\n",
       "      <td>...</td>\n",
       "      <td>...</td>\n",
       "      <td>...</td>\n",
       "      <td>...</td>\n",
       "      <td>...</td>\n",
       "      <td>...</td>\n",
       "      <td>...</td>\n",
       "      <td>...</td>\n",
       "      <td>...</td>\n",
       "    </tr>\n",
       "    <tr>\n",
       "      <th>27672</th>\n",
       "      <td>SMUL/SEGUR-4</td>\n",
       "      <td>IPIRANGA</td>\n",
       "      <td>2007.07.318-05</td>\n",
       "      <td>REVALIDACAO DE ALVARA DE FUNCIONAMENTO DE EQUI...</td>\n",
       "      <td>NaN</td>\n",
       "      <td>046.061.0024-9</td>\n",
       "      <td>NR2-03 /  /  /</td>\n",
       "      <td>ZM</td>\n",
       "      <td>CURSINO</td>\n",
       "      <td>NaN</td>\n",
       "      <td>...</td>\n",
       "      <td>2016-0.277.442-7</td>\n",
       "      <td>ZONA MISTA DE ALTA DENSIDADE - B.</td>\n",
       "      <td>NaN</td>\n",
       "      <td>2016-12-22</td>\n",
       "      <td>0460610024</td>\n",
       "      <td>049467007000</td>\n",
       "      <td>046</td>\n",
       "      <td>061</td>\n",
       "      <td>0070</td>\n",
       "      <td>00</td>\n",
       "    </tr>\n",
       "    <tr>\n",
       "      <th>27673</th>\n",
       "      <td>SMUL/SEGUR-4</td>\n",
       "      <td>IPIRANGA</td>\n",
       "      <td>2010.15.916-03</td>\n",
       "      <td>REVALIDACAO DE ALVARA DE FUNCIONAMENTO DE EQUI...</td>\n",
       "      <td>NaN</td>\n",
       "      <td>040.131.0001-0</td>\n",
       "      <td>NR2-03 /  /  /</td>\n",
       "      <td>ZM-3B/002</td>\n",
       "      <td>IPIRANGA</td>\n",
       "      <td>NaN</td>\n",
       "      <td>...</td>\n",
       "      <td>2016-0.163.006-5</td>\n",
       "      <td>Z3-169.</td>\n",
       "      <td>NaN</td>\n",
       "      <td>2016-07-19</td>\n",
       "      <td>0401310001</td>\n",
       "      <td>134495003800</td>\n",
       "      <td>040</td>\n",
       "      <td>131</td>\n",
       "      <td>0038</td>\n",
       "      <td>00</td>\n",
       "    </tr>\n",
       "    <tr>\n",
       "      <th>27674</th>\n",
       "      <td>SMUL/SEGUR-4</td>\n",
       "      <td>IPIRANGA</td>\n",
       "      <td>2016.00.468-01</td>\n",
       "      <td>REVALIDACAO DE ALVARA DE FUNCIONAMENTO DE EQUI...</td>\n",
       "      <td>NaN</td>\n",
       "      <td>040.176.0047-6</td>\n",
       "      <td>NR2-03 /  /  /</td>\n",
       "      <td>ZCL-A/003 LINDEIRA A ZM-2</td>\n",
       "      <td>IPIRANGA</td>\n",
       "      <td>NaN</td>\n",
       "      <td>...</td>\n",
       "      <td>2017-0.047.045-7</td>\n",
       "      <td>Z2.</td>\n",
       "      <td>NaN</td>\n",
       "      <td>2017-03-21</td>\n",
       "      <td>0401760047</td>\n",
       "      <td>060082002900</td>\n",
       "      <td>040</td>\n",
       "      <td>176</td>\n",
       "      <td>0029</td>\n",
       "      <td>00</td>\n",
       "    </tr>\n",
       "    <tr>\n",
       "      <th>27675</th>\n",
       "      <td>SMUL/SEGUR-4</td>\n",
       "      <td>IPIRANGA</td>\n",
       "      <td>2017.13.988-00</td>\n",
       "      <td>ALVARA DE FUNCIONAMENTO DE EQUIPAMENTO</td>\n",
       "      <td>NaN</td>\n",
       "      <td>048.071.0057-2</td>\n",
       "      <td>NR2 /  /  /</td>\n",
       "      <td>ZCLP/001 LINDEIRA A ZER-1</td>\n",
       "      <td>IPIRANGA</td>\n",
       "      <td>NaN</td>\n",
       "      <td>...</td>\n",
       "      <td>2016-0.234.543-7</td>\n",
       "      <td>Z2.</td>\n",
       "      <td>NaN</td>\n",
       "      <td>2016-10-18</td>\n",
       "      <td>0480710057</td>\n",
       "      <td>013041015400</td>\n",
       "      <td>048</td>\n",
       "      <td>071</td>\n",
       "      <td>0154</td>\n",
       "      <td>00</td>\n",
       "    </tr>\n",
       "    <tr>\n",
       "      <th>27676</th>\n",
       "      <td>SMUL/SEGUR-4</td>\n",
       "      <td>ITAIM PAULISTA</td>\n",
       "      <td>2015.27.364-01</td>\n",
       "      <td>REVALIDACAO DE ALVARA DE FUNCIONAMENTO DE EQUI...</td>\n",
       "      <td>NaN</td>\n",
       "      <td>134.039.0057-5</td>\n",
       "      <td>NR2-03 /  /  /</td>\n",
       "      <td>ZM-2/002</td>\n",
       "      <td>VL CURUCA</td>\n",
       "      <td>NaN</td>\n",
       "      <td>...</td>\n",
       "      <td>2017-0.044.680-7</td>\n",
       "      <td>Z2.</td>\n",
       "      <td>NaN</td>\n",
       "      <td>2017-03-16</td>\n",
       "      <td>1340390057</td>\n",
       "      <td>085150005900</td>\n",
       "      <td>134</td>\n",
       "      <td>039</td>\n",
       "      <td>0059</td>\n",
       "      <td>00</td>\n",
       "    </tr>\n",
       "  </tbody>\n",
       "</table>\n",
       "<p>26972 rows × 30 columns</p>\n",
       "</div>"
      ],
      "text/plain": [
       "                    Unidade                   Subprefeitura          Alvará  \\\n",
       "0                   APROV G       ARICANDUVA / VILA FORMOSA  2004.02.459-00   \n",
       "1                   APROV G                        ITAQUERA  2004.01.964-00   \n",
       "2                   APROV G                        ITAQUERA  2004.02.457-00   \n",
       "3                   APROV G               JACANA / TREMEMBE  2004.02.451-00   \n",
       "4                   APROV G                           MOOCA  2004.02.453-00   \n",
       "...                     ...                             ...             ...   \n",
       "27672  SMUL/SEGUR-4          IPIRANGA                        2007.07.318-05   \n",
       "27673  SMUL/SEGUR-4          IPIRANGA                        2010.15.916-03   \n",
       "27674  SMUL/SEGUR-4          IPIRANGA                        2016.00.468-01   \n",
       "27675  SMUL/SEGUR-4          IPIRANGA                        2017.13.988-00   \n",
       "27676  SMUL/SEGUR-4          ITAIM PAULISTA                  2015.27.364-01   \n",
       "\n",
       "                                               Descrição  \\\n",
       "0      RECONSIDERACAO DE DESPACHO DE ALVARA DE APROVA...   \n",
       "1      ALVARA DE APROVACAO E EXECUCAO DE EDIFICACAO NOVA   \n",
       "2      ALVARA DE APROVACAO E EXECUCAO DE EDIFICACAO NOVA   \n",
       "3      RECONSIDERACAO DE DESPACHO DE AUTO DE REGULARI...   \n",
       "4      RECONSIDERACAO DE DESPACHO DE AUTO DE REGULARI...   \n",
       "...                                                  ...   \n",
       "27672  REVALIDACAO DE ALVARA DE FUNCIONAMENTO DE EQUI...   \n",
       "27673  REVALIDACAO DE ALVARA DE FUNCIONAMENTO DE EQUI...   \n",
       "27674  REVALIDACAO DE ALVARA DE FUNCIONAMENTO DE EQUI...   \n",
       "27675             ALVARA DE FUNCIONAMENTO DE EQUIPAMENTO   \n",
       "27676  REVALIDACAO DE ALVARA DE FUNCIONAMENTO DE EQUI...   \n",
       "\n",
       "          Tipo de Construção       SQL_Incra Categoria de uso  \\\n",
       "0         PREDIO RESIDENCIAL  055.114.0001-7    R202 /  /  /    \n",
       "1      HAB. INTERESSE SOCIAL  230.133.0004-1     HIS /  /  /    \n",
       "2      HAB. INTERESSE SOCIAL  230.133.0001-7     HIS /  /  /    \n",
       "3         PREDIO RESIDENCIAL  066.587.0027-3       R /  /  /    \n",
       "4             PREDIO SERVICO  031.096.0035-8    S2.8 /  /  /    \n",
       "...                      ...             ...              ...   \n",
       "27672                    NaN  046.061.0024-9  NR2-03 /  /  /    \n",
       "27673                    NaN  040.131.0001-0  NR2-03 /  /  /    \n",
       "27674                    NaN  040.176.0047-6  NR2-03 /  /  /    \n",
       "27675                    NaN  048.071.0057-2     NR2 /  /  /    \n",
       "27676                    NaN  134.039.0057-5  NR2-03 /  /  /    \n",
       "\n",
       "                Zona de uso atual     Bairro  Área da construção  ...  \\\n",
       "0                          Z3-130        NaN           1422492.0  ...   \n",
       "1                             NaN        NaN            917472.0  ...   \n",
       "2                             NaN        NaN            917472.0  ...   \n",
       "3                              Z2        NaN             27745.0  ...   \n",
       "4                              Z2        NaN             33547.0  ...   \n",
       "...                           ...        ...                 ...  ...   \n",
       "27672                          ZM    CURSINO                 NaN  ...   \n",
       "27673                   ZM-3B/002   IPIRANGA                 NaN  ...   \n",
       "27674   ZCL-A/003 LINDEIRA A ZM-2   IPIRANGA                 NaN  ...   \n",
       "27675   ZCLP/001 LINDEIRA A ZER-1   IPIRANGA                 NaN  ...   \n",
       "27676                    ZM-2/002  VL CURUCA                 NaN  ...   \n",
       "\n",
       "               Processo               Zona de uso anterior  \\\n",
       "0                   NaN                                NaN   \n",
       "1                   NaN                                NaN   \n",
       "2                   NaN                                NaN   \n",
       "3                   NaN                                NaN   \n",
       "4                   NaN                                NaN   \n",
       "...                 ...                                ...   \n",
       "27672  2016-0.277.442-7  ZONA MISTA DE ALTA DENSIDADE - B.   \n",
       "27673  2016-0.163.006-5                            Z3-169.   \n",
       "27674  2017-0.047.045-7                                Z2.   \n",
       "27675  2016-0.234.543-7                                Z2.   \n",
       "27676  2017-0.044.680-7                                Z2.   \n",
       "\n",
       "      (B)locos / (P)avimentos / (U)nidades Data autuação         sql  \\\n",
       "0                                      NaN           NaT  0551140001   \n",
       "1                                      NaN           NaT  2301330004   \n",
       "2                                      NaN           NaT  2301330001   \n",
       "3                                      NaN           NaT  0665870027   \n",
       "4                                      NaN           NaT  0310960035   \n",
       "...                                    ...           ...         ...   \n",
       "27672                                  NaN    2016-12-22  0460610024   \n",
       "27673                                  NaN    2016-07-19  0401310001   \n",
       "27674                                  NaN    2017-03-21  0401760047   \n",
       "27675                                  NaN    2016-10-18  0480710057   \n",
       "27676                                  NaN    2017-03-16  1340390057   \n",
       "\n",
       "               sqlc setor quadra  lote condominio  \n",
       "0      066587002700   055    114  0027         00  \n",
       "1      031096003500   230    133  0035         00  \n",
       "2      058132001000   230    133  0010         00  \n",
       "3      299002008700   066    587  0087         00  \n",
       "4      085053000200   031    096  0002         00  \n",
       "...             ...   ...    ...   ...        ...  \n",
       "27672  049467007000   046    061  0070         00  \n",
       "27673  134495003800   040    131  0038         00  \n",
       "27674  060082002900   040    176  0029         00  \n",
       "27675  013041015400   048    071  0154         00  \n",
       "27676  085150005900   134    039  0059         00  \n",
       "\n",
       "[26972 rows x 30 columns]"
      ]
     },
     "execution_count": 136,
     "metadata": {},
     "output_type": "execute_result"
    },
    {
     "name": "stdout",
     "output_type": "stream",
     "text": [
      "time: 67.8 ms\n"
     ]
    }
   ],
   "source": [
    "df_alv[df_alv.sqlc.notna()]"
   ]
  },
  {
   "cell_type": "code",
   "execution_count": null,
   "metadata": {},
   "outputs": [],
   "source": [
    "df_alv[df_alv.lote == '0000']"
   ]
  },
  {
   "cell_type": "markdown",
   "metadata": {},
   "source": [
    "### Convertendo em GeoDataframe"
   ]
  },
  {
   "cell_type": "code",
   "execution_count": null,
   "metadata": {},
   "outputs": [],
   "source": [
    "df_alv"
   ]
  },
  {
   "cell_type": "code",
   "execution_count": null,
   "metadata": {},
   "outputs": [],
   "source": [
    "df_alv.to_csv('resultados/resulatado-parcial-01.csv') "
   ]
  },
  {
   "cell_type": "code",
   "execution_count": null,
   "metadata": {},
   "outputs": [],
   "source": [
    "df_alv.dtypes"
   ]
  },
  {
   "cell_type": "markdown",
   "metadata": {},
   "source": [
    "### Relacionando espacialmente"
   ]
  },
  {
   "cell_type": "code",
   "execution_count": null,
   "metadata": {},
   "outputs": [],
   "source": [
    "from owslib.wfs import WebFeatureService\n",
    "from owslib.csw import CatalogueServiceWeb\n",
    "import json\n",
    "import geopandas as gpd\n",
    "from shapely.geometry import shape\n",
    "from urllib.parse import quote"
   ]
  },
  {
   "cell_type": "code",
   "execution_count": null,
   "metadata": {},
   "outputs": [],
   "source": [
    "url_wfs = 'http://wfs.geosampa.prefeitura.sp.gov.br/geoserver/geoportal/wfs'\n",
    "\n",
    "wfs = WebFeatureService(url_wfs, version='2.0.0')"
   ]
  },
  {
   "cell_type": "code",
   "execution_count": null,
   "metadata": {},
   "outputs": [],
   "source": [
    "# list(wfs.operations)\n",
    "# wfs.contents"
   ]
  },
  {
   "cell_type": "code",
   "execution_count": null,
   "metadata": {},
   "outputs": [],
   "source": [
    "response = wfs.getfeature(typename=\"geoportal:quadra_fiscal\", \n",
    "                          outputFormat='application/json')"
   ]
  },
  {
   "cell_type": "code",
   "execution_count": null,
   "metadata": {},
   "outputs": [],
   "source": [
    "quadras_fiscais = json.loads(response.read())"
   ]
  },
  {
   "cell_type": "code",
   "execution_count": null,
   "metadata": {},
   "outputs": [],
   "source": [
    "len(quadras_fiscais['features'])"
   ]
  },
  {
   "cell_type": "code",
   "execution_count": null,
   "metadata": {},
   "outputs": [],
   "source": [
    "response = wfs.getfeature(typename=\"geoportal:lote\", \n",
    "                          outputFormat='application/json')"
   ]
  },
  {
   "cell_type": "code",
   "execution_count": null,
   "metadata": {},
   "outputs": [],
   "source": [
    "sqls_s = list(df_alv[df_alv.sql.notna()].sql.unique())"
   ]
  },
  {
   "cell_type": "code",
   "execution_count": null,
   "metadata": {},
   "outputs": [],
   "source": [
    "sqls = [(s[0:3], s[3:6], s[6:10]) for s in sqls_s]"
   ]
  },
  {
   "cell_type": "code",
   "execution_count": null,
   "metadata": {},
   "outputs": [],
   "source": [
    "sqls"
   ]
  },
  {
   "cell_type": "code",
   "execution_count": null,
   "metadata": {},
   "outputs": [],
   "source": [
    "n = 500  #chunk row size\n",
    "sql_chunk = [sqls[i:i+n] for i in range(0, len(sqls), n)]"
   ]
  },
  {
   "cell_type": "code",
   "execution_count": null,
   "metadata": {},
   "outputs": [],
   "source": [
    "len(sql_chunk)"
   ]
  },
  {
   "cell_type": "code",
   "execution_count": null,
   "metadata": {},
   "outputs": [],
   "source": [
    "cql_string = ' OR '.join([f\"(cd_setor_fiscal='{s[0]}' and cd_quadra_fiscal='{s[1]}' and cd_lote='{s[2]}')\" for s in sqls])"
   ]
  },
  {
   "cell_type": "code",
   "execution_count": null,
   "metadata": {
    "scrolled": false
   },
   "outputs": [],
   "source": [
    "# cql_string"
   ]
  },
  {
   "cell_type": "markdown",
   "metadata": {},
   "source": [
    "### Tratando refugo não localizado"
   ]
  },
  {
   "cell_type": "code",
   "execution_count": null,
   "metadata": {},
   "outputs": [],
   "source": []
  },
  {
   "cell_type": "code",
   "execution_count": null,
   "metadata": {},
   "outputs": [],
   "source": []
  },
  {
   "cell_type": "code",
   "execution_count": null,
   "metadata": {},
   "outputs": [],
   "source": []
  }
 ],
 "metadata": {
  "kernelspec": {
   "display_name": "Python 3",
   "language": "python",
   "name": "python3"
  },
  "language_info": {
   "codemirror_mode": {
    "name": "ipython",
    "version": 3
   },
   "file_extension": ".py",
   "mimetype": "text/x-python",
   "name": "python",
   "nbconvert_exporter": "python",
   "pygments_lexer": "ipython3",
   "version": "3.7.6"
  }
 },
 "nbformat": 4,
 "nbformat_minor": 4
}
