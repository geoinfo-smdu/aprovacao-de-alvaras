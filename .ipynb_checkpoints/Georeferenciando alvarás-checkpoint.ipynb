{
 "cells": [
  {
   "cell_type": "markdown",
   "metadata": {},
   "source": [
    "## Georeferenciando Alvarás\n",
    "\n",
    "### Acessando os dados de Alvará"
   ]
  },
  {
   "cell_type": "code",
   "execution_count": 4,
   "metadata": {},
   "outputs": [
    {
     "name": "stdout",
     "output_type": "stream",
     "text": [
      "time: 282 µs\n"
     ]
    }
   ],
   "source": [
    "import pandas as pd"
   ]
  },
  {
   "cell_type": "code",
   "execution_count": 5,
   "metadata": {},
   "outputs": [
    {
     "name": "stdout",
     "output_type": "stream",
     "text": [
      "time: 322 µs\n"
     ]
    }
   ],
   "source": [
    "import glob\n",
    "import numpy as np"
   ]
  },
  {
   "cell_type": "code",
   "execution_count": 3,
   "metadata": {},
   "outputs": [],
   "source": [
    "%load_ext autotime"
   ]
  },
  {
   "cell_type": "code",
   "execution_count": 4,
   "metadata": {},
   "outputs": [
    {
     "name": "stdout",
     "output_type": "stream",
     "text": [
      "time: 84.4 ms\n"
     ]
    }
   ],
   "source": [
    "df_alv = pd.read_csv('data/anual2018dezembro.csv', encoding='latin1', sep=';', decimal=\",\")"
   ]
  },
  {
   "cell_type": "code",
   "execution_count": 5,
   "metadata": {},
   "outputs": [
    {
     "data": {
      "text/plain": [
       "{'data/anual2004.csv': ['Mês',\n",
       "  'Unidade',\n",
       "  'Subprefeitura',\n",
       "  'Alvará',\n",
       "  'Descrição',\n",
       "  'Tipo de Construção',\n",
       "  'SQL_Incra',\n",
       "  'Categoria de uso',\n",
       "  'Zona de uso atual',\n",
       "  'Bairro',\n",
       "  'Área da construção',\n",
       "  'Unnamed: 11',\n",
       "  'Proprietário',\n",
       "  'Área do terreno',\n",
       "  'Unnamed: 14',\n",
       "  'Endereço',\n",
       "  'Aprovação',\n",
       "  'Dirigente técnico',\n",
       "  'Responsável pela empresa',\n",
       "  'Autor do projeto',\n",
       "  'Responsável pela empresa 1',\n",
       "  'Blocos',\n",
       "  'Unidades',\n",
       "  'Pavimentos',\n",
       "  'Unnamed: 24',\n",
       "  'Unnamed: 25',\n",
       "  'Unnamed: 26',\n",
       "  'Unnamed: 27',\n",
       "  'Unnamed: 28',\n",
       "  'Unnamed: 29',\n",
       "  'Unnamed: 30',\n",
       "  'Unnamed: 31',\n",
       "  'Unnamed: 32',\n",
       "  'Unnamed: 33',\n",
       "  'Unnamed: 34',\n",
       "  'Unnamed: 35'],\n",
       " 'data/anual2008.csv': ['Mês',\n",
       "  'Unidade',\n",
       "  'Subprefeitura',\n",
       "  'Alvará',\n",
       "  'Descrição',\n",
       "  'Tipo de Construção',\n",
       "  'SQL_Incra',\n",
       "  'Categoria de uso',\n",
       "  'Zona de uso atual',\n",
       "  'Bairro',\n",
       "  'Área da construção',\n",
       "  'Unnamed: 11',\n",
       "  'Proprietário',\n",
       "  'Área do terreno',\n",
       "  'Unnamed: 14',\n",
       "  'Endereço',\n",
       "  'Aprovação',\n",
       "  'Dirigente técnico',\n",
       "  'Responsável pela empresa',\n",
       "  'Autor do projeto',\n",
       "  'Responsável pela empresa 1',\n",
       "  'Blocos',\n",
       "  'Unidades',\n",
       "  'Pavimentos',\n",
       "  'Unnamed: 24',\n",
       "  'Unnamed: 25',\n",
       "  'Unnamed: 26',\n",
       "  'Unnamed: 27',\n",
       "  'Unnamed: 28',\n",
       "  'Unnamed: 29',\n",
       "  'Unnamed: 30',\n",
       "  'Unnamed: 31',\n",
       "  'Unnamed: 32',\n",
       "  'Unnamed: 33',\n",
       "  'Unnamed: 34',\n",
       "  'Unnamed: 35'],\n",
       " 'data/anual2012.csv': ['Mês',\n",
       "  'Unidade',\n",
       "  'Subprefeitura',\n",
       "  'Alvará',\n",
       "  'Processo',\n",
       "  'Descrição',\n",
       "  'SQL_Incra',\n",
       "  'Categoria de uso',\n",
       "  'Zona de uso atual',\n",
       "  'Zona de uso anterior',\n",
       "  'Bairro',\n",
       "  'Área da construção',\n",
       "  'Proprietário',\n",
       "  'Área do terreno',\n",
       "  'Endereço',\n",
       "  'Aprovação',\n",
       "  'Dirigente técnico',\n",
       "  'Responsável pela empresa',\n",
       "  'Autor do projeto',\n",
       "  'Responsável pela empresa 1',\n",
       "  '(B)locos / (P)avimentos / (U)nidades',\n",
       "  'Unnamed: 21',\n",
       "  'Unnamed: 22',\n",
       "  'Unnamed: 23',\n",
       "  'Unnamed: 24',\n",
       "  'Unnamed: 25',\n",
       "  'Unnamed: 26',\n",
       "  'Unnamed: 27',\n",
       "  'Unnamed: 28',\n",
       "  'Unnamed: 29',\n",
       "  'Unnamed: 30',\n",
       "  'Unnamed: 31',\n",
       "  'Unnamed: 32',\n",
       "  'Unnamed: 33',\n",
       "  'Unnamed: 34',\n",
       "  'Unnamed: 35'],\n",
       " 'data/anual2016.csv': ['Mês',\n",
       "  'Unidade',\n",
       "  'Subprefeitura',\n",
       "  'Alvará',\n",
       "  'Processo',\n",
       "  'Descrição',\n",
       "  'Data autuação',\n",
       "  'SQL_Incra',\n",
       "  'Categoria de uso',\n",
       "  'Zona de uso atual',\n",
       "  'Zona de uso anterior',\n",
       "  'Bairro',\n",
       "  'Área da construção',\n",
       "  'Proprietário',\n",
       "  'Área do terreno',\n",
       "  'Endereço',\n",
       "  'Aprovação',\n",
       "  'Dirigente técnico',\n",
       "  'Responsável pela empresa',\n",
       "  'Autor do projeto',\n",
       "  'Responsável pela empresa 1',\n",
       "  '(B)locos / (P)avimentos / (U)nidades',\n",
       "  'Unnamed: 22',\n",
       "  'Unnamed: 23',\n",
       "  'Unnamed: 24',\n",
       "  'Unnamed: 25',\n",
       "  'Unnamed: 26',\n",
       "  'Unnamed: 27',\n",
       "  'Unnamed: 28',\n",
       "  'Unnamed: 29',\n",
       "  'Unnamed: 30',\n",
       "  'Unnamed: 31',\n",
       "  'Unnamed: 32',\n",
       "  'Unnamed: 33',\n",
       "  'Unnamed: 34',\n",
       "  'Unnamed: 35'],\n",
       " 'data/anual2003.csv': ['Mês',\n",
       "  'Unidade',\n",
       "  'Subprefeitura',\n",
       "  'Alvará',\n",
       "  'Descrição',\n",
       "  'Tipo de Construção',\n",
       "  'SQL_Incra',\n",
       "  'Categoria de uso',\n",
       "  'Categoria de uso 1',\n",
       "  'Categoria de uso 2',\n",
       "  'Categoria de uso 3',\n",
       "  'Zona de uso atual',\n",
       "  'Bairro',\n",
       "  'Área da construção',\n",
       "  'Área do terreno',\n",
       "  'Remover: AREAEXIST',\n",
       "  'Remover: AREAAAUM',\n",
       "  'Remover: AREADIM',\n",
       "  'Remover: AREAMODI',\n",
       "  'Remover: AREAAUTO',\n",
       "  'Proprietário',\n",
       "  'Endereço',\n",
       "  'Endereço 1',\n",
       "  'Endereço 2',\n",
       "  'Aprovação',\n",
       "  'Dirigente técnico',\n",
       "  'Responsável pela empresa',\n",
       "  'Autor do projeto',\n",
       "  'Responsável pela empresa 1',\n",
       "  'Remover: SEQUENCIA',\n",
       "  'Processo',\n",
       "  'Remover: IDENT',\n",
       "  'Remover: ESPACO',\n",
       "  'Remover: CODDOCU',\n",
       "  'Remover: CODADTV',\n",
       "  'Data autuação'],\n",
       " 'data/anual2018dezembro.csv': ['Mês',\n",
       "  'Unidade',\n",
       "  'Subprefeitura',\n",
       "  'Alvará',\n",
       "  'Processo',\n",
       "  'Descrição',\n",
       "  'Data autuação',\n",
       "  'SQL_Incra',\n",
       "  'Categoria de uso',\n",
       "  'Zona de uso atual',\n",
       "  'Zona de uso anterior',\n",
       "  'Bairro',\n",
       "  'Área da construção',\n",
       "  'Proprietário',\n",
       "  'Área do terreno',\n",
       "  'Endereço',\n",
       "  'Aprovação',\n",
       "  'Dirigente técnico',\n",
       "  'Responsável pela empresa',\n",
       "  'Autor do projeto',\n",
       "  'Responsável pela empresa 1',\n",
       "  '(B)locos / (P)avimentos / (U)nidades',\n",
       "  'Unnamed: 22',\n",
       "  'Unnamed: 23',\n",
       "  'Unnamed: 24',\n",
       "  'Unnamed: 25',\n",
       "  'Unnamed: 26',\n",
       "  'Unnamed: 27',\n",
       "  'Unnamed: 28',\n",
       "  'Unnamed: 29',\n",
       "  'Unnamed: 30',\n",
       "  'Unnamed: 31',\n",
       "  'Unnamed: 32',\n",
       "  'Unnamed: 33',\n",
       "  'Unnamed: 34',\n",
       "  'Unnamed: 35'],\n",
       " 'data/anual2010.csv': ['Mês',\n",
       "  'Unidade',\n",
       "  'Subprefeitura',\n",
       "  'Alvará',\n",
       "  'Descrição',\n",
       "  'Tipo de Construção',\n",
       "  'SQL_Incra',\n",
       "  'Categoria de uso',\n",
       "  'Zona de uso atual',\n",
       "  'Bairro',\n",
       "  'Área da construção',\n",
       "  'Unnamed: 11',\n",
       "  'Proprietário',\n",
       "  'Área do terreno',\n",
       "  'Unnamed: 14',\n",
       "  'Endereço',\n",
       "  'Aprovação',\n",
       "  'Dirigente técnico',\n",
       "  'Responsável pela empresa',\n",
       "  'Autor do projeto',\n",
       "  'Responsável pela empresa 1',\n",
       "  'Blocos',\n",
       "  'Unidades',\n",
       "  'Pavimentos',\n",
       "  'Unnamed: 24',\n",
       "  'Unnamed: 25',\n",
       "  'Unnamed: 26',\n",
       "  'Unnamed: 27',\n",
       "  'Unnamed: 28',\n",
       "  'Unnamed: 29',\n",
       "  'Unnamed: 30',\n",
       "  'Unnamed: 31',\n",
       "  'Unnamed: 32',\n",
       "  'Unnamed: 33',\n",
       "  'Unnamed: 34',\n",
       "  'Unnamed: 35'],\n",
       " 'data/anual2011.csv': ['Mês',\n",
       "  'Unidade',\n",
       "  'Subprefeitura',\n",
       "  'Alvará',\n",
       "  'Descrição',\n",
       "  'SQL_Incra',\n",
       "  'Categoria de uso',\n",
       "  'Zona de uso atual',\n",
       "  'Zona de uso anterior',\n",
       "  'Bairro',\n",
       "  'Área da construção',\n",
       "  'Proprietário',\n",
       "  'Área do terreno',\n",
       "  'Endereço',\n",
       "  'Aprovação',\n",
       "  'Dirigente técnico',\n",
       "  'Responsável pela empresa',\n",
       "  'Autor do projeto',\n",
       "  'Responsável pela empresa 1',\n",
       "  '(B)locos / (P)avimentos / (U)nidades',\n",
       "  'Unnamed: 20',\n",
       "  'Unnamed: 21',\n",
       "  'Unnamed: 22',\n",
       "  'Unnamed: 23',\n",
       "  'Unnamed: 24',\n",
       "  'Unnamed: 25',\n",
       "  'Unnamed: 26',\n",
       "  'Unnamed: 27',\n",
       "  'Unnamed: 28',\n",
       "  'Unnamed: 29',\n",
       "  'Unnamed: 30',\n",
       "  'Unnamed: 31',\n",
       "  'Unnamed: 32',\n",
       "  'Unnamed: 33',\n",
       "  'Unnamed: 34',\n",
       "  'Unnamed: 35'],\n",
       " 'data/anual2017dezembro.csv': ['Mês',\n",
       "  'Unidade',\n",
       "  'Subprefeitura',\n",
       "  'Alvará',\n",
       "  'Processo',\n",
       "  'Descrição',\n",
       "  'Data autuação',\n",
       "  'SQL_Incra',\n",
       "  'Categoria de uso',\n",
       "  'Zona de uso atual',\n",
       "  'Zona de uso anterior',\n",
       "  'Bairro',\n",
       "  'Área da construção',\n",
       "  'Proprietário',\n",
       "  'Área do terreno',\n",
       "  'Endereço',\n",
       "  'Aprovação',\n",
       "  'Dirigente técnico',\n",
       "  'Responsável pela empresa',\n",
       "  'Autor do projeto',\n",
       "  'Responsável pela empresa 1',\n",
       "  '(B)locos / (P)avimentos / (U)nidades',\n",
       "  'Unnamed: 22',\n",
       "  'Unnamed: 23',\n",
       "  'Unnamed: 24',\n",
       "  'Unnamed: 25',\n",
       "  'Unnamed: 26',\n",
       "  'Unnamed: 27',\n",
       "  'Unnamed: 28',\n",
       "  'Unnamed: 29',\n",
       "  'Unnamed: 30',\n",
       "  'Unnamed: 31',\n",
       "  'Unnamed: 32',\n",
       "  'Unnamed: 33',\n",
       "  'Unnamed: 34',\n",
       "  'Unnamed: 35'],\n",
       " 'data/anual2014.csv': ['Mês',\n",
       "  'Unidade',\n",
       "  'Subprefeitura',\n",
       "  'Alvará',\n",
       "  'Processo',\n",
       "  'Descrição',\n",
       "  'SQL_Incra',\n",
       "  'Categoria de uso',\n",
       "  'Zona de uso atual',\n",
       "  'Zona de uso anterior',\n",
       "  'Bairro',\n",
       "  'Área da construção',\n",
       "  'Proprietário',\n",
       "  'Área do terreno',\n",
       "  'Endereço',\n",
       "  'Aprovação',\n",
       "  'Dirigente técnico',\n",
       "  'Responsável pela empresa',\n",
       "  'Autor do projeto',\n",
       "  'Responsável pela empresa 1',\n",
       "  '(B)locos / (P)avimentos / (U)nidades',\n",
       "  'Unnamed: 21',\n",
       "  'Unnamed: 22',\n",
       "  'Unnamed: 23',\n",
       "  'Unnamed: 24',\n",
       "  'Unnamed: 25',\n",
       "  'Unnamed: 26',\n",
       "  'Unnamed: 27',\n",
       "  'Unnamed: 28',\n",
       "  'Unnamed: 29',\n",
       "  'Unnamed: 30',\n",
       "  'Unnamed: 31',\n",
       "  'Unnamed: 32',\n",
       "  'Unnamed: 33',\n",
       "  'Unnamed: 34',\n",
       "  'Unnamed: 35'],\n",
       " 'data/anual2009.csv': ['Mês',\n",
       "  'Unidade',\n",
       "  'Subprefeitura',\n",
       "  'Alvará',\n",
       "  'Descrição',\n",
       "  'Tipo de Construção',\n",
       "  'SQL_Incra',\n",
       "  'Categoria de uso',\n",
       "  'Zona de uso atual',\n",
       "  'Bairro',\n",
       "  'Área da construção',\n",
       "  'Unnamed: 11',\n",
       "  'Proprietário',\n",
       "  'Área do terreno',\n",
       "  'Unnamed: 14',\n",
       "  'Endereço',\n",
       "  'Aprovação',\n",
       "  'Dirigente técnico',\n",
       "  'Responsável pela empresa',\n",
       "  'Autor do projeto',\n",
       "  'Responsável pela empresa 1',\n",
       "  'Blocos',\n",
       "  'Unidades',\n",
       "  'Pavimentos',\n",
       "  'Unnamed: 24',\n",
       "  'Unnamed: 25',\n",
       "  'Unnamed: 26',\n",
       "  'Unnamed: 27',\n",
       "  'Unnamed: 28',\n",
       "  'Unnamed: 29',\n",
       "  'Unnamed: 30',\n",
       "  'Unnamed: 31',\n",
       "  'Unnamed: 32',\n",
       "  'Unnamed: 33',\n",
       "  'Unnamed: 34',\n",
       "  'Unnamed: 35'],\n",
       " 'data/anual2007.csv': ['Mês',\n",
       "  'Unidade',\n",
       "  'Subprefeitura',\n",
       "  'Alvará',\n",
       "  'Descrição',\n",
       "  'Tipo de Construção',\n",
       "  'SQL_Incra',\n",
       "  'Categoria de uso',\n",
       "  'Zona de uso atual',\n",
       "  'Bairro',\n",
       "  'Área da construção',\n",
       "  'Unnamed: 11',\n",
       "  'Proprietário',\n",
       "  'Área do terreno',\n",
       "  'Unnamed: 14',\n",
       "  'Endereço',\n",
       "  'Aprovação',\n",
       "  'Dirigente técnico',\n",
       "  'Responsável pela empresa',\n",
       "  'Autor do projeto',\n",
       "  'Responsável pela empresa 1',\n",
       "  'Blocos',\n",
       "  'Unidades',\n",
       "  'Pavimentos',\n",
       "  'Unnamed: 24',\n",
       "  'Unnamed: 25',\n",
       "  'Unnamed: 26',\n",
       "  'Unnamed: 27',\n",
       "  'Unnamed: 28',\n",
       "  'Unnamed: 29',\n",
       "  'Unnamed: 30',\n",
       "  'Unnamed: 31',\n",
       "  'Unnamed: 32',\n",
       "  'Unnamed: 33',\n",
       "  'Unnamed: 34',\n",
       "  'Unnamed: 35'],\n",
       " 'data/anual2006.csv': ['Mês',\n",
       "  'Unidade',\n",
       "  'Subprefeitura',\n",
       "  'Alvará',\n",
       "  'Descrição',\n",
       "  'Tipo de Construção',\n",
       "  'SQL_Incra',\n",
       "  'Categoria de uso',\n",
       "  'Zona de uso atual',\n",
       "  'Bairro',\n",
       "  'Área da construção',\n",
       "  'Unnamed: 11',\n",
       "  'Proprietário',\n",
       "  'Área do terreno',\n",
       "  'Unnamed: 14',\n",
       "  'Endereço',\n",
       "  'Aprovação',\n",
       "  'Dirigente técnico',\n",
       "  'Responsável pela empresa',\n",
       "  'Autor do projeto',\n",
       "  'Responsável pela empresa 1',\n",
       "  'Blocos',\n",
       "  'Unidades',\n",
       "  'Pavimentos',\n",
       "  'Unnamed: 24',\n",
       "  'Unnamed: 25',\n",
       "  'Unnamed: 26',\n",
       "  'Unnamed: 27',\n",
       "  'Unnamed: 28',\n",
       "  'Unnamed: 29',\n",
       "  'Unnamed: 30',\n",
       "  'Unnamed: 31',\n",
       "  'Unnamed: 32',\n",
       "  'Unnamed: 33',\n",
       "  'Unnamed: 34',\n",
       "  'Unnamed: 35'],\n",
       " 'data/anual2005.csv': ['Mês',\n",
       "  'Unidade',\n",
       "  'Subprefeitura',\n",
       "  'Alvará',\n",
       "  'Descrição',\n",
       "  'Tipo de Construção',\n",
       "  'SQL_Incra',\n",
       "  'Categoria de uso',\n",
       "  'Zona de uso atual',\n",
       "  'Bairro',\n",
       "  'Área da construção',\n",
       "  'Unnamed: 11',\n",
       "  'Proprietário',\n",
       "  'Área do terreno',\n",
       "  'Unnamed: 14',\n",
       "  'Endereço',\n",
       "  'Aprovação',\n",
       "  'Dirigente técnico',\n",
       "  'Responsável pela empresa',\n",
       "  'Autor do projeto',\n",
       "  'Responsável pela empresa 1',\n",
       "  'Blocos',\n",
       "  'Unidades',\n",
       "  'Pavimentos',\n",
       "  'Unnamed: 24',\n",
       "  'Unnamed: 25',\n",
       "  'Unnamed: 26',\n",
       "  'Unnamed: 27',\n",
       "  'Unnamed: 28',\n",
       "  'Unnamed: 29',\n",
       "  'Unnamed: 30',\n",
       "  'Unnamed: 31',\n",
       "  'Unnamed: 32',\n",
       "  'Unnamed: 33',\n",
       "  'Unnamed: 34',\n",
       "  'Unnamed: 35'],\n",
       " 'data/anual2015.csv': ['Mês',\n",
       "  'Unidade',\n",
       "  'Subprefeitura',\n",
       "  'Alvará',\n",
       "  'Processo',\n",
       "  'Descrição',\n",
       "  'SQL_Incra',\n",
       "  'Categoria de uso',\n",
       "  'Zona de uso atual',\n",
       "  'Zona de uso anterior',\n",
       "  'Bairro',\n",
       "  'Área da construção',\n",
       "  'Proprietário',\n",
       "  'Área do terreno',\n",
       "  'Endereço',\n",
       "  'Aprovação',\n",
       "  'Dirigente técnico',\n",
       "  'Responsável pela empresa',\n",
       "  'Autor do projeto',\n",
       "  'Responsável pela empresa 1',\n",
       "  '(B)locos / (P)avimentos / (U)nidades',\n",
       "  'Unnamed: 21',\n",
       "  'Unnamed: 22',\n",
       "  'Unnamed: 23',\n",
       "  'Unnamed: 24',\n",
       "  'Unnamed: 25',\n",
       "  'Unnamed: 26',\n",
       "  'Unnamed: 27',\n",
       "  'Unnamed: 28',\n",
       "  'Unnamed: 29',\n",
       "  'Unnamed: 30',\n",
       "  'Unnamed: 31',\n",
       "  'Unnamed: 32',\n",
       "  'Unnamed: 33',\n",
       "  'Unnamed: 34',\n",
       "  'Unnamed: 35'],\n",
       " 'data/anual2013.csv': ['Mês',\n",
       "  'Unidade',\n",
       "  'Subprefeitura',\n",
       "  'Alvará',\n",
       "  'Processo',\n",
       "  'Descrição',\n",
       "  'SQL_Incra',\n",
       "  'Categoria de uso',\n",
       "  'Zona de uso atual',\n",
       "  'Zona de uso anterior',\n",
       "  'Bairro',\n",
       "  'Área da construção',\n",
       "  'Proprietário',\n",
       "  'Área do terreno',\n",
       "  'Endereço',\n",
       "  'Aprovação',\n",
       "  'Dirigente técnico',\n",
       "  'Responsável pela empresa',\n",
       "  'Autor do projeto',\n",
       "  'Responsável pela empresa 1',\n",
       "  '(B)locos / (P)avimentos / (U)nidades',\n",
       "  'Unnamed: 21',\n",
       "  'Unnamed: 22',\n",
       "  'Unnamed: 23',\n",
       "  'Unnamed: 24',\n",
       "  'Unnamed: 25',\n",
       "  'Unnamed: 26',\n",
       "  'Unnamed: 27',\n",
       "  'Unnamed: 28',\n",
       "  'Unnamed: 29',\n",
       "  'Unnamed: 30',\n",
       "  'Unnamed: 31',\n",
       "  'Unnamed: 32',\n",
       "  'Unnamed: 33',\n",
       "  'Unnamed: 34',\n",
       "  'Unnamed: 35'],\n",
       " 'data/anual2002---a-partir-de-abril.csv': ['Mês',\n",
       "  'Unidade',\n",
       "  'Subprefeitura',\n",
       "  'Alvará',\n",
       "  'Descrição',\n",
       "  'Tipo de Construção',\n",
       "  'SQL_Incra',\n",
       "  'Categoria de uso',\n",
       "  'Zona de uso atual',\n",
       "  'Bairro',\n",
       "  'Área da construção',\n",
       "  'Unnamed: 11',\n",
       "  'Proprietário',\n",
       "  'Área do terreno',\n",
       "  'Unnamed: 14',\n",
       "  'Endereço',\n",
       "  'Aprovação',\n",
       "  'Dirigente técnico',\n",
       "  'Responsável pela empresa',\n",
       "  'Autor do projeto',\n",
       "  'Responsável pela empresa 1',\n",
       "  'Blocos',\n",
       "  'Unidades',\n",
       "  'Pavimentos',\n",
       "  'Unnamed: 24',\n",
       "  'Unnamed: 25',\n",
       "  'Unnamed: 26',\n",
       "  'Unnamed: 27',\n",
       "  'Unnamed: 28',\n",
       "  'Unnamed: 29',\n",
       "  'Unnamed: 30',\n",
       "  'Unnamed: 31',\n",
       "  'Unnamed: 32',\n",
       "  'Unnamed: 33',\n",
       "  'Unnamed: 34',\n",
       "  'Unnamed: 35']}"
      ]
     },
     "execution_count": 5,
     "metadata": {},
     "output_type": "execute_result"
    },
    {
     "name": "stdout",
     "output_type": "stream",
     "text": [
      "time: 13.9 ms\n"
     ]
    }
   ],
   "source": [
    "## Abre o CSV normalizado\n",
    "import csv\n",
    "colunas = {}\n",
    "\n",
    "with open('resultados/colunas_planilhas_normalizada.csv', newline='') as f:\n",
    "    reader = csv.reader(f, delimiter=';')\n",
    "    data = list(reader)\n",
    "\n",
    "## carrega em um Dicionário de nome de arquivo, contendo as colunas\n",
    "# [colunas[l[0]] = l[1:] for l in data]\n",
    "\n",
    "for l in data:\n",
    "    colunas[l[0]] = l[1:]\n",
    "\n",
    "colunas"
   ]
  },
  {
   "cell_type": "code",
   "execution_count": 6,
   "metadata": {},
   "outputs": [
    {
     "name": "stdout",
     "output_type": "stream",
     "text": [
      "data/anual2004.csv\n",
      "data/anual2008.csv\n",
      "data/anual2012.csv\n",
      "data/anual2016.csv\n",
      "data/anual2003.csv\n",
      "data/anual2018dezembro.csv\n",
      "data/anual2010.csv\n",
      "data/anual2011.csv\n",
      "data/anual2017dezembro.csv\n",
      "data/anual2014.csv\n",
      "data/anual2009.csv\n",
      "data/anual2007.csv\n",
      "data/anual2006.csv\n",
      "data/anual2005.csv\n",
      "data/anual2015.csv\n",
      "data/anual2013.csv\n",
      "data/anual2002---a-partir-de-abril.csv\n",
      "time: 490 ms\n"
     ]
    }
   ],
   "source": [
    "# path = r'C:\\DRO\\DCL_rawdata_files' # use your path\n",
    "all_files = glob.glob(\"data/*.csv\")\n",
    "\n",
    "li = []\n",
    "\n",
    "for filename in all_files:\n",
    "    print(filename)\n",
    "    df = pd.read_csv(filename, encoding='latin1', \n",
    "                     sep=';', \n",
    "                     decimal=\",\", \n",
    "                     header=None, \n",
    "                     names=colunas[filename],\n",
    "                     skiprows=[0])\n",
    "#     li.append({\"arquivo\": filename,\n",
    "#                \"headers\": list(df.columns)})\n",
    "    li.append(df)\n",
    "\n",
    "frame = pd.concat(li, axis=0, ignore_index=True)"
   ]
  },
  {
   "cell_type": "code",
   "execution_count": 7,
   "metadata": {},
   "outputs": [
    {
     "name": "stdout",
     "output_type": "stream",
     "text": [
      "time: 76.1 ms\n"
     ]
    }
   ],
   "source": [
    "frame = pd.concat(li, axis=0, ignore_index=True)"
   ]
  },
  {
   "cell_type": "code",
   "execution_count": 8,
   "metadata": {},
   "outputs": [
    {
     "name": "stdout",
     "output_type": "stream",
     "text": [
      "time: 79.5 ms\n"
     ]
    }
   ],
   "source": [
    "frame.drop(columns=list(frame.loc[:, frame.columns.str.startswith('Remover:')]), inplace=True)"
   ]
  },
  {
   "cell_type": "code",
   "execution_count": 9,
   "metadata": {},
   "outputs": [
    {
     "name": "stdout",
     "output_type": "stream",
     "text": [
      "time: 21.5 ms\n"
     ]
    }
   ],
   "source": [
    "frame.drop(columns=list(frame.loc[:, frame.columns.str.startswith('Unnamed:')]), inplace=True)"
   ]
  },
  {
   "cell_type": "code",
   "execution_count": 10,
   "metadata": {},
   "outputs": [
    {
     "name": "stdout",
     "output_type": "stream",
     "text": [
      "time: 1.24 ms\n"
     ]
    }
   ],
   "source": [
    "df_alv = frame\n",
    "\n",
    "## TODO --> Entender cada campo em cada ano de CSV :("
   ]
  },
  {
   "cell_type": "code",
   "execution_count": 11,
   "metadata": {},
   "outputs": [
    {
     "data": {
      "text/plain": [
       "Index(['Mês', 'Unidade', 'Subprefeitura', 'Alvará', 'Descrição',\n",
       "       'Tipo de Construção', 'SQL_Incra', 'Categoria de uso',\n",
       "       'Zona de uso atual', 'Bairro', 'Área da construção', 'Proprietário',\n",
       "       'Área do terreno', 'Endereço', 'Aprovação', 'Dirigente técnico',\n",
       "       'Responsável pela empresa', 'Autor do projeto',\n",
       "       'Responsável pela empresa 1', 'Blocos', 'Unidades', 'Pavimentos',\n",
       "       'Processo', 'Zona de uso anterior',\n",
       "       '(B)locos / (P)avimentos / (U)nidades', 'Data autuação',\n",
       "       'Categoria de uso 1', 'Categoria de uso 2', 'Categoria de uso 3',\n",
       "       'Endereço 1', 'Endereço 2'],\n",
       "      dtype='object')"
      ]
     },
     "execution_count": 11,
     "metadata": {},
     "output_type": "execute_result"
    },
    {
     "name": "stdout",
     "output_type": "stream",
     "text": [
      "time: 1.84 ms\n"
     ]
    }
   ],
   "source": [
    "df_alv.columns"
   ]
  },
  {
   "cell_type": "code",
   "execution_count": 12,
   "metadata": {},
   "outputs": [
    {
     "data": {
      "text/plain": [
       "array(['00.055.114.0001-7', '00.230.133.0004-1', '00.230.133.0001-7', ...,\n",
       "       '00.047.175.0012-1', '00.037.083.0584-1', '1542629999999'],\n",
       "      dtype=object)"
      ]
     },
     "execution_count": 12,
     "metadata": {},
     "output_type": "execute_result"
    },
    {
     "name": "stdout",
     "output_type": "stream",
     "text": [
      "time: 29.8 ms\n"
     ]
    }
   ],
   "source": [
    "df_alv.SQL_Incra.unique()"
   ]
  },
  {
   "cell_type": "code",
   "execution_count": 13,
   "metadata": {},
   "outputs": [
    {
     "name": "stdout",
     "output_type": "stream",
     "text": [
      "time: 22.1 ms\n"
     ]
    }
   ],
   "source": [
    "df_alv.drop(columns=['Mês'], inplace=True)"
   ]
  },
  {
   "cell_type": "code",
   "execution_count": 14,
   "metadata": {},
   "outputs": [
    {
     "name": "stdout",
     "output_type": "stream",
     "text": [
      "time: 28.9 ms\n"
     ]
    }
   ],
   "source": [
    "df_alv['Data autuação'] = pd.to_datetime(df_alv['Data autuação'], format='%d/%m/%Y', errors='coerce')"
   ]
  },
  {
   "cell_type": "code",
   "execution_count": 15,
   "metadata": {},
   "outputs": [
    {
     "name": "stdout",
     "output_type": "stream",
     "text": [
      "time: 26.3 ms\n"
     ]
    }
   ],
   "source": [
    "df_alv['Endereço'] = df_alv['Endereço'].str.cat([df_alv['Endereço 1'], df_alv['Endereço 2']], sep=' ', na_rep='')"
   ]
  },
  {
   "cell_type": "code",
   "execution_count": 16,
   "metadata": {},
   "outputs": [
    {
     "name": "stdout",
     "output_type": "stream",
     "text": [
      "time: 9.21 ms\n"
     ]
    }
   ],
   "source": [
    "df_alv.drop(columns=['Endereço 2', 'Endereço 1'], inplace=True)"
   ]
  },
  {
   "cell_type": "code",
   "execution_count": 17,
   "metadata": {},
   "outputs": [
    {
     "name": "stdout",
     "output_type": "stream",
     "text": [
      "time: 10.2 ms\n"
     ]
    }
   ],
   "source": [
    "df_alv['Responsável pela empresa'] = df_alv['Responsável pela empresa'].str.cat(df_alv['Responsável pela empresa 1'], sep=' / ', na_rep='')"
   ]
  },
  {
   "cell_type": "code",
   "execution_count": 18,
   "metadata": {},
   "outputs": [
    {
     "name": "stdout",
     "output_type": "stream",
     "text": [
      "time: 13.9 ms\n"
     ]
    }
   ],
   "source": [
    "df_alv.drop(columns=['Responsável pela empresa 1'], inplace=True)"
   ]
  },
  {
   "cell_type": "code",
   "execution_count": 19,
   "metadata": {},
   "outputs": [
    {
     "name": "stdout",
     "output_type": "stream",
     "text": [
      "time: 21.4 ms\n"
     ]
    }
   ],
   "source": [
    "df_alv['Categoria de uso'] = df_alv['Categoria de uso'].str.cat([df_alv['Categoria de uso 1'], df_alv['Categoria de uso 2'], df_alv['Categoria de uso 3']], sep=' / ', na_rep='')"
   ]
  },
  {
   "cell_type": "code",
   "execution_count": 20,
   "metadata": {},
   "outputs": [
    {
     "name": "stdout",
     "output_type": "stream",
     "text": [
      "time: 9.94 ms\n"
     ]
    }
   ],
   "source": [
    "df_alv.drop(columns=['Categoria de uso 1', 'Categoria de uso 2', 'Categoria de uso 3'], inplace=True)"
   ]
  },
  {
   "cell_type": "code",
   "execution_count": 21,
   "metadata": {},
   "outputs": [
    {
     "data": {
      "text/plain": [
       "Index(['Unidade', 'Subprefeitura', 'Alvará', 'Descrição', 'Tipo de Construção',\n",
       "       'SQL_Incra', 'Categoria de uso', 'Zona de uso atual', 'Bairro',\n",
       "       'Área da construção', 'Proprietário', 'Área do terreno', 'Endereço',\n",
       "       'Aprovação', 'Dirigente técnico', 'Responsável pela empresa',\n",
       "       'Autor do projeto', 'Blocos', 'Unidades', 'Pavimentos', 'Processo',\n",
       "       'Zona de uso anterior', '(B)locos / (P)avimentos / (U)nidades',\n",
       "       'Data autuação'],\n",
       "      dtype='object')"
      ]
     },
     "execution_count": 21,
     "metadata": {},
     "output_type": "execute_result"
    },
    {
     "name": "stdout",
     "output_type": "stream",
     "text": [
      "time: 2.13 ms\n"
     ]
    }
   ],
   "source": [
    "df_alv.columns"
   ]
  },
  {
   "cell_type": "code",
   "execution_count": 22,
   "metadata": {},
   "outputs": [
    {
     "name": "stdout",
     "output_type": "stream",
     "text": [
      "time: 323 µs\n"
     ]
    }
   ],
   "source": [
    "# df_alv.loc[df_alv.SQL_Incra == '059.268.0042-0']"
   ]
  },
  {
   "cell_type": "markdown",
   "metadata": {},
   "source": [
    "### Tratando e limpando dados"
   ]
  },
  {
   "cell_type": "code",
   "execution_count": 23,
   "metadata": {},
   "outputs": [
    {
     "name": "stdout",
     "output_type": "stream",
     "text": [
      "time: 48.9 ms\n"
     ]
    }
   ],
   "source": [
    "df_alv = df_alv.dropna(thresh=10)"
   ]
  },
  {
   "cell_type": "code",
   "execution_count": 24,
   "metadata": {},
   "outputs": [
    {
     "data": {
      "text/plain": [
       "Index(['Unidade', 'Subprefeitura', 'Alvará', 'Descrição', 'Tipo de Construção',\n",
       "       'SQL_Incra', 'Categoria de uso', 'Zona de uso atual', 'Bairro',\n",
       "       'Área da construção', 'Proprietário', 'Área do terreno', 'Endereço',\n",
       "       'Aprovação', 'Dirigente técnico', 'Responsável pela empresa',\n",
       "       'Autor do projeto', 'Blocos', 'Unidades', 'Pavimentos', 'Processo',\n",
       "       'Zona de uso anterior', '(B)locos / (P)avimentos / (U)nidades',\n",
       "       'Data autuação'],\n",
       "      dtype='object')"
      ]
     },
     "execution_count": 24,
     "metadata": {},
     "output_type": "execute_result"
    },
    {
     "name": "stdout",
     "output_type": "stream",
     "text": [
      "time: 1.4 ms\n"
     ]
    }
   ],
   "source": [
    "df_alv.columns"
   ]
  },
  {
   "cell_type": "code",
   "execution_count": 25,
   "metadata": {},
   "outputs": [
    {
     "name": "stdout",
     "output_type": "stream",
     "text": [
      "time: 157 ms\n"
     ]
    },
    {
     "name": "stderr",
     "output_type": "stream",
     "text": [
      "/home/fernando/miniconda3/envs/pcp-env/lib/python3.7/site-packages/pandas/core/indexing.py:966: SettingWithCopyWarning: \n",
      "A value is trying to be set on a copy of a slice from a DataFrame.\n",
      "Try using .loc[row_indexer,col_indexer] = value instead\n",
      "\n",
      "See the caveats in the documentation: https://pandas.pydata.org/pandas-docs/stable/user_guide/indexing.html#returning-a-view-versus-a-copy\n",
      "  self.obj[item] = s\n"
     ]
    }
   ],
   "source": [
    "df_alv.loc[:, ['Área da construção']] = pd.to_numeric(df_alv[df_alv['Área da construção']\n",
    "                                                               .notna()]['Área da construção']\n",
    "                                                        .str.replace('.', '')\n",
    "                                                        .str.replace(',', '.'))\n",
    "\n",
    "df_alv.loc[:, ['Área do terreno']] = pd.to_numeric(df_alv[df_alv['Área do terreno']\n",
    "                                                               .notna()]['Área do terreno']\n",
    "                                                        .str.replace('.', '')\n",
    "                                                        .str.replace(',', '.'))"
   ]
  },
  {
   "cell_type": "code",
   "execution_count": 26,
   "metadata": {},
   "outputs": [
    {
     "name": "stdout",
     "output_type": "stream",
     "text": [
      "time: 211 µs\n"
     ]
    }
   ],
   "source": [
    "# df_alv.drop(['Unnamed: 22', 'Unnamed: 23', 'Unnamed: 24'], axis=1, inplace=True)"
   ]
  },
  {
   "cell_type": "code",
   "execution_count": 27,
   "metadata": {},
   "outputs": [
    {
     "name": "stdout",
     "output_type": "stream",
     "text": [
      "time: 216 ms\n"
     ]
    },
    {
     "name": "stderr",
     "output_type": "stream",
     "text": [
      "/home/fernando/miniconda3/envs/pcp-env/lib/python3.7/site-packages/pandas/core/frame.py:5732: SettingWithCopyWarning: \n",
      "A value is trying to be set on a copy of a slice from a DataFrame.\n",
      "Try using .loc[row_indexer,col_indexer] = value instead\n",
      "\n",
      "See the caveats in the documentation: https://pandas.pydata.org/pandas-docs/stable/user_guide/indexing.html#returning-a-view-versus-a-copy\n",
      "  self[col] = expressions.where(mask, this, that)\n"
     ]
    }
   ],
   "source": [
    "## Converte registros com 11 caracteres para formato S.Q.L\n",
    "df_alv.update(df_alv[df_alv.SQL_Incra.str.len() == 11]['SQL_Incra'].str[0:3] + '.' + \n",
    "df_alv[df_alv.SQL_Incra.str.len() == 11]['SQL_Incra'].str[3:6] + '.' + \n",
    "df_alv[df_alv.SQL_Incra.str.len() == 11]['SQL_Incra'].str[6:10] + '-' +\n",
    "df_alv[df_alv.SQL_Incra.str.len() == 11]['SQL_Incra'].str[10])"
   ]
  },
  {
   "cell_type": "code",
   "execution_count": 28,
   "metadata": {},
   "outputs": [
    {
     "data": {
      "text/plain": [
       "Index(['Unidade', 'Subprefeitura', 'Alvará', 'Descrição', 'Tipo de Construção',\n",
       "       'SQL_Incra', 'Categoria de uso', 'Zona de uso atual', 'Bairro',\n",
       "       'Área da construção', 'Proprietário', 'Área do terreno', 'Endereço',\n",
       "       'Aprovação', 'Dirigente técnico', 'Responsável pela empresa',\n",
       "       'Autor do projeto', 'Blocos', 'Unidades', 'Pavimentos', 'Processo',\n",
       "       'Zona de uso anterior', '(B)locos / (P)avimentos / (U)nidades',\n",
       "       'Data autuação'],\n",
       "      dtype='object')"
      ]
     },
     "execution_count": 28,
     "metadata": {},
     "output_type": "execute_result"
    },
    {
     "name": "stdout",
     "output_type": "stream",
     "text": [
      "time: 1.98 ms\n"
     ]
    }
   ],
   "source": [
    "df_alv.columns"
   ]
  },
  {
   "cell_type": "code",
   "execution_count": 29,
   "metadata": {},
   "outputs": [
    {
     "data": {
      "text/plain": [
       "8429          AV  INTERLAGOS 05937   \n",
       "8430          R   DOMINGOS VEGA 47   \n",
       "8431     AV  TERESA CRISTINA 00210   \n",
       "8432           AV  ITAQUERA 001968   \n",
       "8433       AV  LUIS STAMATIS 00656   \n",
       "                     ...             \n",
       "12499     ES  DO CAMPO LIMPO 00288   \n",
       "12500      R   PADRE ADELINO 99999   \n",
       "12501       R   PURPURINA 00396 400  \n",
       "12502           R   HARMONIA 01250   \n",
       "12503            AL  SANTOS 001165   \n",
       "Name: Endereço, Length: 4075, dtype: object"
      ]
     },
     "execution_count": 29,
     "metadata": {},
     "output_type": "execute_result"
    },
    {
     "name": "stdout",
     "output_type": "stream",
     "text": [
      "time: 60.9 ms\n"
     ]
    }
   ],
   "source": [
    "df_alv[df_alv.SQL_Incra.isna()]['Endereço']"
   ]
  },
  {
   "cell_type": "code",
   "execution_count": 30,
   "metadata": {},
   "outputs": [
    {
     "name": "stdout",
     "output_type": "stream",
     "text": [
      "time: 4.39 ms\n"
     ]
    }
   ],
   "source": [
    "df_alv.loc[:, ['SQL_Incra']] = df_alv['SQL_Incra'].fillna('')"
   ]
  },
  {
   "cell_type": "markdown",
   "metadata": {},
   "source": [
    "### Verificando SQLs condominiais com o IPTU"
   ]
  },
  {
   "cell_type": "code",
   "execution_count": 31,
   "metadata": {},
   "outputs": [
    {
     "data": {
      "text/html": [
       "<div>\n",
       "<style scoped>\n",
       "    .dataframe tbody tr th:only-of-type {\n",
       "        vertical-align: middle;\n",
       "    }\n",
       "\n",
       "    .dataframe tbody tr th {\n",
       "        vertical-align: top;\n",
       "    }\n",
       "\n",
       "    .dataframe thead th {\n",
       "        text-align: right;\n",
       "    }\n",
       "</style>\n",
       "<table border=\"1\" class=\"dataframe\">\n",
       "  <thead>\n",
       "    <tr style=\"text-align: right;\">\n",
       "      <th></th>\n",
       "      <th>Unidade</th>\n",
       "      <th>Subprefeitura</th>\n",
       "      <th>Alvará</th>\n",
       "      <th>Descrição</th>\n",
       "      <th>Tipo de Construção</th>\n",
       "      <th>SQL_Incra</th>\n",
       "      <th>Categoria de uso</th>\n",
       "      <th>Zona de uso atual</th>\n",
       "      <th>Bairro</th>\n",
       "      <th>Área da construção</th>\n",
       "      <th>...</th>\n",
       "      <th>Dirigente técnico</th>\n",
       "      <th>Responsável pela empresa</th>\n",
       "      <th>Autor do projeto</th>\n",
       "      <th>Blocos</th>\n",
       "      <th>Unidades</th>\n",
       "      <th>Pavimentos</th>\n",
       "      <th>Processo</th>\n",
       "      <th>Zona de uso anterior</th>\n",
       "      <th>(B)locos / (P)avimentos / (U)nidades</th>\n",
       "      <th>Data autuação</th>\n",
       "    </tr>\n",
       "  </thead>\n",
       "  <tbody>\n",
       "    <tr>\n",
       "      <th>4272</th>\n",
       "      <td>SEHAB/APROV/G</td>\n",
       "      <td>ARICANDUVA/ FORMOSA/ CARRAO</td>\n",
       "      <td>2011.16.116-01</td>\n",
       "      <td>APOSTILAMENTO DE ALVARA DE EXECUCAO DE EDIFICA...</td>\n",
       "      <td>NaN</td>\n",
       "      <td>116.402.0004-4</td>\n",
       "      <td>H.M.P /  /  /</td>\n",
       "      <td>ZM-3A</td>\n",
       "      <td>VL. FORMOSA</td>\n",
       "      <td>NaN</td>\n",
       "      <td>...</td>\n",
       "      <td>FERNANDO ALBERTO POZETTI</td>\n",
       "      <td>/</td>\n",
       "      <td>RUI KIYOSHI ISHIKAWA</td>\n",
       "      <td>NaN</td>\n",
       "      <td>NaN</td>\n",
       "      <td>NaN</td>\n",
       "      <td>NaN</td>\n",
       "      <td>Z2.</td>\n",
       "      <td>NaN</td>\n",
       "      <td>NaT</td>\n",
       "    </tr>\n",
       "    <tr>\n",
       "      <th>4273</th>\n",
       "      <td>SEHAB/APROV/G</td>\n",
       "      <td>ARICANDUVA/ FORMOSA/ CARRAO</td>\n",
       "      <td>2011.52.080-01</td>\n",
       "      <td>APOSTILAMENTO DE ALVARA DE APROVACAO DE EDIFIC...</td>\n",
       "      <td>NaN</td>\n",
       "      <td>054.158.0014-1</td>\n",
       "      <td>H.M.P /  /  /</td>\n",
       "      <td>ZM-3A</td>\n",
       "      <td>VILA FORMOSA</td>\n",
       "      <td>8417.91</td>\n",
       "      <td>...</td>\n",
       "      <td>NaN</td>\n",
       "      <td>/</td>\n",
       "      <td>NaN</td>\n",
       "      <td>NaN</td>\n",
       "      <td>NaN</td>\n",
       "      <td>NaN</td>\n",
       "      <td>NaN</td>\n",
       "      <td>Z2.</td>\n",
       "      <td>B: 1 P: 19 U: 72</td>\n",
       "      <td>NaT</td>\n",
       "    </tr>\n",
       "    <tr>\n",
       "      <th>4274</th>\n",
       "      <td>SEHAB/APROV/G</td>\n",
       "      <td>BUTANTA</td>\n",
       "      <td>2009.43.232-01</td>\n",
       "      <td>APOSTILAMENTO DE ALVARA DE APROVACAO E EXECUCA...</td>\n",
       "      <td>NaN</td>\n",
       "      <td>159.088.0166-5</td>\n",
       "      <td>HIS /  /  /</td>\n",
       "      <td>ZM-P/002</td>\n",
       "      <td>BUTANTA</td>\n",
       "      <td>17.14</td>\n",
       "      <td>...</td>\n",
       "      <td>NaN</td>\n",
       "      <td>/</td>\n",
       "      <td>NaN</td>\n",
       "      <td>NaN</td>\n",
       "      <td>NaN</td>\n",
       "      <td>NaN</td>\n",
       "      <td>NaN</td>\n",
       "      <td>Z2.</td>\n",
       "      <td>B: 1 P: 1 U: 0</td>\n",
       "      <td>NaT</td>\n",
       "    </tr>\n",
       "    <tr>\n",
       "      <th>4275</th>\n",
       "      <td>SEHAB/APROV/G</td>\n",
       "      <td>BUTANTA</td>\n",
       "      <td>2010.30.871-01</td>\n",
       "      <td>APOSTILAMENTO DE ALVARA DE EXECUCAO DE EDIFICA...</td>\n",
       "      <td>NaN</td>\n",
       "      <td>101.557.0154-0</td>\n",
       "      <td>H.M.P /  /  /</td>\n",
       "      <td>ZM-2/004</td>\n",
       "      <td>RIO PEQUENO</td>\n",
       "      <td>NaN</td>\n",
       "      <td>...</td>\n",
       "      <td>FABIO BUZANIN DE MIRANDA</td>\n",
       "      <td>/</td>\n",
       "      <td>NaN</td>\n",
       "      <td>NaN</td>\n",
       "      <td>NaN</td>\n",
       "      <td>NaN</td>\n",
       "      <td>NaN</td>\n",
       "      <td></td>\n",
       "      <td>NaN</td>\n",
       "      <td>NaT</td>\n",
       "    </tr>\n",
       "    <tr>\n",
       "      <th>4276</th>\n",
       "      <td>SEHAB/APROV/G</td>\n",
       "      <td>BUTANTA</td>\n",
       "      <td>2010.30.871-02</td>\n",
       "      <td>APOSTILAMENTO DE ALVARA DE EXECUCAO DE EDIFICA...</td>\n",
       "      <td>NaN</td>\n",
       "      <td>101.557.0154-0</td>\n",
       "      <td>H.M.P /  /  /</td>\n",
       "      <td>ZM-2/004</td>\n",
       "      <td>RIO PEQUENO</td>\n",
       "      <td>NaN</td>\n",
       "      <td>...</td>\n",
       "      <td>NaN</td>\n",
       "      <td>/</td>\n",
       "      <td>NaN</td>\n",
       "      <td>NaN</td>\n",
       "      <td>NaN</td>\n",
       "      <td>NaN</td>\n",
       "      <td>NaN</td>\n",
       "      <td></td>\n",
       "      <td>NaN</td>\n",
       "      <td>NaT</td>\n",
       "    </tr>\n",
       "    <tr>\n",
       "      <th>...</th>\n",
       "      <td>...</td>\n",
       "      <td>...</td>\n",
       "      <td>...</td>\n",
       "      <td>...</td>\n",
       "      <td>...</td>\n",
       "      <td>...</td>\n",
       "      <td>...</td>\n",
       "      <td>...</td>\n",
       "      <td>...</td>\n",
       "      <td>...</td>\n",
       "      <td>...</td>\n",
       "      <td>...</td>\n",
       "      <td>...</td>\n",
       "      <td>...</td>\n",
       "      <td>...</td>\n",
       "      <td>...</td>\n",
       "      <td>...</td>\n",
       "      <td>...</td>\n",
       "      <td>...</td>\n",
       "      <td>...</td>\n",
       "      <td>...</td>\n",
       "    </tr>\n",
       "    <tr>\n",
       "      <th>53745</th>\n",
       "      <td>SGM/AJ</td>\n",
       "      <td>PERUS</td>\n",
       "      <td>2013.32.379-00</td>\n",
       "      <td>RECONSIDERACAO DO DESPACHO DE AUTO DE REGULARI...</td>\n",
       "      <td>NaN</td>\n",
       "      <td>187.046.0034-6</td>\n",
       "      <td>R; C1 /  /  /</td>\n",
       "      <td>NaN</td>\n",
       "      <td>PERUS</td>\n",
       "      <td>NaN</td>\n",
       "      <td>...</td>\n",
       "      <td>MARIO ALEXANDER STEINHAUSER</td>\n",
       "      <td>/</td>\n",
       "      <td>NaN</td>\n",
       "      <td>NaN</td>\n",
       "      <td>NaN</td>\n",
       "      <td>NaN</td>\n",
       "      <td>2003-1.039.534-4</td>\n",
       "      <td>Z9-045.</td>\n",
       "      <td>NaN</td>\n",
       "      <td>NaT</td>\n",
       "    </tr>\n",
       "    <tr>\n",
       "      <th>53746</th>\n",
       "      <td>SGM/AJ</td>\n",
       "      <td>SE</td>\n",
       "      <td>2013.31.386-00</td>\n",
       "      <td>RECONSIDERACAO DO DESPACHO DE AUTO DE REGULARI...</td>\n",
       "      <td>NaN</td>\n",
       "      <td>019.046.0012-3</td>\n",
       "      <td>C2.3 /  /  /</td>\n",
       "      <td>NaN</td>\n",
       "      <td>BOM RETIRO</td>\n",
       "      <td>NaN</td>\n",
       "      <td>...</td>\n",
       "      <td>NaN</td>\n",
       "      <td>/</td>\n",
       "      <td>NaN</td>\n",
       "      <td>NaN</td>\n",
       "      <td>NaN</td>\n",
       "      <td>NaN</td>\n",
       "      <td>2003-1.039.766-5</td>\n",
       "      <td></td>\n",
       "      <td>NaN</td>\n",
       "      <td>NaT</td>\n",
       "    </tr>\n",
       "    <tr>\n",
       "      <th>53747</th>\n",
       "      <td>SGM/AJ</td>\n",
       "      <td>SE</td>\n",
       "      <td>2013.31.937-00</td>\n",
       "      <td>RECONSIDERACAO DO DESPACHO DE AUTO DE REGULARI...</td>\n",
       "      <td>NaN</td>\n",
       "      <td>009.035.0010-8</td>\n",
       "      <td>C1.2; S1.1 /  /  /</td>\n",
       "      <td>NaN</td>\n",
       "      <td>BELA VISTA</td>\n",
       "      <td>NaN</td>\n",
       "      <td>...</td>\n",
       "      <td>NaN</td>\n",
       "      <td>/</td>\n",
       "      <td>NaN</td>\n",
       "      <td>NaN</td>\n",
       "      <td>NaN</td>\n",
       "      <td>NaN</td>\n",
       "      <td>2003-1.009.227-9</td>\n",
       "      <td>Z10-001.</td>\n",
       "      <td>NaN</td>\n",
       "      <td>NaT</td>\n",
       "    </tr>\n",
       "    <tr>\n",
       "      <th>53748</th>\n",
       "      <td>SGM/AJ</td>\n",
       "      <td>SE</td>\n",
       "      <td>2013.33.074-00</td>\n",
       "      <td>RECONSIDERACAO DO DESPACHO DE AUTO DE REGULARI...</td>\n",
       "      <td>NaN</td>\n",
       "      <td>001.020.0006-9</td>\n",
       "      <td>C2.2 /  /  /</td>\n",
       "      <td>NaN</td>\n",
       "      <td>SANTA EFIGENIA</td>\n",
       "      <td>NaN</td>\n",
       "      <td>...</td>\n",
       "      <td>NaN</td>\n",
       "      <td>/</td>\n",
       "      <td>NaN</td>\n",
       "      <td>NaN</td>\n",
       "      <td>NaN</td>\n",
       "      <td>NaN</td>\n",
       "      <td>2003-1.002.595-4</td>\n",
       "      <td>Z2.</td>\n",
       "      <td>NaN</td>\n",
       "      <td>NaT</td>\n",
       "    </tr>\n",
       "    <tr>\n",
       "      <th>53749</th>\n",
       "      <td>SGM/AJ</td>\n",
       "      <td>VILA MARIANA</td>\n",
       "      <td>2013.33.733-00</td>\n",
       "      <td>RECONSIDERACAO DO DESPACHO DE AUTO DE REGULARI...</td>\n",
       "      <td>NaN</td>\n",
       "      <td>037.099.0044-1</td>\n",
       "      <td>S2.1 /  /  /</td>\n",
       "      <td>NaN</td>\n",
       "      <td>VILA MARIANA</td>\n",
       "      <td>NaN</td>\n",
       "      <td>...</td>\n",
       "      <td>NaN</td>\n",
       "      <td>/</td>\n",
       "      <td>NaN</td>\n",
       "      <td>NaN</td>\n",
       "      <td>NaN</td>\n",
       "      <td>NaN</td>\n",
       "      <td>2003-1.016.932-8</td>\n",
       "      <td>Z2.</td>\n",
       "      <td>NaN</td>\n",
       "      <td>NaT</td>\n",
       "    </tr>\n",
       "  </tbody>\n",
       "</table>\n",
       "<p>31400 rows × 24 columns</p>\n",
       "</div>"
      ],
      "text/plain": [
       "                    Unidade                     Subprefeitura          Alvará  \\\n",
       "4272   SEHAB/APROV/G         ARICANDUVA/ FORMOSA/ CARRAO       2011.16.116-01   \n",
       "4273   SEHAB/APROV/G         ARICANDUVA/ FORMOSA/ CARRAO       2011.52.080-01   \n",
       "4274   SEHAB/APROV/G           BUTANTA                         2009.43.232-01   \n",
       "4275   SEHAB/APROV/G           BUTANTA                         2010.30.871-01   \n",
       "4276   SEHAB/APROV/G           BUTANTA                         2010.30.871-02   \n",
       "...                     ...                               ...             ...   \n",
       "53745  SGM/AJ                  PERUS                           2013.32.379-00   \n",
       "53746  SGM/AJ                  SE                              2013.31.386-00   \n",
       "53747  SGM/AJ                  SE                              2013.31.937-00   \n",
       "53748  SGM/AJ                  SE                              2013.33.074-00   \n",
       "53749  SGM/AJ                  VILA MARIANA                    2013.33.733-00   \n",
       "\n",
       "                                               Descrição Tipo de Construção  \\\n",
       "4272   APOSTILAMENTO DE ALVARA DE EXECUCAO DE EDIFICA...                NaN   \n",
       "4273   APOSTILAMENTO DE ALVARA DE APROVACAO DE EDIFIC...                NaN   \n",
       "4274   APOSTILAMENTO DE ALVARA DE APROVACAO E EXECUCA...                NaN   \n",
       "4275   APOSTILAMENTO DE ALVARA DE EXECUCAO DE EDIFICA...                NaN   \n",
       "4276   APOSTILAMENTO DE ALVARA DE EXECUCAO DE EDIFICA...                NaN   \n",
       "...                                                  ...                ...   \n",
       "53745  RECONSIDERACAO DO DESPACHO DE AUTO DE REGULARI...                NaN   \n",
       "53746  RECONSIDERACAO DO DESPACHO DE AUTO DE REGULARI...                NaN   \n",
       "53747  RECONSIDERACAO DO DESPACHO DE AUTO DE REGULARI...                NaN   \n",
       "53748  RECONSIDERACAO DO DESPACHO DE AUTO DE REGULARI...                NaN   \n",
       "53749  RECONSIDERACAO DO DESPACHO DE AUTO DE REGULARI...                NaN   \n",
       "\n",
       "            SQL_Incra     Categoria de uso Zona de uso atual          Bairro  \\\n",
       "4272   116.402.0004-4       H.M.P /  /  /              ZM-3A     VL. FORMOSA   \n",
       "4273   054.158.0014-1       H.M.P /  /  /              ZM-3A    VILA FORMOSA   \n",
       "4274   159.088.0166-5         HIS /  /  /           ZM-P/002         BUTANTA   \n",
       "4275   101.557.0154-0       H.M.P /  /  /           ZM-2/004     RIO PEQUENO   \n",
       "4276   101.557.0154-0       H.M.P /  /  /           ZM-2/004     RIO PEQUENO   \n",
       "...               ...                  ...               ...             ...   \n",
       "53745  187.046.0034-6       R; C1 /  /  /                NaN           PERUS   \n",
       "53746  019.046.0012-3        C2.3 /  /  /                NaN      BOM RETIRO   \n",
       "53747  009.035.0010-8  C1.2; S1.1 /  /  /                NaN      BELA VISTA   \n",
       "53748  001.020.0006-9        C2.2 /  /  /                NaN  SANTA EFIGENIA   \n",
       "53749  037.099.0044-1        S2.1 /  /  /                NaN    VILA MARIANA   \n",
       "\n",
       "       Área da construção  ...            Dirigente técnico  \\\n",
       "4272                  NaN  ...     FERNANDO ALBERTO POZETTI   \n",
       "4273              8417.91  ...                          NaN   \n",
       "4274                17.14  ...                          NaN   \n",
       "4275                  NaN  ...     FABIO BUZANIN DE MIRANDA   \n",
       "4276                  NaN  ...                          NaN   \n",
       "...                   ...  ...                          ...   \n",
       "53745                 NaN  ...  MARIO ALEXANDER STEINHAUSER   \n",
       "53746                 NaN  ...                          NaN   \n",
       "53747                 NaN  ...                          NaN   \n",
       "53748                 NaN  ...                          NaN   \n",
       "53749                 NaN  ...                          NaN   \n",
       "\n",
       "       Responsável pela empresa      Autor do projeto Blocos Unidades  \\\n",
       "4272                         /   RUI KIYOSHI ISHIKAWA    NaN      NaN   \n",
       "4273                         /                    NaN    NaN      NaN   \n",
       "4274                         /                    NaN    NaN      NaN   \n",
       "4275                         /                    NaN    NaN      NaN   \n",
       "4276                         /                    NaN    NaN      NaN   \n",
       "...                         ...                   ...    ...      ...   \n",
       "53745                        /                    NaN    NaN      NaN   \n",
       "53746                        /                    NaN    NaN      NaN   \n",
       "53747                        /                    NaN    NaN      NaN   \n",
       "53748                        /                    NaN    NaN      NaN   \n",
       "53749                        /                    NaN    NaN      NaN   \n",
       "\n",
       "      Pavimentos          Processo Zona de uso anterior  \\\n",
       "4272         NaN               NaN                  Z2.   \n",
       "4273         NaN               NaN                  Z2.   \n",
       "4274         NaN               NaN                  Z2.   \n",
       "4275         NaN               NaN                        \n",
       "4276         NaN               NaN                        \n",
       "...          ...               ...                  ...   \n",
       "53745        NaN  2003-1.039.534-4              Z9-045.   \n",
       "53746        NaN  2003-1.039.766-5                        \n",
       "53747        NaN  2003-1.009.227-9             Z10-001.   \n",
       "53748        NaN  2003-1.002.595-4                  Z2.   \n",
       "53749        NaN  2003-1.016.932-8                  Z2.   \n",
       "\n",
       "      (B)locos / (P)avimentos / (U)nidades Data autuação  \n",
       "4272                                   NaN           NaT  \n",
       "4273                      B: 1 P: 19 U: 72           NaT  \n",
       "4274                        B: 1 P: 1 U: 0           NaT  \n",
       "4275                                   NaN           NaT  \n",
       "4276                                   NaN           NaT  \n",
       "...                                    ...           ...  \n",
       "53745                                  NaN           NaT  \n",
       "53746                                  NaN           NaT  \n",
       "53747                                  NaN           NaT  \n",
       "53748                                  NaN           NaT  \n",
       "53749                                  NaN           NaT  \n",
       "\n",
       "[31400 rows x 24 columns]"
      ]
     },
     "execution_count": 31,
     "metadata": {},
     "output_type": "execute_result"
    },
    {
     "name": "stdout",
     "output_type": "stream",
     "text": [
      "time: 93.2 ms\n"
     ]
    }
   ],
   "source": [
    "df_alv[df_alv.SQL_Incra.str.match(pat = '(\\d{3}.){2}\\d{4}-\\d')]"
   ]
  },
  {
   "cell_type": "code",
   "execution_count": 32,
   "metadata": {},
   "outputs": [
    {
     "name": "stdout",
     "output_type": "stream",
     "text": [
      "time: 27.3 ms\n"
     ]
    }
   ],
   "source": [
    "match_00 = df_alv.SQL_Incra.str.match(pat = '\\d{2}.(\\d{3}.){2}\\d{4}-\\d')"
   ]
  },
  {
   "cell_type": "code",
   "execution_count": 33,
   "metadata": {},
   "outputs": [
    {
     "name": "stdout",
     "output_type": "stream",
     "text": [
      "time: 16.1 ms\n"
     ]
    },
    {
     "name": "stderr",
     "output_type": "stream",
     "text": [
      "/home/fernando/miniconda3/envs/pcp-env/lib/python3.7/site-packages/pandas/core/indexing.py:966: SettingWithCopyWarning: \n",
      "A value is trying to be set on a copy of a slice from a DataFrame.\n",
      "Try using .loc[row_indexer,col_indexer] = value instead\n",
      "\n",
      "See the caveats in the documentation: https://pandas.pydata.org/pandas-docs/stable/user_guide/indexing.html#returning-a-view-versus-a-copy\n",
      "  self.obj[item] = s\n"
     ]
    }
   ],
   "source": [
    "df_alv.loc[match_00, ['SQL_Incra']] = df_alv[match_00]['SQL_Incra'].str[3:]"
   ]
  },
  {
   "cell_type": "code",
   "execution_count": 34,
   "metadata": {},
   "outputs": [
    {
     "name": "stdout",
     "output_type": "stream",
     "text": [
      "time: 27 ms\n"
     ]
    }
   ],
   "source": [
    "match_00 = df_alv.SQL_Incra.str.match(pat = '\\d{2}.(\\d{3}.){2}\\d{4}-')"
   ]
  },
  {
   "cell_type": "code",
   "execution_count": 35,
   "metadata": {},
   "outputs": [
    {
     "name": "stdout",
     "output_type": "stream",
     "text": [
      "time: 5.07 ms\n"
     ]
    }
   ],
   "source": [
    "df_alv.loc[match_00, ['SQL_Incra']] = df_alv[match_00]['SQL_Incra'].str[3:]+'0'"
   ]
  },
  {
   "cell_type": "code",
   "execution_count": 36,
   "metadata": {},
   "outputs": [
    {
     "name": "stdout",
     "output_type": "stream",
     "text": [
      "time: 375 µs\n"
     ]
    }
   ],
   "source": [
    "# df_alv.SQL_Incra.str.match(pat = '\\d{2}.(\\d{3}.){2}\\d{4}-\\d').value_counts()\n",
    "# df_alv['SQL_Incra'] = df_alv[df_alv.SQL_Incra.str.match(pat = '\\d{2}.(\\d{3}.){2}\\d{4}-\\d')].SQL_Incra.str[3:]"
   ]
  },
  {
   "cell_type": "code",
   "execution_count": 37,
   "metadata": {},
   "outputs": [
    {
     "name": "stdout",
     "output_type": "stream",
     "text": [
      "time: 77.8 ms\n"
     ]
    },
    {
     "name": "stderr",
     "output_type": "stream",
     "text": [
      "/home/fernando/miniconda3/envs/pcp-env/lib/python3.7/site-packages/ipykernel_launcher.py:2: SettingWithCopyWarning: \n",
      "A value is trying to be set on a copy of a slice from a DataFrame.\n",
      "Try using .loc[row_indexer,col_indexer] = value instead\n",
      "\n",
      "See the caveats in the documentation: https://pandas.pydata.org/pandas-docs/stable/user_guide/indexing.html#returning-a-view-versus-a-copy\n",
      "  \n"
     ]
    }
   ],
   "source": [
    "# verificando padrão de S.Q.L-digito\n",
    "df_alv['sql'] = df_alv[df_alv.SQL_Incra.str.match(pat = '(\\d{3}.){2}\\d{4}-\\d')].SQL_Incra.str.replace('.', '').str[0:10]"
   ]
  },
  {
   "cell_type": "code",
   "execution_count": 38,
   "metadata": {},
   "outputs": [
    {
     "data": {
      "text/plain": [
       "0        055.114.0001-7\n",
       "1        230.133.0004-1\n",
       "2        230.133.0001-7\n",
       "3        066.587.0027-3\n",
       "4        031.096.0035-8\n",
       "              ...      \n",
       "56178    069.022.0009-2\n",
       "56179    047.175.0012-1\n",
       "56180    047.175.0012-1\n",
       "56181    037.083.0584-1\n",
       "56182     1542629999999\n",
       "Name: SQL_Incra, Length: 55476, dtype: object"
      ]
     },
     "execution_count": 38,
     "metadata": {},
     "output_type": "execute_result"
    },
    {
     "name": "stdout",
     "output_type": "stream",
     "text": [
      "time: 3.42 ms\n"
     ]
    }
   ],
   "source": [
    "df_alv['SQL_Incra']"
   ]
  },
  {
   "cell_type": "code",
   "execution_count": 39,
   "metadata": {},
   "outputs": [
    {
     "data": {
      "text/plain": [
       "True     49786\n",
       "False     5690\n",
       "Name: sql, dtype: int64"
      ]
     },
     "execution_count": 39,
     "metadata": {},
     "output_type": "execute_result"
    },
    {
     "name": "stdout",
     "output_type": "stream",
     "text": [
      "time: 6.25 ms\n"
     ]
    }
   ],
   "source": [
    "df_alv.sql.notna().value_counts()"
   ]
  },
  {
   "cell_type": "code",
   "execution_count": 40,
   "metadata": {},
   "outputs": [
    {
     "data": {
      "text/plain": [
       "27066"
      ]
     },
     "execution_count": 40,
     "metadata": {},
     "output_type": "execute_result"
    },
    {
     "name": "stdout",
     "output_type": "stream",
     "text": [
      "time: 8.63 ms\n"
     ]
    }
   ],
   "source": [
    "len(df_alv.sql.unique())"
   ]
  },
  {
   "cell_type": "code",
   "execution_count": 41,
   "metadata": {},
   "outputs": [
    {
     "name": "stdout",
     "output_type": "stream",
     "text": [
      "time: 18.5 s\n"
     ]
    }
   ],
   "source": [
    "df_iptu = pd.read_csv('data/IPTU_2020.zip', sep=';',  encoding='latin1')"
   ]
  },
  {
   "cell_type": "code",
   "execution_count": 42,
   "metadata": {},
   "outputs": [
    {
     "name": "stdout",
     "output_type": "stream",
     "text": [
      "time: 1.12 s\n"
     ]
    }
   ],
   "source": [
    "df_iptu['sql'] = df_iptu['NUMERO DO CONTRIBUINTE'].str[0:10].astype(str)"
   ]
  },
  {
   "cell_type": "code",
   "execution_count": 43,
   "metadata": {},
   "outputs": [
    {
     "name": "stdout",
     "output_type": "stream",
     "text": [
      "time: 2.38 s\n"
     ]
    }
   ],
   "source": [
    "df_iptu['sqlc'] = df_iptu['NUMERO DO CONTRIBUINTE'].str[0:10].astype(str) + df_iptu['NUMERO DO CONDOMINIO'].str[0:2].astype(str)"
   ]
  },
  {
   "cell_type": "code",
   "execution_count": 44,
   "metadata": {},
   "outputs": [
    {
     "name": "stdout",
     "output_type": "stream",
     "text": [
      "time: 1.01 s\n"
     ]
    }
   ],
   "source": [
    "df_iptu['sqlc_resultante'] = df_iptu.sqlc.apply(lambda x: x if x[10:12] == '00' else x[0:6] + '0000' + x[10:12])"
   ]
  },
  {
   "cell_type": "code",
   "execution_count": 45,
   "metadata": {},
   "outputs": [
    {
     "data": {
      "text/plain": [
       "Index(['NUMERO DO CONTRIBUINTE', 'ANO DO EXERCICIO', 'NUMERO DA NL',\n",
       "       'DATA DO CADASTRAMENTO', 'TIPO DE CONTRIBUINTE 1',\n",
       "       'CPF/CNPJ DO CONTRIBUINTE 1', 'NOME DO CONTRIBUINTE 1',\n",
       "       'TIPO DE CONTRIBUINTE 2', 'CPF/CNPJ DO CONTRIBUINTE 2',\n",
       "       'NOME DO CONTRIBUINTE 2', 'NUMERO DO CONDOMINIO', 'CODLOG DO IMOVEL',\n",
       "       'NOME DE LOGRADOURO DO IMOVEL', 'NUMERO DO IMOVEL',\n",
       "       'COMPLEMENTO DO IMOVEL', 'BAIRRO DO IMOVEL', 'REFERENCIA DO IMOVEL',\n",
       "       'CEP DO IMOVEL', 'QUANTIDADE DE ESQUINAS/FRENTES', 'FRACAO IDEAL',\n",
       "       'AREA DO TERRENO', 'AREA CONSTRUIDA', 'AREA OCUPADA',\n",
       "       'VALOR DO M2 DO TERRENO', 'VALOR DO M2 DE CONSTRUCAO',\n",
       "       'ANO DA CONSTRUCAO CORRIGIDO', 'QUANTIDADE DE PAVIMENTOS',\n",
       "       'TESTADA PARA CALCULO', 'TIPO DE USO DO IMOVEL',\n",
       "       'TIPO DE PADRAO DA CONSTRUCAO', 'TIPO DE TERRENO',\n",
       "       'FATOR DE OBSOLESCENCIA', 'ANO DE INICIO DA VIDA DO CONTRIBUINTE',\n",
       "       'MES DE INICIO DA VIDA DO CONTRIBUINTE', 'FASE DO CONTRIBUINTE', 'sql',\n",
       "       'sqlc', 'sqlc_resultante'],\n",
       "      dtype='object')"
      ]
     },
     "execution_count": 45,
     "metadata": {},
     "output_type": "execute_result"
    },
    {
     "name": "stdout",
     "output_type": "stream",
     "text": [
      "time: 1.87 ms\n"
     ]
    }
   ],
   "source": [
    "df_iptu.columns"
   ]
  },
  {
   "cell_type": "code",
   "execution_count": 46,
   "metadata": {},
   "outputs": [
    {
     "data": {
      "text/plain": [
       "False    27799\n",
       "True     27677\n",
       "Name: sql, dtype: int64"
      ]
     },
     "execution_count": 46,
     "metadata": {},
     "output_type": "execute_result"
    },
    {
     "name": "stdout",
     "output_type": "stream",
     "text": [
      "time: 1.18 s\n"
     ]
    }
   ],
   "source": [
    "df_alv['sql'].isin(df_iptu.sql).value_counts()\n",
    "# df_iptu['sql']"
   ]
  },
  {
   "cell_type": "code",
   "execution_count": 47,
   "metadata": {},
   "outputs": [
    {
     "data": {
      "text/plain": [
       "27066"
      ]
     },
     "execution_count": 47,
     "metadata": {},
     "output_type": "execute_result"
    },
    {
     "name": "stdout",
     "output_type": "stream",
     "text": [
      "time: 5.52 ms\n"
     ]
    }
   ],
   "source": [
    "len(df_alv['sql'].unique())"
   ]
  },
  {
   "cell_type": "code",
   "execution_count": 48,
   "metadata": {},
   "outputs": [
    {
     "data": {
      "text/plain": [
       "15783"
      ]
     },
     "execution_count": 48,
     "metadata": {},
     "output_type": "execute_result"
    },
    {
     "name": "stdout",
     "output_type": "stream",
     "text": [
      "time: 1.1 s\n"
     ]
    }
   ],
   "source": [
    "len(df_alv[df_alv.sql.isin(df_iptu.sql)].sql.unique())"
   ]
  },
  {
   "cell_type": "code",
   "execution_count": 49,
   "metadata": {},
   "outputs": [
    {
     "data": {
      "text/plain": [
       "False    49786\n",
       "True      5690\n",
       "Name: sql, dtype: int64"
      ]
     },
     "execution_count": 49,
     "metadata": {},
     "output_type": "execute_result"
    },
    {
     "name": "stdout",
     "output_type": "stream",
     "text": [
      "time: 4.37 ms\n"
     ]
    }
   ],
   "source": [
    "df_alv.sql.isna().value_counts()"
   ]
  },
  {
   "cell_type": "code",
   "execution_count": 50,
   "metadata": {},
   "outputs": [
    {
     "data": {
      "text/html": [
       "<div>\n",
       "<style scoped>\n",
       "    .dataframe tbody tr th:only-of-type {\n",
       "        vertical-align: middle;\n",
       "    }\n",
       "\n",
       "    .dataframe tbody tr th {\n",
       "        vertical-align: top;\n",
       "    }\n",
       "\n",
       "    .dataframe thead th {\n",
       "        text-align: right;\n",
       "    }\n",
       "</style>\n",
       "<table border=\"1\" class=\"dataframe\">\n",
       "  <thead>\n",
       "    <tr style=\"text-align: right;\">\n",
       "      <th></th>\n",
       "      <th>Endereço</th>\n",
       "      <th>Bairro</th>\n",
       "    </tr>\n",
       "  </thead>\n",
       "  <tbody>\n",
       "    <tr>\n",
       "      <th>82</th>\n",
       "      <td>R AGRIMENSOR SUGAYA,968</td>\n",
       "      <td>NaN</td>\n",
       "    </tr>\n",
       "    <tr>\n",
       "      <th>191</th>\n",
       "      <td>AV RAIMUNDO PEREIRA DE MAGALHAES</td>\n",
       "      <td>NaN</td>\n",
       "    </tr>\n",
       "    <tr>\n",
       "      <th>680</th>\n",
       "      <td>ES DO PESSEGO,1635</td>\n",
       "      <td>NaN</td>\n",
       "    </tr>\n",
       "    <tr>\n",
       "      <th>706</th>\n",
       "      <td>AV DA LIBERDADE,103</td>\n",
       "      <td>LIBERDADE</td>\n",
       "    </tr>\n",
       "    <tr>\n",
       "      <th>908</th>\n",
       "      <td>ES TURISTICA DO JARAGUA,2400</td>\n",
       "      <td>JARAGUA</td>\n",
       "    </tr>\n",
       "    <tr>\n",
       "      <th>...</th>\n",
       "      <td>...</td>\n",
       "      <td>...</td>\n",
       "    </tr>\n",
       "    <tr>\n",
       "      <th>55097</th>\n",
       "      <td>R RAPOSO DA FONSECA</td>\n",
       "      <td>GUAIANAZES</td>\n",
       "    </tr>\n",
       "    <tr>\n",
       "      <th>55127</th>\n",
       "      <td>ES DO IGUATEMI</td>\n",
       "      <td>GUAIANAZES</td>\n",
       "    </tr>\n",
       "    <tr>\n",
       "      <th>55403</th>\n",
       "      <td>R INACIO MONTEIRO</td>\n",
       "      <td>GUAIANASES</td>\n",
       "    </tr>\n",
       "    <tr>\n",
       "      <th>55663</th>\n",
       "      <td>R SAO GABRIEL,43</td>\n",
       "      <td>NaN</td>\n",
       "    </tr>\n",
       "    <tr>\n",
       "      <th>56182</th>\n",
       "      <td>R POEMA DAS AMERICAS</td>\n",
       "      <td>NaN</td>\n",
       "    </tr>\n",
       "  </tbody>\n",
       "</table>\n",
       "<p>5690 rows × 2 columns</p>\n",
       "</div>"
      ],
      "text/plain": [
       "                                 Endereço      Bairro\n",
       "82              R AGRIMENSOR SUGAYA,968           NaN\n",
       "191    AV RAIMUNDO PEREIRA DE MAGALHAES           NaN\n",
       "680                  ES DO PESSEGO,1635           NaN\n",
       "706                 AV DA LIBERDADE,103     LIBERDADE\n",
       "908        ES TURISTICA DO JARAGUA,2400       JARAGUA\n",
       "...                                   ...         ...\n",
       "55097               R RAPOSO DA FONSECA    GUAIANAZES\n",
       "55127                    ES DO IGUATEMI    GUAIANAZES\n",
       "55403                 R INACIO MONTEIRO    GUAIANASES\n",
       "55663                  R SAO GABRIEL,43           NaN\n",
       "56182              R POEMA DAS AMERICAS           NaN\n",
       "\n",
       "[5690 rows x 2 columns]"
      ]
     },
     "execution_count": 50,
     "metadata": {},
     "output_type": "execute_result"
    },
    {
     "name": "stdout",
     "output_type": "stream",
     "text": [
      "time: 10.2 ms\n"
     ]
    }
   ],
   "source": [
    "df_alv[df_alv.sql.isna()][['Endereço', 'Bairro']]"
   ]
  },
  {
   "cell_type": "code",
   "execution_count": 51,
   "metadata": {},
   "outputs": [
    {
     "data": {
      "text/plain": [
       "False    13691\n",
       "True      2092\n",
       "Name: NUMERO DO CONDOMINIO, dtype: int64"
      ]
     },
     "execution_count": 51,
     "metadata": {},
     "output_type": "execute_result"
    },
    {
     "name": "stdout",
     "output_type": "stream",
     "text": [
      "time: 7.03 s\n"
     ]
    }
   ],
   "source": [
    "(df_iptu[df_iptu.sql.isin(df_alv.sql)]['NUMERO DO CONDOMINIO'] != '00-0').value_counts()\n",
    "# df_iptu.columns"
   ]
  },
  {
   "cell_type": "code",
   "execution_count": 52,
   "metadata": {},
   "outputs": [
    {
     "data": {
      "text/html": [
       "<div>\n",
       "<style scoped>\n",
       "    .dataframe tbody tr th:only-of-type {\n",
       "        vertical-align: middle;\n",
       "    }\n",
       "\n",
       "    .dataframe tbody tr th {\n",
       "        vertical-align: top;\n",
       "    }\n",
       "\n",
       "    .dataframe thead th {\n",
       "        text-align: right;\n",
       "    }\n",
       "</style>\n",
       "<table border=\"1\" class=\"dataframe\">\n",
       "  <thead>\n",
       "    <tr style=\"text-align: right;\">\n",
       "      <th></th>\n",
       "      <th>NUMERO DO CONTRIBUINTE</th>\n",
       "      <th>ANO DO EXERCICIO</th>\n",
       "      <th>NUMERO DA NL</th>\n",
       "      <th>DATA DO CADASTRAMENTO</th>\n",
       "      <th>TIPO DE CONTRIBUINTE 1</th>\n",
       "      <th>CPF/CNPJ DO CONTRIBUINTE 1</th>\n",
       "      <th>NOME DO CONTRIBUINTE 1</th>\n",
       "      <th>TIPO DE CONTRIBUINTE 2</th>\n",
       "      <th>CPF/CNPJ DO CONTRIBUINTE 2</th>\n",
       "      <th>NOME DO CONTRIBUINTE 2</th>\n",
       "      <th>...</th>\n",
       "      <th>TIPO DE USO DO IMOVEL</th>\n",
       "      <th>TIPO DE PADRAO DA CONSTRUCAO</th>\n",
       "      <th>TIPO DE TERRENO</th>\n",
       "      <th>FATOR DE OBSOLESCENCIA</th>\n",
       "      <th>ANO DE INICIO DA VIDA DO CONTRIBUINTE</th>\n",
       "      <th>MES DE INICIO DA VIDA DO CONTRIBUINTE</th>\n",
       "      <th>FASE DO CONTRIBUINTE</th>\n",
       "      <th>sql</th>\n",
       "      <th>sqlc</th>\n",
       "      <th>sqlc_resultante</th>\n",
       "    </tr>\n",
       "  </thead>\n",
       "  <tbody>\n",
       "    <tr>\n",
       "      <th>1127484</th>\n",
       "      <td>0551140032-7</td>\n",
       "      <td>2020</td>\n",
       "      <td>1</td>\n",
       "      <td>11/01/20</td>\n",
       "      <td>PESSOA FISICA (CPF)</td>\n",
       "      <td>XXXXXX0018XXXX</td>\n",
       "      <td>MARCELO MANOEL MACHADO</td>\n",
       "      <td>NaN</td>\n",
       "      <td></td>\n",
       "      <td>NaN</td>\n",
       "      <td>...</td>\n",
       "      <td>Apartamento em condomínio</td>\n",
       "      <td>Residencial vertical - padrão C</td>\n",
       "      <td>De esquina</td>\n",
       "      <td>0,70</td>\n",
       "      <td>1991</td>\n",
       "      <td>1</td>\n",
       "      <td>0</td>\n",
       "      <td>0551140032</td>\n",
       "      <td>055114003201</td>\n",
       "      <td>055114000001</td>\n",
       "    </tr>\n",
       "  </tbody>\n",
       "</table>\n",
       "<p>1 rows × 38 columns</p>\n",
       "</div>"
      ],
      "text/plain": [
       "        NUMERO DO CONTRIBUINTE  ANO DO EXERCICIO  NUMERO DA NL  \\\n",
       "1127484           0551140032-7              2020             1   \n",
       "\n",
       "        DATA DO CADASTRAMENTO TIPO DE CONTRIBUINTE 1  \\\n",
       "1127484              11/01/20    PESSOA FISICA (CPF)   \n",
       "\n",
       "        CPF/CNPJ DO CONTRIBUINTE 1  NOME DO CONTRIBUINTE 1  \\\n",
       "1127484             XXXXXX0018XXXX  MARCELO MANOEL MACHADO   \n",
       "\n",
       "        TIPO DE CONTRIBUINTE 2 CPF/CNPJ DO CONTRIBUINTE 2  \\\n",
       "1127484                    NaN                              \n",
       "\n",
       "        NOME DO CONTRIBUINTE 2  ...      TIPO DE USO DO IMOVEL  \\\n",
       "1127484                    NaN  ...  Apartamento em condomínio   \n",
       "\n",
       "            TIPO DE PADRAO DA CONSTRUCAO TIPO DE TERRENO  \\\n",
       "1127484  Residencial vertical - padrão C      De esquina   \n",
       "\n",
       "         FATOR DE OBSOLESCENCIA ANO DE INICIO DA VIDA DO CONTRIBUINTE  \\\n",
       "1127484                    0,70                                  1991   \n",
       "\n",
       "        MES DE INICIO DA VIDA DO CONTRIBUINTE FASE DO CONTRIBUINTE  \\\n",
       "1127484                                     1                    0   \n",
       "\n",
       "                sql          sqlc sqlc_resultante  \n",
       "1127484  0551140032  055114003201    055114000001  \n",
       "\n",
       "[1 rows x 38 columns]"
      ]
     },
     "execution_count": 52,
     "metadata": {},
     "output_type": "execute_result"
    },
    {
     "name": "stdout",
     "output_type": "stream",
     "text": [
      "time: 288 ms\n"
     ]
    }
   ],
   "source": [
    "df_iptu[df_iptu.sql == '0551140032']"
   ]
  },
  {
   "cell_type": "code",
   "execution_count": 53,
   "metadata": {},
   "outputs": [
    {
     "name": "stdout",
     "output_type": "stream",
     "text": [
      "time: 211 ms\n"
     ]
    }
   ],
   "source": [
    "df_alv = df_alv.reset_index(drop=True)"
   ]
  },
  {
   "cell_type": "code",
   "execution_count": null,
   "metadata": {},
   "outputs": [],
   "source": [
    "# df_alv['sqlc'] = df_alv.merge(df_iptu, how='left', on='sql')['sqlc_resultante']\n",
    "# df_alv[df_alv.sql == '0412140032']\n",
    "teste = df_alv.merge(df_iptu, how='left', on='sql', validate='many_to_one')[['sql','sqlc_resultante']]"
   ]
  },
  {
   "cell_type": "code",
   "execution_count": null,
   "metadata": {},
   "outputs": [],
   "source": [
    "# pd.concat([teste, df_alv], axis=1)\n",
    "df_alv['sqlc'] = teste.sqlc_resultante"
   ]
  },
  {
   "cell_type": "code",
   "execution_count": null,
   "metadata": {},
   "outputs": [],
   "source": [
    "df_alv[df_alv.sql == '0551140001']"
   ]
  },
  {
   "cell_type": "code",
   "execution_count": null,
   "metadata": {},
   "outputs": [],
   "source": [
    "# df_alv.iloc[41815]"
   ]
  },
  {
   "cell_type": "code",
   "execution_count": null,
   "metadata": {
    "scrolled": false
   },
   "outputs": [],
   "source": [
    "df_alv[(df_alv.sql.str[0:6] != df_alv.sqlc.str[0:6]) & df_alv.sqlc.notna()]\n",
    "# df_alv"
   ]
  },
  {
   "cell_type": "code",
   "execution_count": null,
   "metadata": {},
   "outputs": [],
   "source": [
    "df_iptu.sql.isna().value_counts()"
   ]
  },
  {
   "cell_type": "code",
   "execution_count": null,
   "metadata": {},
   "outputs": [],
   "source": [
    "df_alv.sqlc.notna().value_counts()"
   ]
  },
  {
   "cell_type": "code",
   "execution_count": null,
   "metadata": {},
   "outputs": [],
   "source": [
    "df_alv['setor'] = df_alv.sql.str[0:3]"
   ]
  },
  {
   "cell_type": "code",
   "execution_count": null,
   "metadata": {},
   "outputs": [],
   "source": [
    "df_alv['quadra'] = df_alv.sql.str[3:6]"
   ]
  },
  {
   "cell_type": "code",
   "execution_count": null,
   "metadata": {},
   "outputs": [],
   "source": [
    "df_alv['lote'] = df_alv.sqlc.str[-6:-2]"
   ]
  },
  {
   "cell_type": "code",
   "execution_count": null,
   "metadata": {},
   "outputs": [],
   "source": [
    "df_alv['condominio'] = df_alv.sqlc.str[-2:]"
   ]
  },
  {
   "cell_type": "code",
   "execution_count": null,
   "metadata": {},
   "outputs": [],
   "source": [
    "# df_alv[df_alv.sqlc.notna() & (df_alv.condominio != '00')]"
   ]
  },
  {
   "cell_type": "code",
   "execution_count": null,
   "metadata": {},
   "outputs": [],
   "source": [
    "# df_alv[df_alv.lote == '0000']"
   ]
  },
  {
   "cell_type": "markdown",
   "metadata": {},
   "source": [
    "### Convertendo em GeoDataframe"
   ]
  },
  {
   "cell_type": "code",
   "execution_count": null,
   "metadata": {},
   "outputs": [],
   "source": [
    "# df_alv"
   ]
  },
  {
   "cell_type": "code",
   "execution_count": null,
   "metadata": {},
   "outputs": [],
   "source": [
    "df_alv.to_csv('resultados/resulatado-parcial-01.csv') "
   ]
  },
  {
   "cell_type": "code",
   "execution_count": null,
   "metadata": {},
   "outputs": [],
   "source": [
    "# df_alv.dtypes"
   ]
  },
  {
   "cell_type": "markdown",
   "metadata": {},
   "source": [
    "## Relacionando espacialmente"
   ]
  },
  {
   "cell_type": "code",
   "execution_count": 6,
   "metadata": {},
   "outputs": [
    {
     "name": "stdout",
     "output_type": "stream",
     "text": [
      "time: 843 ms\n"
     ]
    }
   ],
   "source": [
    "import geopandas as gpd"
   ]
  },
  {
   "cell_type": "code",
   "execution_count": null,
   "metadata": {},
   "outputs": [],
   "source": [
    "all_lotes = glob.glob(\"gis/lotes/*.zip\")\n",
    "\n",
    "li = []\n",
    "\n",
    "for filename in all_lotes:\n",
    "    zip_filename = f\"zip://{filename}!{filename.replace('gis/lotes/', '').replace('.zip', '')}\"\n",
    "    print(zip_filename)\n",
    "    #zipfile = \"zip:///Users/name/Downloads/gadm36_AFG_shp.zip!data\"\n",
    "    gdf = gpd.read_file(zip_filename)\n",
    "#     df = pd.read_csv(filename, encoding='latin1', \n",
    "#                      sep=';', \n",
    "#                      decimal=\",\", \n",
    "#                      header=None, \n",
    "#                      names=colunas[filename],\n",
    "#                      skiprows=[0])\n",
    "# #     li.append({\"arquivo\": filename,\n",
    "# #                \"headers\": list(df.columns)})\n",
    "    li.append(gdf)"
   ]
  },
  {
   "cell_type": "code",
   "execution_count": null,
   "metadata": {},
   "outputs": [],
   "source": [
    "gdf_lotes = gpd.GeoDataFrame(pd.concat(li, ignore_index=True))"
   ]
  },
  {
   "cell_type": "code",
   "execution_count": null,
   "metadata": {},
   "outputs": [],
   "source": [
    "gdf_lotes"
   ]
  },
  {
   "cell_type": "code",
   "execution_count": null,
   "metadata": {},
   "outputs": [],
   "source": [
    "gdf_lotes['sqlc'] = gdf_lotes.lo_setor + gdf_lotes.lo_quadra + gdf_lotes.lo_lote + gdf_lotes.lo_condomi"
   ]
  },
  {
   "cell_type": "code",
   "execution_count": null,
   "metadata": {},
   "outputs": [],
   "source": [
    "gdf_lotes.geometry = gdf_lotes.geometry.apply(lambda x: x.representative_point())"
   ]
  },
  {
   "cell_type": "code",
   "execution_count": null,
   "metadata": {},
   "outputs": [],
   "source": [
    "df_alv = df_alv.reset_index()"
   ]
  },
  {
   "cell_type": "code",
   "execution_count": null,
   "metadata": {},
   "outputs": [],
   "source": [
    "gdf_lotes[gdf_lotes.lo_tp_lote == 'F'][gdf_lotes[gdf_lotes.lo_tp_lote == 'F']['sqlc'].duplicated()].to_file(\"resultados/lotes-fiscais-duplicados.geojson\", driver='GeoJSON')"
   ]
  },
  {
   "cell_type": "code",
   "execution_count": null,
   "metadata": {},
   "outputs": [],
   "source": [
    "gdf_lotes.columns"
   ]
  },
  {
   "cell_type": "code",
   "execution_count": null,
   "metadata": {},
   "outputs": [],
   "source": [
    "gdf_lotes.drop_duplicates(subset=['sqlc', 'lo_tp_lote'], inplace=True)"
   ]
  },
  {
   "cell_type": "code",
   "execution_count": null,
   "metadata": {},
   "outputs": [],
   "source": [
    "gdf_lotes[gdf_lotes.lo_tp_lote == 'F'][gdf_lotes[gdf_lotes.lo_tp_lote == 'F']['sqlc'].duplicated()]"
   ]
  },
  {
   "cell_type": "code",
   "execution_count": null,
   "metadata": {},
   "outputs": [],
   "source": [
    "df_alv = df_alv.merge(gdf_lotes[gdf_lotes.lo_tp_lote == 'F'][['sqlc', 'geometry']], how='left', on='sqlc')"
   ]
  },
  {
   "cell_type": "code",
   "execution_count": null,
   "metadata": {},
   "outputs": [],
   "source": [
    "gdf_alv = gpd.GeoDataFrame(df_alv, geometry=df_alv.geometry)"
   ]
  },
  {
   "cell_type": "code",
   "execution_count": null,
   "metadata": {},
   "outputs": [],
   "source": [
    "gdf_alv.is_valid.value_counts()"
   ]
  },
  {
   "cell_type": "code",
   "execution_count": null,
   "metadata": {},
   "outputs": [],
   "source": [
    "gdf_alv.drop(columns=['index'], inplace=True)"
   ]
  },
  {
   "cell_type": "code",
   "execution_count": null,
   "metadata": {},
   "outputs": [],
   "source": [
    "gdf_quadras = gpd.read_file('gis/SIRGAS_SHP_quadraMDSF.shp')"
   ]
  },
  {
   "cell_type": "code",
   "execution_count": null,
   "metadata": {},
   "outputs": [],
   "source": [
    "gdf_alv[~gdf_alv.geometry.is_valid & gdf_alv.setor.notna() & gdf_alv.quadra.notna()][['setor', 'quadra']]"
   ]
  },
  {
   "cell_type": "code",
   "execution_count": null,
   "metadata": {},
   "outputs": [],
   "source": [
    "gdf_alv['sq'] = gdf_alv.setor + gdf_alv.quadra"
   ]
  },
  {
   "cell_type": "code",
   "execution_count": null,
   "metadata": {},
   "outputs": [],
   "source": [
    "gdf_quadras = gdf_quadras[gdf_quadras.qd_tipo != 'M'].drop_duplicates(subset=['qd_setor', 'qd_fiscal'])"
   ]
  },
  {
   "cell_type": "code",
   "execution_count": null,
   "metadata": {},
   "outputs": [],
   "source": [
    "gdf_quadras['sq'] = gdf_quadras.qd_setor + gdf_quadras.qd_fiscal"
   ]
  },
  {
   "cell_type": "code",
   "execution_count": null,
   "metadata": {},
   "outputs": [],
   "source": [
    "# gdf_alv.merge(gdf_quadras, on='sq', how='left')\n",
    "gdf_alv_sq = gdf_alv[~gdf_alv.is_valid & gdf_alv.setor.notna() & gdf_alv.quadra.notna()]"
   ]
  },
  {
   "cell_type": "code",
   "execution_count": null,
   "metadata": {},
   "outputs": [],
   "source": [
    "gdf_alv_quadras = gdf_alv_sq.reset_index().merge(gdf_quadras, on='sq', how='left').set_index('index').geometry_y\n",
    "# gdf_alv_sq"
   ]
  },
  {
   "cell_type": "code",
   "execution_count": null,
   "metadata": {},
   "outputs": [],
   "source": [
    "gdf_alv.index.set_names('index', inplace=True)"
   ]
  },
  {
   "cell_type": "code",
   "execution_count": null,
   "metadata": {},
   "outputs": [],
   "source": [
    "gdf_alv = gdf_alv.join(gdf_alv_quadras, how='left')"
   ]
  },
  {
   "cell_type": "code",
   "execution_count": null,
   "metadata": {},
   "outputs": [],
   "source": [
    "# from shapely import "
   ]
  },
  {
   "cell_type": "code",
   "execution_count": null,
   "metadata": {},
   "outputs": [],
   "source": [
    "import random\n",
    "from shapely.geometry import Point"
   ]
  },
  {
   "cell_type": "code",
   "execution_count": null,
   "metadata": {},
   "outputs": [],
   "source": [
    "gdf_alv_bkp = gdf_alv"
   ]
  },
  {
   "cell_type": "code",
   "execution_count": null,
   "metadata": {},
   "outputs": [],
   "source": [
    "gdf_alv.loc[gdf_alv.geometry_y.notna() ,['geometry']] = gdf_alv[gdf_alv.geometry_y.notna()].geometry_y.apply(lambda x: Point(random.choice(x.buffer(2).exterior.coords)))"
   ]
  },
  {
   "cell_type": "code",
   "execution_count": null,
   "metadata": {},
   "outputs": [],
   "source": [
    "gdf_alv.crs = 'EPSG:31983'"
   ]
  },
  {
   "cell_type": "code",
   "execution_count": null,
   "metadata": {},
   "outputs": [],
   "source": [
    "gdf_alv.loc[gdf_alv.is_valid].drop(['geometry_y'], axis=1).to_file('resultados/alvaras-geometrias-pelo-sql.gpkg', driver='GPKG')"
   ]
  },
  {
   "cell_type": "markdown",
   "metadata": {},
   "source": [
    "## Georeferenciando refugo"
   ]
  },
  {
   "cell_type": "code",
   "execution_count": null,
   "metadata": {},
   "outputs": [],
   "source": [
    "gdf_alv.columns"
   ]
  },
  {
   "cell_type": "code",
   "execution_count": null,
   "metadata": {},
   "outputs": [],
   "source": [
    "gdf_alv.loc[~gdf_alv.is_valid & gdf_alv.Endereço.notna(), ['Endereço', 'Bairro']].to_csv('resultados/alvaras-para-geocodificar.csv')"
   ]
  },
  {
   "cell_type": "markdown",
   "metadata": {},
   "source": [
    "### Relacionando espacialmente - DEPRECIADO"
   ]
  },
  {
   "cell_type": "code",
   "execution_count": null,
   "metadata": {},
   "outputs": [],
   "source": [
    "from owslib.wfs import WebFeatureService\n",
    "from owslib.csw import CatalogueServiceWeb\n",
    "import json\n",
    "import geopandas as gpd\n",
    "from shapely.geometry import shape\n",
    "from urllib.parse import quote"
   ]
  },
  {
   "cell_type": "code",
   "execution_count": null,
   "metadata": {},
   "outputs": [],
   "source": [
    "url_wfs = 'http://wfs.geosampa.prefeitura.sp.gov.br/geoserver/geoportal/wfs'\n",
    "\n",
    "wfs = WebFeatureService(url_wfs, version='2.0.0')"
   ]
  },
  {
   "cell_type": "code",
   "execution_count": null,
   "metadata": {},
   "outputs": [],
   "source": [
    "# list(wfs.operations)\n",
    "# wfs.contents"
   ]
  },
  {
   "cell_type": "code",
   "execution_count": null,
   "metadata": {},
   "outputs": [],
   "source": [
    "# response = wfs.getfeature(typename=\"geoportal:quadra_fiscal\", \n",
    "#                           outputFormat='application/json')"
   ]
  },
  {
   "cell_type": "code",
   "execution_count": null,
   "metadata": {},
   "outputs": [],
   "source": [
    "# quadras_fiscais = json.loads(response.read())"
   ]
  },
  {
   "cell_type": "code",
   "execution_count": null,
   "metadata": {},
   "outputs": [],
   "source": [
    "# len(quadras_fiscais['features'])"
   ]
  },
  {
   "cell_type": "code",
   "execution_count": null,
   "metadata": {},
   "outputs": [],
   "source": [
    "df_sqlcs = df_alv[df_alv.sqlc.notna()][['setor', 'quadra', 'lote', 'condominio']]"
   ]
  },
  {
   "cell_type": "code",
   "execution_count": null,
   "metadata": {},
   "outputs": [],
   "source": [
    "n = 50  #chunk row size\n",
    "list_sqlcs = [df_sqlcs[i:i+n] for i in range(0, df_sqlcs.shape[0], n)]"
   ]
  },
  {
   "cell_type": "code",
   "execution_count": null,
   "metadata": {},
   "outputs": [],
   "source": [
    "len(list_sqlcs)"
   ]
  },
  {
   "cell_type": "code",
   "execution_count": null,
   "metadata": {},
   "outputs": [],
   "source": [
    "import urllib.request"
   ]
  },
  {
   "cell_type": "code",
   "execution_count": null,
   "metadata": {},
   "outputs": [],
   "source": [
    "# response = wfs.getfeature(typename=\"geoportal:lote\", \n",
    "#                           outputFormat='application/json')\n",
    "\n",
    "feicoes = ''\n",
    "\n",
    "for df in list_sqlcs:\n",
    "    cql_string = ' OR '.join([f\"(cd_setor_fiscal='{r.setor}' and cd_quadra_fiscal='{r.quadra}' and cd_lote='{r.lote}')\" for k, r in df.iterrows()])\n",
    "    url = response.geturl() + '&cql_filter=' + quote(cql_string)\n",
    "    with urllib.request.urlopen(url) as response:\n",
    "       feicoes = json.loads(response.read())\n",
    "    break"
   ]
  },
  {
   "cell_type": "code",
   "execution_count": null,
   "metadata": {},
   "outputs": [],
   "source": [
    "feicoes"
   ]
  },
  {
   "cell_type": "code",
   "execution_count": null,
   "metadata": {},
   "outputs": [],
   "source": [
    "cql_string = ' OR '.join([f\"(cd_setor_fiscal='{s[0]}' and cd_quadra_fiscal='{s[1]}' and cd_lote='{s[2]}')\" for s in sqls])"
   ]
  },
  {
   "cell_type": "code",
   "execution_count": null,
   "metadata": {},
   "outputs": [],
   "source": [
    "response = wfs.getfeature(typename=\"geoportal:lote\", \n",
    "                          outputFormat='application/json')"
   ]
  },
  {
   "cell_type": "code",
   "execution_count": null,
   "metadata": {
    "scrolled": false
   },
   "outputs": [],
   "source": [
    "# cql_string"
   ]
  },
  {
   "cell_type": "markdown",
   "metadata": {},
   "source": [
    "### Localizados por endereço"
   ]
  },
  {
   "cell_type": "code",
   "execution_count": 8,
   "metadata": {},
   "outputs": [
    {
     "name": "stdout",
     "output_type": "stream",
     "text": [
      "time: 103 ms\n"
     ]
    }
   ],
   "source": [
    "gdf_geocod = gpd.read_file('resultados/ALVARA_FINAL_SAD6996.DBF')"
   ]
  },
  {
   "cell_type": "code",
   "execution_count": 11,
   "metadata": {},
   "outputs": [
    {
     "name": "stdout",
     "output_type": "stream",
     "text": [
      "time: 1.13 ms\n"
     ]
    }
   ],
   "source": [
    "gdf_geocod.set_index('ID', inplace=True)"
   ]
  },
  {
   "cell_type": "code",
   "execution_count": 13,
   "metadata": {},
   "outputs": [
    {
     "name": "stdout",
     "output_type": "stream",
     "text": [
      "time: 2.91 ms\n"
     ]
    }
   ],
   "source": [
    "gdf_geocod['LONGITUDE'] = gdf_geocod['LONGITUDE'] / 1000000"
   ]
  },
  {
   "cell_type": "code",
   "execution_count": 16,
   "metadata": {},
   "outputs": [
    {
     "name": "stdout",
     "output_type": "stream",
     "text": [
      "time: 1.24 ms\n"
     ]
    }
   ],
   "source": [
    "gdf_geocod['LATITUDE'] = gdf_geocod['LATITUDE'] / 1000000"
   ]
  },
  {
   "cell_type": "code",
   "execution_count": 19,
   "metadata": {},
   "outputs": [
    {
     "name": "stdout",
     "output_type": "stream",
     "text": [
      "time: 35.5 ms\n"
     ]
    }
   ],
   "source": [
    "gdf_geocod = gpd.GeoDataFrame(gdf_geocod, geometry=gpd.points_from_xy(gdf_geocod.LONGITUDE, gdf_geocod.LATITUDE))"
   ]
  },
  {
   "cell_type": "code",
   "execution_count": 20,
   "metadata": {},
   "outputs": [
    {
     "data": {
      "text/html": [
       "<div>\n",
       "<style scoped>\n",
       "    .dataframe tbody tr th:only-of-type {\n",
       "        vertical-align: middle;\n",
       "    }\n",
       "\n",
       "    .dataframe tbody tr th {\n",
       "        vertical-align: top;\n",
       "    }\n",
       "\n",
       "    .dataframe thead th {\n",
       "        text-align: right;\n",
       "    }\n",
       "</style>\n",
       "<table border=\"1\" class=\"dataframe\">\n",
       "  <thead>\n",
       "    <tr style=\"text-align: right;\">\n",
       "      <th></th>\n",
       "      <th>LONGITUDE</th>\n",
       "      <th>LATITUDE</th>\n",
       "      <th>CONTROLE</th>\n",
       "      <th>INDEX</th>\n",
       "      <th>ENDEREO</th>\n",
       "      <th>BAIRRO</th>\n",
       "      <th>LATITUDE1</th>\n",
       "      <th>LONGITUDE1</th>\n",
       "      <th>CONTROLE1</th>\n",
       "      <th>T</th>\n",
       "      <th>LAT</th>\n",
       "      <th>LONG</th>\n",
       "      <th>geometry</th>\n",
       "    </tr>\n",
       "    <tr>\n",
       "      <th>ID</th>\n",
       "      <th></th>\n",
       "      <th></th>\n",
       "      <th></th>\n",
       "      <th></th>\n",
       "      <th></th>\n",
       "      <th></th>\n",
       "      <th></th>\n",
       "      <th></th>\n",
       "      <th></th>\n",
       "      <th></th>\n",
       "      <th></th>\n",
       "      <th></th>\n",
       "      <th></th>\n",
       "    </tr>\n",
       "  </thead>\n",
       "  <tbody>\n",
       "    <tr>\n",
       "      <th>5689</th>\n",
       "      <td>-46.718516</td>\n",
       "      <td>-23.493350</td>\n",
       "      <td>EIXO_OK</td>\n",
       "      <td>10</td>\n",
       "      <td>R AMERICO MACHADO</td>\n",
       "      <td>None</td>\n",
       "      <td>-23494144.0</td>\n",
       "      <td>-46717817.0</td>\n",
       "      <td>EIXO_OK</td>\n",
       "      <td>-</td>\n",
       "      <td>-23493350</td>\n",
       "      <td>-46718516</td>\n",
       "      <td>POINT (-46.71852 -23.49335)</td>\n",
       "    </tr>\n",
       "    <tr>\n",
       "      <th>5724</th>\n",
       "      <td>NaN</td>\n",
       "      <td>NaN</td>\n",
       "      <td>None</td>\n",
       "      <td>12</td>\n",
       "      <td>R CASA DO CAMPO,251</td>\n",
       "      <td>None</td>\n",
       "      <td>-23687490.0</td>\n",
       "      <td>-46794110.0</td>\n",
       "      <td>None</td>\n",
       "      <td>-</td>\n",
       "      <td>None</td>\n",
       "      <td>None</td>\n",
       "      <td>POINT (nan nan)</td>\n",
       "    </tr>\n",
       "    <tr>\n",
       "      <th>5684</th>\n",
       "      <td>-46.436145</td>\n",
       "      <td>-23.559377</td>\n",
       "      <td>EIXO_OK</td>\n",
       "      <td>82</td>\n",
       "      <td>R AGRIMENSOR SUGAYA,968</td>\n",
       "      <td>None</td>\n",
       "      <td>-23559377.0</td>\n",
       "      <td>-46436145.0</td>\n",
       "      <td>EIXO_OK</td>\n",
       "      <td>-</td>\n",
       "      <td>-23559377</td>\n",
       "      <td>-46436145</td>\n",
       "      <td>POINT (-46.43615 -23.55938)</td>\n",
       "    </tr>\n",
       "    <tr>\n",
       "      <th>2228</th>\n",
       "      <td>-46.723666</td>\n",
       "      <td>-23.484701</td>\n",
       "      <td>EIXO_OK</td>\n",
       "      <td>191</td>\n",
       "      <td>AV RAIMUNDO PEREIRA DE MAGALHAES</td>\n",
       "      <td>None</td>\n",
       "      <td>-23484701.0</td>\n",
       "      <td>-46723666.0</td>\n",
       "      <td>None</td>\n",
       "      <td>-</td>\n",
       "      <td>-23484701</td>\n",
       "      <td>-46723666</td>\n",
       "      <td>POINT (-46.72367 -23.48470)</td>\n",
       "    </tr>\n",
       "    <tr>\n",
       "      <th>2372</th>\n",
       "      <td>-46.589941</td>\n",
       "      <td>-23.494745</td>\n",
       "      <td>EIXO_OK</td>\n",
       "      <td>308</td>\n",
       "      <td>ES DO VALO VELHO,9900</td>\n",
       "      <td>None</td>\n",
       "      <td>-23494745.0</td>\n",
       "      <td>-46589941.0</td>\n",
       "      <td>None</td>\n",
       "      <td>-</td>\n",
       "      <td>-23494745</td>\n",
       "      <td>-46589941</td>\n",
       "      <td>POINT (-46.58994 -23.49475)</td>\n",
       "    </tr>\n",
       "    <tr>\n",
       "      <th>...</th>\n",
       "      <td>...</td>\n",
       "      <td>...</td>\n",
       "      <td>...</td>\n",
       "      <td>...</td>\n",
       "      <td>...</td>\n",
       "      <td>...</td>\n",
       "      <td>...</td>\n",
       "      <td>...</td>\n",
       "      <td>...</td>\n",
       "      <td>...</td>\n",
       "      <td>...</td>\n",
       "      <td>...</td>\n",
       "      <td>...</td>\n",
       "    </tr>\n",
       "    <tr>\n",
       "      <th>2235</th>\n",
       "      <td>-46.449220</td>\n",
       "      <td>-23.492690</td>\n",
       "      <td>CADEK_OK</td>\n",
       "      <td>55018</td>\n",
       "      <td>AV S MIGUEL,SN</td>\n",
       "      <td>SAO MIGUEL PAULISTA</td>\n",
       "      <td>-23492690.0</td>\n",
       "      <td>-46449220.0</td>\n",
       "      <td>CADEK_OK</td>\n",
       "      <td>-</td>\n",
       "      <td>-23492690</td>\n",
       "      <td>-46449220</td>\n",
       "      <td>POINT (-46.44922 -23.49269)</td>\n",
       "    </tr>\n",
       "    <tr>\n",
       "      <th>5821</th>\n",
       "      <td>-46.409190</td>\n",
       "      <td>-23.531010</td>\n",
       "      <td>CADECK_OK</td>\n",
       "      <td>55278</td>\n",
       "      <td>R S JOSE DE MOSSAMEDES,216</td>\n",
       "      <td>None</td>\n",
       "      <td>-23531010.0</td>\n",
       "      <td>-46409190.0</td>\n",
       "      <td>CADECK_OK</td>\n",
       "      <td>-</td>\n",
       "      <td>-23531010</td>\n",
       "      <td>-46409190</td>\n",
       "      <td>POINT (-46.40919 -23.53101)</td>\n",
       "    </tr>\n",
       "    <tr>\n",
       "      <th>5794</th>\n",
       "      <td>-46.395838</td>\n",
       "      <td>-23.523997</td>\n",
       "      <td>EIXO_OK</td>\n",
       "      <td>55302</td>\n",
       "      <td>R MANOEL ALVARES PIMENTEL,11</td>\n",
       "      <td>None</td>\n",
       "      <td>-23524070.0</td>\n",
       "      <td>-46396019.0</td>\n",
       "      <td>EIXO_OK</td>\n",
       "      <td>-</td>\n",
       "      <td>-23523997</td>\n",
       "      <td>-46395838</td>\n",
       "      <td>POINT (-46.39584 -23.52400)</td>\n",
       "    </tr>\n",
       "    <tr>\n",
       "      <th>5822</th>\n",
       "      <td>-46.631120</td>\n",
       "      <td>-23.556280</td>\n",
       "      <td>CADECK_OK</td>\n",
       "      <td>55315</td>\n",
       "      <td>R S PAULO,137</td>\n",
       "      <td>None</td>\n",
       "      <td>-23556280.0</td>\n",
       "      <td>-46631120.0</td>\n",
       "      <td>CADECK_OK</td>\n",
       "      <td>-</td>\n",
       "      <td>-23556280</td>\n",
       "      <td>-46631120</td>\n",
       "      <td>POINT (-46.63112 -23.55628)</td>\n",
       "    </tr>\n",
       "    <tr>\n",
       "      <th>5810</th>\n",
       "      <td>-46.507864</td>\n",
       "      <td>-23.600452</td>\n",
       "      <td>EIXO_OK</td>\n",
       "      <td>55475</td>\n",
       "      <td>R POEMA DAS AMERICAS</td>\n",
       "      <td>None</td>\n",
       "      <td>-23600599.0</td>\n",
       "      <td>-46508026.0</td>\n",
       "      <td>EIXO_OK</td>\n",
       "      <td>-</td>\n",
       "      <td>-23600452</td>\n",
       "      <td>-46507864</td>\n",
       "      <td>POINT (-46.50786 -23.60045)</td>\n",
       "    </tr>\n",
       "  </tbody>\n",
       "</table>\n",
       "<p>5958 rows × 13 columns</p>\n",
       "</div>"
      ],
      "text/plain": [
       "      LONGITUDE   LATITUDE   CONTROLE  INDEX  \\\n",
       "ID                                             \n",
       "5689 -46.718516 -23.493350    EIXO_OK     10   \n",
       "5724        NaN        NaN       None     12   \n",
       "5684 -46.436145 -23.559377    EIXO_OK     82   \n",
       "2228 -46.723666 -23.484701    EIXO_OK    191   \n",
       "2372 -46.589941 -23.494745    EIXO_OK    308   \n",
       "...         ...        ...        ...    ...   \n",
       "2235 -46.449220 -23.492690   CADEK_OK  55018   \n",
       "5821 -46.409190 -23.531010  CADECK_OK  55278   \n",
       "5794 -46.395838 -23.523997    EIXO_OK  55302   \n",
       "5822 -46.631120 -23.556280  CADECK_OK  55315   \n",
       "5810 -46.507864 -23.600452    EIXO_OK  55475   \n",
       "\n",
       "                               ENDEREO               BAIRRO   LATITUDE1  \\\n",
       "ID                                                                        \n",
       "5689                 R AMERICO MACHADO                 None -23494144.0   \n",
       "5724               R CASA DO CAMPO,251                 None -23687490.0   \n",
       "5684           R AGRIMENSOR SUGAYA,968                 None -23559377.0   \n",
       "2228  AV RAIMUNDO PEREIRA DE MAGALHAES                 None -23484701.0   \n",
       "2372             ES DO VALO VELHO,9900                 None -23494745.0   \n",
       "...                                ...                  ...         ...   \n",
       "2235                    AV S MIGUEL,SN  SAO MIGUEL PAULISTA -23492690.0   \n",
       "5821        R S JOSE DE MOSSAMEDES,216                 None -23531010.0   \n",
       "5794      R MANOEL ALVARES PIMENTEL,11                 None -23524070.0   \n",
       "5822                     R S PAULO,137                 None -23556280.0   \n",
       "5810              R POEMA DAS AMERICAS                 None -23600599.0   \n",
       "\n",
       "      LONGITUDE1  CONTROLE1  T        LAT       LONG  \\\n",
       "ID                                                     \n",
       "5689 -46717817.0    EIXO_OK  -  -23493350  -46718516   \n",
       "5724 -46794110.0       None  -       None       None   \n",
       "5684 -46436145.0    EIXO_OK  -  -23559377  -46436145   \n",
       "2228 -46723666.0       None  -  -23484701  -46723666   \n",
       "2372 -46589941.0       None  -  -23494745  -46589941   \n",
       "...          ...        ... ..        ...        ...   \n",
       "2235 -46449220.0   CADEK_OK  -  -23492690  -46449220   \n",
       "5821 -46409190.0  CADECK_OK  -  -23531010  -46409190   \n",
       "5794 -46396019.0    EIXO_OK  -  -23523997  -46395838   \n",
       "5822 -46631120.0  CADECK_OK  -  -23556280  -46631120   \n",
       "5810 -46508026.0    EIXO_OK  -  -23600452  -46507864   \n",
       "\n",
       "                         geometry  \n",
       "ID                                 \n",
       "5689  POINT (-46.71852 -23.49335)  \n",
       "5724              POINT (nan nan)  \n",
       "5684  POINT (-46.43615 -23.55938)  \n",
       "2228  POINT (-46.72367 -23.48470)  \n",
       "2372  POINT (-46.58994 -23.49475)  \n",
       "...                           ...  \n",
       "2235  POINT (-46.44922 -23.49269)  \n",
       "5821  POINT (-46.40919 -23.53101)  \n",
       "5794  POINT (-46.39584 -23.52400)  \n",
       "5822  POINT (-46.63112 -23.55628)  \n",
       "5810  POINT (-46.50786 -23.60045)  \n",
       "\n",
       "[5958 rows x 13 columns]"
      ]
     },
     "execution_count": 20,
     "metadata": {},
     "output_type": "execute_result"
    },
    {
     "name": "stdout",
     "output_type": "stream",
     "text": [
      "time: 20.9 ms\n"
     ]
    }
   ],
   "source": [
    "gdf_geocod"
   ]
  },
  {
   "cell_type": "code",
   "execution_count": 29,
   "metadata": {},
   "outputs": [
    {
     "name": "stdout",
     "output_type": "stream",
     "text": [
      "time: 15.6 ms\n"
     ]
    }
   ],
   "source": [
    "gdf_geocod.set_crs('EPSG:4618')\n",
    "gdf_geocod.crs = 'EPSG:4618'"
   ]
  },
  {
   "cell_type": "code",
   "execution_count": 31,
   "metadata": {},
   "outputs": [
    {
     "data": {
      "text/plain": [
       "<matplotlib.axes._subplots.AxesSubplot at 0x7fb16027b9d0>"
      ]
     },
     "execution_count": 31,
     "metadata": {},
     "output_type": "execute_result"
    },
    {
     "data": {
      "image/png": "[encoded data removed]",
      "text/plain": [
       "<Figure size 432x288 with 1 Axes>"
      ]
     },
     "metadata": {
      "needs_background": "light"
     },
     "output_type": "display_data"
    },
    {
     "name": "stdout",
     "output_type": "stream",
     "text": [
      "time: 506 ms\n"
     ]
    }
   ],
   "source": [
    "gdf_geocod.to_crs('EPSG:31983').plot()"
   ]
  },
  {
   "cell_type": "code",
   "execution_count": null,
   "metadata": {},
   "outputs": [],
   "source": []
  }
 ],
 "metadata": {
  "kernelspec": {
   "display_name": "Python 3",
   "language": "python",
   "name": "python3"
  },
  "language_info": {
   "codemirror_mode": {
    "name": "ipython",
    "version": 3
   },
   "file_extension": ".py",
   "mimetype": "text/x-python",
   "name": "python",
   "nbconvert_exporter": "python",
   "pygments_lexer": "ipython3",
   "version": "3.7.6"
  }
 },
 "nbformat": 4,
 "nbformat_minor": 4
}
