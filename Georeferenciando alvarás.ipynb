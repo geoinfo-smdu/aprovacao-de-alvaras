{
 "cells": [
  {
   "cell_type": "markdown",
   "metadata": {},
   "source": [
    "## Georeferenciando Alvarás\n",
    "\n",
    "### Acessando os dados de Alvará"
   ]
  },
  {
   "cell_type": "code",
   "execution_count": 1,
   "metadata": {},
   "outputs": [],
   "source": [
    "import pandas as pd"
   ]
  },
  {
   "cell_type": "code",
   "execution_count": 2,
   "metadata": {},
   "outputs": [],
   "source": [
    "import glob\n",
    "import numpy as np"
   ]
  },
  {
   "cell_type": "code",
   "execution_count": 3,
   "metadata": {},
   "outputs": [],
   "source": [
    "%load_ext autotime"
   ]
  },
  {
   "cell_type": "code",
   "execution_count": 4,
   "metadata": {},
   "outputs": [
    {
     "name": "stdout",
     "output_type": "stream",
     "text": [
      "time: 30.5 ms\n"
     ]
    }
   ],
   "source": [
    "df_alv = pd.read_csv('data/anual2018dezembro.csv', encoding='latin1', sep=';', decimal=\",\")"
   ]
  },
  {
   "cell_type": "code",
   "execution_count": 5,
   "metadata": {},
   "outputs": [
    {
     "data": {
      "text/plain": [
       "{'data/anual2004.csv': ['Mês',\n",
       "  'Unidade',\n",
       "  'Subprefeitura',\n",
       "  'Alvará',\n",
       "  'Descrição',\n",
       "  'Tipo de Construção',\n",
       "  'SQL_Incra',\n",
       "  'Categoria de uso',\n",
       "  'Zona de uso atual',\n",
       "  'Bairro',\n",
       "  'Área da construção',\n",
       "  'Unnamed: 11',\n",
       "  'Proprietário',\n",
       "  'Área do terreno',\n",
       "  'Unnamed: 14',\n",
       "  'Endereço',\n",
       "  'Aprovação',\n",
       "  'Dirigente técnico',\n",
       "  'Responsável pela empresa',\n",
       "  'Autor do projeto',\n",
       "  'Responsável pela empresa 1',\n",
       "  'Blocos',\n",
       "  'Unidades',\n",
       "  'Pavimentos',\n",
       "  'Unnamed: 24',\n",
       "  'Unnamed: 25',\n",
       "  'Unnamed: 26',\n",
       "  'Unnamed: 27',\n",
       "  'Unnamed: 28',\n",
       "  'Unnamed: 29',\n",
       "  'Unnamed: 30',\n",
       "  'Unnamed: 31',\n",
       "  'Unnamed: 32',\n",
       "  'Unnamed: 33',\n",
       "  'Unnamed: 34',\n",
       "  'Unnamed: 35'],\n",
       " 'data/anual2008.csv': ['Mês',\n",
       "  'Unidade',\n",
       "  'Subprefeitura',\n",
       "  'Alvará',\n",
       "  'Descrição',\n",
       "  'Tipo de Construção',\n",
       "  'SQL_Incra',\n",
       "  'Categoria de uso',\n",
       "  'Zona de uso atual',\n",
       "  'Bairro',\n",
       "  'Área da construção',\n",
       "  'Unnamed: 11',\n",
       "  'Proprietário',\n",
       "  'Área do terreno',\n",
       "  'Unnamed: 14',\n",
       "  'Endereço',\n",
       "  'Aprovação',\n",
       "  'Dirigente técnico',\n",
       "  'Responsável pela empresa',\n",
       "  'Autor do projeto',\n",
       "  'Responsável pela empresa 1',\n",
       "  'Blocos',\n",
       "  'Unidades',\n",
       "  'Pavimentos',\n",
       "  'Unnamed: 24',\n",
       "  'Unnamed: 25',\n",
       "  'Unnamed: 26',\n",
       "  'Unnamed: 27',\n",
       "  'Unnamed: 28',\n",
       "  'Unnamed: 29',\n",
       "  'Unnamed: 30',\n",
       "  'Unnamed: 31',\n",
       "  'Unnamed: 32',\n",
       "  'Unnamed: 33',\n",
       "  'Unnamed: 34',\n",
       "  'Unnamed: 35'],\n",
       " 'data/anual2012.csv': ['Mês',\n",
       "  'Unidade',\n",
       "  'Subprefeitura',\n",
       "  'Alvará',\n",
       "  'Processo',\n",
       "  'Descrição',\n",
       "  'SQL_Incra',\n",
       "  'Categoria de uso',\n",
       "  'Zona de uso atual',\n",
       "  'Zona de uso anterior',\n",
       "  'Bairro',\n",
       "  'Área da construção',\n",
       "  'Proprietário',\n",
       "  'Área do terreno',\n",
       "  'Endereço',\n",
       "  'Aprovação',\n",
       "  'Dirigente técnico',\n",
       "  'Responsável pela empresa',\n",
       "  'Autor do projeto',\n",
       "  'Responsável pela empresa 1',\n",
       "  '(B)locos / (P)avimentos / (U)nidades',\n",
       "  'Unnamed: 21',\n",
       "  'Unnamed: 22',\n",
       "  'Unnamed: 23',\n",
       "  'Unnamed: 24',\n",
       "  'Unnamed: 25',\n",
       "  'Unnamed: 26',\n",
       "  'Unnamed: 27',\n",
       "  'Unnamed: 28',\n",
       "  'Unnamed: 29',\n",
       "  'Unnamed: 30',\n",
       "  'Unnamed: 31',\n",
       "  'Unnamed: 32',\n",
       "  'Unnamed: 33',\n",
       "  'Unnamed: 34',\n",
       "  'Unnamed: 35'],\n",
       " 'data/anual2016.csv': ['Mês',\n",
       "  'Unidade',\n",
       "  'Subprefeitura',\n",
       "  'Alvará',\n",
       "  'Processo',\n",
       "  'Descrição',\n",
       "  'Data autuação',\n",
       "  'SQL_Incra',\n",
       "  'Categoria de uso',\n",
       "  'Zona de uso atual',\n",
       "  'Zona de uso anterior',\n",
       "  'Bairro',\n",
       "  'Área da construção',\n",
       "  'Proprietário',\n",
       "  'Área do terreno',\n",
       "  'Endereço',\n",
       "  'Aprovação',\n",
       "  'Dirigente técnico',\n",
       "  'Responsável pela empresa',\n",
       "  'Autor do projeto',\n",
       "  'Responsável pela empresa 1',\n",
       "  '(B)locos / (P)avimentos / (U)nidades',\n",
       "  'Unnamed: 22',\n",
       "  'Unnamed: 23',\n",
       "  'Unnamed: 24',\n",
       "  'Unnamed: 25',\n",
       "  'Unnamed: 26',\n",
       "  'Unnamed: 27',\n",
       "  'Unnamed: 28',\n",
       "  'Unnamed: 29',\n",
       "  'Unnamed: 30',\n",
       "  'Unnamed: 31',\n",
       "  'Unnamed: 32',\n",
       "  'Unnamed: 33',\n",
       "  'Unnamed: 34',\n",
       "  'Unnamed: 35'],\n",
       " 'data/anual2003.csv': ['Mês',\n",
       "  'Unidade',\n",
       "  'Subprefeitura',\n",
       "  'Alvará',\n",
       "  'Descrição',\n",
       "  'Tipo de Construção',\n",
       "  'SQL_Incra',\n",
       "  'Categoria de uso',\n",
       "  'Categoria de uso 1',\n",
       "  'Categoria de uso 2',\n",
       "  'Categoria de uso 3',\n",
       "  'Zona de uso atual',\n",
       "  'Bairro',\n",
       "  'Área da construção',\n",
       "  'Área do terreno',\n",
       "  'Remover: AREAEXIST',\n",
       "  'Remover: AREAAAUM',\n",
       "  'Remover: AREADIM',\n",
       "  'Remover: AREAMODI',\n",
       "  'Remover: AREAAUTO',\n",
       "  'Proprietário',\n",
       "  'Endereço',\n",
       "  'Endereço 1',\n",
       "  'Endereço 2',\n",
       "  'Aprovação',\n",
       "  'Dirigente técnico',\n",
       "  'Responsável pela empresa',\n",
       "  'Autor do projeto',\n",
       "  'Responsável pela empresa 1',\n",
       "  'Remover: SEQUENCIA',\n",
       "  'Processo',\n",
       "  'Remover: IDENT',\n",
       "  'Remover: ESPACO',\n",
       "  'Remover: CODDOCU',\n",
       "  'Remover: CODADTV',\n",
       "  'Data autuação'],\n",
       " 'data/anual2018dezembro.csv': ['Mês',\n",
       "  'Unidade',\n",
       "  'Subprefeitura',\n",
       "  'Alvará',\n",
       "  'Processo',\n",
       "  'Descrição',\n",
       "  'Data autuação',\n",
       "  'SQL_Incra',\n",
       "  'Categoria de uso',\n",
       "  'Zona de uso atual',\n",
       "  'Zona de uso anterior',\n",
       "  'Bairro',\n",
       "  'Área da construção',\n",
       "  'Proprietário',\n",
       "  'Área do terreno',\n",
       "  'Endereço',\n",
       "  'Aprovação',\n",
       "  'Dirigente técnico',\n",
       "  'Responsável pela empresa',\n",
       "  'Autor do projeto',\n",
       "  'Responsável pela empresa 1',\n",
       "  '(B)locos / (P)avimentos / (U)nidades',\n",
       "  'Unnamed: 22',\n",
       "  'Unnamed: 23',\n",
       "  'Unnamed: 24',\n",
       "  'Unnamed: 25',\n",
       "  'Unnamed: 26',\n",
       "  'Unnamed: 27',\n",
       "  'Unnamed: 28',\n",
       "  'Unnamed: 29',\n",
       "  'Unnamed: 30',\n",
       "  'Unnamed: 31',\n",
       "  'Unnamed: 32',\n",
       "  'Unnamed: 33',\n",
       "  'Unnamed: 34',\n",
       "  'Unnamed: 35'],\n",
       " 'data/anual2010.csv': ['Mês',\n",
       "  'Unidade',\n",
       "  'Subprefeitura',\n",
       "  'Alvará',\n",
       "  'Descrição',\n",
       "  'Tipo de Construção',\n",
       "  'SQL_Incra',\n",
       "  'Categoria de uso',\n",
       "  'Zona de uso atual',\n",
       "  'Bairro',\n",
       "  'Área da construção',\n",
       "  'Unnamed: 11',\n",
       "  'Proprietário',\n",
       "  'Área do terreno',\n",
       "  'Unnamed: 14',\n",
       "  'Endereço',\n",
       "  'Aprovação',\n",
       "  'Dirigente técnico',\n",
       "  'Responsável pela empresa',\n",
       "  'Autor do projeto',\n",
       "  'Responsável pela empresa 1',\n",
       "  'Blocos',\n",
       "  'Unidades',\n",
       "  'Pavimentos',\n",
       "  'Unnamed: 24',\n",
       "  'Unnamed: 25',\n",
       "  'Unnamed: 26',\n",
       "  'Unnamed: 27',\n",
       "  'Unnamed: 28',\n",
       "  'Unnamed: 29',\n",
       "  'Unnamed: 30',\n",
       "  'Unnamed: 31',\n",
       "  'Unnamed: 32',\n",
       "  'Unnamed: 33',\n",
       "  'Unnamed: 34',\n",
       "  'Unnamed: 35'],\n",
       " 'data/anual2011.csv': ['Mês',\n",
       "  'Unidade',\n",
       "  'Subprefeitura',\n",
       "  'Alvará',\n",
       "  'Descrição',\n",
       "  'SQL_Incra',\n",
       "  'Categoria de uso',\n",
       "  'Zona de uso atual',\n",
       "  'Zona de uso anterior',\n",
       "  'Bairro',\n",
       "  'Área da construção',\n",
       "  'Proprietário',\n",
       "  'Área do terreno',\n",
       "  'Endereço',\n",
       "  'Aprovação',\n",
       "  'Dirigente técnico',\n",
       "  'Responsável pela empresa',\n",
       "  'Autor do projeto',\n",
       "  'Responsável pela empresa 1',\n",
       "  '(B)locos / (P)avimentos / (U)nidades',\n",
       "  'Unnamed: 20',\n",
       "  'Unnamed: 21',\n",
       "  'Unnamed: 22',\n",
       "  'Unnamed: 23',\n",
       "  'Unnamed: 24',\n",
       "  'Unnamed: 25',\n",
       "  'Unnamed: 26',\n",
       "  'Unnamed: 27',\n",
       "  'Unnamed: 28',\n",
       "  'Unnamed: 29',\n",
       "  'Unnamed: 30',\n",
       "  'Unnamed: 31',\n",
       "  'Unnamed: 32',\n",
       "  'Unnamed: 33',\n",
       "  'Unnamed: 34',\n",
       "  'Unnamed: 35'],\n",
       " 'data/anual2017dezembro.csv': ['Mês',\n",
       "  'Unidade',\n",
       "  'Subprefeitura',\n",
       "  'Alvará',\n",
       "  'Processo',\n",
       "  'Descrição',\n",
       "  'Data autuação',\n",
       "  'SQL_Incra',\n",
       "  'Categoria de uso',\n",
       "  'Zona de uso atual',\n",
       "  'Zona de uso anterior',\n",
       "  'Bairro',\n",
       "  'Área da construção',\n",
       "  'Proprietário',\n",
       "  'Área do terreno',\n",
       "  'Endereço',\n",
       "  'Aprovação',\n",
       "  'Dirigente técnico',\n",
       "  'Responsável pela empresa',\n",
       "  'Autor do projeto',\n",
       "  'Responsável pela empresa 1',\n",
       "  '(B)locos / (P)avimentos / (U)nidades',\n",
       "  'Unnamed: 22',\n",
       "  'Unnamed: 23',\n",
       "  'Unnamed: 24',\n",
       "  'Unnamed: 25',\n",
       "  'Unnamed: 26',\n",
       "  'Unnamed: 27',\n",
       "  'Unnamed: 28',\n",
       "  'Unnamed: 29',\n",
       "  'Unnamed: 30',\n",
       "  'Unnamed: 31',\n",
       "  'Unnamed: 32',\n",
       "  'Unnamed: 33',\n",
       "  'Unnamed: 34',\n",
       "  'Unnamed: 35'],\n",
       " 'data/anual2014.csv': ['Mês',\n",
       "  'Unidade',\n",
       "  'Subprefeitura',\n",
       "  'Alvará',\n",
       "  'Processo',\n",
       "  'Descrição',\n",
       "  'SQL_Incra',\n",
       "  'Categoria de uso',\n",
       "  'Zona de uso atual',\n",
       "  'Zona de uso anterior',\n",
       "  'Bairro',\n",
       "  'Área da construção',\n",
       "  'Proprietário',\n",
       "  'Área do terreno',\n",
       "  'Endereço',\n",
       "  'Aprovação',\n",
       "  'Dirigente técnico',\n",
       "  'Responsável pela empresa',\n",
       "  'Autor do projeto',\n",
       "  'Responsável pela empresa 1',\n",
       "  '(B)locos / (P)avimentos / (U)nidades',\n",
       "  'Unnamed: 21',\n",
       "  'Unnamed: 22',\n",
       "  'Unnamed: 23',\n",
       "  'Unnamed: 24',\n",
       "  'Unnamed: 25',\n",
       "  'Unnamed: 26',\n",
       "  'Unnamed: 27',\n",
       "  'Unnamed: 28',\n",
       "  'Unnamed: 29',\n",
       "  'Unnamed: 30',\n",
       "  'Unnamed: 31',\n",
       "  'Unnamed: 32',\n",
       "  'Unnamed: 33',\n",
       "  'Unnamed: 34',\n",
       "  'Unnamed: 35'],\n",
       " 'data/anual2009.csv': ['Mês',\n",
       "  'Unidade',\n",
       "  'Subprefeitura',\n",
       "  'Alvará',\n",
       "  'Descrição',\n",
       "  'Tipo de Construção',\n",
       "  'SQL_Incra',\n",
       "  'Categoria de uso',\n",
       "  'Zona de uso atual',\n",
       "  'Bairro',\n",
       "  'Área da construção',\n",
       "  'Unnamed: 11',\n",
       "  'Proprietário',\n",
       "  'Área do terreno',\n",
       "  'Unnamed: 14',\n",
       "  'Endereço',\n",
       "  'Aprovação',\n",
       "  'Dirigente técnico',\n",
       "  'Responsável pela empresa',\n",
       "  'Autor do projeto',\n",
       "  'Responsável pela empresa 1',\n",
       "  'Blocos',\n",
       "  'Unidades',\n",
       "  'Pavimentos',\n",
       "  'Unnamed: 24',\n",
       "  'Unnamed: 25',\n",
       "  'Unnamed: 26',\n",
       "  'Unnamed: 27',\n",
       "  'Unnamed: 28',\n",
       "  'Unnamed: 29',\n",
       "  'Unnamed: 30',\n",
       "  'Unnamed: 31',\n",
       "  'Unnamed: 32',\n",
       "  'Unnamed: 33',\n",
       "  'Unnamed: 34',\n",
       "  'Unnamed: 35'],\n",
       " 'data/anual2007.csv': ['Mês',\n",
       "  'Unidade',\n",
       "  'Subprefeitura',\n",
       "  'Alvará',\n",
       "  'Descrição',\n",
       "  'Tipo de Construção',\n",
       "  'SQL_Incra',\n",
       "  'Categoria de uso',\n",
       "  'Zona de uso atual',\n",
       "  'Bairro',\n",
       "  'Área da construção',\n",
       "  'Unnamed: 11',\n",
       "  'Proprietário',\n",
       "  'Área do terreno',\n",
       "  'Unnamed: 14',\n",
       "  'Endereço',\n",
       "  'Aprovação',\n",
       "  'Dirigente técnico',\n",
       "  'Responsável pela empresa',\n",
       "  'Autor do projeto',\n",
       "  'Responsável pela empresa 1',\n",
       "  'Blocos',\n",
       "  'Unidades',\n",
       "  'Pavimentos',\n",
       "  'Unnamed: 24',\n",
       "  'Unnamed: 25',\n",
       "  'Unnamed: 26',\n",
       "  'Unnamed: 27',\n",
       "  'Unnamed: 28',\n",
       "  'Unnamed: 29',\n",
       "  'Unnamed: 30',\n",
       "  'Unnamed: 31',\n",
       "  'Unnamed: 32',\n",
       "  'Unnamed: 33',\n",
       "  'Unnamed: 34',\n",
       "  'Unnamed: 35'],\n",
       " 'data/anual2006.csv': ['Mês',\n",
       "  'Unidade',\n",
       "  'Subprefeitura',\n",
       "  'Alvará',\n",
       "  'Descrição',\n",
       "  'Tipo de Construção',\n",
       "  'SQL_Incra',\n",
       "  'Categoria de uso',\n",
       "  'Zona de uso atual',\n",
       "  'Bairro',\n",
       "  'Área da construção',\n",
       "  'Unnamed: 11',\n",
       "  'Proprietário',\n",
       "  'Área do terreno',\n",
       "  'Unnamed: 14',\n",
       "  'Endereço',\n",
       "  'Aprovação',\n",
       "  'Dirigente técnico',\n",
       "  'Responsável pela empresa',\n",
       "  'Autor do projeto',\n",
       "  'Responsável pela empresa 1',\n",
       "  'Blocos',\n",
       "  'Unidades',\n",
       "  'Pavimentos',\n",
       "  'Unnamed: 24',\n",
       "  'Unnamed: 25',\n",
       "  'Unnamed: 26',\n",
       "  'Unnamed: 27',\n",
       "  'Unnamed: 28',\n",
       "  'Unnamed: 29',\n",
       "  'Unnamed: 30',\n",
       "  'Unnamed: 31',\n",
       "  'Unnamed: 32',\n",
       "  'Unnamed: 33',\n",
       "  'Unnamed: 34',\n",
       "  'Unnamed: 35'],\n",
       " 'data/anual2005.csv': ['Mês',\n",
       "  'Unidade',\n",
       "  'Subprefeitura',\n",
       "  'Alvará',\n",
       "  'Descrição',\n",
       "  'Tipo de Construção',\n",
       "  'SQL_Incra',\n",
       "  'Categoria de uso',\n",
       "  'Zona de uso atual',\n",
       "  'Bairro',\n",
       "  'Área da construção',\n",
       "  'Unnamed: 11',\n",
       "  'Proprietário',\n",
       "  'Área do terreno',\n",
       "  'Unnamed: 14',\n",
       "  'Endereço',\n",
       "  'Aprovação',\n",
       "  'Dirigente técnico',\n",
       "  'Responsável pela empresa',\n",
       "  'Autor do projeto',\n",
       "  'Responsável pela empresa 1',\n",
       "  'Blocos',\n",
       "  'Unidades',\n",
       "  'Pavimentos',\n",
       "  'Unnamed: 24',\n",
       "  'Unnamed: 25',\n",
       "  'Unnamed: 26',\n",
       "  'Unnamed: 27',\n",
       "  'Unnamed: 28',\n",
       "  'Unnamed: 29',\n",
       "  'Unnamed: 30',\n",
       "  'Unnamed: 31',\n",
       "  'Unnamed: 32',\n",
       "  'Unnamed: 33',\n",
       "  'Unnamed: 34',\n",
       "  'Unnamed: 35'],\n",
       " 'data/anual2015.csv': ['Mês',\n",
       "  'Unidade',\n",
       "  'Subprefeitura',\n",
       "  'Alvará',\n",
       "  'Processo',\n",
       "  'Descrição',\n",
       "  'SQL_Incra',\n",
       "  'Categoria de uso',\n",
       "  'Zona de uso atual',\n",
       "  'Zona de uso anterior',\n",
       "  'Bairro',\n",
       "  'Área da construção',\n",
       "  'Proprietário',\n",
       "  'Área do terreno',\n",
       "  'Endereço',\n",
       "  'Aprovação',\n",
       "  'Dirigente técnico',\n",
       "  'Responsável pela empresa',\n",
       "  'Autor do projeto',\n",
       "  'Responsável pela empresa 1',\n",
       "  '(B)locos / (P)avimentos / (U)nidades',\n",
       "  'Unnamed: 21',\n",
       "  'Unnamed: 22',\n",
       "  'Unnamed: 23',\n",
       "  'Unnamed: 24',\n",
       "  'Unnamed: 25',\n",
       "  'Unnamed: 26',\n",
       "  'Unnamed: 27',\n",
       "  'Unnamed: 28',\n",
       "  'Unnamed: 29',\n",
       "  'Unnamed: 30',\n",
       "  'Unnamed: 31',\n",
       "  'Unnamed: 32',\n",
       "  'Unnamed: 33',\n",
       "  'Unnamed: 34',\n",
       "  'Unnamed: 35'],\n",
       " 'data/anual2013.csv': ['Mês',\n",
       "  'Unidade',\n",
       "  'Subprefeitura',\n",
       "  'Alvará',\n",
       "  'Processo',\n",
       "  'Descrição',\n",
       "  'SQL_Incra',\n",
       "  'Categoria de uso',\n",
       "  'Zona de uso atual',\n",
       "  'Zona de uso anterior',\n",
       "  'Bairro',\n",
       "  'Área da construção',\n",
       "  'Proprietário',\n",
       "  'Área do terreno',\n",
       "  'Endereço',\n",
       "  'Aprovação',\n",
       "  'Dirigente técnico',\n",
       "  'Responsável pela empresa',\n",
       "  'Autor do projeto',\n",
       "  'Responsável pela empresa 1',\n",
       "  '(B)locos / (P)avimentos / (U)nidades',\n",
       "  'Unnamed: 21',\n",
       "  'Unnamed: 22',\n",
       "  'Unnamed: 23',\n",
       "  'Unnamed: 24',\n",
       "  'Unnamed: 25',\n",
       "  'Unnamed: 26',\n",
       "  'Unnamed: 27',\n",
       "  'Unnamed: 28',\n",
       "  'Unnamed: 29',\n",
       "  'Unnamed: 30',\n",
       "  'Unnamed: 31',\n",
       "  'Unnamed: 32',\n",
       "  'Unnamed: 33',\n",
       "  'Unnamed: 34',\n",
       "  'Unnamed: 35'],\n",
       " 'data/anual2002---a-partir-de-abril.csv': ['Mês',\n",
       "  'Unidade',\n",
       "  'Subprefeitura',\n",
       "  'Alvará',\n",
       "  'Descrição',\n",
       "  'Tipo de Construção',\n",
       "  'SQL_Incra',\n",
       "  'Categoria de uso',\n",
       "  'Zona de uso atual',\n",
       "  'Bairro',\n",
       "  'Área da construção',\n",
       "  'Unnamed: 11',\n",
       "  'Proprietário',\n",
       "  'Área do terreno',\n",
       "  'Unnamed: 14',\n",
       "  'Endereço',\n",
       "  'Aprovação',\n",
       "  'Dirigente técnico',\n",
       "  'Responsável pela empresa',\n",
       "  'Autor do projeto',\n",
       "  'Responsável pela empresa 1',\n",
       "  'Blocos',\n",
       "  'Unidades',\n",
       "  'Pavimentos',\n",
       "  'Unnamed: 24',\n",
       "  'Unnamed: 25',\n",
       "  'Unnamed: 26',\n",
       "  'Unnamed: 27',\n",
       "  'Unnamed: 28',\n",
       "  'Unnamed: 29',\n",
       "  'Unnamed: 30',\n",
       "  'Unnamed: 31',\n",
       "  'Unnamed: 32',\n",
       "  'Unnamed: 33',\n",
       "  'Unnamed: 34',\n",
       "  'Unnamed: 35']}"
      ]
     },
     "execution_count": 5,
     "metadata": {},
     "output_type": "execute_result"
    },
    {
     "name": "stdout",
     "output_type": "stream",
     "text": [
      "time: 13.4 ms\n"
     ]
    }
   ],
   "source": [
    "## Abre o CSV normalizado\n",
    "import csv\n",
    "colunas = {}\n",
    "\n",
    "with open('resultados/colunas_planilhas_normalizada.csv', newline='') as f:\n",
    "    reader = csv.reader(f, delimiter=';')\n",
    "    data = list(reader)\n",
    "\n",
    "## carrega em um Dicionário de nome de arquivo, contendo as colunas\n",
    "# [colunas[l[0]] = l[1:] for l in data]\n",
    "\n",
    "for l in data:\n",
    "    colunas[l[0]] = l[1:]\n",
    "\n",
    "colunas"
   ]
  },
  {
   "cell_type": "code",
   "execution_count": 6,
   "metadata": {},
   "outputs": [
    {
     "name": "stdout",
     "output_type": "stream",
     "text": [
      "data/anual2004.csv\n",
      "data/anual2008.csv\n",
      "data/anual2012.csv\n",
      "data/anual2016.csv\n",
      "data/anual2003.csv\n",
      "data/anual2018dezembro.csv\n",
      "data/anual2010.csv\n",
      "data/anual2011.csv\n",
      "data/anual2017dezembro.csv\n",
      "data/anual2014.csv\n",
      "data/anual2009.csv\n",
      "data/anual2007.csv\n",
      "data/anual2006.csv\n",
      "data/anual2005.csv\n",
      "data/anual2015.csv\n",
      "data/anual2013.csv\n",
      "data/anual2002---a-partir-de-abril.csv\n",
      "time: 467 ms\n"
     ]
    }
   ],
   "source": [
    "# path = r'C:\\DRO\\DCL_rawdata_files' # use your path\n",
    "all_files = glob.glob(\"data/*.csv\")\n",
    "\n",
    "li = []\n",
    "\n",
    "for filename in all_files:\n",
    "    print(filename)\n",
    "    df = pd.read_csv(filename, encoding='latin1', \n",
    "                     sep=';', \n",
    "                     decimal=\",\", \n",
    "                     header=None, \n",
    "                     names=colunas[filename],\n",
    "                     skiprows=[0])\n",
    "#     li.append({\"arquivo\": filename,\n",
    "#                \"headers\": list(df.columns)})\n",
    "    li.append(df)\n",
    "\n",
    "frame = pd.concat(li, axis=0, ignore_index=True)"
   ]
  },
  {
   "cell_type": "code",
   "execution_count": 7,
   "metadata": {},
   "outputs": [
    {
     "name": "stdout",
     "output_type": "stream",
     "text": [
      "time: 73.5 ms\n"
     ]
    }
   ],
   "source": [
    "frame = pd.concat(li, axis=0, ignore_index=True)"
   ]
  },
  {
   "cell_type": "code",
   "execution_count": 8,
   "metadata": {},
   "outputs": [
    {
     "name": "stdout",
     "output_type": "stream",
     "text": [
      "time: 79.2 ms\n"
     ]
    }
   ],
   "source": [
    "frame.drop(columns=list(frame.loc[:, frame.columns.str.startswith('Remover:')]), inplace=True)"
   ]
  },
  {
   "cell_type": "code",
   "execution_count": 9,
   "metadata": {},
   "outputs": [
    {
     "name": "stdout",
     "output_type": "stream",
     "text": [
      "time: 28.2 ms\n"
     ]
    }
   ],
   "source": [
    "frame.drop(columns=list(frame.loc[:, frame.columns.str.startswith('Unnamed:')]), inplace=True)"
   ]
  },
  {
   "cell_type": "code",
   "execution_count": 10,
   "metadata": {},
   "outputs": [
    {
     "name": "stdout",
     "output_type": "stream",
     "text": [
      "time: 782 µs\n"
     ]
    }
   ],
   "source": [
    "df_alv = frame\n",
    "\n",
    "## TODO --> Entender cada campo em cada ano de CSV :("
   ]
  },
  {
   "cell_type": "code",
   "execution_count": 11,
   "metadata": {},
   "outputs": [
    {
     "data": {
      "text/plain": [
       "Index(['Mês', 'Unidade', 'Subprefeitura', 'Alvará', 'Descrição',\n",
       "       'Tipo de Construção', 'SQL_Incra', 'Categoria de uso',\n",
       "       'Zona de uso atual', 'Bairro', 'Área da construção', 'Proprietário',\n",
       "       'Área do terreno', 'Endereço', 'Aprovação', 'Dirigente técnico',\n",
       "       'Responsável pela empresa', 'Autor do projeto',\n",
       "       'Responsável pela empresa 1', 'Blocos', 'Unidades', 'Pavimentos',\n",
       "       'Processo', 'Zona de uso anterior',\n",
       "       '(B)locos / (P)avimentos / (U)nidades', 'Data autuação',\n",
       "       'Categoria de uso 1', 'Categoria de uso 2', 'Categoria de uso 3',\n",
       "       'Endereço 1', 'Endereço 2'],\n",
       "      dtype='object')"
      ]
     },
     "execution_count": 11,
     "metadata": {},
     "output_type": "execute_result"
    },
    {
     "name": "stdout",
     "output_type": "stream",
     "text": [
      "time: 1.5 ms\n"
     ]
    }
   ],
   "source": [
    "df_alv.columns"
   ]
  },
  {
   "cell_type": "code",
   "execution_count": 12,
   "metadata": {},
   "outputs": [
    {
     "data": {
      "text/plain": [
       "array(['00.055.114.0001-7', '00.230.133.0004-1', '00.230.133.0001-7', ...,\n",
       "       '00.047.175.0012-1', '00.037.083.0584-1', '1542629999999'],\n",
       "      dtype=object)"
      ]
     },
     "execution_count": 12,
     "metadata": {},
     "output_type": "execute_result"
    },
    {
     "name": "stdout",
     "output_type": "stream",
     "text": [
      "time: 6.96 ms\n"
     ]
    }
   ],
   "source": [
    "df_alv.SQL_Incra.unique()"
   ]
  },
  {
   "cell_type": "code",
   "execution_count": 13,
   "metadata": {},
   "outputs": [
    {
     "name": "stdout",
     "output_type": "stream",
     "text": [
      "time: 14.9 ms\n"
     ]
    }
   ],
   "source": [
    "df_alv.drop(columns=['Mês'], inplace=True)"
   ]
  },
  {
   "cell_type": "code",
   "execution_count": 14,
   "metadata": {},
   "outputs": [
    {
     "name": "stdout",
     "output_type": "stream",
     "text": [
      "time: 40.5 ms\n"
     ]
    }
   ],
   "source": [
    "df_alv['Data autuação'] = pd.to_datetime(df_alv['Data autuação'], format='%d/%m/%Y', errors='coerce')"
   ]
  },
  {
   "cell_type": "code",
   "execution_count": 15,
   "metadata": {},
   "outputs": [
    {
     "name": "stdout",
     "output_type": "stream",
     "text": [
      "time: 28.8 ms\n"
     ]
    }
   ],
   "source": [
    "df_alv['Endereço'] = df_alv['Endereço'].str.cat([df_alv['Endereço 1'], df_alv['Endereço 2']], sep=' ', na_rep='')"
   ]
  },
  {
   "cell_type": "code",
   "execution_count": 16,
   "metadata": {},
   "outputs": [
    {
     "name": "stdout",
     "output_type": "stream",
     "text": [
      "time: 8.98 ms\n"
     ]
    }
   ],
   "source": [
    "df_alv.drop(columns=['Endereço 2', 'Endereço 1'], inplace=True)"
   ]
  },
  {
   "cell_type": "code",
   "execution_count": 17,
   "metadata": {},
   "outputs": [
    {
     "name": "stdout",
     "output_type": "stream",
     "text": [
      "time: 12.4 ms\n"
     ]
    }
   ],
   "source": [
    "df_alv['Responsável pela empresa'] = df_alv['Responsável pela empresa'].str.cat(df_alv['Responsável pela empresa 1'], sep=' / ', na_rep='')"
   ]
  },
  {
   "cell_type": "code",
   "execution_count": 18,
   "metadata": {},
   "outputs": [
    {
     "name": "stdout",
     "output_type": "stream",
     "text": [
      "time: 8.53 ms\n"
     ]
    }
   ],
   "source": [
    "df_alv.drop(columns=['Responsável pela empresa 1'], inplace=True)"
   ]
  },
  {
   "cell_type": "code",
   "execution_count": 19,
   "metadata": {},
   "outputs": [
    {
     "name": "stdout",
     "output_type": "stream",
     "text": [
      "time: 24.1 ms\n"
     ]
    }
   ],
   "source": [
    "df_alv['Categoria de uso'] = df_alv['Categoria de uso'].str.cat([df_alv['Categoria de uso 1'], df_alv['Categoria de uso 2'], df_alv['Categoria de uso 3']], sep=' / ', na_rep='')"
   ]
  },
  {
   "cell_type": "code",
   "execution_count": 20,
   "metadata": {},
   "outputs": [
    {
     "name": "stdout",
     "output_type": "stream",
     "text": [
      "time: 10.7 ms\n"
     ]
    }
   ],
   "source": [
    "df_alv.drop(columns=['Categoria de uso 1', 'Categoria de uso 2', 'Categoria de uso 3'], inplace=True)"
   ]
  },
  {
   "cell_type": "code",
   "execution_count": 21,
   "metadata": {},
   "outputs": [
    {
     "data": {
      "text/plain": [
       "Index(['Unidade', 'Subprefeitura', 'Alvará', 'Descrição', 'Tipo de Construção',\n",
       "       'SQL_Incra', 'Categoria de uso', 'Zona de uso atual', 'Bairro',\n",
       "       'Área da construção', 'Proprietário', 'Área do terreno', 'Endereço',\n",
       "       'Aprovação', 'Dirigente técnico', 'Responsável pela empresa',\n",
       "       'Autor do projeto', 'Blocos', 'Unidades', 'Pavimentos', 'Processo',\n",
       "       'Zona de uso anterior', '(B)locos / (P)avimentos / (U)nidades',\n",
       "       'Data autuação'],\n",
       "      dtype='object')"
      ]
     },
     "execution_count": 21,
     "metadata": {},
     "output_type": "execute_result"
    },
    {
     "name": "stdout",
     "output_type": "stream",
     "text": [
      "time: 1.57 ms\n"
     ]
    }
   ],
   "source": [
    "df_alv.columns"
   ]
  },
  {
   "cell_type": "code",
   "execution_count": 22,
   "metadata": {},
   "outputs": [
    {
     "name": "stdout",
     "output_type": "stream",
     "text": [
      "time: 303 µs\n"
     ]
    }
   ],
   "source": [
    "# df_alv.loc[df_alv.SQL_Incra == '059.268.0042-0']"
   ]
  },
  {
   "cell_type": "markdown",
   "metadata": {},
   "source": [
    "### Tratando e limpando dados"
   ]
  },
  {
   "cell_type": "code",
   "execution_count": 23,
   "metadata": {},
   "outputs": [
    {
     "name": "stdout",
     "output_type": "stream",
     "text": [
      "time: 50.9 ms\n"
     ]
    }
   ],
   "source": [
    "df_alv = df_alv.dropna(thresh=10)"
   ]
  },
  {
   "cell_type": "code",
   "execution_count": 24,
   "metadata": {},
   "outputs": [
    {
     "data": {
      "text/plain": [
       "Index(['Unidade', 'Subprefeitura', 'Alvará', 'Descrição', 'Tipo de Construção',\n",
       "       'SQL_Incra', 'Categoria de uso', 'Zona de uso atual', 'Bairro',\n",
       "       'Área da construção', 'Proprietário', 'Área do terreno', 'Endereço',\n",
       "       'Aprovação', 'Dirigente técnico', 'Responsável pela empresa',\n",
       "       'Autor do projeto', 'Blocos', 'Unidades', 'Pavimentos', 'Processo',\n",
       "       'Zona de uso anterior', '(B)locos / (P)avimentos / (U)nidades',\n",
       "       'Data autuação'],\n",
       "      dtype='object')"
      ]
     },
     "execution_count": 24,
     "metadata": {},
     "output_type": "execute_result"
    },
    {
     "name": "stdout",
     "output_type": "stream",
     "text": [
      "time: 1.71 ms\n"
     ]
    }
   ],
   "source": [
    "df_alv.columns"
   ]
  },
  {
   "cell_type": "code",
   "execution_count": 25,
   "metadata": {},
   "outputs": [
    {
     "name": "stdout",
     "output_type": "stream",
     "text": [
      "time: 152 ms\n"
     ]
    },
    {
     "name": "stderr",
     "output_type": "stream",
     "text": [
      "/home/fernando/miniconda3/envs/pcp-env/lib/python3.7/site-packages/pandas/core/indexing.py:966: SettingWithCopyWarning: \n",
      "A value is trying to be set on a copy of a slice from a DataFrame.\n",
      "Try using .loc[row_indexer,col_indexer] = value instead\n",
      "\n",
      "See the caveats in the documentation: https://pandas.pydata.org/pandas-docs/stable/user_guide/indexing.html#returning-a-view-versus-a-copy\n",
      "  self.obj[item] = s\n"
     ]
    }
   ],
   "source": [
    "df_alv.loc[:, ['Área da construção']] = pd.to_numeric(df_alv[df_alv['Área da construção']\n",
    "                                                               .notna()]['Área da construção']\n",
    "                                                        .str.replace('.', '')\n",
    "                                                        .str.replace(',', '.'))\n",
    "\n",
    "df_alv.loc[:, ['Área do terreno']] = pd.to_numeric(df_alv[df_alv['Área do terreno']\n",
    "                                                               .notna()]['Área do terreno']\n",
    "                                                        .str.replace('.', '')\n",
    "                                                        .str.replace(',', '.'))"
   ]
  },
  {
   "cell_type": "code",
   "execution_count": 26,
   "metadata": {},
   "outputs": [
    {
     "name": "stdout",
     "output_type": "stream",
     "text": [
      "time: 293 µs\n"
     ]
    }
   ],
   "source": [
    "# df_alv.drop(['Unnamed: 22', 'Unnamed: 23', 'Unnamed: 24'], axis=1, inplace=True)"
   ]
  },
  {
   "cell_type": "code",
   "execution_count": 27,
   "metadata": {},
   "outputs": [
    {
     "name": "stdout",
     "output_type": "stream",
     "text": [
      "time: 174 ms\n"
     ]
    },
    {
     "name": "stderr",
     "output_type": "stream",
     "text": [
      "/home/fernando/miniconda3/envs/pcp-env/lib/python3.7/site-packages/pandas/core/frame.py:5732: SettingWithCopyWarning: \n",
      "A value is trying to be set on a copy of a slice from a DataFrame.\n",
      "Try using .loc[row_indexer,col_indexer] = value instead\n",
      "\n",
      "See the caveats in the documentation: https://pandas.pydata.org/pandas-docs/stable/user_guide/indexing.html#returning-a-view-versus-a-copy\n",
      "  self[col] = expressions.where(mask, this, that)\n"
     ]
    }
   ],
   "source": [
    "## Converte registros com 11 caracteres para formato S.Q.L\n",
    "df_alv.update(df_alv[df_alv.SQL_Incra.str.len() == 11]['SQL_Incra'].str[0:3] + '.' + \n",
    "df_alv[df_alv.SQL_Incra.str.len() == 11]['SQL_Incra'].str[3:6] + '.' + \n",
    "df_alv[df_alv.SQL_Incra.str.len() == 11]['SQL_Incra'].str[6:10] + '-' +\n",
    "df_alv[df_alv.SQL_Incra.str.len() == 11]['SQL_Incra'].str[10])"
   ]
  },
  {
   "cell_type": "code",
   "execution_count": 28,
   "metadata": {},
   "outputs": [
    {
     "data": {
      "text/plain": [
       "Index(['Unidade', 'Subprefeitura', 'Alvará', 'Descrição', 'Tipo de Construção',\n",
       "       'SQL_Incra', 'Categoria de uso', 'Zona de uso atual', 'Bairro',\n",
       "       'Área da construção', 'Proprietário', 'Área do terreno', 'Endereço',\n",
       "       'Aprovação', 'Dirigente técnico', 'Responsável pela empresa',\n",
       "       'Autor do projeto', 'Blocos', 'Unidades', 'Pavimentos', 'Processo',\n",
       "       'Zona de uso anterior', '(B)locos / (P)avimentos / (U)nidades',\n",
       "       'Data autuação'],\n",
       "      dtype='object')"
      ]
     },
     "execution_count": 28,
     "metadata": {},
     "output_type": "execute_result"
    },
    {
     "name": "stdout",
     "output_type": "stream",
     "text": [
      "time: 1.65 ms\n"
     ]
    }
   ],
   "source": [
    "df_alv.columns"
   ]
  },
  {
   "cell_type": "code",
   "execution_count": 29,
   "metadata": {},
   "outputs": [
    {
     "data": {
      "text/plain": [
       "8429          AV  INTERLAGOS 05937   \n",
       "8430          R   DOMINGOS VEGA 47   \n",
       "8431     AV  TERESA CRISTINA 00210   \n",
       "8432           AV  ITAQUERA 001968   \n",
       "8433       AV  LUIS STAMATIS 00656   \n",
       "                     ...             \n",
       "12499     ES  DO CAMPO LIMPO 00288   \n",
       "12500      R   PADRE ADELINO 99999   \n",
       "12501       R   PURPURINA 00396 400  \n",
       "12502           R   HARMONIA 01250   \n",
       "12503            AL  SANTOS 001165   \n",
       "Name: Endereço, Length: 4075, dtype: object"
      ]
     },
     "execution_count": 29,
     "metadata": {},
     "output_type": "execute_result"
    },
    {
     "name": "stdout",
     "output_type": "stream",
     "text": [
      "time: 5.5 ms\n"
     ]
    }
   ],
   "source": [
    "df_alv[df_alv.SQL_Incra.isna()]['Endereço']"
   ]
  },
  {
   "cell_type": "code",
   "execution_count": 30,
   "metadata": {},
   "outputs": [
    {
     "name": "stdout",
     "output_type": "stream",
     "text": [
      "time: 6.31 ms\n"
     ]
    }
   ],
   "source": [
    "df_alv.loc[:, ['SQL_Incra']] = df_alv['SQL_Incra'].fillna('')"
   ]
  },
  {
   "cell_type": "markdown",
   "metadata": {},
   "source": [
    "### Verificando SQLs condominiais com o IPTU"
   ]
  },
  {
   "cell_type": "code",
   "execution_count": 31,
   "metadata": {},
   "outputs": [
    {
     "data": {
      "text/html": [
       "<div>\n",
       "<style scoped>\n",
       "    .dataframe tbody tr th:only-of-type {\n",
       "        vertical-align: middle;\n",
       "    }\n",
       "\n",
       "    .dataframe tbody tr th {\n",
       "        vertical-align: top;\n",
       "    }\n",
       "\n",
       "    .dataframe thead th {\n",
       "        text-align: right;\n",
       "    }\n",
       "</style>\n",
       "<table border=\"1\" class=\"dataframe\">\n",
       "  <thead>\n",
       "    <tr style=\"text-align: right;\">\n",
       "      <th></th>\n",
       "      <th>Unidade</th>\n",
       "      <th>Subprefeitura</th>\n",
       "      <th>Alvará</th>\n",
       "      <th>Descrição</th>\n",
       "      <th>Tipo de Construção</th>\n",
       "      <th>SQL_Incra</th>\n",
       "      <th>Categoria de uso</th>\n",
       "      <th>Zona de uso atual</th>\n",
       "      <th>Bairro</th>\n",
       "      <th>Área da construção</th>\n",
       "      <th>...</th>\n",
       "      <th>Dirigente técnico</th>\n",
       "      <th>Responsável pela empresa</th>\n",
       "      <th>Autor do projeto</th>\n",
       "      <th>Blocos</th>\n",
       "      <th>Unidades</th>\n",
       "      <th>Pavimentos</th>\n",
       "      <th>Processo</th>\n",
       "      <th>Zona de uso anterior</th>\n",
       "      <th>(B)locos / (P)avimentos / (U)nidades</th>\n",
       "      <th>Data autuação</th>\n",
       "    </tr>\n",
       "  </thead>\n",
       "  <tbody>\n",
       "    <tr>\n",
       "      <th>4272</th>\n",
       "      <td>SEHAB/APROV/G</td>\n",
       "      <td>ARICANDUVA/ FORMOSA/ CARRAO</td>\n",
       "      <td>2011.16.116-01</td>\n",
       "      <td>APOSTILAMENTO DE ALVARA DE EXECUCAO DE EDIFICA...</td>\n",
       "      <td>NaN</td>\n",
       "      <td>116.402.0004-4</td>\n",
       "      <td>H.M.P /  /  /</td>\n",
       "      <td>ZM-3A</td>\n",
       "      <td>VL. FORMOSA</td>\n",
       "      <td>NaN</td>\n",
       "      <td>...</td>\n",
       "      <td>FERNANDO ALBERTO POZETTI</td>\n",
       "      <td>/</td>\n",
       "      <td>RUI KIYOSHI ISHIKAWA</td>\n",
       "      <td>NaN</td>\n",
       "      <td>NaN</td>\n",
       "      <td>NaN</td>\n",
       "      <td>NaN</td>\n",
       "      <td>Z2.</td>\n",
       "      <td>NaN</td>\n",
       "      <td>NaT</td>\n",
       "    </tr>\n",
       "    <tr>\n",
       "      <th>4273</th>\n",
       "      <td>SEHAB/APROV/G</td>\n",
       "      <td>ARICANDUVA/ FORMOSA/ CARRAO</td>\n",
       "      <td>2011.52.080-01</td>\n",
       "      <td>APOSTILAMENTO DE ALVARA DE APROVACAO DE EDIFIC...</td>\n",
       "      <td>NaN</td>\n",
       "      <td>054.158.0014-1</td>\n",
       "      <td>H.M.P /  /  /</td>\n",
       "      <td>ZM-3A</td>\n",
       "      <td>VILA FORMOSA</td>\n",
       "      <td>8417.91</td>\n",
       "      <td>...</td>\n",
       "      <td>NaN</td>\n",
       "      <td>/</td>\n",
       "      <td>NaN</td>\n",
       "      <td>NaN</td>\n",
       "      <td>NaN</td>\n",
       "      <td>NaN</td>\n",
       "      <td>NaN</td>\n",
       "      <td>Z2.</td>\n",
       "      <td>B: 1 P: 19 U: 72</td>\n",
       "      <td>NaT</td>\n",
       "    </tr>\n",
       "    <tr>\n",
       "      <th>4274</th>\n",
       "      <td>SEHAB/APROV/G</td>\n",
       "      <td>BUTANTA</td>\n",
       "      <td>2009.43.232-01</td>\n",
       "      <td>APOSTILAMENTO DE ALVARA DE APROVACAO E EXECUCA...</td>\n",
       "      <td>NaN</td>\n",
       "      <td>159.088.0166-5</td>\n",
       "      <td>HIS /  /  /</td>\n",
       "      <td>ZM-P/002</td>\n",
       "      <td>BUTANTA</td>\n",
       "      <td>17.14</td>\n",
       "      <td>...</td>\n",
       "      <td>NaN</td>\n",
       "      <td>/</td>\n",
       "      <td>NaN</td>\n",
       "      <td>NaN</td>\n",
       "      <td>NaN</td>\n",
       "      <td>NaN</td>\n",
       "      <td>NaN</td>\n",
       "      <td>Z2.</td>\n",
       "      <td>B: 1 P: 1 U: 0</td>\n",
       "      <td>NaT</td>\n",
       "    </tr>\n",
       "    <tr>\n",
       "      <th>4275</th>\n",
       "      <td>SEHAB/APROV/G</td>\n",
       "      <td>BUTANTA</td>\n",
       "      <td>2010.30.871-01</td>\n",
       "      <td>APOSTILAMENTO DE ALVARA DE EXECUCAO DE EDIFICA...</td>\n",
       "      <td>NaN</td>\n",
       "      <td>101.557.0154-0</td>\n",
       "      <td>H.M.P /  /  /</td>\n",
       "      <td>ZM-2/004</td>\n",
       "      <td>RIO PEQUENO</td>\n",
       "      <td>NaN</td>\n",
       "      <td>...</td>\n",
       "      <td>FABIO BUZANIN DE MIRANDA</td>\n",
       "      <td>/</td>\n",
       "      <td>NaN</td>\n",
       "      <td>NaN</td>\n",
       "      <td>NaN</td>\n",
       "      <td>NaN</td>\n",
       "      <td>NaN</td>\n",
       "      <td></td>\n",
       "      <td>NaN</td>\n",
       "      <td>NaT</td>\n",
       "    </tr>\n",
       "    <tr>\n",
       "      <th>4276</th>\n",
       "      <td>SEHAB/APROV/G</td>\n",
       "      <td>BUTANTA</td>\n",
       "      <td>2010.30.871-02</td>\n",
       "      <td>APOSTILAMENTO DE ALVARA DE EXECUCAO DE EDIFICA...</td>\n",
       "      <td>NaN</td>\n",
       "      <td>101.557.0154-0</td>\n",
       "      <td>H.M.P /  /  /</td>\n",
       "      <td>ZM-2/004</td>\n",
       "      <td>RIO PEQUENO</td>\n",
       "      <td>NaN</td>\n",
       "      <td>...</td>\n",
       "      <td>NaN</td>\n",
       "      <td>/</td>\n",
       "      <td>NaN</td>\n",
       "      <td>NaN</td>\n",
       "      <td>NaN</td>\n",
       "      <td>NaN</td>\n",
       "      <td>NaN</td>\n",
       "      <td></td>\n",
       "      <td>NaN</td>\n",
       "      <td>NaT</td>\n",
       "    </tr>\n",
       "    <tr>\n",
       "      <th>...</th>\n",
       "      <td>...</td>\n",
       "      <td>...</td>\n",
       "      <td>...</td>\n",
       "      <td>...</td>\n",
       "      <td>...</td>\n",
       "      <td>...</td>\n",
       "      <td>...</td>\n",
       "      <td>...</td>\n",
       "      <td>...</td>\n",
       "      <td>...</td>\n",
       "      <td>...</td>\n",
       "      <td>...</td>\n",
       "      <td>...</td>\n",
       "      <td>...</td>\n",
       "      <td>...</td>\n",
       "      <td>...</td>\n",
       "      <td>...</td>\n",
       "      <td>...</td>\n",
       "      <td>...</td>\n",
       "      <td>...</td>\n",
       "      <td>...</td>\n",
       "    </tr>\n",
       "    <tr>\n",
       "      <th>53745</th>\n",
       "      <td>SGM/AJ</td>\n",
       "      <td>PERUS</td>\n",
       "      <td>2013.32.379-00</td>\n",
       "      <td>RECONSIDERACAO DO DESPACHO DE AUTO DE REGULARI...</td>\n",
       "      <td>NaN</td>\n",
       "      <td>187.046.0034-6</td>\n",
       "      <td>R; C1 /  /  /</td>\n",
       "      <td>NaN</td>\n",
       "      <td>PERUS</td>\n",
       "      <td>NaN</td>\n",
       "      <td>...</td>\n",
       "      <td>MARIO ALEXANDER STEINHAUSER</td>\n",
       "      <td>/</td>\n",
       "      <td>NaN</td>\n",
       "      <td>NaN</td>\n",
       "      <td>NaN</td>\n",
       "      <td>NaN</td>\n",
       "      <td>2003-1.039.534-4</td>\n",
       "      <td>Z9-045.</td>\n",
       "      <td>NaN</td>\n",
       "      <td>NaT</td>\n",
       "    </tr>\n",
       "    <tr>\n",
       "      <th>53746</th>\n",
       "      <td>SGM/AJ</td>\n",
       "      <td>SE</td>\n",
       "      <td>2013.31.386-00</td>\n",
       "      <td>RECONSIDERACAO DO DESPACHO DE AUTO DE REGULARI...</td>\n",
       "      <td>NaN</td>\n",
       "      <td>019.046.0012-3</td>\n",
       "      <td>C2.3 /  /  /</td>\n",
       "      <td>NaN</td>\n",
       "      <td>BOM RETIRO</td>\n",
       "      <td>NaN</td>\n",
       "      <td>...</td>\n",
       "      <td>NaN</td>\n",
       "      <td>/</td>\n",
       "      <td>NaN</td>\n",
       "      <td>NaN</td>\n",
       "      <td>NaN</td>\n",
       "      <td>NaN</td>\n",
       "      <td>2003-1.039.766-5</td>\n",
       "      <td></td>\n",
       "      <td>NaN</td>\n",
       "      <td>NaT</td>\n",
       "    </tr>\n",
       "    <tr>\n",
       "      <th>53747</th>\n",
       "      <td>SGM/AJ</td>\n",
       "      <td>SE</td>\n",
       "      <td>2013.31.937-00</td>\n",
       "      <td>RECONSIDERACAO DO DESPACHO DE AUTO DE REGULARI...</td>\n",
       "      <td>NaN</td>\n",
       "      <td>009.035.0010-8</td>\n",
       "      <td>C1.2; S1.1 /  /  /</td>\n",
       "      <td>NaN</td>\n",
       "      <td>BELA VISTA</td>\n",
       "      <td>NaN</td>\n",
       "      <td>...</td>\n",
       "      <td>NaN</td>\n",
       "      <td>/</td>\n",
       "      <td>NaN</td>\n",
       "      <td>NaN</td>\n",
       "      <td>NaN</td>\n",
       "      <td>NaN</td>\n",
       "      <td>2003-1.009.227-9</td>\n",
       "      <td>Z10-001.</td>\n",
       "      <td>NaN</td>\n",
       "      <td>NaT</td>\n",
       "    </tr>\n",
       "    <tr>\n",
       "      <th>53748</th>\n",
       "      <td>SGM/AJ</td>\n",
       "      <td>SE</td>\n",
       "      <td>2013.33.074-00</td>\n",
       "      <td>RECONSIDERACAO DO DESPACHO DE AUTO DE REGULARI...</td>\n",
       "      <td>NaN</td>\n",
       "      <td>001.020.0006-9</td>\n",
       "      <td>C2.2 /  /  /</td>\n",
       "      <td>NaN</td>\n",
       "      <td>SANTA EFIGENIA</td>\n",
       "      <td>NaN</td>\n",
       "      <td>...</td>\n",
       "      <td>NaN</td>\n",
       "      <td>/</td>\n",
       "      <td>NaN</td>\n",
       "      <td>NaN</td>\n",
       "      <td>NaN</td>\n",
       "      <td>NaN</td>\n",
       "      <td>2003-1.002.595-4</td>\n",
       "      <td>Z2.</td>\n",
       "      <td>NaN</td>\n",
       "      <td>NaT</td>\n",
       "    </tr>\n",
       "    <tr>\n",
       "      <th>53749</th>\n",
       "      <td>SGM/AJ</td>\n",
       "      <td>VILA MARIANA</td>\n",
       "      <td>2013.33.733-00</td>\n",
       "      <td>RECONSIDERACAO DO DESPACHO DE AUTO DE REGULARI...</td>\n",
       "      <td>NaN</td>\n",
       "      <td>037.099.0044-1</td>\n",
       "      <td>S2.1 /  /  /</td>\n",
       "      <td>NaN</td>\n",
       "      <td>VILA MARIANA</td>\n",
       "      <td>NaN</td>\n",
       "      <td>...</td>\n",
       "      <td>NaN</td>\n",
       "      <td>/</td>\n",
       "      <td>NaN</td>\n",
       "      <td>NaN</td>\n",
       "      <td>NaN</td>\n",
       "      <td>NaN</td>\n",
       "      <td>2003-1.016.932-8</td>\n",
       "      <td>Z2.</td>\n",
       "      <td>NaN</td>\n",
       "      <td>NaT</td>\n",
       "    </tr>\n",
       "  </tbody>\n",
       "</table>\n",
       "<p>31400 rows × 24 columns</p>\n",
       "</div>"
      ],
      "text/plain": [
       "                    Unidade                     Subprefeitura          Alvará  \\\n",
       "4272   SEHAB/APROV/G         ARICANDUVA/ FORMOSA/ CARRAO       2011.16.116-01   \n",
       "4273   SEHAB/APROV/G         ARICANDUVA/ FORMOSA/ CARRAO       2011.52.080-01   \n",
       "4274   SEHAB/APROV/G           BUTANTA                         2009.43.232-01   \n",
       "4275   SEHAB/APROV/G           BUTANTA                         2010.30.871-01   \n",
       "4276   SEHAB/APROV/G           BUTANTA                         2010.30.871-02   \n",
       "...                     ...                               ...             ...   \n",
       "53745  SGM/AJ                  PERUS                           2013.32.379-00   \n",
       "53746  SGM/AJ                  SE                              2013.31.386-00   \n",
       "53747  SGM/AJ                  SE                              2013.31.937-00   \n",
       "53748  SGM/AJ                  SE                              2013.33.074-00   \n",
       "53749  SGM/AJ                  VILA MARIANA                    2013.33.733-00   \n",
       "\n",
       "                                               Descrição Tipo de Construção  \\\n",
       "4272   APOSTILAMENTO DE ALVARA DE EXECUCAO DE EDIFICA...                NaN   \n",
       "4273   APOSTILAMENTO DE ALVARA DE APROVACAO DE EDIFIC...                NaN   \n",
       "4274   APOSTILAMENTO DE ALVARA DE APROVACAO E EXECUCA...                NaN   \n",
       "4275   APOSTILAMENTO DE ALVARA DE EXECUCAO DE EDIFICA...                NaN   \n",
       "4276   APOSTILAMENTO DE ALVARA DE EXECUCAO DE EDIFICA...                NaN   \n",
       "...                                                  ...                ...   \n",
       "53745  RECONSIDERACAO DO DESPACHO DE AUTO DE REGULARI...                NaN   \n",
       "53746  RECONSIDERACAO DO DESPACHO DE AUTO DE REGULARI...                NaN   \n",
       "53747  RECONSIDERACAO DO DESPACHO DE AUTO DE REGULARI...                NaN   \n",
       "53748  RECONSIDERACAO DO DESPACHO DE AUTO DE REGULARI...                NaN   \n",
       "53749  RECONSIDERACAO DO DESPACHO DE AUTO DE REGULARI...                NaN   \n",
       "\n",
       "            SQL_Incra     Categoria de uso Zona de uso atual          Bairro  \\\n",
       "4272   116.402.0004-4       H.M.P /  /  /              ZM-3A     VL. FORMOSA   \n",
       "4273   054.158.0014-1       H.M.P /  /  /              ZM-3A    VILA FORMOSA   \n",
       "4274   159.088.0166-5         HIS /  /  /           ZM-P/002         BUTANTA   \n",
       "4275   101.557.0154-0       H.M.P /  /  /           ZM-2/004     RIO PEQUENO   \n",
       "4276   101.557.0154-0       H.M.P /  /  /           ZM-2/004     RIO PEQUENO   \n",
       "...               ...                  ...               ...             ...   \n",
       "53745  187.046.0034-6       R; C1 /  /  /                NaN           PERUS   \n",
       "53746  019.046.0012-3        C2.3 /  /  /                NaN      BOM RETIRO   \n",
       "53747  009.035.0010-8  C1.2; S1.1 /  /  /                NaN      BELA VISTA   \n",
       "53748  001.020.0006-9        C2.2 /  /  /                NaN  SANTA EFIGENIA   \n",
       "53749  037.099.0044-1        S2.1 /  /  /                NaN    VILA MARIANA   \n",
       "\n",
       "       Área da construção  ...            Dirigente técnico  \\\n",
       "4272                  NaN  ...     FERNANDO ALBERTO POZETTI   \n",
       "4273              8417.91  ...                          NaN   \n",
       "4274                17.14  ...                          NaN   \n",
       "4275                  NaN  ...     FABIO BUZANIN DE MIRANDA   \n",
       "4276                  NaN  ...                          NaN   \n",
       "...                   ...  ...                          ...   \n",
       "53745                 NaN  ...  MARIO ALEXANDER STEINHAUSER   \n",
       "53746                 NaN  ...                          NaN   \n",
       "53747                 NaN  ...                          NaN   \n",
       "53748                 NaN  ...                          NaN   \n",
       "53749                 NaN  ...                          NaN   \n",
       "\n",
       "       Responsável pela empresa      Autor do projeto Blocos Unidades  \\\n",
       "4272                         /   RUI KIYOSHI ISHIKAWA    NaN      NaN   \n",
       "4273                         /                    NaN    NaN      NaN   \n",
       "4274                         /                    NaN    NaN      NaN   \n",
       "4275                         /                    NaN    NaN      NaN   \n",
       "4276                         /                    NaN    NaN      NaN   \n",
       "...                         ...                   ...    ...      ...   \n",
       "53745                        /                    NaN    NaN      NaN   \n",
       "53746                        /                    NaN    NaN      NaN   \n",
       "53747                        /                    NaN    NaN      NaN   \n",
       "53748                        /                    NaN    NaN      NaN   \n",
       "53749                        /                    NaN    NaN      NaN   \n",
       "\n",
       "      Pavimentos          Processo Zona de uso anterior  \\\n",
       "4272         NaN               NaN                  Z2.   \n",
       "4273         NaN               NaN                  Z2.   \n",
       "4274         NaN               NaN                  Z2.   \n",
       "4275         NaN               NaN                        \n",
       "4276         NaN               NaN                        \n",
       "...          ...               ...                  ...   \n",
       "53745        NaN  2003-1.039.534-4              Z9-045.   \n",
       "53746        NaN  2003-1.039.766-5                        \n",
       "53747        NaN  2003-1.009.227-9             Z10-001.   \n",
       "53748        NaN  2003-1.002.595-4                  Z2.   \n",
       "53749        NaN  2003-1.016.932-8                  Z2.   \n",
       "\n",
       "      (B)locos / (P)avimentos / (U)nidades Data autuação  \n",
       "4272                                   NaN           NaT  \n",
       "4273                      B: 1 P: 19 U: 72           NaT  \n",
       "4274                        B: 1 P: 1 U: 0           NaT  \n",
       "4275                                   NaN           NaT  \n",
       "4276                                   NaN           NaT  \n",
       "...                                    ...           ...  \n",
       "53745                                  NaN           NaT  \n",
       "53746                                  NaN           NaT  \n",
       "53747                                  NaN           NaT  \n",
       "53748                                  NaN           NaT  \n",
       "53749                                  NaN           NaT  \n",
       "\n",
       "[31400 rows x 24 columns]"
      ]
     },
     "execution_count": 31,
     "metadata": {},
     "output_type": "execute_result"
    },
    {
     "name": "stdout",
     "output_type": "stream",
     "text": [
      "time: 83.9 ms\n"
     ]
    }
   ],
   "source": [
    "df_alv[df_alv.SQL_Incra.str.match(pat = '(\\d{3}.){2}\\d{4}-\\d')]"
   ]
  },
  {
   "cell_type": "code",
   "execution_count": 32,
   "metadata": {},
   "outputs": [
    {
     "name": "stdout",
     "output_type": "stream",
     "text": [
      "time: 26.2 ms\n"
     ]
    }
   ],
   "source": [
    "match_00 = df_alv.SQL_Incra.str.match(pat = '\\d{2}.(\\d{3}.){2}\\d{4}-\\d')"
   ]
  },
  {
   "cell_type": "code",
   "execution_count": 33,
   "metadata": {},
   "outputs": [
    {
     "name": "stdout",
     "output_type": "stream",
     "text": [
      "time: 21.8 ms\n"
     ]
    },
    {
     "name": "stderr",
     "output_type": "stream",
     "text": [
      "/home/fernando/miniconda3/envs/pcp-env/lib/python3.7/site-packages/pandas/core/indexing.py:966: SettingWithCopyWarning: \n",
      "A value is trying to be set on a copy of a slice from a DataFrame.\n",
      "Try using .loc[row_indexer,col_indexer] = value instead\n",
      "\n",
      "See the caveats in the documentation: https://pandas.pydata.org/pandas-docs/stable/user_guide/indexing.html#returning-a-view-versus-a-copy\n",
      "  self.obj[item] = s\n"
     ]
    }
   ],
   "source": [
    "df_alv.loc[match_00, ['SQL_Incra']] = df_alv[match_00]['SQL_Incra'].str[3:]"
   ]
  },
  {
   "cell_type": "code",
   "execution_count": 34,
   "metadata": {},
   "outputs": [
    {
     "name": "stdout",
     "output_type": "stream",
     "text": [
      "time: 24.5 ms\n"
     ]
    }
   ],
   "source": [
    "match_00 = df_alv.SQL_Incra.str.match(pat = '\\d{2}.(\\d{3}.){2}\\d{4}-')"
   ]
  },
  {
   "cell_type": "code",
   "execution_count": 35,
   "metadata": {},
   "outputs": [
    {
     "name": "stdout",
     "output_type": "stream",
     "text": [
      "time: 4.39 ms\n"
     ]
    }
   ],
   "source": [
    "df_alv.loc[match_00, ['SQL_Incra']] = df_alv[match_00]['SQL_Incra'].str[3:]+'0'"
   ]
  },
  {
   "cell_type": "code",
   "execution_count": 36,
   "metadata": {},
   "outputs": [
    {
     "name": "stdout",
     "output_type": "stream",
     "text": [
      "time: 470 µs\n"
     ]
    }
   ],
   "source": [
    "# df_alv.SQL_Incra.str.match(pat = '\\d{2}.(\\d{3}.){2}\\d{4}-\\d').value_counts()\n",
    "# df_alv['SQL_Incra'] = df_alv[df_alv.SQL_Incra.str.match(pat = '\\d{2}.(\\d{3}.){2}\\d{4}-\\d')].SQL_Incra.str[3:]"
   ]
  },
  {
   "cell_type": "code",
   "execution_count": 37,
   "metadata": {},
   "outputs": [
    {
     "name": "stdout",
     "output_type": "stream",
     "text": [
      "time: 97.5 ms\n"
     ]
    },
    {
     "name": "stderr",
     "output_type": "stream",
     "text": [
      "/home/fernando/miniconda3/envs/pcp-env/lib/python3.7/site-packages/ipykernel_launcher.py:2: SettingWithCopyWarning: \n",
      "A value is trying to be set on a copy of a slice from a DataFrame.\n",
      "Try using .loc[row_indexer,col_indexer] = value instead\n",
      "\n",
      "See the caveats in the documentation: https://pandas.pydata.org/pandas-docs/stable/user_guide/indexing.html#returning-a-view-versus-a-copy\n",
      "  \n"
     ]
    }
   ],
   "source": [
    "# verificando padrão de S.Q.L-digito\n",
    "df_alv['sql'] = df_alv[df_alv.SQL_Incra.str.match(pat = '(\\d{3}.){2}\\d{4}-\\d')].SQL_Incra.str.replace('.', '').str[0:10]"
   ]
  },
  {
   "cell_type": "code",
   "execution_count": 38,
   "metadata": {},
   "outputs": [
    {
     "data": {
      "text/plain": [
       "0        055.114.0001-7\n",
       "1        230.133.0004-1\n",
       "2        230.133.0001-7\n",
       "3        066.587.0027-3\n",
       "4        031.096.0035-8\n",
       "              ...      \n",
       "56178    069.022.0009-2\n",
       "56179    047.175.0012-1\n",
       "56180    047.175.0012-1\n",
       "56181    037.083.0584-1\n",
       "56182     1542629999999\n",
       "Name: SQL_Incra, Length: 55476, dtype: object"
      ]
     },
     "execution_count": 38,
     "metadata": {},
     "output_type": "execute_result"
    },
    {
     "name": "stdout",
     "output_type": "stream",
     "text": [
      "time: 3.04 ms\n"
     ]
    }
   ],
   "source": [
    "df_alv['SQL_Incra']"
   ]
  },
  {
   "cell_type": "code",
   "execution_count": 39,
   "metadata": {},
   "outputs": [
    {
     "data": {
      "text/plain": [
       "True     49786\n",
       "False     5690\n",
       "Name: sql, dtype: int64"
      ]
     },
     "execution_count": 39,
     "metadata": {},
     "output_type": "execute_result"
    },
    {
     "name": "stdout",
     "output_type": "stream",
     "text": [
      "time: 5.11 ms\n"
     ]
    }
   ],
   "source": [
    "df_alv.sql.notna().value_counts()"
   ]
  },
  {
   "cell_type": "code",
   "execution_count": 40,
   "metadata": {},
   "outputs": [
    {
     "data": {
      "text/plain": [
       "27066"
      ]
     },
     "execution_count": 40,
     "metadata": {},
     "output_type": "execute_result"
    },
    {
     "name": "stdout",
     "output_type": "stream",
     "text": [
      "time: 7.81 ms\n"
     ]
    }
   ],
   "source": [
    "len(df_alv.sql.unique())"
   ]
  },
  {
   "cell_type": "code",
   "execution_count": 41,
   "metadata": {},
   "outputs": [
    {
     "name": "stdout",
     "output_type": "stream",
     "text": [
      "time: 20 s\n"
     ]
    }
   ],
   "source": [
    "df_iptu = pd.read_csv('data/IPTU_2020.zip', sep=';',  encoding='latin1')"
   ]
  },
  {
   "cell_type": "code",
   "execution_count": 42,
   "metadata": {},
   "outputs": [
    {
     "name": "stdout",
     "output_type": "stream",
     "text": [
      "time: 1.09 s\n"
     ]
    }
   ],
   "source": [
    "df_iptu['sql'] = df_iptu['NUMERO DO CONTRIBUINTE'].str[0:10].astype(str)"
   ]
  },
  {
   "cell_type": "code",
   "execution_count": 43,
   "metadata": {},
   "outputs": [
    {
     "name": "stdout",
     "output_type": "stream",
     "text": [
      "time: 2.32 s\n"
     ]
    }
   ],
   "source": [
    "df_iptu['sqlc'] = df_iptu['NUMERO DO CONTRIBUINTE'].str[0:10].astype(str) + df_iptu['NUMERO DO CONDOMINIO'].str[0:2].astype(str)"
   ]
  },
  {
   "cell_type": "code",
   "execution_count": 44,
   "metadata": {},
   "outputs": [
    {
     "name": "stdout",
     "output_type": "stream",
     "text": [
      "time: 1.01 s\n"
     ]
    }
   ],
   "source": [
    "df_iptu['sqlc_resultante'] = df_iptu.sqlc.apply(lambda x: x if x[10:12] == '00' else x[0:6] + '0000' + x[10:12])"
   ]
  },
  {
   "cell_type": "code",
   "execution_count": 45,
   "metadata": {},
   "outputs": [
    {
     "data": {
      "text/plain": [
       "Index(['NUMERO DO CONTRIBUINTE', 'ANO DO EXERCICIO', 'NUMERO DA NL',\n",
       "       'DATA DO CADASTRAMENTO', 'TIPO DE CONTRIBUINTE 1',\n",
       "       'CPF/CNPJ DO CONTRIBUINTE 1', 'NOME DO CONTRIBUINTE 1',\n",
       "       'TIPO DE CONTRIBUINTE 2', 'CPF/CNPJ DO CONTRIBUINTE 2',\n",
       "       'NOME DO CONTRIBUINTE 2', 'NUMERO DO CONDOMINIO', 'CODLOG DO IMOVEL',\n",
       "       'NOME DE LOGRADOURO DO IMOVEL', 'NUMERO DO IMOVEL',\n",
       "       'COMPLEMENTO DO IMOVEL', 'BAIRRO DO IMOVEL', 'REFERENCIA DO IMOVEL',\n",
       "       'CEP DO IMOVEL', 'QUANTIDADE DE ESQUINAS/FRENTES', 'FRACAO IDEAL',\n",
       "       'AREA DO TERRENO', 'AREA CONSTRUIDA', 'AREA OCUPADA',\n",
       "       'VALOR DO M2 DO TERRENO', 'VALOR DO M2 DE CONSTRUCAO',\n",
       "       'ANO DA CONSTRUCAO CORRIGIDO', 'QUANTIDADE DE PAVIMENTOS',\n",
       "       'TESTADA PARA CALCULO', 'TIPO DE USO DO IMOVEL',\n",
       "       'TIPO DE PADRAO DA CONSTRUCAO', 'TIPO DE TERRENO',\n",
       "       'FATOR DE OBSOLESCENCIA', 'ANO DE INICIO DA VIDA DO CONTRIBUINTE',\n",
       "       'MES DE INICIO DA VIDA DO CONTRIBUINTE', 'FASE DO CONTRIBUINTE', 'sql',\n",
       "       'sqlc', 'sqlc_resultante'],\n",
       "      dtype='object')"
      ]
     },
     "execution_count": 45,
     "metadata": {},
     "output_type": "execute_result"
    },
    {
     "name": "stdout",
     "output_type": "stream",
     "text": [
      "time: 2.5 ms\n"
     ]
    }
   ],
   "source": [
    "df_iptu.columns"
   ]
  },
  {
   "cell_type": "code",
   "execution_count": 46,
   "metadata": {},
   "outputs": [
    {
     "data": {
      "text/plain": [
       "False    27799\n",
       "True     27677\n",
       "Name: sql, dtype: int64"
      ]
     },
     "execution_count": 46,
     "metadata": {},
     "output_type": "execute_result"
    },
    {
     "name": "stdout",
     "output_type": "stream",
     "text": [
      "time: 1.19 s\n"
     ]
    }
   ],
   "source": [
    "df_alv['sql'].isin(df_iptu.sql).value_counts()\n",
    "# df_iptu['sql']"
   ]
  },
  {
   "cell_type": "code",
   "execution_count": 47,
   "metadata": {},
   "outputs": [
    {
     "data": {
      "text/plain": [
       "27066"
      ]
     },
     "execution_count": 47,
     "metadata": {},
     "output_type": "execute_result"
    },
    {
     "name": "stdout",
     "output_type": "stream",
     "text": [
      "time: 5.5 ms\n"
     ]
    }
   ],
   "source": [
    "len(df_alv['sql'].unique())"
   ]
  },
  {
   "cell_type": "code",
   "execution_count": 48,
   "metadata": {},
   "outputs": [
    {
     "data": {
      "text/plain": [
       "15783"
      ]
     },
     "execution_count": 48,
     "metadata": {},
     "output_type": "execute_result"
    },
    {
     "name": "stdout",
     "output_type": "stream",
     "text": [
      "time: 1.07 s\n"
     ]
    }
   ],
   "source": [
    "len(df_alv[df_alv.sql.isin(df_iptu.sql)].sql.unique())"
   ]
  },
  {
   "cell_type": "code",
   "execution_count": 49,
   "metadata": {},
   "outputs": [
    {
     "data": {
      "text/plain": [
       "False    49786\n",
       "True      5690\n",
       "Name: sql, dtype: int64"
      ]
     },
     "execution_count": 49,
     "metadata": {},
     "output_type": "execute_result"
    },
    {
     "name": "stdout",
     "output_type": "stream",
     "text": [
      "time: 8.03 ms\n"
     ]
    }
   ],
   "source": [
    "df_alv.sql.isna().value_counts()"
   ]
  },
  {
   "cell_type": "code",
   "execution_count": 50,
   "metadata": {},
   "outputs": [
    {
     "data": {
      "text/html": [
       "<div>\n",
       "<style scoped>\n",
       "    .dataframe tbody tr th:only-of-type {\n",
       "        vertical-align: middle;\n",
       "    }\n",
       "\n",
       "    .dataframe tbody tr th {\n",
       "        vertical-align: top;\n",
       "    }\n",
       "\n",
       "    .dataframe thead th {\n",
       "        text-align: right;\n",
       "    }\n",
       "</style>\n",
       "<table border=\"1\" class=\"dataframe\">\n",
       "  <thead>\n",
       "    <tr style=\"text-align: right;\">\n",
       "      <th></th>\n",
       "      <th>Endereço</th>\n",
       "      <th>Bairro</th>\n",
       "    </tr>\n",
       "  </thead>\n",
       "  <tbody>\n",
       "    <tr>\n",
       "      <th>82</th>\n",
       "      <td>R AGRIMENSOR SUGAYA,968</td>\n",
       "      <td>NaN</td>\n",
       "    </tr>\n",
       "    <tr>\n",
       "      <th>191</th>\n",
       "      <td>AV RAIMUNDO PEREIRA DE MAGALHAES</td>\n",
       "      <td>NaN</td>\n",
       "    </tr>\n",
       "    <tr>\n",
       "      <th>680</th>\n",
       "      <td>ES DO PESSEGO,1635</td>\n",
       "      <td>NaN</td>\n",
       "    </tr>\n",
       "    <tr>\n",
       "      <th>706</th>\n",
       "      <td>AV DA LIBERDADE,103</td>\n",
       "      <td>LIBERDADE</td>\n",
       "    </tr>\n",
       "    <tr>\n",
       "      <th>908</th>\n",
       "      <td>ES TURISTICA DO JARAGUA,2400</td>\n",
       "      <td>JARAGUA</td>\n",
       "    </tr>\n",
       "    <tr>\n",
       "      <th>...</th>\n",
       "      <td>...</td>\n",
       "      <td>...</td>\n",
       "    </tr>\n",
       "    <tr>\n",
       "      <th>55097</th>\n",
       "      <td>R RAPOSO DA FONSECA</td>\n",
       "      <td>GUAIANAZES</td>\n",
       "    </tr>\n",
       "    <tr>\n",
       "      <th>55127</th>\n",
       "      <td>ES DO IGUATEMI</td>\n",
       "      <td>GUAIANAZES</td>\n",
       "    </tr>\n",
       "    <tr>\n",
       "      <th>55403</th>\n",
       "      <td>R INACIO MONTEIRO</td>\n",
       "      <td>GUAIANASES</td>\n",
       "    </tr>\n",
       "    <tr>\n",
       "      <th>55663</th>\n",
       "      <td>R SAO GABRIEL,43</td>\n",
       "      <td>NaN</td>\n",
       "    </tr>\n",
       "    <tr>\n",
       "      <th>56182</th>\n",
       "      <td>R POEMA DAS AMERICAS</td>\n",
       "      <td>NaN</td>\n",
       "    </tr>\n",
       "  </tbody>\n",
       "</table>\n",
       "<p>5690 rows × 2 columns</p>\n",
       "</div>"
      ],
      "text/plain": [
       "                                 Endereço      Bairro\n",
       "82              R AGRIMENSOR SUGAYA,968           NaN\n",
       "191    AV RAIMUNDO PEREIRA DE MAGALHAES           NaN\n",
       "680                  ES DO PESSEGO,1635           NaN\n",
       "706                 AV DA LIBERDADE,103     LIBERDADE\n",
       "908        ES TURISTICA DO JARAGUA,2400       JARAGUA\n",
       "...                                   ...         ...\n",
       "55097               R RAPOSO DA FONSECA    GUAIANAZES\n",
       "55127                    ES DO IGUATEMI    GUAIANAZES\n",
       "55403                 R INACIO MONTEIRO    GUAIANASES\n",
       "55663                  R SAO GABRIEL,43           NaN\n",
       "56182              R POEMA DAS AMERICAS           NaN\n",
       "\n",
       "[5690 rows x 2 columns]"
      ]
     },
     "execution_count": 50,
     "metadata": {},
     "output_type": "execute_result"
    },
    {
     "name": "stdout",
     "output_type": "stream",
     "text": [
      "time: 10.3 ms\n"
     ]
    }
   ],
   "source": [
    "df_alv[df_alv.sql.isna()][['Endereço', 'Bairro']]"
   ]
  },
  {
   "cell_type": "code",
   "execution_count": 51,
   "metadata": {},
   "outputs": [
    {
     "data": {
      "text/plain": [
       "False    13691\n",
       "True      2092\n",
       "Name: NUMERO DO CONDOMINIO, dtype: int64"
      ]
     },
     "execution_count": 51,
     "metadata": {},
     "output_type": "execute_result"
    },
    {
     "name": "stdout",
     "output_type": "stream",
     "text": [
      "time: 1.81 s\n"
     ]
    }
   ],
   "source": [
    "(df_iptu[df_iptu.sql.isin(df_alv.sql)]['NUMERO DO CONDOMINIO'] != '00-0').value_counts()\n",
    "# df_iptu.columns"
   ]
  },
  {
   "cell_type": "code",
   "execution_count": 52,
   "metadata": {},
   "outputs": [
    {
     "data": {
      "text/html": [
       "<div>\n",
       "<style scoped>\n",
       "    .dataframe tbody tr th:only-of-type {\n",
       "        vertical-align: middle;\n",
       "    }\n",
       "\n",
       "    .dataframe tbody tr th {\n",
       "        vertical-align: top;\n",
       "    }\n",
       "\n",
       "    .dataframe thead th {\n",
       "        text-align: right;\n",
       "    }\n",
       "</style>\n",
       "<table border=\"1\" class=\"dataframe\">\n",
       "  <thead>\n",
       "    <tr style=\"text-align: right;\">\n",
       "      <th></th>\n",
       "      <th>NUMERO DO CONTRIBUINTE</th>\n",
       "      <th>ANO DO EXERCICIO</th>\n",
       "      <th>NUMERO DA NL</th>\n",
       "      <th>DATA DO CADASTRAMENTO</th>\n",
       "      <th>TIPO DE CONTRIBUINTE 1</th>\n",
       "      <th>CPF/CNPJ DO CONTRIBUINTE 1</th>\n",
       "      <th>NOME DO CONTRIBUINTE 1</th>\n",
       "      <th>TIPO DE CONTRIBUINTE 2</th>\n",
       "      <th>CPF/CNPJ DO CONTRIBUINTE 2</th>\n",
       "      <th>NOME DO CONTRIBUINTE 2</th>\n",
       "      <th>...</th>\n",
       "      <th>TIPO DE USO DO IMOVEL</th>\n",
       "      <th>TIPO DE PADRAO DA CONSTRUCAO</th>\n",
       "      <th>TIPO DE TERRENO</th>\n",
       "      <th>FATOR DE OBSOLESCENCIA</th>\n",
       "      <th>ANO DE INICIO DA VIDA DO CONTRIBUINTE</th>\n",
       "      <th>MES DE INICIO DA VIDA DO CONTRIBUINTE</th>\n",
       "      <th>FASE DO CONTRIBUINTE</th>\n",
       "      <th>sql</th>\n",
       "      <th>sqlc</th>\n",
       "      <th>sqlc_resultante</th>\n",
       "    </tr>\n",
       "  </thead>\n",
       "  <tbody>\n",
       "    <tr>\n",
       "      <th>1127484</th>\n",
       "      <td>0551140032-7</td>\n",
       "      <td>2020</td>\n",
       "      <td>1</td>\n",
       "      <td>11/01/20</td>\n",
       "      <td>PESSOA FISICA (CPF)</td>\n",
       "      <td>XXXXXX0018XXXX</td>\n",
       "      <td>MARCELO MANOEL MACHADO</td>\n",
       "      <td>NaN</td>\n",
       "      <td></td>\n",
       "      <td>NaN</td>\n",
       "      <td>...</td>\n",
       "      <td>Apartamento em condomínio</td>\n",
       "      <td>Residencial vertical - padrão C</td>\n",
       "      <td>De esquina</td>\n",
       "      <td>0,70</td>\n",
       "      <td>1991</td>\n",
       "      <td>1</td>\n",
       "      <td>0</td>\n",
       "      <td>0551140032</td>\n",
       "      <td>055114003201</td>\n",
       "      <td>055114000001</td>\n",
       "    </tr>\n",
       "  </tbody>\n",
       "</table>\n",
       "<p>1 rows × 38 columns</p>\n",
       "</div>"
      ],
      "text/plain": [
       "        NUMERO DO CONTRIBUINTE  ANO DO EXERCICIO  NUMERO DA NL  \\\n",
       "1127484           0551140032-7              2020             1   \n",
       "\n",
       "        DATA DO CADASTRAMENTO TIPO DE CONTRIBUINTE 1  \\\n",
       "1127484              11/01/20    PESSOA FISICA (CPF)   \n",
       "\n",
       "        CPF/CNPJ DO CONTRIBUINTE 1  NOME DO CONTRIBUINTE 1  \\\n",
       "1127484             XXXXXX0018XXXX  MARCELO MANOEL MACHADO   \n",
       "\n",
       "        TIPO DE CONTRIBUINTE 2 CPF/CNPJ DO CONTRIBUINTE 2  \\\n",
       "1127484                    NaN                              \n",
       "\n",
       "        NOME DO CONTRIBUINTE 2  ...      TIPO DE USO DO IMOVEL  \\\n",
       "1127484                    NaN  ...  Apartamento em condomínio   \n",
       "\n",
       "            TIPO DE PADRAO DA CONSTRUCAO TIPO DE TERRENO  \\\n",
       "1127484  Residencial vertical - padrão C      De esquina   \n",
       "\n",
       "         FATOR DE OBSOLESCENCIA ANO DE INICIO DA VIDA DO CONTRIBUINTE  \\\n",
       "1127484                    0,70                                  1991   \n",
       "\n",
       "        MES DE INICIO DA VIDA DO CONTRIBUINTE FASE DO CONTRIBUINTE  \\\n",
       "1127484                                     1                    0   \n",
       "\n",
       "                sql          sqlc sqlc_resultante  \n",
       "1127484  0551140032  055114003201    055114000001  \n",
       "\n",
       "[1 rows x 38 columns]"
      ]
     },
     "execution_count": 52,
     "metadata": {},
     "output_type": "execute_result"
    },
    {
     "name": "stdout",
     "output_type": "stream",
     "text": [
      "time: 159 ms\n"
     ]
    }
   ],
   "source": [
    "df_iptu[df_iptu.sql == '0551140032']"
   ]
  },
  {
   "cell_type": "code",
   "execution_count": 53,
   "metadata": {},
   "outputs": [
    {
     "name": "stdout",
     "output_type": "stream",
     "text": [
      "time: 10.5 ms\n"
     ]
    }
   ],
   "source": [
    "df_alv = df_alv.reset_index(drop=True)"
   ]
  },
  {
   "cell_type": "code",
   "execution_count": 54,
   "metadata": {},
   "outputs": [
    {
     "name": "stdout",
     "output_type": "stream",
     "text": [
      "time: 9.31 s\n"
     ]
    }
   ],
   "source": [
    "# df_alv['sqlc'] = df_alv.merge(df_iptu, how='left', on='sql')['sqlc_resultante']\n",
    "# df_alv[df_alv.sql == '0412140032']\n",
    "teste = df_alv.merge(df_iptu, how='left', on='sql', validate='many_to_one')[['sql','sqlc_resultante']]"
   ]
  },
  {
   "cell_type": "code",
   "execution_count": 55,
   "metadata": {},
   "outputs": [
    {
     "name": "stdout",
     "output_type": "stream",
     "text": [
      "time: 1.9 ms\n"
     ]
    }
   ],
   "source": [
    "# pd.concat([teste, df_alv], axis=1)\n",
    "df_alv['sqlc'] = teste.sqlc_resultante"
   ]
  },
  {
   "cell_type": "code",
   "execution_count": 56,
   "metadata": {},
   "outputs": [
    {
     "data": {
      "text/html": [
       "<div>\n",
       "<style scoped>\n",
       "    .dataframe tbody tr th:only-of-type {\n",
       "        vertical-align: middle;\n",
       "    }\n",
       "\n",
       "    .dataframe tbody tr th {\n",
       "        vertical-align: top;\n",
       "    }\n",
       "\n",
       "    .dataframe thead th {\n",
       "        text-align: right;\n",
       "    }\n",
       "</style>\n",
       "<table border=\"1\" class=\"dataframe\">\n",
       "  <thead>\n",
       "    <tr style=\"text-align: right;\">\n",
       "      <th></th>\n",
       "      <th>Unidade</th>\n",
       "      <th>Subprefeitura</th>\n",
       "      <th>Alvará</th>\n",
       "      <th>Descrição</th>\n",
       "      <th>Tipo de Construção</th>\n",
       "      <th>SQL_Incra</th>\n",
       "      <th>Categoria de uso</th>\n",
       "      <th>Zona de uso atual</th>\n",
       "      <th>Bairro</th>\n",
       "      <th>Área da construção</th>\n",
       "      <th>...</th>\n",
       "      <th>Autor do projeto</th>\n",
       "      <th>Blocos</th>\n",
       "      <th>Unidades</th>\n",
       "      <th>Pavimentos</th>\n",
       "      <th>Processo</th>\n",
       "      <th>Zona de uso anterior</th>\n",
       "      <th>(B)locos / (P)avimentos / (U)nidades</th>\n",
       "      <th>Data autuação</th>\n",
       "      <th>sql</th>\n",
       "      <th>sqlc</th>\n",
       "    </tr>\n",
       "  </thead>\n",
       "  <tbody>\n",
       "    <tr>\n",
       "      <th>0</th>\n",
       "      <td>APROV G</td>\n",
       "      <td>ARICANDUVA / VILA FORMOSA</td>\n",
       "      <td>2004.02.459-00</td>\n",
       "      <td>RECONSIDERACAO DE DESPACHO DE ALVARA DE APROVA...</td>\n",
       "      <td>PREDIO RESIDENCIAL</td>\n",
       "      <td>055.114.0001-7</td>\n",
       "      <td>R202 /  /  /</td>\n",
       "      <td>Z3-130</td>\n",
       "      <td>NaN</td>\n",
       "      <td>1422492.0</td>\n",
       "      <td>...</td>\n",
       "      <td>VERA LUCIA ESTANQUEIRO NONNO</td>\n",
       "      <td>001 - 001</td>\n",
       "      <td>054 - 054</td>\n",
       "      <td>15 - 15</td>\n",
       "      <td>NaN</td>\n",
       "      <td>NaN</td>\n",
       "      <td>NaN</td>\n",
       "      <td>NaT</td>\n",
       "      <td>0551140001</td>\n",
       "      <td>NaN</td>\n",
       "    </tr>\n",
       "    <tr>\n",
       "      <th>372</th>\n",
       "      <td>APROV 1</td>\n",
       "      <td>ARICANDUVA / VILA FORMOSA</td>\n",
       "      <td>2004.02.459-01</td>\n",
       "      <td>APOSTILAMENTO DE ALVARA DE APROVACAO E EXECUCA...</td>\n",
       "      <td>PREDIO RESIDENCIAL</td>\n",
       "      <td>055.114.0001-7</td>\n",
       "      <td>R202 /  /  /</td>\n",
       "      <td>Z3-130</td>\n",
       "      <td>VILA CARRAO</td>\n",
       "      <td>1422492.0</td>\n",
       "      <td>...</td>\n",
       "      <td>NaN</td>\n",
       "      <td>001 - 001</td>\n",
       "      <td>056 - 056</td>\n",
       "      <td>15 - 15</td>\n",
       "      <td>NaN</td>\n",
       "      <td>NaN</td>\n",
       "      <td>NaN</td>\n",
       "      <td>NaT</td>\n",
       "      <td>0551140001</td>\n",
       "      <td>NaN</td>\n",
       "    </tr>\n",
       "    <tr>\n",
       "      <th>41109</th>\n",
       "      <td>APROV 1</td>\n",
       "      <td>ARICANDUVA / VILA FORMOSA</td>\n",
       "      <td>2004.02.459-02</td>\n",
       "      <td>PROJETO MODIFICATIVO DE ALVARA DE APROVACAO E ...</td>\n",
       "      <td>PREDIO RESIDENCIAL</td>\n",
       "      <td>055.114.0001-7</td>\n",
       "      <td>R301 /  /  /</td>\n",
       "      <td>Z3-130</td>\n",
       "      <td>VILA CARRAO</td>\n",
       "      <td>1468787.0</td>\n",
       "      <td>...</td>\n",
       "      <td>UNIARQ ARQUITETURA LTDA</td>\n",
       "      <td>001 - 001</td>\n",
       "      <td>056 - 056</td>\n",
       "      <td>15 - 15</td>\n",
       "      <td>NaN</td>\n",
       "      <td>NaN</td>\n",
       "      <td>NaN</td>\n",
       "      <td>NaT</td>\n",
       "      <td>0551140001</td>\n",
       "      <td>NaN</td>\n",
       "    </tr>\n",
       "  </tbody>\n",
       "</table>\n",
       "<p>3 rows × 26 columns</p>\n",
       "</div>"
      ],
      "text/plain": [
       "       Unidade              Subprefeitura          Alvará  \\\n",
       "0      APROV G  ARICANDUVA / VILA FORMOSA  2004.02.459-00   \n",
       "372    APROV 1  ARICANDUVA / VILA FORMOSA  2004.02.459-01   \n",
       "41109  APROV 1  ARICANDUVA / VILA FORMOSA  2004.02.459-02   \n",
       "\n",
       "                                               Descrição  Tipo de Construção  \\\n",
       "0      RECONSIDERACAO DE DESPACHO DE ALVARA DE APROVA...  PREDIO RESIDENCIAL   \n",
       "372    APOSTILAMENTO DE ALVARA DE APROVACAO E EXECUCA...  PREDIO RESIDENCIAL   \n",
       "41109  PROJETO MODIFICATIVO DE ALVARA DE APROVACAO E ...  PREDIO RESIDENCIAL   \n",
       "\n",
       "            SQL_Incra Categoria de uso Zona de uso atual       Bairro  \\\n",
       "0      055.114.0001-7    R202 /  /  /             Z3-130          NaN   \n",
       "372    055.114.0001-7    R202 /  /  /             Z3-130  VILA CARRAO   \n",
       "41109  055.114.0001-7    R301 /  /  /             Z3-130  VILA CARRAO   \n",
       "\n",
       "       Área da construção  ...              Autor do projeto     Blocos  \\\n",
       "0               1422492.0  ...  VERA LUCIA ESTANQUEIRO NONNO  001 - 001   \n",
       "372             1422492.0  ...                           NaN  001 - 001   \n",
       "41109           1468787.0  ...       UNIARQ ARQUITETURA LTDA  001 - 001   \n",
       "\n",
       "        Unidades Pavimentos Processo Zona de uso anterior  \\\n",
       "0      054 - 054    15 - 15      NaN                  NaN   \n",
       "372    056 - 056    15 - 15      NaN                  NaN   \n",
       "41109  056 - 056    15 - 15      NaN                  NaN   \n",
       "\n",
       "      (B)locos / (P)avimentos / (U)nidades Data autuação         sql sqlc  \n",
       "0                                      NaN           NaT  0551140001  NaN  \n",
       "372                                    NaN           NaT  0551140001  NaN  \n",
       "41109                                  NaN           NaT  0551140001  NaN  \n",
       "\n",
       "[3 rows x 26 columns]"
      ]
     },
     "execution_count": 56,
     "metadata": {},
     "output_type": "execute_result"
    },
    {
     "name": "stdout",
     "output_type": "stream",
     "text": [
      "time: 34.6 ms\n"
     ]
    }
   ],
   "source": [
    "df_alv[df_alv.sql == '0551140001']"
   ]
  },
  {
   "cell_type": "code",
   "execution_count": 57,
   "metadata": {},
   "outputs": [
    {
     "name": "stdout",
     "output_type": "stream",
     "text": [
      "time: 196 µs\n"
     ]
    }
   ],
   "source": [
    "# df_alv.iloc[41815]"
   ]
  },
  {
   "cell_type": "code",
   "execution_count": 58,
   "metadata": {
    "scrolled": false
   },
   "outputs": [
    {
     "data": {
      "text/html": [
       "<div>\n",
       "<style scoped>\n",
       "    .dataframe tbody tr th:only-of-type {\n",
       "        vertical-align: middle;\n",
       "    }\n",
       "\n",
       "    .dataframe tbody tr th {\n",
       "        vertical-align: top;\n",
       "    }\n",
       "\n",
       "    .dataframe thead th {\n",
       "        text-align: right;\n",
       "    }\n",
       "</style>\n",
       "<table border=\"1\" class=\"dataframe\">\n",
       "  <thead>\n",
       "    <tr style=\"text-align: right;\">\n",
       "      <th></th>\n",
       "      <th>Unidade</th>\n",
       "      <th>Subprefeitura</th>\n",
       "      <th>Alvará</th>\n",
       "      <th>Descrição</th>\n",
       "      <th>Tipo de Construção</th>\n",
       "      <th>SQL_Incra</th>\n",
       "      <th>Categoria de uso</th>\n",
       "      <th>Zona de uso atual</th>\n",
       "      <th>Bairro</th>\n",
       "      <th>Área da construção</th>\n",
       "      <th>...</th>\n",
       "      <th>Autor do projeto</th>\n",
       "      <th>Blocos</th>\n",
       "      <th>Unidades</th>\n",
       "      <th>Pavimentos</th>\n",
       "      <th>Processo</th>\n",
       "      <th>Zona de uso anterior</th>\n",
       "      <th>(B)locos / (P)avimentos / (U)nidades</th>\n",
       "      <th>Data autuação</th>\n",
       "      <th>sql</th>\n",
       "      <th>sqlc</th>\n",
       "    </tr>\n",
       "  </thead>\n",
       "  <tbody>\n",
       "  </tbody>\n",
       "</table>\n",
       "<p>0 rows × 26 columns</p>\n",
       "</div>"
      ],
      "text/plain": [
       "Empty DataFrame\n",
       "Columns: [Unidade, Subprefeitura, Alvará, Descrição, Tipo de Construção, SQL_Incra, Categoria de uso, Zona de uso atual, Bairro, Área da construção, Proprietário, Área do terreno, Endereço, Aprovação, Dirigente técnico, Responsável pela empresa, Autor do projeto, Blocos, Unidades, Pavimentos, Processo, Zona de uso anterior, (B)locos / (P)avimentos / (U)nidades, Data autuação, sql, sqlc]\n",
       "Index: []\n",
       "\n",
       "[0 rows x 26 columns]"
      ]
     },
     "execution_count": 58,
     "metadata": {},
     "output_type": "execute_result"
    },
    {
     "name": "stdout",
     "output_type": "stream",
     "text": [
      "time: 40.8 ms\n"
     ]
    }
   ],
   "source": [
    "df_alv[(df_alv.sql.str[0:6] != df_alv.sqlc.str[0:6]) & df_alv.sqlc.notna()]\n",
    "# df_alv"
   ]
  },
  {
   "cell_type": "code",
   "execution_count": 59,
   "metadata": {},
   "outputs": [
    {
     "data": {
      "text/plain": [
       "False    3498644\n",
       "Name: sql, dtype: int64"
      ]
     },
     "execution_count": 59,
     "metadata": {},
     "output_type": "execute_result"
    },
    {
     "name": "stdout",
     "output_type": "stream",
     "text": [
      "time: 119 ms\n"
     ]
    }
   ],
   "source": [
    "df_iptu.sql.isna().value_counts()"
   ]
  },
  {
   "cell_type": "code",
   "execution_count": 60,
   "metadata": {},
   "outputs": [
    {
     "data": {
      "text/plain": [
       "False    27799\n",
       "True     27677\n",
       "Name: sqlc, dtype: int64"
      ]
     },
     "execution_count": 60,
     "metadata": {},
     "output_type": "execute_result"
    },
    {
     "name": "stdout",
     "output_type": "stream",
     "text": [
      "time: 6.5 ms\n"
     ]
    }
   ],
   "source": [
    "df_alv.sqlc.notna().value_counts()"
   ]
  },
  {
   "cell_type": "code",
   "execution_count": 61,
   "metadata": {},
   "outputs": [
    {
     "name": "stdout",
     "output_type": "stream",
     "text": [
      "time: 10.5 ms\n"
     ]
    }
   ],
   "source": [
    "df_alv['setor'] = df_alv.sql.str[0:3]"
   ]
  },
  {
   "cell_type": "code",
   "execution_count": 62,
   "metadata": {},
   "outputs": [
    {
     "name": "stdout",
     "output_type": "stream",
     "text": [
      "time: 13.7 ms\n"
     ]
    }
   ],
   "source": [
    "df_alv['quadra'] = df_alv.sql.str[3:6]"
   ]
  },
  {
   "cell_type": "code",
   "execution_count": 63,
   "metadata": {},
   "outputs": [
    {
     "name": "stdout",
     "output_type": "stream",
     "text": [
      "time: 15.9 ms\n"
     ]
    }
   ],
   "source": [
    "df_alv['lote'] = df_alv.sqlc.str[-6:-2]"
   ]
  },
  {
   "cell_type": "code",
   "execution_count": 64,
   "metadata": {},
   "outputs": [
    {
     "name": "stdout",
     "output_type": "stream",
     "text": [
      "time: 14.6 ms\n"
     ]
    }
   ],
   "source": [
    "df_alv['condominio'] = df_alv.sqlc.str[-2:]"
   ]
  },
  {
   "cell_type": "code",
   "execution_count": 65,
   "metadata": {},
   "outputs": [
    {
     "name": "stdout",
     "output_type": "stream",
     "text": [
      "time: 483 µs\n"
     ]
    }
   ],
   "source": [
    "# df_alv[df_alv.sqlc.notna() & (df_alv.condominio != '00')]"
   ]
  },
  {
   "cell_type": "code",
   "execution_count": 66,
   "metadata": {},
   "outputs": [
    {
     "name": "stdout",
     "output_type": "stream",
     "text": [
      "time: 400 µs\n"
     ]
    }
   ],
   "source": [
    "# df_alv[df_alv.lote == '0000']"
   ]
  },
  {
   "cell_type": "markdown",
   "metadata": {},
   "source": [
    "### Convertendo em GeoDataframe"
   ]
  },
  {
   "cell_type": "code",
   "execution_count": 67,
   "metadata": {},
   "outputs": [
    {
     "name": "stdout",
     "output_type": "stream",
     "text": [
      "time: 362 µs\n"
     ]
    }
   ],
   "source": [
    "# df_alv"
   ]
  },
  {
   "cell_type": "code",
   "execution_count": 68,
   "metadata": {},
   "outputs": [
    {
     "name": "stdout",
     "output_type": "stream",
     "text": [
      "time: 627 ms\n"
     ]
    }
   ],
   "source": [
    "df_alv.to_csv('resultados/resulatado-parcial-01.csv') "
   ]
  },
  {
   "cell_type": "code",
   "execution_count": 69,
   "metadata": {},
   "outputs": [
    {
     "name": "stdout",
     "output_type": "stream",
     "text": [
      "time: 223 µs\n"
     ]
    }
   ],
   "source": [
    "# df_alv.dtypes"
   ]
  },
  {
   "cell_type": "markdown",
   "metadata": {},
   "source": [
    "## Relacionando espacialmente"
   ]
  },
  {
   "cell_type": "code",
   "execution_count": 70,
   "metadata": {},
   "outputs": [
    {
     "name": "stdout",
     "output_type": "stream",
     "text": [
      "time: 1.67 s\n"
     ]
    }
   ],
   "source": [
    "import geopandas as gpd"
   ]
  },
  {
   "cell_type": "code",
   "execution_count": 71,
   "metadata": {},
   "outputs": [
    {
     "name": "stdout",
     "output_type": "stream",
     "text": [
      "zip://gis/lotes/SIRGAS_SHP_LOTES_01_AGUA_RASA.zip!SIRGAS_SHP_LOTES_01_AGUA_RASA\n",
      "zip://gis/lotes/SIRGAS_SHP_LOTES_66_REPUBLICA.zip!SIRGAS_SHP_LOTES_66_REPUBLICA\n",
      "zip://gis/lotes/SIRGAS_SHP_LOTES_28_ERMELINO_MATARAZZO.zip!SIRGAS_SHP_LOTES_28_ERMELINO_MATARAZZO\n",
      "zip://gis/lotes/SIRGAS_SHP_LOTES_27_CURSINO.zip!SIRGAS_SHP_LOTES_27_CURSINO\n",
      "zip://gis/lotes/SIRGAS_SHP_LOTES_90_VILA_MARIANA.zip!SIRGAS_SHP_LOTES_90_VILA_MARIANA\n",
      "zip://gis/lotes/SIRGAS_SHP_LOTES_88_VILA_LEOPOLDINA.zip!SIRGAS_SHP_LOTES_88_VILA_LEOPOLDINA\n",
      "zip://gis/lotes/SIRGAS_SHP_LOTES_15_CAMPO_BELO.zip!SIRGAS_SHP_LOTES_15_CAMPO_BELO\n",
      "zip://gis/lotes/SIRGAS_SHP_LOTES_81_TREMEMBE.zip!SIRGAS_SHP_LOTES_81_TREMEMBE\n",
      "zip://gis/lotes/SIRGAS_SHP_LOTES_10_BRAS.zip!SIRGAS_SHP_LOTES_10_BRAS\n",
      "zip://gis/lotes/SIRGAS_SHP_LOTES_34_IPIRANGA.zip!SIRGAS_SHP_LOTES_34_IPIRANGA\n",
      "zip://gis/lotes/SIRGAS_SHP_LOTES_78_SE.zip!SIRGAS_SHP_LOTES_78_SE\n",
      "zip://gis/lotes/SIRGAS_SHP_LOTES_71_SANTO_AMARO.zip!SIRGAS_SHP_LOTES_71_SANTO_AMARO\n",
      "zip://gis/lotes/SIRGAS_SHP_LOTES_54_MORUMBI.zip!SIRGAS_SHP_LOTES_54_MORUMBI\n",
      "zip://gis/lotes/SIRGAS_SHP_LOTES_18_CANGAIBA.zip!SIRGAS_SHP_LOTES_18_CANGAIBA\n",
      "zip://gis/lotes/SIRGAS_SHP_LOTES_68_SACOMA.zip!SIRGAS_SHP_LOTES_68_SACOMA\n",
      "zip://gis/lotes/SIRGAS_SHP_LOTES_58_PEDREIRA.zip!SIRGAS_SHP_LOTES_58_PEDREIRA\n",
      "zip://gis/lotes/SIRGAS_SHP_LOTES_41_JAGUARE.zip!SIRGAS_SHP_LOTES_41_JAGUARE\n",
      "zip://gis/lotes/SIRGAS_SHP_LOTES_44_JARDIM_HELENA.zip!SIRGAS_SHP_LOTES_44_JARDIM_HELENA\n",
      "zip://gis/lotes/SIRGAS_SHP_LOTES_76_SAPOPEMBA.zip!SIRGAS_SHP_LOTES_76_SAPOPEMBA\n",
      "zip://gis/lotes/SIRGAS_SHP_LOTES_09_BOM_RETIRO.zip!SIRGAS_SHP_LOTES_09_BOM_RETIRO\n",
      "zip://gis/lotes/SIRGAS_SHP_LOTES_17_CAMPO_LIMPO.zip!SIRGAS_SHP_LOTES_17_CAMPO_LIMPO\n",
      "zip://gis/lotes/SIRGAS_SHP_LOTES_31_GUAIANASES.zip!SIRGAS_SHP_LOTES_31_GUAIANASES\n",
      "zip://gis/lotes/SIRGAS_SHP_LOTES_79_SOCORRO.zip!SIRGAS_SHP_LOTES_79_SOCORRO\n",
      "zip://gis/lotes/SIRGAS_SHP_LOTES_32_MOEMA.zip!SIRGAS_SHP_LOTES_32_MOEMA\n",
      "zip://gis/lotes/SIRGAS_SHP_LOTES_47_JOSE_BONIFACIO.zip!SIRGAS_SHP_LOTES_47_JOSE_BONIFACIO\n",
      "zip://gis/lotes/SIRGAS_SHP_LOTES_40_JAGUARA.zip!SIRGAS_SHP_LOTES_40_JAGUARA\n",
      "zip://gis/lotes/SIRGAS_SHP_LOTES_87_VILA_JACUI.zip!SIRGAS_SHP_LOTES_87_VILA_JACUI\n",
      "zip://gis/lotes/SIRGAS_SHP_LOTES_50_LIMAO.zip!SIRGAS_SHP_LOTES_50_LIMAO\n",
      "zip://gis/lotes/SIRGAS_SHP_LOTES_02_ALTO_DE_PINHEIROS.zip!SIRGAS_SHP_LOTES_02_ALTO_DE_PINHEIROS\n",
      "zip://gis/lotes/SIRGAS_SHP_LOTES_23_CIDADE_DUTRA.zip!SIRGAS_SHP_LOTES_23_CIDADE_DUTRA\n",
      "zip://gis/lotes/SIRGAS_SHP_LOTES_95_SAO_DOMINGOS.zip!SIRGAS_SHP_LOTES_95_SAO_DOMINGOS\n",
      "zip://gis/lotes/SIRGAS_SHP_LOTES_37_ITAQUERA.zip!SIRGAS_SHP_LOTES_37_ITAQUERA\n",
      "zip://gis/lotes/SIRGAS_SHP_LOTES_83_VILA_ANDRADE.zip!SIRGAS_SHP_LOTES_83_VILA_ANDRADE\n",
      "zip://gis/lotes/SIRGAS_SHP_LOTES_30_GRAJAU.zip!SIRGAS_SHP_LOTES_30_GRAJAU\n",
      "zip://gis/lotes/SIRGAS_SHP_LOTES_73_SAO_MATEUS.zip!SIRGAS_SHP_LOTES_73_SAO_MATEUS\n",
      "zip://gis/lotes/SIRGAS_SHP_LOTES_14_CAMBUCI.zip!SIRGAS_SHP_LOTES_14_CAMBUCI\n",
      "zip://gis/lotes/SIRGAS_SHP_LOTES_69_SANTA_CECILIA.zip!SIRGAS_SHP_LOTES_69_SANTA_CECILIA\n",
      "zip://gis/lotes/SIRGAS_SHP_LOTES_52_MARSILAC.zip!SIRGAS_SHP_LOTES_52_MARSILAC\n",
      "zip://gis/lotes/SIRGAS_SHP_LOTES_07_BELA_VISTA.zip!SIRGAS_SHP_LOTES_07_BELA_VISTA\n",
      "zip://gis/lotes/SIRGAS_SHP_LOTES_21_CASA_VERDE.zip!SIRGAS_SHP_LOTES_21_CASA_VERDE\n",
      "zip://gis/lotes/SIRGAS_SHP_LOTES_59_PENHA.zip!SIRGAS_SHP_LOTES_59_PENHA\n",
      "zip://gis/lotes/SIRGAS_SHP_LOTES_08_BELEM.zip!SIRGAS_SHP_LOTES_08_BELEM\n",
      "zip://gis/lotes/SIRGAS_SHP_LOTES_20_CARRAO.zip!SIRGAS_SHP_LOTES_20_CARRAO\n",
      "zip://gis/lotes/SIRGAS_SHP_LOTES_53_MOOCA.zip!SIRGAS_SHP_LOTES_53_MOOCA\n",
      "zip://gis/lotes/SIRGAS_SHP_LOTES_04_ARICANDUVA.zip!SIRGAS_SHP_LOTES_04_ARICANDUVA\n",
      "zip://gis/lotes/SIRGAS_SHP_LOTES_25_CIDADE_TIRADENTES.zip!SIRGAS_SHP_LOTES_25_CIDADE_TIRADENTES\n",
      "zip://gis/lotes/SIRGAS_SHP_LOTES_55_PARELHEIROS.zip!SIRGAS_SHP_LOTES_55_PARELHEIROS\n",
      "zip://gis/lotes/SIRGAS_SHP_LOTES_46_JARDIM_SAO_LUIS.zip!SIRGAS_SHP_LOTES_46_JARDIM_SAO_LUIS\n",
      "zip://gis/lotes/SIRGAS_SHP_LOTES_38_JABAQUARA.zip!SIRGAS_SHP_LOTES_38_JABAQUARA\n",
      "zip://gis/lotes/SIRGAS_SHP_LOTES_96_LAJEADO.zip!SIRGAS_SHP_LOTES_96_LAJEADO\n",
      "zip://gis/lotes/SIRGAS_SHP_LOTES_77_SAUDE.zip!SIRGAS_SHP_LOTES_77_SAUDE\n",
      "zip://gis/lotes/SIRGAS_SHP_LOTES_49_LIBERDADE.zip!SIRGAS_SHP_LOTES_49_LIBERDADE\n",
      "zip://gis/lotes/SIRGAS_SHP_LOTES_24_CIDADE_LIDER.zip!SIRGAS_SHP_LOTES_24_CIDADE_LIDER\n",
      "zip://gis/lotes/SIRGAS_SHP_LOTES_45_JARDIM_PAULISTA.zip!SIRGAS_SHP_LOTES_45_JARDIM_PAULISTA\n",
      "zip://gis/lotes/SIRGAS_SHP_LOTES_65_RAPOSO_TAVARES.zip!SIRGAS_SHP_LOTES_65_RAPOSO_TAVARES\n",
      "zip://gis/lotes/SIRGAS_SHP_LOTES_22_CIDADE_ADEMAR.zip!SIRGAS_SHP_LOTES_22_CIDADE_ADEMAR\n",
      "zip://gis/lotes/SIRGAS_SHP_LOTES_63_PIRITUBA.zip!SIRGAS_SHP_LOTES_63_PIRITUBA\n",
      "zip://gis/lotes/SIRGAS_SHP_LOTES_94_VILA_SONIA.zip!SIRGAS_SHP_LOTES_94_VILA_SONIA\n",
      "zip://gis/lotes/SIRGAS_SHP_LOTES_61_PERUS.zip!SIRGAS_SHP_LOTES_61_PERUS\n",
      "zip://gis/lotes/SIRGAS_SHP_LOTES_11_BRASILANDIA.zip!SIRGAS_SHP_LOTES_11_BRASILANDIA\n",
      "zip://gis/lotes/SIRGAS_SHP_LOTES_80_TATUAPE.zip!SIRGAS_SHP_LOTES_80_TATUAPE\n",
      "zip://gis/lotes/SIRGAS_SHP_LOTES_92_VILA_MEDEIROS.zip!SIRGAS_SHP_LOTES_92_VILA_MEDEIROS\n",
      "zip://gis/lotes/SIRGAS_SHP_LOTES_67_RIO_PEQUENO.zip!SIRGAS_SHP_LOTES_67_RIO_PEQUENO\n",
      "zip://gis/lotes/SIRGAS_SHP_LOTES_60_PERDIZES.zip!SIRGAS_SHP_LOTES_60_PERDIZES\n",
      "zip://gis/lotes/SIRGAS_SHP_LOTES_64_PONTE_RASA.zip!SIRGAS_SHP_LOTES_64_PONTE_RASA\n",
      "zip://gis/lotes/SIRGAS_SHP_LOTES_35_ITAIM_BIBI.zip!SIRGAS_SHP_LOTES_35_ITAIM_BIBI\n",
      "zip://gis/lotes/SIRGAS_SHP_LOTES_33_IGUATEMI.zip!SIRGAS_SHP_LOTES_33_IGUATEMI\n",
      "zip://gis/lotes/SIRGAS_SHP_LOTES_82_TUCURUVI.zip!SIRGAS_SHP_LOTES_82_TUCURUVI\n",
      "zip://gis/lotes/SIRGAS_SHP_LOTES_19_CAPAO_REDONDO.zip!SIRGAS_SHP_LOTES_19_CAPAO_REDONDO\n",
      "zip://gis/lotes/SIRGAS_SHP_LOTES_89_VILA_MARIA.zip!SIRGAS_SHP_LOTES_89_VILA_MARIA\n",
      "zip://gis/lotes/SIRGAS_SHP_LOTES_26_CONSOLACAO.zip!SIRGAS_SHP_LOTES_26_CONSOLACAO\n",
      "zip://gis/lotes/SIRGAS_SHP_LOTES_84_VILA_CURUCA.zip!SIRGAS_SHP_LOTES_84_VILA_CURUCA\n",
      "zip://gis/lotes/SIRGAS_SHP_LOTES_43_JARDIM_ANGELA.zip!SIRGAS_SHP_LOTES_43_JARDIM_ANGELA\n",
      "zip://gis/lotes/SIRGAS_SHP_LOTES_16_CAMPO_GRANDE.zip!SIRGAS_SHP_LOTES_16_CAMPO_GRANDE\n",
      "zip://gis/lotes/SIRGAS_SHP_LOTES_75_SAO_RAFAEL.zip!SIRGAS_SHP_LOTES_75_SAO_RAFAEL\n",
      "zip://gis/lotes/SIRGAS_SHP_LOTES_57_PARQUE_DO_CARMO.zip!SIRGAS_SHP_LOTES_57_PARQUE_DO_CARMO\n",
      "zip://gis/lotes/SIRGAS_SHP_LOTES_12_BUTANTA.zip!SIRGAS_SHP_LOTES_12_BUTANTA\n",
      "zip://gis/lotes/SIRGAS_SHP_LOTES_29_FREGUESIA_DO_O.zip!SIRGAS_SHP_LOTES_29_FREGUESIA_DO_O\n",
      "zip://gis/lotes/SIRGAS_SHP_LOTES_56_PARI.zip!SIRGAS_SHP_LOTES_56_PARI\n",
      "zip://gis/lotes/SIRGAS_SHP_LOTES_93_VILA_PRUDENTE.zip!SIRGAS_SHP_LOTES_93_VILA_PRUDENTE\n",
      "zip://gis/lotes/SIRGAS_SHP_LOTES_51_MANDAQUI.zip!SIRGAS_SHP_LOTES_51_MANDAQUI\n",
      "zip://gis/lotes/SIRGAS_SHP_LOTES_72_SAO_LUCAS.zip!SIRGAS_SHP_LOTES_72_SAO_LUCAS\n",
      "zip://gis/lotes/SIRGAS_SHP_LOTES_42_JARAGUA.zip!SIRGAS_SHP_LOTES_42_JARAGUA\n",
      "zip://gis/lotes/SIRGAS_SHP_LOTES_48_LAPA.zip!SIRGAS_SHP_LOTES_48_LAPA\n",
      "zip://gis/lotes/SIRGAS_SHP_LOTES_05_ARTUR_ALVIM.zip!SIRGAS_SHP_LOTES_05_ARTUR_ALVIM\n",
      "zip://gis/lotes/SIRGAS_SHP_LOTES_62_PINHEIROS.zip!SIRGAS_SHP_LOTES_62_PINHEIROS\n",
      "zip://gis/lotes/SIRGAS_SHP_LOTES_36_ITAIM_PAULISTA.zip!SIRGAS_SHP_LOTES_36_ITAIM_PAULISTA\n",
      "zip://gis/lotes/SIRGAS_SHP_LOTES_91_VILA_MATILDE.zip!SIRGAS_SHP_LOTES_91_VILA_MATILDE\n",
      "zip://gis/lotes/SIRGAS_SHP_LOTES_13_CACHOEIRINHA.zip!SIRGAS_SHP_LOTES_13_CACHOEIRINHA\n",
      "zip://gis/lotes/SIRGAS_SHP_LOTES_03_ANHANGUERA.zip!SIRGAS_SHP_LOTES_03_ANHANGUERA\n",
      "zip://gis/lotes/SIRGAS_SHP_LOTES_70_SANTANA.zip!SIRGAS_SHP_LOTES_70_SANTANA\n",
      "zip://gis/lotes/SIRGAS_SHP_LOTES_06_BARRA_FUNDA.zip!SIRGAS_SHP_LOTES_06_BARRA_FUNDA\n",
      "zip://gis/lotes/SIRGAS_SHP_LOTES_39_JACANA.zip!SIRGAS_SHP_LOTES_39_JACANA\n",
      "zip://gis/lotes/SIRGAS_SHP_LOTES_86_VILA_GUILHERME.zip!SIRGAS_SHP_LOTES_86_VILA_GUILHERME\n",
      "zip://gis/lotes/SIRGAS_SHP_LOTES_85_VILA_FORMOSA.zip!SIRGAS_SHP_LOTES_85_VILA_FORMOSA\n",
      "zip://gis/lotes/SIRGAS_SHP_LOTES_74_SAO_MIGUEL.zip!SIRGAS_SHP_LOTES_74_SAO_MIGUEL\n",
      "time: 57.9 s\n"
     ]
    }
   ],
   "source": [
    "all_lotes = glob.glob(\"gis/lotes/*.zip\")\n",
    "\n",
    "li = []\n",
    "\n",
    "for filename in all_lotes:\n",
    "    zip_filename = f\"zip://{filename}!{filename.replace('gis/lotes/', '').replace('.zip', '')}\"\n",
    "    print(zip_filename)\n",
    "    #zipfile = \"zip:///Users/name/Downloads/gadm36_AFG_shp.zip!data\"\n",
    "    gdf = gpd.read_file(zip_filename)\n",
    "#     df = pd.read_csv(filename, encoding='latin1', \n",
    "#                      sep=';', \n",
    "#                      decimal=\",\", \n",
    "#                      header=None, \n",
    "#                      names=colunas[filename],\n",
    "#                      skiprows=[0])\n",
    "# #     li.append({\"arquivo\": filename,\n",
    "# #                \"headers\": list(df.columns)})\n",
    "    li.append(gdf)"
   ]
  },
  {
   "cell_type": "code",
   "execution_count": 72,
   "metadata": {},
   "outputs": [
    {
     "name": "stdout",
     "output_type": "stream",
     "text": [
      "time: 382 ms\n"
     ]
    }
   ],
   "source": [
    "gdf_lotes = gpd.GeoDataFrame(pd.concat(li, ignore_index=True))"
   ]
  },
  {
   "cell_type": "code",
   "execution_count": 73,
   "metadata": {},
   "outputs": [
    {
     "data": {
      "text/html": [
       "<div>\n",
       "<style scoped>\n",
       "    .dataframe tbody tr th:only-of-type {\n",
       "        vertical-align: middle;\n",
       "    }\n",
       "\n",
       "    .dataframe tbody tr th {\n",
       "        vertical-align: top;\n",
       "    }\n",
       "\n",
       "    .dataframe thead th {\n",
       "        text-align: right;\n",
       "    }\n",
       "</style>\n",
       "<table border=\"1\" class=\"dataframe\">\n",
       "  <thead>\n",
       "    <tr style=\"text-align: right;\">\n",
       "      <th></th>\n",
       "      <th>lo_setor</th>\n",
       "      <th>lo_quadra</th>\n",
       "      <th>lo_lote</th>\n",
       "      <th>lo_condomi</th>\n",
       "      <th>lo_tp_quad</th>\n",
       "      <th>lo_tp_lote</th>\n",
       "      <th>geometry</th>\n",
       "    </tr>\n",
       "  </thead>\n",
       "  <tbody>\n",
       "    <tr>\n",
       "      <th>0</th>\n",
       "      <td>052</td>\n",
       "      <td>246</td>\n",
       "      <td>0000</td>\n",
       "      <td>04</td>\n",
       "      <td>F</td>\n",
       "      <td>F</td>\n",
       "      <td>POLYGON ((339259.190 7391880.414, 339258.522 7...</td>\n",
       "    </tr>\n",
       "    <tr>\n",
       "      <th>1</th>\n",
       "      <td>102</td>\n",
       "      <td>087</td>\n",
       "      <td>0000</td>\n",
       "      <td>02</td>\n",
       "      <td>F</td>\n",
       "      <td>F</td>\n",
       "      <td>POLYGON ((339975.061 7391373.027, 339972.832 7...</td>\n",
       "    </tr>\n",
       "    <tr>\n",
       "      <th>2</th>\n",
       "      <td>052</td>\n",
       "      <td>062</td>\n",
       "      <td>0000</td>\n",
       "      <td>02</td>\n",
       "      <td>F</td>\n",
       "      <td>F</td>\n",
       "      <td>POLYGON ((338387.249 7393011.755, 338342.440 7...</td>\n",
       "    </tr>\n",
       "    <tr>\n",
       "      <th>3</th>\n",
       "      <td>100</td>\n",
       "      <td>069</td>\n",
       "      <td>0025</td>\n",
       "      <td>00</td>\n",
       "      <td>F</td>\n",
       "      <td>F</td>\n",
       "      <td>POLYGON ((339511.610 7391704.014, 339516.247 7...</td>\n",
       "    </tr>\n",
       "    <tr>\n",
       "      <th>4</th>\n",
       "      <td>100</td>\n",
       "      <td>017</td>\n",
       "      <td>0021</td>\n",
       "      <td>00</td>\n",
       "      <td>F</td>\n",
       "      <td>F</td>\n",
       "      <td>POLYGON ((338846.759 7391897.295, 338849.031 7...</td>\n",
       "    </tr>\n",
       "    <tr>\n",
       "      <th>...</th>\n",
       "      <td>...</td>\n",
       "      <td>...</td>\n",
       "      <td>...</td>\n",
       "      <td>...</td>\n",
       "      <td>...</td>\n",
       "      <td>...</td>\n",
       "      <td>...</td>\n",
       "    </tr>\n",
       "    <tr>\n",
       "      <th>1668284</th>\n",
       "      <td>112</td>\n",
       "      <td>593</td>\n",
       "      <td>0016</td>\n",
       "      <td>00</td>\n",
       "      <td>F</td>\n",
       "      <td>F</td>\n",
       "      <td>POLYGON ((352518.797 7399751.992, 352513.493 7...</td>\n",
       "    </tr>\n",
       "    <tr>\n",
       "      <th>1668285</th>\n",
       "      <td>112</td>\n",
       "      <td>593</td>\n",
       "      <td>0043</td>\n",
       "      <td>00</td>\n",
       "      <td>F</td>\n",
       "      <td>F</td>\n",
       "      <td>POLYGON ((352518.797 7399751.992, 352516.986 7...</td>\n",
       "    </tr>\n",
       "    <tr>\n",
       "      <th>1668286</th>\n",
       "      <td>139</td>\n",
       "      <td>171</td>\n",
       "      <td>0010</td>\n",
       "      <td>00</td>\n",
       "      <td>F</td>\n",
       "      <td>F</td>\n",
       "      <td>POLYGON ((353425.391 7398787.846, 353427.900 7...</td>\n",
       "    </tr>\n",
       "    <tr>\n",
       "      <th>1668287</th>\n",
       "      <td>139</td>\n",
       "      <td>099</td>\n",
       "      <td>0023</td>\n",
       "      <td>00</td>\n",
       "      <td>F</td>\n",
       "      <td>F</td>\n",
       "      <td>POLYGON ((353567.454 7399862.813, 353537.170 7...</td>\n",
       "    </tr>\n",
       "    <tr>\n",
       "      <th>1668288</th>\n",
       "      <td>112</td>\n",
       "      <td>034</td>\n",
       "      <td>0004</td>\n",
       "      <td>00</td>\n",
       "      <td>M</td>\n",
       "      <td>M</td>\n",
       "      <td>POLYGON ((351461.162 7401079.783, 351488.325 7...</td>\n",
       "    </tr>\n",
       "  </tbody>\n",
       "</table>\n",
       "<p>1668289 rows × 7 columns</p>\n",
       "</div>"
      ],
      "text/plain": [
       "        lo_setor lo_quadra lo_lote lo_condomi lo_tp_quad lo_tp_lote  \\\n",
       "0            052       246    0000         04          F          F   \n",
       "1            102       087    0000         02          F          F   \n",
       "2            052       062    0000         02          F          F   \n",
       "3            100       069    0025         00          F          F   \n",
       "4            100       017    0021         00          F          F   \n",
       "...          ...       ...     ...        ...        ...        ...   \n",
       "1668284      112       593    0016         00          F          F   \n",
       "1668285      112       593    0043         00          F          F   \n",
       "1668286      139       171    0010         00          F          F   \n",
       "1668287      139       099    0023         00          F          F   \n",
       "1668288      112       034    0004         00          M          M   \n",
       "\n",
       "                                                  geometry  \n",
       "0        POLYGON ((339259.190 7391880.414, 339258.522 7...  \n",
       "1        POLYGON ((339975.061 7391373.027, 339972.832 7...  \n",
       "2        POLYGON ((338387.249 7393011.755, 338342.440 7...  \n",
       "3        POLYGON ((339511.610 7391704.014, 339516.247 7...  \n",
       "4        POLYGON ((338846.759 7391897.295, 338849.031 7...  \n",
       "...                                                    ...  \n",
       "1668284  POLYGON ((352518.797 7399751.992, 352513.493 7...  \n",
       "1668285  POLYGON ((352518.797 7399751.992, 352516.986 7...  \n",
       "1668286  POLYGON ((353425.391 7398787.846, 353427.900 7...  \n",
       "1668287  POLYGON ((353567.454 7399862.813, 353537.170 7...  \n",
       "1668288  POLYGON ((351461.162 7401079.783, 351488.325 7...  \n",
       "\n",
       "[1668289 rows x 7 columns]"
      ]
     },
     "execution_count": 73,
     "metadata": {},
     "output_type": "execute_result"
    },
    {
     "name": "stdout",
     "output_type": "stream",
     "text": [
      "time: 14.1 ms\n"
     ]
    }
   ],
   "source": [
    "gdf_lotes"
   ]
  },
  {
   "cell_type": "code",
   "execution_count": 74,
   "metadata": {},
   "outputs": [
    {
     "name": "stdout",
     "output_type": "stream",
     "text": [
      "time: 699 ms\n"
     ]
    }
   ],
   "source": [
    "gdf_lotes['sqlc'] = gdf_lotes.lo_setor + gdf_lotes.lo_quadra + gdf_lotes.lo_lote + gdf_lotes.lo_condomi"
   ]
  },
  {
   "cell_type": "code",
   "execution_count": 75,
   "metadata": {},
   "outputs": [
    {
     "name": "stdout",
     "output_type": "stream",
     "text": [
      "time: 13.1 s\n"
     ]
    }
   ],
   "source": [
    "gdf_lotes.geometry = gdf_lotes.geometry.apply(lambda x: x.representative_point())"
   ]
  },
  {
   "cell_type": "code",
   "execution_count": 76,
   "metadata": {},
   "outputs": [
    {
     "name": "stdout",
     "output_type": "stream",
     "text": [
      "time: 54.1 ms\n"
     ]
    }
   ],
   "source": [
    "df_alv = df_alv.reset_index()"
   ]
  },
  {
   "cell_type": "code",
   "execution_count": 77,
   "metadata": {},
   "outputs": [
    {
     "name": "stdout",
     "output_type": "stream",
     "text": [
      "time: 3.27 s\n"
     ]
    }
   ],
   "source": [
    "gdf_lotes[gdf_lotes.lo_tp_lote == 'F'][gdf_lotes[gdf_lotes.lo_tp_lote == 'F']['sqlc'].duplicated()].to_file(\"resultados/lotes-fiscais-duplicados.geojson\", driver='GeoJSON')"
   ]
  },
  {
   "cell_type": "code",
   "execution_count": 78,
   "metadata": {},
   "outputs": [
    {
     "data": {
      "text/plain": [
       "Index(['lo_setor', 'lo_quadra', 'lo_lote', 'lo_condomi', 'lo_tp_quad',\n",
       "       'lo_tp_lote', 'geometry', 'sqlc'],\n",
       "      dtype='object')"
      ]
     },
     "execution_count": 78,
     "metadata": {},
     "output_type": "execute_result"
    },
    {
     "name": "stdout",
     "output_type": "stream",
     "text": [
      "time: 1.5 ms\n"
     ]
    }
   ],
   "source": [
    "gdf_lotes.columns"
   ]
  },
  {
   "cell_type": "code",
   "execution_count": 79,
   "metadata": {},
   "outputs": [
    {
     "name": "stdout",
     "output_type": "stream",
     "text": [
      "time: 1.17 s\n"
     ]
    }
   ],
   "source": [
    "gdf_lotes.drop_duplicates(subset=['sqlc', 'lo_tp_lote'], inplace=True)"
   ]
  },
  {
   "cell_type": "code",
   "execution_count": 80,
   "metadata": {},
   "outputs": [
    {
     "data": {
      "text/html": [
       "<div>\n",
       "<style scoped>\n",
       "    .dataframe tbody tr th:only-of-type {\n",
       "        vertical-align: middle;\n",
       "    }\n",
       "\n",
       "    .dataframe tbody tr th {\n",
       "        vertical-align: top;\n",
       "    }\n",
       "\n",
       "    .dataframe thead th {\n",
       "        text-align: right;\n",
       "    }\n",
       "</style>\n",
       "<table border=\"1\" class=\"dataframe\">\n",
       "  <thead>\n",
       "    <tr style=\"text-align: right;\">\n",
       "      <th></th>\n",
       "      <th>lo_setor</th>\n",
       "      <th>lo_quadra</th>\n",
       "      <th>lo_lote</th>\n",
       "      <th>lo_condomi</th>\n",
       "      <th>lo_tp_quad</th>\n",
       "      <th>lo_tp_lote</th>\n",
       "      <th>geometry</th>\n",
       "      <th>sqlc</th>\n",
       "    </tr>\n",
       "  </thead>\n",
       "  <tbody>\n",
       "  </tbody>\n",
       "</table>\n",
       "</div>"
      ],
      "text/plain": [
       "Empty GeoDataFrame\n",
       "Columns: [lo_setor, lo_quadra, lo_lote, lo_condomi, lo_tp_quad, lo_tp_lote, geometry, sqlc]\n",
       "Index: []"
      ]
     },
     "execution_count": 80,
     "metadata": {},
     "output_type": "execute_result"
    },
    {
     "name": "stdout",
     "output_type": "stream",
     "text": [
      "time: 1.48 s\n"
     ]
    }
   ],
   "source": [
    "gdf_lotes[gdf_lotes.lo_tp_lote == 'F'][gdf_lotes[gdf_lotes.lo_tp_lote == 'F']['sqlc'].duplicated()]"
   ]
  },
  {
   "cell_type": "code",
   "execution_count": 81,
   "metadata": {},
   "outputs": [
    {
     "name": "stdout",
     "output_type": "stream",
     "text": [
      "time: 1.53 s\n"
     ]
    }
   ],
   "source": [
    "df_alv = df_alv.merge(gdf_lotes[gdf_lotes.lo_tp_lote == 'F'][['sqlc', 'geometry']], how='left', on='sqlc')"
   ]
  },
  {
   "cell_type": "code",
   "execution_count": 82,
   "metadata": {},
   "outputs": [
    {
     "name": "stdout",
     "output_type": "stream",
     "text": [
      "time: 1.47 ms\n"
     ]
    }
   ],
   "source": [
    "gdf_alv = gpd.GeoDataFrame(df_alv, geometry=df_alv.geometry)"
   ]
  },
  {
   "cell_type": "code",
   "execution_count": 83,
   "metadata": {},
   "outputs": [
    {
     "data": {
      "text/plain": [
       "False    29023\n",
       "True     26453\n",
       "dtype: int64"
      ]
     },
     "execution_count": 83,
     "metadata": {},
     "output_type": "execute_result"
    },
    {
     "name": "stdout",
     "output_type": "stream",
     "text": [
      "time: 55.7 ms\n"
     ]
    }
   ],
   "source": [
    "gdf_alv.is_valid.value_counts()"
   ]
  },
  {
   "cell_type": "code",
   "execution_count": 84,
   "metadata": {},
   "outputs": [
    {
     "name": "stdout",
     "output_type": "stream",
     "text": [
      "time: 34.1 ms\n"
     ]
    }
   ],
   "source": [
    "gdf_alv.drop(columns=['index'], inplace=True)"
   ]
  },
  {
   "cell_type": "code",
   "execution_count": 87,
   "metadata": {},
   "outputs": [
    {
     "name": "stdout",
     "output_type": "stream",
     "text": [
      "time: 3.74 s\n"
     ]
    }
   ],
   "source": [
    "gdf_quadras = gpd.read_file('zip://gis/SIRGAS_SHP_quadraMDSF.zip!SIRGAS_SHP_quadraMDSF')"
   ]
  },
  {
   "cell_type": "code",
   "execution_count": 88,
   "metadata": {},
   "outputs": [
    {
     "data": {
      "text/html": [
       "<div>\n",
       "<style scoped>\n",
       "    .dataframe tbody tr th:only-of-type {\n",
       "        vertical-align: middle;\n",
       "    }\n",
       "\n",
       "    .dataframe tbody tr th {\n",
       "        vertical-align: top;\n",
       "    }\n",
       "\n",
       "    .dataframe thead th {\n",
       "        text-align: right;\n",
       "    }\n",
       "</style>\n",
       "<table border=\"1\" class=\"dataframe\">\n",
       "  <thead>\n",
       "    <tr style=\"text-align: right;\">\n",
       "      <th></th>\n",
       "      <th>setor</th>\n",
       "      <th>quadra</th>\n",
       "    </tr>\n",
       "  </thead>\n",
       "  <tbody>\n",
       "    <tr>\n",
       "      <th>0</th>\n",
       "      <td>055</td>\n",
       "      <td>114</td>\n",
       "    </tr>\n",
       "    <tr>\n",
       "      <th>1</th>\n",
       "      <td>230</td>\n",
       "      <td>133</td>\n",
       "    </tr>\n",
       "    <tr>\n",
       "      <th>2</th>\n",
       "      <td>230</td>\n",
       "      <td>133</td>\n",
       "    </tr>\n",
       "    <tr>\n",
       "      <th>5</th>\n",
       "      <td>112</td>\n",
       "      <td>639</td>\n",
       "    </tr>\n",
       "    <tr>\n",
       "      <th>7</th>\n",
       "      <td>085</td>\n",
       "      <td>031</td>\n",
       "    </tr>\n",
       "    <tr>\n",
       "      <th>...</th>\n",
       "      <td>...</td>\n",
       "      <td>...</td>\n",
       "    </tr>\n",
       "    <tr>\n",
       "      <th>55470</th>\n",
       "      <td>068</td>\n",
       "      <td>044</td>\n",
       "    </tr>\n",
       "    <tr>\n",
       "      <th>55471</th>\n",
       "      <td>069</td>\n",
       "      <td>022</td>\n",
       "    </tr>\n",
       "    <tr>\n",
       "      <th>55472</th>\n",
       "      <td>047</td>\n",
       "      <td>175</td>\n",
       "    </tr>\n",
       "    <tr>\n",
       "      <th>55473</th>\n",
       "      <td>047</td>\n",
       "      <td>175</td>\n",
       "    </tr>\n",
       "    <tr>\n",
       "      <th>55474</th>\n",
       "      <td>037</td>\n",
       "      <td>083</td>\n",
       "    </tr>\n",
       "  </tbody>\n",
       "</table>\n",
       "<p>23333 rows × 2 columns</p>\n",
       "</div>"
      ],
      "text/plain": [
       "      setor quadra\n",
       "0       055    114\n",
       "1       230    133\n",
       "2       230    133\n",
       "5       112    639\n",
       "7       085    031\n",
       "...     ...    ...\n",
       "55470   068    044\n",
       "55471   069    022\n",
       "55472   047    175\n",
       "55473   047    175\n",
       "55474   037    083\n",
       "\n",
       "[23333 rows x 2 columns]"
      ]
     },
     "execution_count": 88,
     "metadata": {},
     "output_type": "execute_result"
    },
    {
     "name": "stdout",
     "output_type": "stream",
     "text": [
      "time: 99.4 ms\n"
     ]
    }
   ],
   "source": [
    "gdf_alv[~gdf_alv.geometry.is_valid & gdf_alv.setor.notna() & gdf_alv.quadra.notna()][['setor', 'quadra']]"
   ]
  },
  {
   "cell_type": "code",
   "execution_count": 89,
   "metadata": {},
   "outputs": [
    {
     "name": "stdout",
     "output_type": "stream",
     "text": [
      "time: 17.6 ms\n"
     ]
    }
   ],
   "source": [
    "gdf_alv['sq'] = gdf_alv.setor + gdf_alv.quadra"
   ]
  },
  {
   "cell_type": "code",
   "execution_count": 90,
   "metadata": {},
   "outputs": [
    {
     "name": "stdout",
     "output_type": "stream",
     "text": [
      "time: 93.3 ms\n"
     ]
    }
   ],
   "source": [
    "gdf_quadras = gdf_quadras[gdf_quadras.qd_tipo != 'M'].drop_duplicates(subset=['qd_setor', 'qd_fiscal'])"
   ]
  },
  {
   "cell_type": "code",
   "execution_count": 91,
   "metadata": {},
   "outputs": [
    {
     "name": "stdout",
     "output_type": "stream",
     "text": [
      "time: 7.42 ms\n"
     ]
    }
   ],
   "source": [
    "gdf_quadras['sq'] = gdf_quadras.qd_setor + gdf_quadras.qd_fiscal"
   ]
  },
  {
   "cell_type": "code",
   "execution_count": 92,
   "metadata": {},
   "outputs": [
    {
     "name": "stdout",
     "output_type": "stream",
     "text": [
      "time: 106 ms\n"
     ]
    }
   ],
   "source": [
    "# gdf_alv.merge(gdf_quadras, on='sq', how='left')\n",
    "gdf_alv_sq = gdf_alv[~gdf_alv.is_valid & gdf_alv.setor.notna() & gdf_alv.quadra.notna()]"
   ]
  },
  {
   "cell_type": "code",
   "execution_count": 93,
   "metadata": {},
   "outputs": [
    {
     "name": "stdout",
     "output_type": "stream",
     "text": [
      "time: 180 ms\n"
     ]
    }
   ],
   "source": [
    "gdf_alv_quadras = gdf_alv_sq.reset_index().merge(gdf_quadras, on='sq', how='left').set_index('index').geometry_y\n",
    "# gdf_alv_sq"
   ]
  },
  {
   "cell_type": "code",
   "execution_count": 94,
   "metadata": {},
   "outputs": [
    {
     "name": "stdout",
     "output_type": "stream",
     "text": [
      "time: 405 µs\n"
     ]
    }
   ],
   "source": [
    "gdf_alv.index.set_names('index', inplace=True)"
   ]
  },
  {
   "cell_type": "code",
   "execution_count": 95,
   "metadata": {},
   "outputs": [
    {
     "name": "stdout",
     "output_type": "stream",
     "text": [
      "time: 423 ms\n"
     ]
    }
   ],
   "source": [
    "gdf_alv = gdf_alv.join(gdf_alv_quadras, how='left')"
   ]
  },
  {
   "cell_type": "code",
   "execution_count": 96,
   "metadata": {},
   "outputs": [
    {
     "name": "stdout",
     "output_type": "stream",
     "text": [
      "time: 317 µs\n"
     ]
    }
   ],
   "source": [
    "# from shapely import "
   ]
  },
  {
   "cell_type": "code",
   "execution_count": 97,
   "metadata": {},
   "outputs": [
    {
     "name": "stdout",
     "output_type": "stream",
     "text": [
      "time: 666 µs\n"
     ]
    }
   ],
   "source": [
    "import random\n",
    "from shapely.geometry import Point"
   ]
  },
  {
   "cell_type": "code",
   "execution_count": 98,
   "metadata": {},
   "outputs": [
    {
     "name": "stdout",
     "output_type": "stream",
     "text": [
      "time: 278 µs\n"
     ]
    }
   ],
   "source": [
    "gdf_alv_bkp = gdf_alv"
   ]
  },
  {
   "cell_type": "code",
   "execution_count": 99,
   "metadata": {},
   "outputs": [
    {
     "name": "stdout",
     "output_type": "stream",
     "text": [
      "time: 4.63 s\n"
     ]
    }
   ],
   "source": [
    "gdf_alv.loc[gdf_alv.geometry_y.notna() ,['geometry']] = gdf_alv[gdf_alv.geometry_y.notna()].geometry_y.apply(lambda x: Point(random.choice(x.buffer(2).exterior.coords)))"
   ]
  },
  {
   "cell_type": "code",
   "execution_count": 100,
   "metadata": {},
   "outputs": [
    {
     "name": "stdout",
     "output_type": "stream",
     "text": [
      "time: 2.56 s\n"
     ]
    }
   ],
   "source": [
    "gdf_alv.crs = 'EPSG:31983'"
   ]
  },
  {
   "cell_type": "code",
   "execution_count": 101,
   "metadata": {},
   "outputs": [
    {
     "name": "stdout",
     "output_type": "stream",
     "text": [
      "time: 29.3 s\n"
     ]
    }
   ],
   "source": [
    "gdf_alv.loc[gdf_alv.is_valid].drop(['geometry_y'], axis=1).to_file('resultados/alvaras-geometrias-pelo-sql.gpkg', driver='GPKG')"
   ]
  },
  {
   "cell_type": "markdown",
   "metadata": {},
   "source": [
    "## Georeferenciando refugo"
   ]
  },
  {
   "cell_type": "code",
   "execution_count": 102,
   "metadata": {},
   "outputs": [
    {
     "data": {
      "text/plain": [
       "Index(['Unidade', 'Subprefeitura', 'Alvará', 'Descrição', 'Tipo de Construção',\n",
       "       'SQL_Incra', 'Categoria de uso', 'Zona de uso atual', 'Bairro',\n",
       "       'Área da construção', 'Proprietário', 'Área do terreno', 'Endereço',\n",
       "       'Aprovação', 'Dirigente técnico', 'Responsável pela empresa',\n",
       "       'Autor do projeto', 'Blocos', 'Unidades', 'Pavimentos', 'Processo',\n",
       "       'Zona de uso anterior', '(B)locos / (P)avimentos / (U)nidades',\n",
       "       'Data autuação', 'sql', 'sqlc', 'setor', 'quadra', 'lote', 'condominio',\n",
       "       'geometry', 'sq', 'geometry_y'],\n",
       "      dtype='object')"
      ]
     },
     "execution_count": 102,
     "metadata": {},
     "output_type": "execute_result"
    },
    {
     "name": "stdout",
     "output_type": "stream",
     "text": [
      "time: 60.4 ms\n"
     ]
    }
   ],
   "source": [
    "gdf_alv.columns"
   ]
  },
  {
   "cell_type": "code",
   "execution_count": 103,
   "metadata": {},
   "outputs": [
    {
     "name": "stdout",
     "output_type": "stream",
     "text": [
      "time: 887 ms\n"
     ]
    }
   ],
   "source": [
    "gdf_alv.loc[~gdf_alv.is_valid & gdf_alv.Endereço.notna(), ['Endereço', 'Bairro']].to_csv('resultados/alvaras-para-geocodificar.csv')"
   ]
  },
  {
   "cell_type": "markdown",
   "metadata": {},
   "source": [
    "### Relacionando espacialmente - DEPRECIADO"
   ]
  },
  {
   "cell_type": "code",
   "execution_count": null,
   "metadata": {},
   "outputs": [],
   "source": [
    "from owslib.wfs import WebFeatureService\n",
    "from owslib.csw import CatalogueServiceWeb\n",
    "import json\n",
    "import geopandas as gpd\n",
    "from shapely.geometry import shape\n",
    "from urllib.parse import quote"
   ]
  },
  {
   "cell_type": "code",
   "execution_count": null,
   "metadata": {},
   "outputs": [],
   "source": [
    "url_wfs = 'http://wfs.geosampa.prefeitura.sp.gov.br/geoserver/geoportal/wfs'\n",
    "\n",
    "wfs = WebFeatureService(url_wfs, version='2.0.0')"
   ]
  },
  {
   "cell_type": "code",
   "execution_count": null,
   "metadata": {},
   "outputs": [],
   "source": [
    "# list(wfs.operations)\n",
    "# wfs.contents"
   ]
  },
  {
   "cell_type": "code",
   "execution_count": null,
   "metadata": {},
   "outputs": [],
   "source": [
    "# response = wfs.getfeature(typename=\"geoportal:quadra_fiscal\", \n",
    "#                           outputFormat='application/json')"
   ]
  },
  {
   "cell_type": "code",
   "execution_count": null,
   "metadata": {},
   "outputs": [],
   "source": [
    "# quadras_fiscais = json.loads(response.read())"
   ]
  },
  {
   "cell_type": "code",
   "execution_count": null,
   "metadata": {},
   "outputs": [],
   "source": [
    "# len(quadras_fiscais['features'])"
   ]
  },
  {
   "cell_type": "code",
   "execution_count": null,
   "metadata": {},
   "outputs": [],
   "source": [
    "df_sqlcs = df_alv[df_alv.sqlc.notna()][['setor', 'quadra', 'lote', 'condominio']]"
   ]
  },
  {
   "cell_type": "code",
   "execution_count": null,
   "metadata": {},
   "outputs": [],
   "source": [
    "n = 50  #chunk row size\n",
    "list_sqlcs = [df_sqlcs[i:i+n] for i in range(0, df_sqlcs.shape[0], n)]"
   ]
  },
  {
   "cell_type": "code",
   "execution_count": null,
   "metadata": {},
   "outputs": [],
   "source": [
    "len(list_sqlcs)"
   ]
  },
  {
   "cell_type": "code",
   "execution_count": null,
   "metadata": {},
   "outputs": [],
   "source": [
    "import urllib.request"
   ]
  },
  {
   "cell_type": "code",
   "execution_count": null,
   "metadata": {},
   "outputs": [],
   "source": [
    "# response = wfs.getfeature(typename=\"geoportal:lote\", \n",
    "#                           outputFormat='application/json')\n",
    "\n",
    "feicoes = ''\n",
    "\n",
    "for df in list_sqlcs:\n",
    "    cql_string = ' OR '.join([f\"(cd_setor_fiscal='{r.setor}' and cd_quadra_fiscal='{r.quadra}' and cd_lote='{r.lote}')\" for k, r in df.iterrows()])\n",
    "    url = response.geturl() + '&cql_filter=' + quote(cql_string)\n",
    "    with urllib.request.urlopen(url) as response:\n",
    "       feicoes = json.loads(response.read())\n",
    "    break"
   ]
  },
  {
   "cell_type": "code",
   "execution_count": null,
   "metadata": {},
   "outputs": [],
   "source": [
    "feicoes"
   ]
  },
  {
   "cell_type": "code",
   "execution_count": null,
   "metadata": {},
   "outputs": [],
   "source": [
    "cql_string = ' OR '.join([f\"(cd_setor_fiscal='{s[0]}' and cd_quadra_fiscal='{s[1]}' and cd_lote='{s[2]}')\" for s in sqls])"
   ]
  },
  {
   "cell_type": "code",
   "execution_count": null,
   "metadata": {},
   "outputs": [],
   "source": [
    "response = wfs.getfeature(typename=\"geoportal:lote\", \n",
    "                          outputFormat='application/json')"
   ]
  },
  {
   "cell_type": "code",
   "execution_count": null,
   "metadata": {
    "scrolled": false
   },
   "outputs": [],
   "source": [
    "# cql_string"
   ]
  },
  {
   "cell_type": "markdown",
   "metadata": {},
   "source": [
    "### Localizados por endereço"
   ]
  },
  {
   "cell_type": "code",
   "execution_count": 104,
   "metadata": {},
   "outputs": [
    {
     "name": "stdout",
     "output_type": "stream",
     "text": [
      "time: 2.81 s\n"
     ]
    }
   ],
   "source": [
    "gdf_geocod = gpd.read_file('resultados/ALVARA_FINAL_SAD6996.DBF')"
   ]
  },
  {
   "cell_type": "code",
   "execution_count": 105,
   "metadata": {},
   "outputs": [
    {
     "data": {
      "text/html": [
       "<div>\n",
       "<style scoped>\n",
       "    .dataframe tbody tr th:only-of-type {\n",
       "        vertical-align: middle;\n",
       "    }\n",
       "\n",
       "    .dataframe tbody tr th {\n",
       "        vertical-align: top;\n",
       "    }\n",
       "\n",
       "    .dataframe thead th {\n",
       "        text-align: right;\n",
       "    }\n",
       "</style>\n",
       "<table border=\"1\" class=\"dataframe\">\n",
       "  <thead>\n",
       "    <tr style=\"text-align: right;\">\n",
       "      <th></th>\n",
       "      <th>ID</th>\n",
       "      <th>LONGITUDE</th>\n",
       "      <th>LATITUDE</th>\n",
       "      <th>CONTROLE</th>\n",
       "      <th>INDEX</th>\n",
       "      <th>ENDEREO</th>\n",
       "      <th>BAIRRO</th>\n",
       "      <th>LATITUDE1</th>\n",
       "      <th>LONGITUDE1</th>\n",
       "      <th>CONTROLE1</th>\n",
       "      <th>T</th>\n",
       "      <th>LAT</th>\n",
       "      <th>LONG</th>\n",
       "      <th>geometry</th>\n",
       "    </tr>\n",
       "  </thead>\n",
       "  <tbody>\n",
       "    <tr>\n",
       "      <th>0</th>\n",
       "      <td>5689</td>\n",
       "      <td>-46718516.0</td>\n",
       "      <td>-23493350.0</td>\n",
       "      <td>EIXO_OK</td>\n",
       "      <td>10</td>\n",
       "      <td>R AMERICO MACHADO</td>\n",
       "      <td>None</td>\n",
       "      <td>-23494144.0</td>\n",
       "      <td>-46717817.0</td>\n",
       "      <td>EIXO_OK</td>\n",
       "      <td>-</td>\n",
       "      <td>-23493350</td>\n",
       "      <td>-46718516</td>\n",
       "      <td>None</td>\n",
       "    </tr>\n",
       "    <tr>\n",
       "      <th>1</th>\n",
       "      <td>5724</td>\n",
       "      <td>NaN</td>\n",
       "      <td>NaN</td>\n",
       "      <td>None</td>\n",
       "      <td>12</td>\n",
       "      <td>R CASA DO CAMPO,251</td>\n",
       "      <td>None</td>\n",
       "      <td>-23687490.0</td>\n",
       "      <td>-46794110.0</td>\n",
       "      <td>None</td>\n",
       "      <td>-</td>\n",
       "      <td>None</td>\n",
       "      <td>None</td>\n",
       "      <td>None</td>\n",
       "    </tr>\n",
       "    <tr>\n",
       "      <th>2</th>\n",
       "      <td>5684</td>\n",
       "      <td>-46436145.0</td>\n",
       "      <td>-23559377.0</td>\n",
       "      <td>EIXO_OK</td>\n",
       "      <td>82</td>\n",
       "      <td>R AGRIMENSOR SUGAYA,968</td>\n",
       "      <td>None</td>\n",
       "      <td>-23559377.0</td>\n",
       "      <td>-46436145.0</td>\n",
       "      <td>EIXO_OK</td>\n",
       "      <td>-</td>\n",
       "      <td>-23559377</td>\n",
       "      <td>-46436145</td>\n",
       "      <td>None</td>\n",
       "    </tr>\n",
       "    <tr>\n",
       "      <th>3</th>\n",
       "      <td>2228</td>\n",
       "      <td>-46723666.0</td>\n",
       "      <td>-23484701.0</td>\n",
       "      <td>EIXO_OK</td>\n",
       "      <td>191</td>\n",
       "      <td>AV RAIMUNDO PEREIRA DE MAGALHAES</td>\n",
       "      <td>None</td>\n",
       "      <td>-23484701.0</td>\n",
       "      <td>-46723666.0</td>\n",
       "      <td>None</td>\n",
       "      <td>-</td>\n",
       "      <td>-23484701</td>\n",
       "      <td>-46723666</td>\n",
       "      <td>None</td>\n",
       "    </tr>\n",
       "    <tr>\n",
       "      <th>4</th>\n",
       "      <td>2372</td>\n",
       "      <td>-46589941.0</td>\n",
       "      <td>-23494745.0</td>\n",
       "      <td>EIXO_OK</td>\n",
       "      <td>308</td>\n",
       "      <td>ES DO VALO VELHO,9900</td>\n",
       "      <td>None</td>\n",
       "      <td>-23494745.0</td>\n",
       "      <td>-46589941.0</td>\n",
       "      <td>None</td>\n",
       "      <td>-</td>\n",
       "      <td>-23494745</td>\n",
       "      <td>-46589941</td>\n",
       "      <td>None</td>\n",
       "    </tr>\n",
       "    <tr>\n",
       "      <th>...</th>\n",
       "      <td>...</td>\n",
       "      <td>...</td>\n",
       "      <td>...</td>\n",
       "      <td>...</td>\n",
       "      <td>...</td>\n",
       "      <td>...</td>\n",
       "      <td>...</td>\n",
       "      <td>...</td>\n",
       "      <td>...</td>\n",
       "      <td>...</td>\n",
       "      <td>...</td>\n",
       "      <td>...</td>\n",
       "      <td>...</td>\n",
       "      <td>...</td>\n",
       "    </tr>\n",
       "    <tr>\n",
       "      <th>5953</th>\n",
       "      <td>2235</td>\n",
       "      <td>-46449220.0</td>\n",
       "      <td>-23492690.0</td>\n",
       "      <td>CADEK_OK</td>\n",
       "      <td>55018</td>\n",
       "      <td>AV S MIGUEL,SN</td>\n",
       "      <td>SAO MIGUEL PAULISTA</td>\n",
       "      <td>-23492690.0</td>\n",
       "      <td>-46449220.0</td>\n",
       "      <td>CADEK_OK</td>\n",
       "      <td>-</td>\n",
       "      <td>-23492690</td>\n",
       "      <td>-46449220</td>\n",
       "      <td>None</td>\n",
       "    </tr>\n",
       "    <tr>\n",
       "      <th>5954</th>\n",
       "      <td>5821</td>\n",
       "      <td>-46409190.0</td>\n",
       "      <td>-23531010.0</td>\n",
       "      <td>CADECK_OK</td>\n",
       "      <td>55278</td>\n",
       "      <td>R S JOSE DE MOSSAMEDES,216</td>\n",
       "      <td>None</td>\n",
       "      <td>-23531010.0</td>\n",
       "      <td>-46409190.0</td>\n",
       "      <td>CADECK_OK</td>\n",
       "      <td>-</td>\n",
       "      <td>-23531010</td>\n",
       "      <td>-46409190</td>\n",
       "      <td>None</td>\n",
       "    </tr>\n",
       "    <tr>\n",
       "      <th>5955</th>\n",
       "      <td>5794</td>\n",
       "      <td>-46395838.0</td>\n",
       "      <td>-23523997.0</td>\n",
       "      <td>EIXO_OK</td>\n",
       "      <td>55302</td>\n",
       "      <td>R MANOEL ALVARES PIMENTEL,11</td>\n",
       "      <td>None</td>\n",
       "      <td>-23524070.0</td>\n",
       "      <td>-46396019.0</td>\n",
       "      <td>EIXO_OK</td>\n",
       "      <td>-</td>\n",
       "      <td>-23523997</td>\n",
       "      <td>-46395838</td>\n",
       "      <td>None</td>\n",
       "    </tr>\n",
       "    <tr>\n",
       "      <th>5956</th>\n",
       "      <td>5822</td>\n",
       "      <td>-46631120.0</td>\n",
       "      <td>-23556280.0</td>\n",
       "      <td>CADECK_OK</td>\n",
       "      <td>55315</td>\n",
       "      <td>R S PAULO,137</td>\n",
       "      <td>None</td>\n",
       "      <td>-23556280.0</td>\n",
       "      <td>-46631120.0</td>\n",
       "      <td>CADECK_OK</td>\n",
       "      <td>-</td>\n",
       "      <td>-23556280</td>\n",
       "      <td>-46631120</td>\n",
       "      <td>None</td>\n",
       "    </tr>\n",
       "    <tr>\n",
       "      <th>5957</th>\n",
       "      <td>5810</td>\n",
       "      <td>-46507864.0</td>\n",
       "      <td>-23600452.0</td>\n",
       "      <td>EIXO_OK</td>\n",
       "      <td>55475</td>\n",
       "      <td>R POEMA DAS AMERICAS</td>\n",
       "      <td>None</td>\n",
       "      <td>-23600599.0</td>\n",
       "      <td>-46508026.0</td>\n",
       "      <td>EIXO_OK</td>\n",
       "      <td>-</td>\n",
       "      <td>-23600452</td>\n",
       "      <td>-46507864</td>\n",
       "      <td>None</td>\n",
       "    </tr>\n",
       "  </tbody>\n",
       "</table>\n",
       "<p>5958 rows × 14 columns</p>\n",
       "</div>"
      ],
      "text/plain": [
       "        ID   LONGITUDE    LATITUDE   CONTROLE  INDEX  \\\n",
       "0     5689 -46718516.0 -23493350.0    EIXO_OK     10   \n",
       "1     5724         NaN         NaN       None     12   \n",
       "2     5684 -46436145.0 -23559377.0    EIXO_OK     82   \n",
       "3     2228 -46723666.0 -23484701.0    EIXO_OK    191   \n",
       "4     2372 -46589941.0 -23494745.0    EIXO_OK    308   \n",
       "...    ...         ...         ...        ...    ...   \n",
       "5953  2235 -46449220.0 -23492690.0   CADEK_OK  55018   \n",
       "5954  5821 -46409190.0 -23531010.0  CADECK_OK  55278   \n",
       "5955  5794 -46395838.0 -23523997.0    EIXO_OK  55302   \n",
       "5956  5822 -46631120.0 -23556280.0  CADECK_OK  55315   \n",
       "5957  5810 -46507864.0 -23600452.0    EIXO_OK  55475   \n",
       "\n",
       "                               ENDEREO               BAIRRO   LATITUDE1  \\\n",
       "0                    R AMERICO MACHADO                 None -23494144.0   \n",
       "1                  R CASA DO CAMPO,251                 None -23687490.0   \n",
       "2              R AGRIMENSOR SUGAYA,968                 None -23559377.0   \n",
       "3     AV RAIMUNDO PEREIRA DE MAGALHAES                 None -23484701.0   \n",
       "4                ES DO VALO VELHO,9900                 None -23494745.0   \n",
       "...                                ...                  ...         ...   \n",
       "5953                    AV S MIGUEL,SN  SAO MIGUEL PAULISTA -23492690.0   \n",
       "5954        R S JOSE DE MOSSAMEDES,216                 None -23531010.0   \n",
       "5955      R MANOEL ALVARES PIMENTEL,11                 None -23524070.0   \n",
       "5956                     R S PAULO,137                 None -23556280.0   \n",
       "5957              R POEMA DAS AMERICAS                 None -23600599.0   \n",
       "\n",
       "      LONGITUDE1  CONTROLE1  T        LAT       LONG geometry  \n",
       "0    -46717817.0    EIXO_OK  -  -23493350  -46718516     None  \n",
       "1    -46794110.0       None  -       None       None     None  \n",
       "2    -46436145.0    EIXO_OK  -  -23559377  -46436145     None  \n",
       "3    -46723666.0       None  -  -23484701  -46723666     None  \n",
       "4    -46589941.0       None  -  -23494745  -46589941     None  \n",
       "...          ...        ... ..        ...        ...      ...  \n",
       "5953 -46449220.0   CADEK_OK  -  -23492690  -46449220     None  \n",
       "5954 -46409190.0  CADECK_OK  -  -23531010  -46409190     None  \n",
       "5955 -46396019.0    EIXO_OK  -  -23523997  -46395838     None  \n",
       "5956 -46631120.0  CADECK_OK  -  -23556280  -46631120     None  \n",
       "5957 -46508026.0    EIXO_OK  -  -23600452  -46507864     None  \n",
       "\n",
       "[5958 rows x 14 columns]"
      ]
     },
     "execution_count": 105,
     "metadata": {},
     "output_type": "execute_result"
    },
    {
     "name": "stdout",
     "output_type": "stream",
     "text": [
      "time: 428 ms\n"
     ]
    }
   ],
   "source": [
    "gdf_geocod"
   ]
  },
  {
   "cell_type": "code",
   "execution_count": 106,
   "metadata": {},
   "outputs": [
    {
     "name": "stdout",
     "output_type": "stream",
     "text": [
      "time: 209 µs\n"
     ]
    }
   ],
   "source": [
    "# gdf_geocod.set_index('ID', inplace=True)"
   ]
  },
  {
   "cell_type": "code",
   "execution_count": 107,
   "metadata": {},
   "outputs": [
    {
     "name": "stdout",
     "output_type": "stream",
     "text": [
      "time: 1.35 ms\n"
     ]
    }
   ],
   "source": [
    "gdf_geocod['LONGITUDE'] = gdf_geocod['LONGITUDE'] / 1000000"
   ]
  },
  {
   "cell_type": "code",
   "execution_count": 108,
   "metadata": {},
   "outputs": [
    {
     "name": "stdout",
     "output_type": "stream",
     "text": [
      "time: 1.03 ms\n"
     ]
    }
   ],
   "source": [
    "gdf_geocod['LATITUDE'] = gdf_geocod['LATITUDE'] / 1000000"
   ]
  },
  {
   "cell_type": "code",
   "execution_count": 109,
   "metadata": {},
   "outputs": [
    {
     "name": "stdout",
     "output_type": "stream",
     "text": [
      "time: 76.9 ms\n"
     ]
    }
   ],
   "source": [
    "gdf_geocod = gpd.GeoDataFrame(gdf_geocod, geometry=gpd.points_from_xy(gdf_geocod.LONGITUDE, gdf_geocod.LATITUDE))"
   ]
  },
  {
   "cell_type": "code",
   "execution_count": 110,
   "metadata": {},
   "outputs": [
    {
     "name": "stdout",
     "output_type": "stream",
     "text": [
      "time: 1.33 ms\n"
     ]
    }
   ],
   "source": [
    "# gdf_geocod"
   ]
  },
  {
   "cell_type": "code",
   "execution_count": 111,
   "metadata": {},
   "outputs": [
    {
     "name": "stdout",
     "output_type": "stream",
     "text": [
      "time: 1 s\n"
     ]
    }
   ],
   "source": [
    "gdf_geocod.set_crs('EPSG:4618')\n",
    "gdf_geocod.crs = 'EPSG:4618'"
   ]
  },
  {
   "cell_type": "code",
   "execution_count": 112,
   "metadata": {},
   "outputs": [
    {
     "name": "stdout",
     "output_type": "stream",
     "text": [
      "time: 1.92 s\n"
     ]
    }
   ],
   "source": [
    "gdf_geocod.to_crs('EPSG:31983', inplace=True)"
   ]
  },
  {
   "cell_type": "code",
   "execution_count": 113,
   "metadata": {},
   "outputs": [
    {
     "data": {
      "text/plain": [
       "True     5564\n",
       "False     394\n",
       "dtype: int64"
      ]
     },
     "execution_count": 113,
     "metadata": {},
     "output_type": "execute_result"
    },
    {
     "name": "stdout",
     "output_type": "stream",
     "text": [
      "time: 281 ms\n"
     ]
    }
   ],
   "source": [
    "gdf_geocod.is_valid.value_counts()"
   ]
  },
  {
   "cell_type": "code",
   "execution_count": null,
   "metadata": {},
   "outputs": [],
   "source": [
    "# gdf_alv = gpd.read_file('resultados/alvaras-geometrias-pelo-sql.gpkg')"
   ]
  },
  {
   "cell_type": "code",
   "execution_count": 117,
   "metadata": {},
   "outputs": [
    {
     "name": "stdout",
     "output_type": "stream",
     "text": [
      "time: 877 ms\n"
     ]
    }
   ],
   "source": [
    "gdf_geocod_rel = gdf_geocod.merge(gdf_alv, left_on='INDEX', right_on='index', how='left')"
   ]
  },
  {
   "cell_type": "code",
   "execution_count": 146,
   "metadata": {},
   "outputs": [
    {
     "name": "stdout",
     "output_type": "stream",
     "text": [
      "time: 3.87 ms\n"
     ]
    }
   ],
   "source": [
    "gdf_geocod_rel.set_index('INDEX', inplace=True)"
   ]
  },
  {
   "cell_type": "code",
   "execution_count": 152,
   "metadata": {},
   "outputs": [
    {
     "name": "stdout",
     "output_type": "stream",
     "text": [
      "time: 17.1 ms\n"
     ]
    }
   ],
   "source": [
    "gdf_alv.loc[gdf_alv.index.isin(gdf_geocod_rel.index), 'geometry'] = gdf_geocod_rel.geometry_x"
   ]
  },
  {
   "cell_type": "code",
   "execution_count": 157,
   "metadata": {},
   "outputs": [
    {
     "data": {
      "text/plain": [
       "True     55065\n",
       "False      411\n",
       "dtype: int64"
      ]
     },
     "execution_count": 157,
     "metadata": {},
     "output_type": "execute_result"
    },
    {
     "name": "stdout",
     "output_type": "stream",
     "text": [
      "time: 255 ms\n"
     ]
    }
   ],
   "source": [
    "gdf_alv.is_valid.value_counts()"
   ]
  },
  {
   "cell_type": "code",
   "execution_count": 159,
   "metadata": {},
   "outputs": [
    {
     "data": {
      "text/html": [
       "<div>\n",
       "<style scoped>\n",
       "    .dataframe tbody tr th:only-of-type {\n",
       "        vertical-align: middle;\n",
       "    }\n",
       "\n",
       "    .dataframe tbody tr th {\n",
       "        vertical-align: top;\n",
       "    }\n",
       "\n",
       "    .dataframe thead th {\n",
       "        text-align: right;\n",
       "    }\n",
       "</style>\n",
       "<table border=\"1\" class=\"dataframe\">\n",
       "  <thead>\n",
       "    <tr style=\"text-align: right;\">\n",
       "      <th></th>\n",
       "      <th>Unidade</th>\n",
       "      <th>Subprefeitura</th>\n",
       "      <th>Alvará</th>\n",
       "      <th>Descrição</th>\n",
       "      <th>Tipo de Construção</th>\n",
       "      <th>SQL_Incra</th>\n",
       "      <th>Categoria de uso</th>\n",
       "      <th>Zona de uso atual</th>\n",
       "      <th>Bairro</th>\n",
       "      <th>Área da construção</th>\n",
       "      <th>...</th>\n",
       "      <th>sql</th>\n",
       "      <th>sqlc</th>\n",
       "      <th>setor</th>\n",
       "      <th>quadra</th>\n",
       "      <th>lote</th>\n",
       "      <th>condominio</th>\n",
       "      <th>geometry</th>\n",
       "      <th>sq</th>\n",
       "      <th>geometry_y</th>\n",
       "      <th>new_geometry</th>\n",
       "    </tr>\n",
       "    <tr>\n",
       "      <th>index</th>\n",
       "      <th></th>\n",
       "      <th></th>\n",
       "      <th></th>\n",
       "      <th></th>\n",
       "      <th></th>\n",
       "      <th></th>\n",
       "      <th></th>\n",
       "      <th></th>\n",
       "      <th></th>\n",
       "      <th></th>\n",
       "      <th></th>\n",
       "      <th></th>\n",
       "      <th></th>\n",
       "      <th></th>\n",
       "      <th></th>\n",
       "      <th></th>\n",
       "      <th></th>\n",
       "      <th></th>\n",
       "      <th></th>\n",
       "      <th></th>\n",
       "      <th></th>\n",
       "    </tr>\n",
       "  </thead>\n",
       "  <tbody>\n",
       "    <tr>\n",
       "      <th>0</th>\n",
       "      <td>APROV G</td>\n",
       "      <td>ARICANDUVA / VILA FORMOSA</td>\n",
       "      <td>2004.02.459-00</td>\n",
       "      <td>RECONSIDERACAO DE DESPACHO DE ALVARA DE APROVA...</td>\n",
       "      <td>PREDIO RESIDENCIAL</td>\n",
       "      <td>055.114.0001-7</td>\n",
       "      <td>R202 /  /  /</td>\n",
       "      <td>Z3-130</td>\n",
       "      <td>NaN</td>\n",
       "      <td>1422492.0</td>\n",
       "      <td>...</td>\n",
       "      <td>0551140001</td>\n",
       "      <td>NaN</td>\n",
       "      <td>055</td>\n",
       "      <td>114</td>\n",
       "      <td>NaN</td>\n",
       "      <td>NaN</td>\n",
       "      <td>POINT (342203.414 7394357.834)</td>\n",
       "      <td>055114</td>\n",
       "      <td>POLYGON ((342297.526 7394318.427, 342295.329 7...</td>\n",
       "      <td>NaN</td>\n",
       "    </tr>\n",
       "    <tr>\n",
       "      <th>1</th>\n",
       "      <td>APROV G</td>\n",
       "      <td>ITAQUERA</td>\n",
       "      <td>2004.01.964-00</td>\n",
       "      <td>ALVARA DE APROVACAO E EXECUCAO DE EDIFICACAO NOVA</td>\n",
       "      <td>HAB. INTERESSE SOCIAL</td>\n",
       "      <td>230.133.0004-1</td>\n",
       "      <td>HIS /  /  /</td>\n",
       "      <td>NaN</td>\n",
       "      <td>NaN</td>\n",
       "      <td>917472.0</td>\n",
       "      <td>...</td>\n",
       "      <td>2301330004</td>\n",
       "      <td>NaN</td>\n",
       "      <td>230</td>\n",
       "      <td>133</td>\n",
       "      <td>NaN</td>\n",
       "      <td>NaN</td>\n",
       "      <td>POINT (353877.708 7394255.233)</td>\n",
       "      <td>230133</td>\n",
       "      <td>POLYGON ((354519.071 7394476.514, 354412.619 7...</td>\n",
       "      <td>NaN</td>\n",
       "    </tr>\n",
       "    <tr>\n",
       "      <th>2</th>\n",
       "      <td>APROV G</td>\n",
       "      <td>ITAQUERA</td>\n",
       "      <td>2004.02.457-00</td>\n",
       "      <td>ALVARA DE APROVACAO E EXECUCAO DE EDIFICACAO NOVA</td>\n",
       "      <td>HAB. INTERESSE SOCIAL</td>\n",
       "      <td>230.133.0001-7</td>\n",
       "      <td>HIS /  /  /</td>\n",
       "      <td>NaN</td>\n",
       "      <td>NaN</td>\n",
       "      <td>917472.0</td>\n",
       "      <td>...</td>\n",
       "      <td>2301330001</td>\n",
       "      <td>NaN</td>\n",
       "      <td>230</td>\n",
       "      <td>133</td>\n",
       "      <td>NaN</td>\n",
       "      <td>NaN</td>\n",
       "      <td>POINT (354486.478 7394559.682)</td>\n",
       "      <td>230133</td>\n",
       "      <td>POLYGON ((354519.071 7394476.514, 354412.619 7...</td>\n",
       "      <td>NaN</td>\n",
       "    </tr>\n",
       "    <tr>\n",
       "      <th>3</th>\n",
       "      <td>APROV G</td>\n",
       "      <td>JACANA / TREMEMBE</td>\n",
       "      <td>2004.02.451-00</td>\n",
       "      <td>RECONSIDERACAO DE DESPACHO DE AUTO DE REGULARI...</td>\n",
       "      <td>PREDIO RESIDENCIAL</td>\n",
       "      <td>066.587.0027-3</td>\n",
       "      <td>R /  /  /</td>\n",
       "      <td>Z2</td>\n",
       "      <td>NaN</td>\n",
       "      <td>27745.0</td>\n",
       "      <td>...</td>\n",
       "      <td>0665870027</td>\n",
       "      <td>066587002700</td>\n",
       "      <td>066</td>\n",
       "      <td>587</td>\n",
       "      <td>0027</td>\n",
       "      <td>00</td>\n",
       "      <td>POINT (340273.362 7401945.002)</td>\n",
       "      <td>066587</td>\n",
       "      <td>None</td>\n",
       "      <td>NaN</td>\n",
       "    </tr>\n",
       "    <tr>\n",
       "      <th>4</th>\n",
       "      <td>APROV G</td>\n",
       "      <td>MOOCA</td>\n",
       "      <td>2004.02.453-00</td>\n",
       "      <td>RECONSIDERACAO DE DESPACHO DE AUTO DE REGULARI...</td>\n",
       "      <td>PREDIO SERVICO</td>\n",
       "      <td>031.096.0035-8</td>\n",
       "      <td>S2.8 /  /  /</td>\n",
       "      <td>Z2</td>\n",
       "      <td>NaN</td>\n",
       "      <td>33547.0</td>\n",
       "      <td>...</td>\n",
       "      <td>0310960035</td>\n",
       "      <td>031096003500</td>\n",
       "      <td>031</td>\n",
       "      <td>096</td>\n",
       "      <td>0035</td>\n",
       "      <td>00</td>\n",
       "      <td>POINT (338341.602 7393724.119)</td>\n",
       "      <td>031096</td>\n",
       "      <td>None</td>\n",
       "      <td>NaN</td>\n",
       "    </tr>\n",
       "    <tr>\n",
       "      <th>...</th>\n",
       "      <td>...</td>\n",
       "      <td>...</td>\n",
       "      <td>...</td>\n",
       "      <td>...</td>\n",
       "      <td>...</td>\n",
       "      <td>...</td>\n",
       "      <td>...</td>\n",
       "      <td>...</td>\n",
       "      <td>...</td>\n",
       "      <td>...</td>\n",
       "      <td>...</td>\n",
       "      <td>...</td>\n",
       "      <td>...</td>\n",
       "      <td>...</td>\n",
       "      <td>...</td>\n",
       "      <td>...</td>\n",
       "      <td>...</td>\n",
       "      <td>...</td>\n",
       "      <td>...</td>\n",
       "      <td>...</td>\n",
       "      <td>...</td>\n",
       "    </tr>\n",
       "    <tr>\n",
       "      <th>55471</th>\n",
       "      <td>APROV 5</td>\n",
       "      <td>SANTANA</td>\n",
       "      <td>2002.45.435-00</td>\n",
       "      <td>ALVARA DE APROVACAO E EXECUCAO DE EDIFICACAO NOVA</td>\n",
       "      <td>PREDIO RESIDENCIAL</td>\n",
       "      <td>069.022.0009-2</td>\n",
       "      <td>R303 /  /  /</td>\n",
       "      <td>Z2</td>\n",
       "      <td>NaN</td>\n",
       "      <td>135739.0</td>\n",
       "      <td>...</td>\n",
       "      <td>0690220009</td>\n",
       "      <td>NaN</td>\n",
       "      <td>069</td>\n",
       "      <td>022</td>\n",
       "      <td>NaN</td>\n",
       "      <td>NaN</td>\n",
       "      <td>POINT (335777.101 7402119.431)</td>\n",
       "      <td>069022</td>\n",
       "      <td>POLYGON ((335784.716 7401966.972, 335777.801 7...</td>\n",
       "      <td>NaN</td>\n",
       "    </tr>\n",
       "    <tr>\n",
       "      <th>55472</th>\n",
       "      <td>APROV 5</td>\n",
       "      <td>VILA MARIANA</td>\n",
       "      <td>2002.45.186-00</td>\n",
       "      <td>AUTO DE REGULARIZACAO</td>\n",
       "      <td>PREDIO INDUSTRIAL</td>\n",
       "      <td>047.175.0012-1</td>\n",
       "      <td>I1       - C1.2 /  /  /</td>\n",
       "      <td>Z3-203</td>\n",
       "      <td>NaN</td>\n",
       "      <td>370935.0</td>\n",
       "      <td>...</td>\n",
       "      <td>0471750012</td>\n",
       "      <td>NaN</td>\n",
       "      <td>047</td>\n",
       "      <td>175</td>\n",
       "      <td>NaN</td>\n",
       "      <td>NaN</td>\n",
       "      <td>POINT (333084.304 7386005.509)</td>\n",
       "      <td>047175</td>\n",
       "      <td>POLYGON ((333264.809 7386051.055, 333271.052 7...</td>\n",
       "      <td>NaN</td>\n",
       "    </tr>\n",
       "    <tr>\n",
       "      <th>55473</th>\n",
       "      <td>APROV 5</td>\n",
       "      <td>VILA MARIANA</td>\n",
       "      <td>2002.45.187-00</td>\n",
       "      <td>CERTIFICADO DE MUDANCA DE USO</td>\n",
       "      <td>PREDIO INDUSTRIAL</td>\n",
       "      <td>047.175.0012-1</td>\n",
       "      <td>I /  /  /</td>\n",
       "      <td>Z3-203</td>\n",
       "      <td>NaN</td>\n",
       "      <td>0.0</td>\n",
       "      <td>...</td>\n",
       "      <td>0471750012</td>\n",
       "      <td>NaN</td>\n",
       "      <td>047</td>\n",
       "      <td>175</td>\n",
       "      <td>NaN</td>\n",
       "      <td>NaN</td>\n",
       "      <td>POINT (333072.344 7386003.702)</td>\n",
       "      <td>047175</td>\n",
       "      <td>POLYGON ((333264.809 7386051.055, 333271.052 7...</td>\n",
       "      <td>NaN</td>\n",
       "    </tr>\n",
       "    <tr>\n",
       "      <th>55474</th>\n",
       "      <td>APROV 5</td>\n",
       "      <td>VILA MARIANA</td>\n",
       "      <td>2002.47.089-00</td>\n",
       "      <td>RECONSIDERACAO DE DESPACHO DE ALVARA DE APROVA...</td>\n",
       "      <td>PREDIO INSTITUCIONAL</td>\n",
       "      <td>037.083.0584-1</td>\n",
       "      <td>E3.3 /  /  /</td>\n",
       "      <td>Z2</td>\n",
       "      <td>NaN</td>\n",
       "      <td>1055329.0</td>\n",
       "      <td>...</td>\n",
       "      <td>0370830584</td>\n",
       "      <td>NaN</td>\n",
       "      <td>037</td>\n",
       "      <td>083</td>\n",
       "      <td>NaN</td>\n",
       "      <td>NaN</td>\n",
       "      <td>POINT (333124.977 7390337.812)</td>\n",
       "      <td>037083</td>\n",
       "      <td>POLYGON ((333130.951 7390298.090, 333132.301 7...</td>\n",
       "      <td>NaN</td>\n",
       "    </tr>\n",
       "    <tr>\n",
       "      <th>55475</th>\n",
       "      <td>APROV 5</td>\n",
       "      <td>VILA PRUDENTE</td>\n",
       "      <td>2002.45.200-00</td>\n",
       "      <td>ALVARA DE APROVACAO E EXECUCAO DE EDIFICACAO NOVA</td>\n",
       "      <td>PREDIO INSTITUCIONAL</td>\n",
       "      <td>1542629999999</td>\n",
       "      <td>E2.3 /  /  /</td>\n",
       "      <td>NaN</td>\n",
       "      <td>NaN</td>\n",
       "      <td>47735.0</td>\n",
       "      <td>...</td>\n",
       "      <td>NaN</td>\n",
       "      <td>NaN</td>\n",
       "      <td>NaN</td>\n",
       "      <td>NaN</td>\n",
       "      <td>NaN</td>\n",
       "      <td>NaN</td>\n",
       "      <td>POINT (346105.992 7389142.468)</td>\n",
       "      <td>NaN</td>\n",
       "      <td>None</td>\n",
       "      <td>NaN</td>\n",
       "    </tr>\n",
       "  </tbody>\n",
       "</table>\n",
       "<p>55476 rows × 34 columns</p>\n",
       "</div>"
      ],
      "text/plain": [
       "       Unidade              Subprefeitura          Alvará  \\\n",
       "index                                                       \n",
       "0      APROV G  ARICANDUVA / VILA FORMOSA  2004.02.459-00   \n",
       "1      APROV G                   ITAQUERA  2004.01.964-00   \n",
       "2      APROV G                   ITAQUERA  2004.02.457-00   \n",
       "3      APROV G          JACANA / TREMEMBE  2004.02.451-00   \n",
       "4      APROV G                      MOOCA  2004.02.453-00   \n",
       "...        ...                        ...             ...   \n",
       "55471  APROV 5                    SANTANA  2002.45.435-00   \n",
       "55472  APROV 5               VILA MARIANA  2002.45.186-00   \n",
       "55473  APROV 5               VILA MARIANA  2002.45.187-00   \n",
       "55474  APROV 5               VILA MARIANA  2002.47.089-00   \n",
       "55475  APROV 5              VILA PRUDENTE  2002.45.200-00   \n",
       "\n",
       "                                               Descrição  \\\n",
       "index                                                      \n",
       "0      RECONSIDERACAO DE DESPACHO DE ALVARA DE APROVA...   \n",
       "1      ALVARA DE APROVACAO E EXECUCAO DE EDIFICACAO NOVA   \n",
       "2      ALVARA DE APROVACAO E EXECUCAO DE EDIFICACAO NOVA   \n",
       "3      RECONSIDERACAO DE DESPACHO DE AUTO DE REGULARI...   \n",
       "4      RECONSIDERACAO DE DESPACHO DE AUTO DE REGULARI...   \n",
       "...                                                  ...   \n",
       "55471  ALVARA DE APROVACAO E EXECUCAO DE EDIFICACAO NOVA   \n",
       "55472                              AUTO DE REGULARIZACAO   \n",
       "55473                      CERTIFICADO DE MUDANCA DE USO   \n",
       "55474  RECONSIDERACAO DE DESPACHO DE ALVARA DE APROVA...   \n",
       "55475  ALVARA DE APROVACAO E EXECUCAO DE EDIFICACAO NOVA   \n",
       "\n",
       "          Tipo de Construção       SQL_Incra          Categoria de uso  \\\n",
       "index                                                                    \n",
       "0         PREDIO RESIDENCIAL  055.114.0001-7             R202 /  /  /    \n",
       "1      HAB. INTERESSE SOCIAL  230.133.0004-1              HIS /  /  /    \n",
       "2      HAB. INTERESSE SOCIAL  230.133.0001-7              HIS /  /  /    \n",
       "3         PREDIO RESIDENCIAL  066.587.0027-3                R /  /  /    \n",
       "4             PREDIO SERVICO  031.096.0035-8             S2.8 /  /  /    \n",
       "...                      ...             ...                       ...   \n",
       "55471     PREDIO RESIDENCIAL  069.022.0009-2             R303 /  /  /    \n",
       "55472      PREDIO INDUSTRIAL  047.175.0012-1  I1       - C1.2 /  /  /    \n",
       "55473      PREDIO INDUSTRIAL  047.175.0012-1                I /  /  /    \n",
       "55474   PREDIO INSTITUCIONAL  037.083.0584-1             E3.3 /  /  /    \n",
       "55475   PREDIO INSTITUCIONAL   1542629999999             E2.3 /  /  /    \n",
       "\n",
       "      Zona de uso atual Bairro  Área da construção  ...         sql  \\\n",
       "index                                               ...               \n",
       "0                Z3-130    NaN           1422492.0  ...  0551140001   \n",
       "1                   NaN    NaN            917472.0  ...  2301330004   \n",
       "2                   NaN    NaN            917472.0  ...  2301330001   \n",
       "3                    Z2    NaN             27745.0  ...  0665870027   \n",
       "4                    Z2    NaN             33547.0  ...  0310960035   \n",
       "...                 ...    ...                 ...  ...         ...   \n",
       "55471                Z2    NaN            135739.0  ...  0690220009   \n",
       "55472            Z3-203    NaN            370935.0  ...  0471750012   \n",
       "55473            Z3-203    NaN                 0.0  ...  0471750012   \n",
       "55474                Z2    NaN           1055329.0  ...  0370830584   \n",
       "55475               NaN    NaN             47735.0  ...         NaN   \n",
       "\n",
       "               sqlc setor quadra  lote condominio  \\\n",
       "index                                               \n",
       "0               NaN   055    114   NaN        NaN   \n",
       "1               NaN   230    133   NaN        NaN   \n",
       "2               NaN   230    133   NaN        NaN   \n",
       "3      066587002700   066    587  0027         00   \n",
       "4      031096003500   031    096  0035         00   \n",
       "...             ...   ...    ...   ...        ...   \n",
       "55471           NaN   069    022   NaN        NaN   \n",
       "55472           NaN   047    175   NaN        NaN   \n",
       "55473           NaN   047    175   NaN        NaN   \n",
       "55474           NaN   037    083   NaN        NaN   \n",
       "55475           NaN   NaN    NaN   NaN        NaN   \n",
       "\n",
       "                             geometry      sq  \\\n",
       "index                                           \n",
       "0      POINT (342203.414 7394357.834)  055114   \n",
       "1      POINT (353877.708 7394255.233)  230133   \n",
       "2      POINT (354486.478 7394559.682)  230133   \n",
       "3      POINT (340273.362 7401945.002)  066587   \n",
       "4      POINT (338341.602 7393724.119)  031096   \n",
       "...                               ...     ...   \n",
       "55471  POINT (335777.101 7402119.431)  069022   \n",
       "55472  POINT (333084.304 7386005.509)  047175   \n",
       "55473  POINT (333072.344 7386003.702)  047175   \n",
       "55474  POINT (333124.977 7390337.812)  037083   \n",
       "55475  POINT (346105.992 7389142.468)     NaN   \n",
       "\n",
       "                                              geometry_y new_geometry  \n",
       "index                                                                  \n",
       "0      POLYGON ((342297.526 7394318.427, 342295.329 7...          NaN  \n",
       "1      POLYGON ((354519.071 7394476.514, 354412.619 7...          NaN  \n",
       "2      POLYGON ((354519.071 7394476.514, 354412.619 7...          NaN  \n",
       "3                                                   None          NaN  \n",
       "4                                                   None          NaN  \n",
       "...                                                  ...          ...  \n",
       "55471  POLYGON ((335784.716 7401966.972, 335777.801 7...          NaN  \n",
       "55472  POLYGON ((333264.809 7386051.055, 333271.052 7...          NaN  \n",
       "55473  POLYGON ((333264.809 7386051.055, 333271.052 7...          NaN  \n",
       "55474  POLYGON ((333130.951 7390298.090, 333132.301 7...          NaN  \n",
       "55475                                               None          NaN  \n",
       "\n",
       "[55476 rows x 34 columns]"
      ]
     },
     "execution_count": 159,
     "metadata": {},
     "output_type": "execute_result"
    },
    {
     "name": "stdout",
     "output_type": "stream",
     "text": [
      "time: 123 ms\n"
     ]
    }
   ],
   "source": [
    "gdf_alv"
   ]
  },
  {
   "cell_type": "code",
   "execution_count": 160,
   "metadata": {},
   "outputs": [
    {
     "name": "stdout",
     "output_type": "stream",
     "text": [
      "time: 18.3 s\n"
     ]
    }
   ],
   "source": [
    "gdf_alv.loc[gdf_alv.is_valid].drop(['geometry_y', 'new_geometry'], axis=1).to_file('resultados/alvaras-geometrias-preliminar.gpkg', driver='GPKG')"
   ]
  },
  {
   "cell_type": "code",
   "execution_count": null,
   "metadata": {},
   "outputs": [],
   "source": []
  }
 ],
 "metadata": {
  "kernelspec": {
   "display_name": "Python 3",
   "language": "python",
   "name": "python3"
  },
  "language_info": {
   "codemirror_mode": {
    "name": "ipython",
    "version": 3
   },
   "file_extension": ".py",
   "mimetype": "text/x-python",
   "name": "python",
   "nbconvert_exporter": "python",
   "pygments_lexer": "ipython3",
   "version": "3.7.6"
  }
 },
 "nbformat": 4,
 "nbformat_minor": 4
}
